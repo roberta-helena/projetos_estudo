{
  "nbformat": 4,
  "nbformat_minor": 0,
  "metadata": {
    "colab": {
      "name": "Flai 7 - Tunagem de Hiperparâmetros",
      "provenance": [],
      "collapsed_sections": [],
      "authorship_tag": "ABX9TyPP4gspGWQ5JqMlURh2XVb+",
      "include_colab_link": true
    },
    "kernelspec": {
      "name": "python3",
      "display_name": "Python 3"
    },
    "language_info": {
      "name": "python"
    }
  },
  "cells": [
    {
      "cell_type": "markdown",
      "metadata": {
        "id": "view-in-github",
        "colab_type": "text"
      },
      "source": [
        "<a href=\"https://colab.research.google.com/github/roberta-helena/projetos_estudo/blob/main/Flai_7_Tunagem_de_Hiperpar%C3%A2metros.ipynb\" target=\"_parent\"><img src=\"https://colab.research.google.com/assets/colab-badge.svg\" alt=\"Open In Colab\"/></a>"
      ]
    },
    {
      "cell_type": "markdown",
      "metadata": {
        "id": "CvRj5mFjcL5A"
      },
      "source": [
        "#Tunagem de Hiperparâmetros"
      ]
    },
    {
      "cell_type": "markdown",
      "metadata": {
        "id": "8RUzH1n_lKr_"
      },
      "source": [
        "Os modelos de machine learning possuem parâmetros que podem assumir diversos valores e são capazes de alterar seu desempenho. A tunagem de hiperparâmetros é o processo pelo qual procuramos encontrar a melhor combinação de valores para calibrar o modelo e solucionar nosso problema. Combinando-se a tunagem com um bom pré-processamento, produzimos modelos com maior poder preditivo. A tunagem, porém, é considerado como um ajuste fino, sendo o maior ganho para o modelo aquele promovido por sua alimentação com dados de qualidade"
      ]
    },
    {
      "cell_type": "markdown",
      "metadata": {
        "id": "tis1MJq7oMUP"
      },
      "source": [
        "Para este projeto, continuaremos a utilizar os dados do Titanic. Faremos um novo pré-processamente, diferente do que vimos em \"Flai 6 - Pré-Processamento\" e utilizaremos uma função para retornar os melhores parâmetros para KNN, Árvore de Decisão e Random Forest, buscando otimizar a métrica da acurácia"
      ]
    },
    {
      "cell_type": "code",
      "metadata": {
        "id": "fReNQhxbe6f0"
      },
      "source": [
        "import pandas as pd\n",
        "import numpy as np\n",
        "from sklearn.impute import KNNImputer\n",
        "from sklearn.preprocessing import StandardScaler\n",
        "from sklearn.ensemble import RandomForestClassifier\n",
        "from sklearn.feature_selection import SelectFromModel\n",
        "from sklearn.model_selection import RandomizedSearchCV, GridSearchCV, cross_validate, RepeatedStratifiedKFold\n",
        "from sklearn.neighbors import KNeighborsClassifier\n",
        "from sklearn.tree import DecisionTreeClassifier\n",
        "from sklearn.ensemble import RandomForestClassifier"
      ],
      "execution_count": null,
      "outputs": []
    },
    {
      "cell_type": "code",
      "metadata": {
        "id": "iR88cweTfLNN"
      },
      "source": [
        "url1 = 'https://raw.githubusercontent.com/ricardorocha86/Datasets/master/Titanic/train.csv'\n",
        "url2 = 'https://raw.githubusercontent.com/ricardorocha86/Datasets/master/Titanic/test.csv'\n",
        "\n",
        "treino = pd.read_csv(url1)\n",
        "teste = pd.read_csv(url2)"
      ],
      "execution_count": null,
      "outputs": []
    },
    {
      "cell_type": "markdown",
      "metadata": {
        "id": "-emCjj9SnXz9"
      },
      "source": [
        "A variável **n** recebe o tamanho do conjunto de dados de treino"
      ]
    },
    {
      "cell_type": "code",
      "metadata": {
        "id": "MDfWU_DnfUNd"
      },
      "source": [
        "n = treino.shape[0]"
      ],
      "execution_count": null,
      "outputs": []
    },
    {
      "cell_type": "markdown",
      "metadata": {
        "id": "yHrEqXipneL5"
      },
      "source": [
        "A variável **targets** recebe a variável resposta do conjunto de dados de treino"
      ]
    },
    {
      "cell_type": "code",
      "metadata": {
        "id": "JNbr4PazfUIV"
      },
      "source": [
        "targets = list(treino['Survived'])"
      ],
      "execution_count": null,
      "outputs": []
    },
    {
      "cell_type": "markdown",
      "metadata": {
        "id": "aZE3lNXEnkE5"
      },
      "source": [
        "Para facilitar as alterações do pré-processamento, unimos os conjuntos de teste e de treino em um só dataset. Em etapa posterior, os separaremos novamente"
      ]
    },
    {
      "cell_type": "code",
      "metadata": {
        "id": "HzYOHEo1fWQp"
      },
      "source": [
        "dataset = pd.concat([treino, teste])"
      ],
      "execution_count": null,
      "outputs": []
    },
    {
      "cell_type": "code",
      "metadata": {
        "colab": {
          "base_uri": "https://localhost:8080/"
        },
        "id": "lS1ZMcJ1c6pR",
        "outputId": "8f27f423-3324-4220-d661-7aa8d5374732"
      },
      "source": [
        "dataset.shape"
      ],
      "execution_count": null,
      "outputs": [
        {
          "output_type": "execute_result",
          "data": {
            "text/plain": [
              "(1309, 12)"
            ]
          },
          "metadata": {
            "tags": []
          },
          "execution_count": 92
        }
      ]
    },
    {
      "cell_type": "markdown",
      "metadata": {
        "id": "T_fMFyzPfadG"
      },
      "source": [
        "##Pré-Processamento das Variáveis"
      ]
    },
    {
      "cell_type": "markdown",
      "metadata": {
        "id": "cVt7ze_ienkR"
      },
      "source": [
        "Para este projeto, propomos um novo pré-processamento das variáveis"
      ]
    },
    {
      "cell_type": "markdown",
      "metadata": {
        "id": "PshrY6NJfeBe"
      },
      "source": [
        "###Variável \"Sexo\""
      ]
    },
    {
      "cell_type": "markdown",
      "metadata": {
        "id": "kr_FMaDyex69"
      },
      "source": [
        "Transformamos a variável **Sex** em binária, atribuindo o valor 1 para sexo feminino e 0 para sexo masculino"
      ]
    },
    {
      "cell_type": "code",
      "metadata": {
        "id": "Bh3dP6uUfiLt"
      },
      "source": [
        "dataset['Sex'] = dataset['Sex'].map({'female': 1, 'male': 0})"
      ],
      "execution_count": null,
      "outputs": []
    },
    {
      "cell_type": "code",
      "metadata": {
        "colab": {
          "base_uri": "https://localhost:8080/"
        },
        "id": "23M-HFL-daqj",
        "outputId": "763b0e00-f600-477d-bb86-cc29c7a8894a"
      },
      "source": [
        "dataset['Sex'].value_counts()"
      ],
      "execution_count": null,
      "outputs": [
        {
          "output_type": "execute_result",
          "data": {
            "text/plain": [
              "0    843\n",
              "1    466\n",
              "Name: Sex, dtype: int64"
            ]
          },
          "metadata": {
            "tags": []
          },
          "execution_count": 94
        }
      ]
    },
    {
      "cell_type": "markdown",
      "metadata": {
        "id": "OCMrN1Xnfjc1"
      },
      "source": [
        "###Variável \"Titulação\""
      ]
    },
    {
      "cell_type": "markdown",
      "metadata": {
        "id": "-HlZonuJe_lD"
      },
      "source": [
        "Para criarmos a variável **Titulação**, retiramos os títulos dos nomes dos passageiros e os agrupamos em categorias"
      ]
    },
    {
      "cell_type": "code",
      "metadata": {
        "id": "dFwG_lHeflb9"
      },
      "source": [
        "def aux(x):\n",
        "  return x.split(', ')[1].split('. ')[0]\n",
        "\n",
        "dataset['Titulo'] = dataset['Name']. apply(aux)"
      ],
      "execution_count": null,
      "outputs": []
    },
    {
      "cell_type": "code",
      "metadata": {
        "id": "fSxHIUdxfneV"
      },
      "source": [
        "titulos = {\n",
        "    \"Capt\": \"Officer\",\n",
        "    \"Col\": \"Officer\",\n",
        "    \"Major\": \"Officer\",\n",
        "    \"Jonkheer\": \"Royalty\",\n",
        "    \"Don\": \"Royalty\",\n",
        "    \"Sir\" : \"Royalty\",\n",
        "    \"Dr\": \"Officer\",\n",
        "    \"Rev\": \"Officer\",\n",
        "    \"the Countess\":\"Royalty\",\n",
        "    \"Mme\": \"Mrs\",\n",
        "    \"Mlle\": \"Miss\",\n",
        "    \"Ms\": \"Mrs\",\n",
        "    \"Mr\" : \"Mr\",\n",
        "    \"Mrs\" : \"Mrs\",\n",
        "    \"Miss\" : \"Miss\",\n",
        "    \"Master\" : \"Master\",\n",
        "    \"Lady\" : \"Royalty\"\n",
        "}\n",
        "\n",
        "dataset['Titulacao'] = dataset['Titulo'].map(titulos)"
      ],
      "execution_count": null,
      "outputs": []
    },
    {
      "cell_type": "code",
      "metadata": {
        "colab": {
          "base_uri": "https://localhost:8080/"
        },
        "id": "fQeUBkq4dRMd",
        "outputId": "fa4b661e-7759-439b-977b-af3af01d4cec"
      },
      "source": [
        "dataset['Titulacao'].value_counts()"
      ],
      "execution_count": null,
      "outputs": [
        {
          "output_type": "execute_result",
          "data": {
            "text/plain": [
              "Mr         757\n",
              "Miss       262\n",
              "Mrs        200\n",
              "Master      61\n",
              "Officer     23\n",
              "Royalty      5\n",
              "Name: Titulacao, dtype: int64"
            ]
          },
          "metadata": {
            "tags": []
          },
          "execution_count": 97
        }
      ]
    },
    {
      "cell_type": "markdown",
      "metadata": {
        "id": "ahNAT_lConSk"
      },
      "source": [
        "Podemos verificar que tipo de informação a variável criada fornece em relação à variável que desejamos prever"
      ]
    },
    {
      "cell_type": "code",
      "metadata": {
        "id": "zndouSCXfpjF",
        "colab": {
          "base_uri": "https://localhost:8080/",
          "height": 266
        },
        "outputId": "07a4ac49-e0e4-4ece-de74-3857cb0f4b4c"
      },
      "source": [
        "dataset['Survived'].groupby(dataset['Titulacao']).describe()"
      ],
      "execution_count": null,
      "outputs": [
        {
          "output_type": "execute_result",
          "data": {
            "text/html": [
              "<div>\n",
              "<style scoped>\n",
              "    .dataframe tbody tr th:only-of-type {\n",
              "        vertical-align: middle;\n",
              "    }\n",
              "\n",
              "    .dataframe tbody tr th {\n",
              "        vertical-align: top;\n",
              "    }\n",
              "\n",
              "    .dataframe thead th {\n",
              "        text-align: right;\n",
              "    }\n",
              "</style>\n",
              "<table border=\"1\" class=\"dataframe\">\n",
              "  <thead>\n",
              "    <tr style=\"text-align: right;\">\n",
              "      <th></th>\n",
              "      <th>count</th>\n",
              "      <th>mean</th>\n",
              "      <th>std</th>\n",
              "      <th>min</th>\n",
              "      <th>25%</th>\n",
              "      <th>50%</th>\n",
              "      <th>75%</th>\n",
              "      <th>max</th>\n",
              "    </tr>\n",
              "    <tr>\n",
              "      <th>Titulacao</th>\n",
              "      <th></th>\n",
              "      <th></th>\n",
              "      <th></th>\n",
              "      <th></th>\n",
              "      <th></th>\n",
              "      <th></th>\n",
              "      <th></th>\n",
              "      <th></th>\n",
              "    </tr>\n",
              "  </thead>\n",
              "  <tbody>\n",
              "    <tr>\n",
              "      <th>Master</th>\n",
              "      <td>40.0</td>\n",
              "      <td>0.575000</td>\n",
              "      <td>0.500641</td>\n",
              "      <td>0.0</td>\n",
              "      <td>0.0</td>\n",
              "      <td>1.0</td>\n",
              "      <td>1.00</td>\n",
              "      <td>1.0</td>\n",
              "    </tr>\n",
              "    <tr>\n",
              "      <th>Miss</th>\n",
              "      <td>184.0</td>\n",
              "      <td>0.701087</td>\n",
              "      <td>0.459031</td>\n",
              "      <td>0.0</td>\n",
              "      <td>0.0</td>\n",
              "      <td>1.0</td>\n",
              "      <td>1.00</td>\n",
              "      <td>1.0</td>\n",
              "    </tr>\n",
              "    <tr>\n",
              "      <th>Mr</th>\n",
              "      <td>517.0</td>\n",
              "      <td>0.156673</td>\n",
              "      <td>0.363844</td>\n",
              "      <td>0.0</td>\n",
              "      <td>0.0</td>\n",
              "      <td>0.0</td>\n",
              "      <td>0.00</td>\n",
              "      <td>1.0</td>\n",
              "    </tr>\n",
              "    <tr>\n",
              "      <th>Mrs</th>\n",
              "      <td>127.0</td>\n",
              "      <td>0.795276</td>\n",
              "      <td>0.405098</td>\n",
              "      <td>0.0</td>\n",
              "      <td>1.0</td>\n",
              "      <td>1.0</td>\n",
              "      <td>1.00</td>\n",
              "      <td>1.0</td>\n",
              "    </tr>\n",
              "    <tr>\n",
              "      <th>Officer</th>\n",
              "      <td>18.0</td>\n",
              "      <td>0.277778</td>\n",
              "      <td>0.460889</td>\n",
              "      <td>0.0</td>\n",
              "      <td>0.0</td>\n",
              "      <td>0.0</td>\n",
              "      <td>0.75</td>\n",
              "      <td>1.0</td>\n",
              "    </tr>\n",
              "    <tr>\n",
              "      <th>Royalty</th>\n",
              "      <td>5.0</td>\n",
              "      <td>0.600000</td>\n",
              "      <td>0.547723</td>\n",
              "      <td>0.0</td>\n",
              "      <td>0.0</td>\n",
              "      <td>1.0</td>\n",
              "      <td>1.00</td>\n",
              "      <td>1.0</td>\n",
              "    </tr>\n",
              "  </tbody>\n",
              "</table>\n",
              "</div>"
            ],
            "text/plain": [
              "           count      mean       std  min  25%  50%   75%  max\n",
              "Titulacao                                                     \n",
              "Master      40.0  0.575000  0.500641  0.0  0.0  1.0  1.00  1.0\n",
              "Miss       184.0  0.701087  0.459031  0.0  0.0  1.0  1.00  1.0\n",
              "Mr         517.0  0.156673  0.363844  0.0  0.0  0.0  0.00  1.0\n",
              "Mrs        127.0  0.795276  0.405098  0.0  1.0  1.0  1.00  1.0\n",
              "Officer     18.0  0.277778  0.460889  0.0  0.0  0.0  0.75  1.0\n",
              "Royalty      5.0  0.600000  0.547723  0.0  0.0  1.0  1.00  1.0"
            ]
          },
          "metadata": {
            "tags": []
          },
          "execution_count": 98
        }
      ]
    },
    {
      "cell_type": "markdown",
      "metadata": {
        "id": "iUzeAUhVfqp9"
      },
      "source": [
        "###Variável \"Cabin\""
      ]
    },
    {
      "cell_type": "markdown",
      "metadata": {
        "id": "8YoVQk2AfP3T"
      },
      "source": [
        "Para a variável **Cabin**, pegamos apenas sua primeira letra. Pela quantidade de valores faltantes presentes na variável, nota-se que a maior parte dos valores é representado por n (de NaN ou Not a Number)"
      ]
    },
    {
      "cell_type": "code",
      "metadata": {
        "id": "YeQxRzTdfrVB"
      },
      "source": [
        "def aux(x):\n",
        "  return list(str(x))[0]\n",
        "\n",
        "dataset['Cabin'] = dataset['Cabin'].apply(aux)"
      ],
      "execution_count": null,
      "outputs": []
    },
    {
      "cell_type": "code",
      "metadata": {
        "id": "BXvcgqX6fsuE",
        "colab": {
          "base_uri": "https://localhost:8080/"
        },
        "outputId": "7bf808ee-9d77-422c-8493-c35ca3c083c1"
      },
      "source": [
        "dataset['Cabin'].value_counts()"
      ],
      "execution_count": null,
      "outputs": [
        {
          "output_type": "execute_result",
          "data": {
            "text/plain": [
              "n    1014\n",
              "C      94\n",
              "B      65\n",
              "D      46\n",
              "E      41\n",
              "A      22\n",
              "F      21\n",
              "G       5\n",
              "T       1\n",
              "Name: Cabin, dtype: int64"
            ]
          },
          "metadata": {
            "tags": []
          },
          "execution_count": 100
        }
      ]
    },
    {
      "cell_type": "markdown",
      "metadata": {
        "id": "eOhvVK5_fuLN"
      },
      "source": [
        "###Variável \"Tipos de Família\""
      ]
    },
    {
      "cell_type": "markdown",
      "metadata": {
        "id": "M_pdvvv7ftKc"
      },
      "source": [
        "Para indicarmos os tipos de família presentes no Titanic, contabilizamos para cada passageiro quantos passageiros estavam com ele (incluindo ele mesmo). Grupos com quatro ou menos passageiros formam famílias pequenas, grupos com mais de quatro passageiros formam famílias grandes e apenas um passageiro indica que ele estava sozinho no navio"
      ]
    },
    {
      "cell_type": "code",
      "metadata": {
        "id": "xN5bi_3JfwcS"
      },
      "source": [
        "dataset['Familia'] = dataset['SibSp'] + dataset['Parch'] + 1"
      ],
      "execution_count": null,
      "outputs": []
    },
    {
      "cell_type": "code",
      "metadata": {
        "id": "HtuJSRD8fxjd"
      },
      "source": [
        "def aux(x):\n",
        "  if x == 1:\n",
        "    return 'Sozinho'\n",
        "  elif x <= 4:\n",
        "    return 'Pequena'\n",
        "  else:\n",
        "    return 'Grande'\n",
        "\n",
        "dataset['FamiliaTipo'] = dataset['Familia'].apply(aux)"
      ],
      "execution_count": null,
      "outputs": []
    },
    {
      "cell_type": "code",
      "metadata": {
        "colab": {
          "base_uri": "https://localhost:8080/",
          "height": 265
        },
        "id": "pZXs1vdvpAwR",
        "outputId": "1bac707f-8968-405d-fb48-d95a2aa76ddd"
      },
      "source": [
        "dataset['FamiliaTipo'].value_counts().plot(kind = 'pie')"
      ],
      "execution_count": null,
      "outputs": [
        {
          "output_type": "execute_result",
          "data": {
            "text/plain": [
              "<matplotlib.axes._subplots.AxesSubplot at 0x7fa28066b7d0>"
            ]
          },
          "metadata": {
            "tags": []
          },
          "execution_count": 103
        },
        {
          "output_type": "display_data",
          "data": {
            "image/png": "[encoded data removed]",
            "text/plain": [
              "<Figure size 432x288 with 1 Axes>"
            ]
          },
          "metadata": {
            "tags": []
          }
        }
      ]
    },
    {
      "cell_type": "markdown",
      "metadata": {
        "id": "S2Udn6v0pBOw"
      },
      "source": [
        "Podemos verificar que tipo de informação a variável criada fornece em relação à variável que desejamos prever"
      ]
    },
    {
      "cell_type": "code",
      "metadata": {
        "id": "RdfoM-3ofywM",
        "colab": {
          "base_uri": "https://localhost:8080/"
        },
        "outputId": "16a0c3ea-2588-495f-c45c-80e6f7b93adf"
      },
      "source": [
        "dataset['Survived'].groupby(dataset['FamiliaTipo']).mean()"
      ],
      "execution_count": null,
      "outputs": [
        {
          "output_type": "execute_result",
          "data": {
            "text/plain": [
              "FamiliaTipo\n",
              "Grande     0.161290\n",
              "Pequena    0.578767\n",
              "Sozinho    0.303538\n",
              "Name: Survived, dtype: float64"
            ]
          },
          "metadata": {
            "tags": []
          },
          "execution_count": 104
        }
      ]
    },
    {
      "cell_type": "markdown",
      "metadata": {
        "id": "qn63qm11f4ZA"
      },
      "source": [
        "###Descartando Variáveis"
      ]
    },
    {
      "cell_type": "markdown",
      "metadata": {
        "id": "UEi0xNhug-U5"
      },
      "source": [
        "Descartamos as variáveis que não serão mais utilizadas"
      ]
    },
    {
      "cell_type": "code",
      "metadata": {
        "id": "29Ps_8orf6wh"
      },
      "source": [
        "variaveis = ['PassengerId', 'Name', 'Ticket', 'Titulo']\n",
        "dataset.drop(variaveis, axis = 1, inplace = True)"
      ],
      "execution_count": null,
      "outputs": []
    },
    {
      "cell_type": "code",
      "metadata": {
        "colab": {
          "base_uri": "https://localhost:8080/",
          "height": 224
        },
        "id": "9V3kBP47dkV2",
        "outputId": "76a2107d-e69b-420b-d9c7-b52238891edf"
      },
      "source": [
        "dataset.head()"
      ],
      "execution_count": null,
      "outputs": [
        {
          "output_type": "execute_result",
          "data": {
            "text/html": [
              "<div>\n",
              "<style scoped>\n",
              "    .dataframe tbody tr th:only-of-type {\n",
              "        vertical-align: middle;\n",
              "    }\n",
              "\n",
              "    .dataframe tbody tr th {\n",
              "        vertical-align: top;\n",
              "    }\n",
              "\n",
              "    .dataframe thead th {\n",
              "        text-align: right;\n",
              "    }\n",
              "</style>\n",
              "<table border=\"1\" class=\"dataframe\">\n",
              "  <thead>\n",
              "    <tr style=\"text-align: right;\">\n",
              "      <th></th>\n",
              "      <th>Survived</th>\n",
              "      <th>Pclass</th>\n",
              "      <th>Sex</th>\n",
              "      <th>Age</th>\n",
              "      <th>SibSp</th>\n",
              "      <th>Parch</th>\n",
              "      <th>Fare</th>\n",
              "      <th>Cabin</th>\n",
              "      <th>Embarked</th>\n",
              "      <th>Titulacao</th>\n",
              "      <th>Familia</th>\n",
              "      <th>FamiliaTipo</th>\n",
              "    </tr>\n",
              "  </thead>\n",
              "  <tbody>\n",
              "    <tr>\n",
              "      <th>0</th>\n",
              "      <td>0.0</td>\n",
              "      <td>3</td>\n",
              "      <td>0</td>\n",
              "      <td>22.0</td>\n",
              "      <td>1</td>\n",
              "      <td>0</td>\n",
              "      <td>7.2500</td>\n",
              "      <td>n</td>\n",
              "      <td>S</td>\n",
              "      <td>Mr</td>\n",
              "      <td>2</td>\n",
              "      <td>Pequena</td>\n",
              "    </tr>\n",
              "    <tr>\n",
              "      <th>1</th>\n",
              "      <td>1.0</td>\n",
              "      <td>1</td>\n",
              "      <td>1</td>\n",
              "      <td>38.0</td>\n",
              "      <td>1</td>\n",
              "      <td>0</td>\n",
              "      <td>71.2833</td>\n",
              "      <td>C</td>\n",
              "      <td>C</td>\n",
              "      <td>Mrs</td>\n",
              "      <td>2</td>\n",
              "      <td>Pequena</td>\n",
              "    </tr>\n",
              "    <tr>\n",
              "      <th>2</th>\n",
              "      <td>1.0</td>\n",
              "      <td>3</td>\n",
              "      <td>1</td>\n",
              "      <td>26.0</td>\n",
              "      <td>0</td>\n",
              "      <td>0</td>\n",
              "      <td>7.9250</td>\n",
              "      <td>n</td>\n",
              "      <td>S</td>\n",
              "      <td>Miss</td>\n",
              "      <td>1</td>\n",
              "      <td>Sozinho</td>\n",
              "    </tr>\n",
              "    <tr>\n",
              "      <th>3</th>\n",
              "      <td>1.0</td>\n",
              "      <td>1</td>\n",
              "      <td>1</td>\n",
              "      <td>35.0</td>\n",
              "      <td>1</td>\n",
              "      <td>0</td>\n",
              "      <td>53.1000</td>\n",
              "      <td>C</td>\n",
              "      <td>S</td>\n",
              "      <td>Mrs</td>\n",
              "      <td>2</td>\n",
              "      <td>Pequena</td>\n",
              "    </tr>\n",
              "    <tr>\n",
              "      <th>4</th>\n",
              "      <td>0.0</td>\n",
              "      <td>3</td>\n",
              "      <td>0</td>\n",
              "      <td>35.0</td>\n",
              "      <td>0</td>\n",
              "      <td>0</td>\n",
              "      <td>8.0500</td>\n",
              "      <td>n</td>\n",
              "      <td>S</td>\n",
              "      <td>Mr</td>\n",
              "      <td>1</td>\n",
              "      <td>Sozinho</td>\n",
              "    </tr>\n",
              "  </tbody>\n",
              "</table>\n",
              "</div>"
            ],
            "text/plain": [
              "   Survived  Pclass  Sex   Age  ...  Embarked  Titulacao  Familia FamiliaTipo\n",
              "0       0.0       3    0  22.0  ...         S         Mr        2     Pequena\n",
              "1       1.0       1    1  38.0  ...         C        Mrs        2     Pequena\n",
              "2       1.0       3    1  26.0  ...         S       Miss        1     Sozinho\n",
              "3       1.0       1    1  35.0  ...         S        Mrs        2     Pequena\n",
              "4       0.0       3    0  35.0  ...         S         Mr        1     Sozinho\n",
              "\n",
              "[5 rows x 12 columns]"
            ]
          },
          "metadata": {
            "tags": []
          },
          "execution_count": 106
        }
      ]
    },
    {
      "cell_type": "markdown",
      "metadata": {
        "id": "2Tmmd6jHf8Vl"
      },
      "source": [
        "###Dummificando Variáveis"
      ]
    },
    {
      "cell_type": "markdown",
      "metadata": {
        "id": "uyTATLZbhDwp"
      },
      "source": [
        "Fazemos a dummificação das variáveis com mais de duas categorias para que elas sejam apresentadas ao modelo de forma numérica"
      ]
    },
    {
      "cell_type": "code",
      "metadata": {
        "id": "QW7reSMmgs_f"
      },
      "source": [
        "dummificar = ['Pclass', 'Cabin', 'Embarked', 'Titulacao', 'FamiliaTipo']\n",
        "dataset = pd.get_dummies(dataset, columns = dummificar)"
      ],
      "execution_count": null,
      "outputs": []
    },
    {
      "cell_type": "code",
      "metadata": {
        "colab": {
          "base_uri": "https://localhost:8080/",
          "height": 224
        },
        "id": "MeQ0amMJdmm8",
        "outputId": "8081a174-caac-4549-feba-50b6360e53b1"
      },
      "source": [
        "dataset.head()"
      ],
      "execution_count": null,
      "outputs": [
        {
          "output_type": "execute_result",
          "data": {
            "text/html": [
              "<div>\n",
              "<style scoped>\n",
              "    .dataframe tbody tr th:only-of-type {\n",
              "        vertical-align: middle;\n",
              "    }\n",
              "\n",
              "    .dataframe tbody tr th {\n",
              "        vertical-align: top;\n",
              "    }\n",
              "\n",
              "    .dataframe thead th {\n",
              "        text-align: right;\n",
              "    }\n",
              "</style>\n",
              "<table border=\"1\" class=\"dataframe\">\n",
              "  <thead>\n",
              "    <tr style=\"text-align: right;\">\n",
              "      <th></th>\n",
              "      <th>Survived</th>\n",
              "      <th>Sex</th>\n",
              "      <th>Age</th>\n",
              "      <th>SibSp</th>\n",
              "      <th>Parch</th>\n",
              "      <th>Fare</th>\n",
              "      <th>Familia</th>\n",
              "      <th>Pclass_1</th>\n",
              "      <th>Pclass_2</th>\n",
              "      <th>Pclass_3</th>\n",
              "      <th>Cabin_A</th>\n",
              "      <th>Cabin_B</th>\n",
              "      <th>Cabin_C</th>\n",
              "      <th>Cabin_D</th>\n",
              "      <th>Cabin_E</th>\n",
              "      <th>Cabin_F</th>\n",
              "      <th>Cabin_G</th>\n",
              "      <th>Cabin_T</th>\n",
              "      <th>Cabin_n</th>\n",
              "      <th>Embarked_C</th>\n",
              "      <th>Embarked_Q</th>\n",
              "      <th>Embarked_S</th>\n",
              "      <th>Titulacao_Master</th>\n",
              "      <th>Titulacao_Miss</th>\n",
              "      <th>Titulacao_Mr</th>\n",
              "      <th>Titulacao_Mrs</th>\n",
              "      <th>Titulacao_Officer</th>\n",
              "      <th>Titulacao_Royalty</th>\n",
              "      <th>FamiliaTipo_Grande</th>\n",
              "      <th>FamiliaTipo_Pequena</th>\n",
              "      <th>FamiliaTipo_Sozinho</th>\n",
              "    </tr>\n",
              "  </thead>\n",
              "  <tbody>\n",
              "    <tr>\n",
              "      <th>0</th>\n",
              "      <td>0.0</td>\n",
              "      <td>0</td>\n",
              "      <td>22.0</td>\n",
              "      <td>1</td>\n",
              "      <td>0</td>\n",
              "      <td>7.2500</td>\n",
              "      <td>2</td>\n",
              "      <td>0</td>\n",
              "      <td>0</td>\n",
              "      <td>1</td>\n",
              "      <td>0</td>\n",
              "      <td>0</td>\n",
              "      <td>0</td>\n",
              "      <td>0</td>\n",
              "      <td>0</td>\n",
              "      <td>0</td>\n",
              "      <td>0</td>\n",
              "      <td>0</td>\n",
              "      <td>1</td>\n",
              "      <td>0</td>\n",
              "      <td>0</td>\n",
              "      <td>1</td>\n",
              "      <td>0</td>\n",
              "      <td>0</td>\n",
              "      <td>1</td>\n",
              "      <td>0</td>\n",
              "      <td>0</td>\n",
              "      <td>0</td>\n",
              "      <td>0</td>\n",
              "      <td>1</td>\n",
              "      <td>0</td>\n",
              "    </tr>\n",
              "    <tr>\n",
              "      <th>1</th>\n",
              "      <td>1.0</td>\n",
              "      <td>1</td>\n",
              "      <td>38.0</td>\n",
              "      <td>1</td>\n",
              "      <td>0</td>\n",
              "      <td>71.2833</td>\n",
              "      <td>2</td>\n",
              "      <td>1</td>\n",
              "      <td>0</td>\n",
              "      <td>0</td>\n",
              "      <td>0</td>\n",
              "      <td>0</td>\n",
              "      <td>1</td>\n",
              "      <td>0</td>\n",
              "      <td>0</td>\n",
              "      <td>0</td>\n",
              "      <td>0</td>\n",
              "      <td>0</td>\n",
              "      <td>0</td>\n",
              "      <td>1</td>\n",
              "      <td>0</td>\n",
              "      <td>0</td>\n",
              "      <td>0</td>\n",
              "      <td>0</td>\n",
              "      <td>0</td>\n",
              "      <td>1</td>\n",
              "      <td>0</td>\n",
              "      <td>0</td>\n",
              "      <td>0</td>\n",
              "      <td>1</td>\n",
              "      <td>0</td>\n",
              "    </tr>\n",
              "    <tr>\n",
              "      <th>2</th>\n",
              "      <td>1.0</td>\n",
              "      <td>1</td>\n",
              "      <td>26.0</td>\n",
              "      <td>0</td>\n",
              "      <td>0</td>\n",
              "      <td>7.9250</td>\n",
              "      <td>1</td>\n",
              "      <td>0</td>\n",
              "      <td>0</td>\n",
              "      <td>1</td>\n",
              "      <td>0</td>\n",
              "      <td>0</td>\n",
              "      <td>0</td>\n",
              "      <td>0</td>\n",
              "      <td>0</td>\n",
              "      <td>0</td>\n",
              "      <td>0</td>\n",
              "      <td>0</td>\n",
              "      <td>1</td>\n",
              "      <td>0</td>\n",
              "      <td>0</td>\n",
              "      <td>1</td>\n",
              "      <td>0</td>\n",
              "      <td>1</td>\n",
              "      <td>0</td>\n",
              "      <td>0</td>\n",
              "      <td>0</td>\n",
              "      <td>0</td>\n",
              "      <td>0</td>\n",
              "      <td>0</td>\n",
              "      <td>1</td>\n",
              "    </tr>\n",
              "    <tr>\n",
              "      <th>3</th>\n",
              "      <td>1.0</td>\n",
              "      <td>1</td>\n",
              "      <td>35.0</td>\n",
              "      <td>1</td>\n",
              "      <td>0</td>\n",
              "      <td>53.1000</td>\n",
              "      <td>2</td>\n",
              "      <td>1</td>\n",
              "      <td>0</td>\n",
              "      <td>0</td>\n",
              "      <td>0</td>\n",
              "      <td>0</td>\n",
              "      <td>1</td>\n",
              "      <td>0</td>\n",
              "      <td>0</td>\n",
              "      <td>0</td>\n",
              "      <td>0</td>\n",
              "      <td>0</td>\n",
              "      <td>0</td>\n",
              "      <td>0</td>\n",
              "      <td>0</td>\n",
              "      <td>1</td>\n",
              "      <td>0</td>\n",
              "      <td>0</td>\n",
              "      <td>0</td>\n",
              "      <td>1</td>\n",
              "      <td>0</td>\n",
              "      <td>0</td>\n",
              "      <td>0</td>\n",
              "      <td>1</td>\n",
              "      <td>0</td>\n",
              "    </tr>\n",
              "    <tr>\n",
              "      <th>4</th>\n",
              "      <td>0.0</td>\n",
              "      <td>0</td>\n",
              "      <td>35.0</td>\n",
              "      <td>0</td>\n",
              "      <td>0</td>\n",
              "      <td>8.0500</td>\n",
              "      <td>1</td>\n",
              "      <td>0</td>\n",
              "      <td>0</td>\n",
              "      <td>1</td>\n",
              "      <td>0</td>\n",
              "      <td>0</td>\n",
              "      <td>0</td>\n",
              "      <td>0</td>\n",
              "      <td>0</td>\n",
              "      <td>0</td>\n",
              "      <td>0</td>\n",
              "      <td>0</td>\n",
              "      <td>1</td>\n",
              "      <td>0</td>\n",
              "      <td>0</td>\n",
              "      <td>1</td>\n",
              "      <td>0</td>\n",
              "      <td>0</td>\n",
              "      <td>1</td>\n",
              "      <td>0</td>\n",
              "      <td>0</td>\n",
              "      <td>0</td>\n",
              "      <td>0</td>\n",
              "      <td>0</td>\n",
              "      <td>1</td>\n",
              "    </tr>\n",
              "  </tbody>\n",
              "</table>\n",
              "</div>"
            ],
            "text/plain": [
              "   Survived  Sex  ...  FamiliaTipo_Pequena  FamiliaTipo_Sozinho\n",
              "0       0.0    0  ...                    1                    0\n",
              "1       1.0    1  ...                    1                    0\n",
              "2       1.0    1  ...                    0                    1\n",
              "3       1.0    1  ...                    1                    0\n",
              "4       0.0    0  ...                    0                    1\n",
              "\n",
              "[5 rows x 31 columns]"
            ]
          },
          "metadata": {
            "tags": []
          },
          "execution_count": 108
        }
      ]
    },
    {
      "cell_type": "markdown",
      "metadata": {
        "id": "kRe9DzSCgzNO"
      },
      "source": [
        "###Valores Faltantes"
      ]
    },
    {
      "cell_type": "markdown",
      "metadata": {
        "id": "ShjCe8CnhOaD"
      },
      "source": [
        "VERIFICANDO DADOS FALTANTES"
      ]
    },
    {
      "cell_type": "code",
      "metadata": {
        "id": "Lcjhdad-g0Ox",
        "colab": {
          "base_uri": "https://localhost:8080/"
        },
        "outputId": "88cb006e-88ec-4f0d-d860-197bc107a599"
      },
      "source": [
        "dataset.isnull().sum()"
      ],
      "execution_count": null,
      "outputs": [
        {
          "output_type": "execute_result",
          "data": {
            "text/plain": [
              "Survived               418\n",
              "Sex                      0\n",
              "Age                    263\n",
              "SibSp                    0\n",
              "Parch                    0\n",
              "Fare                     1\n",
              "Familia                  0\n",
              "Pclass_1                 0\n",
              "Pclass_2                 0\n",
              "Pclass_3                 0\n",
              "Cabin_A                  0\n",
              "Cabin_B                  0\n",
              "Cabin_C                  0\n",
              "Cabin_D                  0\n",
              "Cabin_E                  0\n",
              "Cabin_F                  0\n",
              "Cabin_G                  0\n",
              "Cabin_T                  0\n",
              "Cabin_n                  0\n",
              "Embarked_C               0\n",
              "Embarked_Q               0\n",
              "Embarked_S               0\n",
              "Titulacao_Master         0\n",
              "Titulacao_Miss           0\n",
              "Titulacao_Mr             0\n",
              "Titulacao_Mrs            0\n",
              "Titulacao_Officer        0\n",
              "Titulacao_Royalty        0\n",
              "FamiliaTipo_Grande       0\n",
              "FamiliaTipo_Pequena      0\n",
              "FamiliaTipo_Sozinho      0\n",
              "dtype: int64"
            ]
          },
          "metadata": {
            "tags": []
          },
          "execution_count": 109
        }
      ]
    },
    {
      "cell_type": "markdown",
      "metadata": {
        "id": "Clw0-SvGhRqb"
      },
      "source": [
        "PREENCHENDO DADOS FALTANTES"
      ]
    },
    {
      "cell_type": "markdown",
      "metadata": {
        "id": "eq5zRj99pXwM"
      },
      "source": [
        "Neste projeto, faremos a imputação dos dados faltantes por meio de modelagem KNN. Ajustamos a transformação nos dados de treinamento e utilizamos o mesmo ajuste também nos dados de teste"
      ]
    },
    {
      "cell_type": "code",
      "metadata": {
        "id": "BfppmVNPg1e-"
      },
      "source": [
        "imputer = KNNImputer()\n",
        "\n",
        "knnimp = imputer.fit(dataset.loc[:n-1, :].drop('Survived', axis = 1))\n",
        "knnimp = imputer.transform(dataset.drop('Survived', axis = 1))"
      ],
      "execution_count": null,
      "outputs": []
    },
    {
      "cell_type": "code",
      "metadata": {
        "id": "DdSL9NYWg7L9"
      },
      "source": [
        "dataset = pd.DataFrame(knnimp, columns = dataset.columns[1:])"
      ],
      "execution_count": null,
      "outputs": []
    },
    {
      "cell_type": "code",
      "metadata": {
        "colab": {
          "base_uri": "https://localhost:8080/"
        },
        "id": "TYQ3r1cldrtL",
        "outputId": "fa6f2f72-9923-4e26-f552-03c6565c9816"
      },
      "source": [
        "dataset.isnull().sum()"
      ],
      "execution_count": null,
      "outputs": [
        {
          "output_type": "execute_result",
          "data": {
            "text/plain": [
              "Sex                    0\n",
              "Age                    0\n",
              "SibSp                  0\n",
              "Parch                  0\n",
              "Fare                   0\n",
              "Familia                0\n",
              "Pclass_1               0\n",
              "Pclass_2               0\n",
              "Pclass_3               0\n",
              "Cabin_A                0\n",
              "Cabin_B                0\n",
              "Cabin_C                0\n",
              "Cabin_D                0\n",
              "Cabin_E                0\n",
              "Cabin_F                0\n",
              "Cabin_G                0\n",
              "Cabin_T                0\n",
              "Cabin_n                0\n",
              "Embarked_C             0\n",
              "Embarked_Q             0\n",
              "Embarked_S             0\n",
              "Titulacao_Master       0\n",
              "Titulacao_Miss         0\n",
              "Titulacao_Mr           0\n",
              "Titulacao_Mrs          0\n",
              "Titulacao_Officer      0\n",
              "Titulacao_Royalty      0\n",
              "FamiliaTipo_Grande     0\n",
              "FamiliaTipo_Pequena    0\n",
              "FamiliaTipo_Sozinho    0\n",
              "dtype: int64"
            ]
          },
          "metadata": {
            "tags": []
          },
          "execution_count": 112
        }
      ]
    },
    {
      "cell_type": "markdown",
      "metadata": {
        "id": "NWpHSKqbg8qL"
      },
      "source": [
        "###Padronização das Variáveis"
      ]
    },
    {
      "cell_type": "markdown",
      "metadata": {
        "id": "TI3iFF3VhW_B"
      },
      "source": [
        "Antes de alterarmos a escala das variáveis por padronização, redividimos o conjunto de dados no conjunto treino e no conjunto teste"
      ]
    },
    {
      "cell_type": "code",
      "metadata": {
        "id": "p7trxxQeg-5O"
      },
      "source": [
        "treino = dataset.loc[:n-1, :]\n",
        "teste = dataset.loc[n:, :]"
      ],
      "execution_count": null,
      "outputs": []
    },
    {
      "cell_type": "markdown",
      "metadata": {
        "id": "xDoBmOGYhwv6"
      },
      "source": [
        "Utilizando a função Standard Scaler, ajustamos a transformação nos dados de treinamento e utilizamos o mesmo ajuste também nos dados de teste"
      ]
    },
    {
      "cell_type": "code",
      "metadata": {
        "id": "AKoFJ79GhB5l"
      },
      "source": [
        "sc = StandardScaler()\n",
        "\n",
        "aux0 = sc.fit_transform(treino[['Age', 'Fare']])\n",
        "aux1 = pd.DataFrame(aux0, columns = ['Idade', 'Tarifa'])\n",
        "treino = pd.concat([treino, aux1], axis = 1)\n",
        "treino.drop(['Age', 'Fare'], axis = 1, inplace = True)"
      ],
      "execution_count": null,
      "outputs": []
    },
    {
      "cell_type": "code",
      "metadata": {
        "colab": {
          "base_uri": "https://localhost:8080/",
          "height": 224
        },
        "id": "NyGZpxUndyB9",
        "outputId": "03fd8711-95ae-4b5c-aeac-1c085c0c5100"
      },
      "source": [
        "treino.head()"
      ],
      "execution_count": null,
      "outputs": [
        {
          "output_type": "execute_result",
          "data": {
            "text/html": [
              "<div>\n",
              "<style scoped>\n",
              "    .dataframe tbody tr th:only-of-type {\n",
              "        vertical-align: middle;\n",
              "    }\n",
              "\n",
              "    .dataframe tbody tr th {\n",
              "        vertical-align: top;\n",
              "    }\n",
              "\n",
              "    .dataframe thead th {\n",
              "        text-align: right;\n",
              "    }\n",
              "</style>\n",
              "<table border=\"1\" class=\"dataframe\">\n",
              "  <thead>\n",
              "    <tr style=\"text-align: right;\">\n",
              "      <th></th>\n",
              "      <th>Sex</th>\n",
              "      <th>SibSp</th>\n",
              "      <th>Parch</th>\n",
              "      <th>Familia</th>\n",
              "      <th>Pclass_1</th>\n",
              "      <th>Pclass_2</th>\n",
              "      <th>Pclass_3</th>\n",
              "      <th>Cabin_A</th>\n",
              "      <th>Cabin_B</th>\n",
              "      <th>Cabin_C</th>\n",
              "      <th>Cabin_D</th>\n",
              "      <th>Cabin_E</th>\n",
              "      <th>Cabin_F</th>\n",
              "      <th>Cabin_G</th>\n",
              "      <th>Cabin_T</th>\n",
              "      <th>Cabin_n</th>\n",
              "      <th>Embarked_C</th>\n",
              "      <th>Embarked_Q</th>\n",
              "      <th>Embarked_S</th>\n",
              "      <th>Titulacao_Master</th>\n",
              "      <th>Titulacao_Miss</th>\n",
              "      <th>Titulacao_Mr</th>\n",
              "      <th>Titulacao_Mrs</th>\n",
              "      <th>Titulacao_Officer</th>\n",
              "      <th>Titulacao_Royalty</th>\n",
              "      <th>FamiliaTipo_Grande</th>\n",
              "      <th>FamiliaTipo_Pequena</th>\n",
              "      <th>FamiliaTipo_Sozinho</th>\n",
              "      <th>Idade</th>\n",
              "      <th>Tarifa</th>\n",
              "    </tr>\n",
              "  </thead>\n",
              "  <tbody>\n",
              "    <tr>\n",
              "      <th>0</th>\n",
              "      <td>0.0</td>\n",
              "      <td>1.0</td>\n",
              "      <td>0.0</td>\n",
              "      <td>2.0</td>\n",
              "      <td>0.0</td>\n",
              "      <td>0.0</td>\n",
              "      <td>1.0</td>\n",
              "      <td>0.0</td>\n",
              "      <td>0.0</td>\n",
              "      <td>0.0</td>\n",
              "      <td>0.0</td>\n",
              "      <td>0.0</td>\n",
              "      <td>0.0</td>\n",
              "      <td>0.0</td>\n",
              "      <td>0.0</td>\n",
              "      <td>1.0</td>\n",
              "      <td>0.0</td>\n",
              "      <td>0.0</td>\n",
              "      <td>1.0</td>\n",
              "      <td>0.0</td>\n",
              "      <td>0.0</td>\n",
              "      <td>1.0</td>\n",
              "      <td>0.0</td>\n",
              "      <td>0.0</td>\n",
              "      <td>0.0</td>\n",
              "      <td>0.0</td>\n",
              "      <td>1.0</td>\n",
              "      <td>0.0</td>\n",
              "      <td>-0.575796</td>\n",
              "      <td>-0.502445</td>\n",
              "    </tr>\n",
              "    <tr>\n",
              "      <th>1</th>\n",
              "      <td>1.0</td>\n",
              "      <td>1.0</td>\n",
              "      <td>0.0</td>\n",
              "      <td>2.0</td>\n",
              "      <td>1.0</td>\n",
              "      <td>0.0</td>\n",
              "      <td>0.0</td>\n",
              "      <td>0.0</td>\n",
              "      <td>0.0</td>\n",
              "      <td>1.0</td>\n",
              "      <td>0.0</td>\n",
              "      <td>0.0</td>\n",
              "      <td>0.0</td>\n",
              "      <td>0.0</td>\n",
              "      <td>0.0</td>\n",
              "      <td>0.0</td>\n",
              "      <td>1.0</td>\n",
              "      <td>0.0</td>\n",
              "      <td>0.0</td>\n",
              "      <td>0.0</td>\n",
              "      <td>0.0</td>\n",
              "      <td>0.0</td>\n",
              "      <td>1.0</td>\n",
              "      <td>0.0</td>\n",
              "      <td>0.0</td>\n",
              "      <td>0.0</td>\n",
              "      <td>1.0</td>\n",
              "      <td>0.0</td>\n",
              "      <td>0.598609</td>\n",
              "      <td>0.786845</td>\n",
              "    </tr>\n",
              "    <tr>\n",
              "      <th>2</th>\n",
              "      <td>1.0</td>\n",
              "      <td>0.0</td>\n",
              "      <td>0.0</td>\n",
              "      <td>1.0</td>\n",
              "      <td>0.0</td>\n",
              "      <td>0.0</td>\n",
              "      <td>1.0</td>\n",
              "      <td>0.0</td>\n",
              "      <td>0.0</td>\n",
              "      <td>0.0</td>\n",
              "      <td>0.0</td>\n",
              "      <td>0.0</td>\n",
              "      <td>0.0</td>\n",
              "      <td>0.0</td>\n",
              "      <td>0.0</td>\n",
              "      <td>1.0</td>\n",
              "      <td>0.0</td>\n",
              "      <td>0.0</td>\n",
              "      <td>1.0</td>\n",
              "      <td>0.0</td>\n",
              "      <td>1.0</td>\n",
              "      <td>0.0</td>\n",
              "      <td>0.0</td>\n",
              "      <td>0.0</td>\n",
              "      <td>0.0</td>\n",
              "      <td>0.0</td>\n",
              "      <td>0.0</td>\n",
              "      <td>1.0</td>\n",
              "      <td>-0.282195</td>\n",
              "      <td>-0.488854</td>\n",
              "    </tr>\n",
              "    <tr>\n",
              "      <th>3</th>\n",
              "      <td>1.0</td>\n",
              "      <td>1.0</td>\n",
              "      <td>0.0</td>\n",
              "      <td>2.0</td>\n",
              "      <td>1.0</td>\n",
              "      <td>0.0</td>\n",
              "      <td>0.0</td>\n",
              "      <td>0.0</td>\n",
              "      <td>0.0</td>\n",
              "      <td>1.0</td>\n",
              "      <td>0.0</td>\n",
              "      <td>0.0</td>\n",
              "      <td>0.0</td>\n",
              "      <td>0.0</td>\n",
              "      <td>0.0</td>\n",
              "      <td>0.0</td>\n",
              "      <td>0.0</td>\n",
              "      <td>0.0</td>\n",
              "      <td>1.0</td>\n",
              "      <td>0.0</td>\n",
              "      <td>0.0</td>\n",
              "      <td>0.0</td>\n",
              "      <td>1.0</td>\n",
              "      <td>0.0</td>\n",
              "      <td>0.0</td>\n",
              "      <td>0.0</td>\n",
              "      <td>1.0</td>\n",
              "      <td>0.0</td>\n",
              "      <td>0.378408</td>\n",
              "      <td>0.420730</td>\n",
              "    </tr>\n",
              "    <tr>\n",
              "      <th>4</th>\n",
              "      <td>0.0</td>\n",
              "      <td>0.0</td>\n",
              "      <td>0.0</td>\n",
              "      <td>1.0</td>\n",
              "      <td>0.0</td>\n",
              "      <td>0.0</td>\n",
              "      <td>1.0</td>\n",
              "      <td>0.0</td>\n",
              "      <td>0.0</td>\n",
              "      <td>0.0</td>\n",
              "      <td>0.0</td>\n",
              "      <td>0.0</td>\n",
              "      <td>0.0</td>\n",
              "      <td>0.0</td>\n",
              "      <td>0.0</td>\n",
              "      <td>1.0</td>\n",
              "      <td>0.0</td>\n",
              "      <td>0.0</td>\n",
              "      <td>1.0</td>\n",
              "      <td>0.0</td>\n",
              "      <td>0.0</td>\n",
              "      <td>1.0</td>\n",
              "      <td>0.0</td>\n",
              "      <td>0.0</td>\n",
              "      <td>0.0</td>\n",
              "      <td>0.0</td>\n",
              "      <td>0.0</td>\n",
              "      <td>1.0</td>\n",
              "      <td>0.378408</td>\n",
              "      <td>-0.486337</td>\n",
              "    </tr>\n",
              "  </tbody>\n",
              "</table>\n",
              "</div>"
            ],
            "text/plain": [
              "   Sex  SibSp  Parch  ...  FamiliaTipo_Sozinho     Idade    Tarifa\n",
              "0  0.0    1.0    0.0  ...                  0.0 -0.575796 -0.502445\n",
              "1  1.0    1.0    0.0  ...                  0.0  0.598609  0.786845\n",
              "2  1.0    0.0    0.0  ...                  1.0 -0.282195 -0.488854\n",
              "3  1.0    1.0    0.0  ...                  0.0  0.378408  0.420730\n",
              "4  0.0    0.0    0.0  ...                  1.0  0.378408 -0.486337\n",
              "\n",
              "[5 rows x 30 columns]"
            ]
          },
          "metadata": {
            "tags": []
          },
          "execution_count": 116
        }
      ]
    },
    {
      "cell_type": "code",
      "metadata": {
        "id": "T3yL9UZHhInN"
      },
      "source": [
        "aux0 = sc.transform(teste[['Age', 'Fare']])\n",
        "aux1 = pd.DataFrame(aux0, columns = ['Idade', 'Tarifa'])\n",
        "teste = teste.reset_index()\n",
        "teste = pd.concat([teste, aux1], axis = 1)\n",
        "teste.drop(['Age', 'Fare', 'index'], axis = 1, inplace = True)"
      ],
      "execution_count": null,
      "outputs": []
    },
    {
      "cell_type": "code",
      "metadata": {
        "colab": {
          "base_uri": "https://localhost:8080/",
          "height": 224
        },
        "id": "O-9hb-Wehcsa",
        "outputId": "a53b2120-4979-4fbb-c035-f23f9a9c0bbc"
      },
      "source": [
        "teste.head()"
      ],
      "execution_count": null,
      "outputs": [
        {
          "output_type": "execute_result",
          "data": {
            "text/html": [
              "<div>\n",
              "<style scoped>\n",
              "    .dataframe tbody tr th:only-of-type {\n",
              "        vertical-align: middle;\n",
              "    }\n",
              "\n",
              "    .dataframe tbody tr th {\n",
              "        vertical-align: top;\n",
              "    }\n",
              "\n",
              "    .dataframe thead th {\n",
              "        text-align: right;\n",
              "    }\n",
              "</style>\n",
              "<table border=\"1\" class=\"dataframe\">\n",
              "  <thead>\n",
              "    <tr style=\"text-align: right;\">\n",
              "      <th></th>\n",
              "      <th>Sex</th>\n",
              "      <th>SibSp</th>\n",
              "      <th>Parch</th>\n",
              "      <th>Familia</th>\n",
              "      <th>Pclass_1</th>\n",
              "      <th>Pclass_2</th>\n",
              "      <th>Pclass_3</th>\n",
              "      <th>Cabin_A</th>\n",
              "      <th>Cabin_B</th>\n",
              "      <th>Cabin_C</th>\n",
              "      <th>Cabin_D</th>\n",
              "      <th>Cabin_E</th>\n",
              "      <th>Cabin_F</th>\n",
              "      <th>Cabin_G</th>\n",
              "      <th>Cabin_T</th>\n",
              "      <th>Cabin_n</th>\n",
              "      <th>Embarked_C</th>\n",
              "      <th>Embarked_Q</th>\n",
              "      <th>Embarked_S</th>\n",
              "      <th>Titulacao_Master</th>\n",
              "      <th>Titulacao_Miss</th>\n",
              "      <th>Titulacao_Mr</th>\n",
              "      <th>Titulacao_Mrs</th>\n",
              "      <th>Titulacao_Officer</th>\n",
              "      <th>Titulacao_Royalty</th>\n",
              "      <th>FamiliaTipo_Grande</th>\n",
              "      <th>FamiliaTipo_Pequena</th>\n",
              "      <th>FamiliaTipo_Sozinho</th>\n",
              "      <th>Idade</th>\n",
              "      <th>Tarifa</th>\n",
              "    </tr>\n",
              "  </thead>\n",
              "  <tbody>\n",
              "    <tr>\n",
              "      <th>0</th>\n",
              "      <td>0.0</td>\n",
              "      <td>0.0</td>\n",
              "      <td>0.0</td>\n",
              "      <td>1.0</td>\n",
              "      <td>0.0</td>\n",
              "      <td>0.0</td>\n",
              "      <td>1.0</td>\n",
              "      <td>0.0</td>\n",
              "      <td>0.0</td>\n",
              "      <td>0.0</td>\n",
              "      <td>0.0</td>\n",
              "      <td>0.0</td>\n",
              "      <td>0.0</td>\n",
              "      <td>0.0</td>\n",
              "      <td>0.0</td>\n",
              "      <td>1.0</td>\n",
              "      <td>0.0</td>\n",
              "      <td>1.0</td>\n",
              "      <td>0.0</td>\n",
              "      <td>0.0</td>\n",
              "      <td>0.0</td>\n",
              "      <td>1.0</td>\n",
              "      <td>0.0</td>\n",
              "      <td>0.0</td>\n",
              "      <td>0.0</td>\n",
              "      <td>0.0</td>\n",
              "      <td>0.0</td>\n",
              "      <td>1.0</td>\n",
              "      <td>0.341708</td>\n",
              "      <td>-0.490783</td>\n",
              "    </tr>\n",
              "    <tr>\n",
              "      <th>1</th>\n",
              "      <td>1.0</td>\n",
              "      <td>1.0</td>\n",
              "      <td>0.0</td>\n",
              "      <td>2.0</td>\n",
              "      <td>0.0</td>\n",
              "      <td>0.0</td>\n",
              "      <td>1.0</td>\n",
              "      <td>0.0</td>\n",
              "      <td>0.0</td>\n",
              "      <td>0.0</td>\n",
              "      <td>0.0</td>\n",
              "      <td>0.0</td>\n",
              "      <td>0.0</td>\n",
              "      <td>0.0</td>\n",
              "      <td>0.0</td>\n",
              "      <td>1.0</td>\n",
              "      <td>0.0</td>\n",
              "      <td>0.0</td>\n",
              "      <td>1.0</td>\n",
              "      <td>0.0</td>\n",
              "      <td>0.0</td>\n",
              "      <td>0.0</td>\n",
              "      <td>1.0</td>\n",
              "      <td>0.0</td>\n",
              "      <td>0.0</td>\n",
              "      <td>0.0</td>\n",
              "      <td>1.0</td>\n",
              "      <td>0.0</td>\n",
              "      <td>1.259212</td>\n",
              "      <td>-0.507479</td>\n",
              "    </tr>\n",
              "    <tr>\n",
              "      <th>2</th>\n",
              "      <td>0.0</td>\n",
              "      <td>0.0</td>\n",
              "      <td>0.0</td>\n",
              "      <td>1.0</td>\n",
              "      <td>0.0</td>\n",
              "      <td>1.0</td>\n",
              "      <td>0.0</td>\n",
              "      <td>0.0</td>\n",
              "      <td>0.0</td>\n",
              "      <td>0.0</td>\n",
              "      <td>0.0</td>\n",
              "      <td>0.0</td>\n",
              "      <td>0.0</td>\n",
              "      <td>0.0</td>\n",
              "      <td>0.0</td>\n",
              "      <td>1.0</td>\n",
              "      <td>0.0</td>\n",
              "      <td>1.0</td>\n",
              "      <td>0.0</td>\n",
              "      <td>0.0</td>\n",
              "      <td>0.0</td>\n",
              "      <td>1.0</td>\n",
              "      <td>0.0</td>\n",
              "      <td>0.0</td>\n",
              "      <td>0.0</td>\n",
              "      <td>0.0</td>\n",
              "      <td>0.0</td>\n",
              "      <td>1.0</td>\n",
              "      <td>2.360217</td>\n",
              "      <td>-0.453367</td>\n",
              "    </tr>\n",
              "    <tr>\n",
              "      <th>3</th>\n",
              "      <td>0.0</td>\n",
              "      <td>0.0</td>\n",
              "      <td>0.0</td>\n",
              "      <td>1.0</td>\n",
              "      <td>0.0</td>\n",
              "      <td>0.0</td>\n",
              "      <td>1.0</td>\n",
              "      <td>0.0</td>\n",
              "      <td>0.0</td>\n",
              "      <td>0.0</td>\n",
              "      <td>0.0</td>\n",
              "      <td>0.0</td>\n",
              "      <td>0.0</td>\n",
              "      <td>0.0</td>\n",
              "      <td>0.0</td>\n",
              "      <td>1.0</td>\n",
              "      <td>0.0</td>\n",
              "      <td>0.0</td>\n",
              "      <td>1.0</td>\n",
              "      <td>0.0</td>\n",
              "      <td>0.0</td>\n",
              "      <td>1.0</td>\n",
              "      <td>0.0</td>\n",
              "      <td>0.0</td>\n",
              "      <td>0.0</td>\n",
              "      <td>0.0</td>\n",
              "      <td>0.0</td>\n",
              "      <td>1.0</td>\n",
              "      <td>-0.208795</td>\n",
              "      <td>-0.474005</td>\n",
              "    </tr>\n",
              "    <tr>\n",
              "      <th>4</th>\n",
              "      <td>1.0</td>\n",
              "      <td>1.0</td>\n",
              "      <td>1.0</td>\n",
              "      <td>3.0</td>\n",
              "      <td>0.0</td>\n",
              "      <td>0.0</td>\n",
              "      <td>1.0</td>\n",
              "      <td>0.0</td>\n",
              "      <td>0.0</td>\n",
              "      <td>0.0</td>\n",
              "      <td>0.0</td>\n",
              "      <td>0.0</td>\n",
              "      <td>0.0</td>\n",
              "      <td>0.0</td>\n",
              "      <td>0.0</td>\n",
              "      <td>1.0</td>\n",
              "      <td>0.0</td>\n",
              "      <td>0.0</td>\n",
              "      <td>1.0</td>\n",
              "      <td>0.0</td>\n",
              "      <td>0.0</td>\n",
              "      <td>0.0</td>\n",
              "      <td>1.0</td>\n",
              "      <td>0.0</td>\n",
              "      <td>0.0</td>\n",
              "      <td>0.0</td>\n",
              "      <td>1.0</td>\n",
              "      <td>0.0</td>\n",
              "      <td>-0.575796</td>\n",
              "      <td>-0.401017</td>\n",
              "    </tr>\n",
              "  </tbody>\n",
              "</table>\n",
              "</div>"
            ],
            "text/plain": [
              "   Sex  SibSp  Parch  ...  FamiliaTipo_Sozinho     Idade    Tarifa\n",
              "0  0.0    0.0    0.0  ...                  1.0  0.341708 -0.490783\n",
              "1  1.0    1.0    0.0  ...                  0.0  1.259212 -0.507479\n",
              "2  0.0    0.0    0.0  ...                  1.0  2.360217 -0.453367\n",
              "3  0.0    0.0    0.0  ...                  1.0 -0.208795 -0.474005\n",
              "4  1.0    1.0    1.0  ...                  0.0 -0.575796 -0.401017\n",
              "\n",
              "[5 rows x 30 columns]"
            ]
          },
          "metadata": {
            "tags": []
          },
          "execution_count": 117
        }
      ]
    },
    {
      "cell_type": "markdown",
      "metadata": {
        "id": "l6m60lD3hc2m"
      },
      "source": [
        "##Escolhendo as Variáveis Mais Importantes"
      ]
    },
    {
      "cell_type": "markdown",
      "metadata": {
        "id": "07XxXKHAovOP"
      },
      "source": [
        "Feito o pré-processamento dos dados, podemos agora escolher quais variáveis serão introduzidas ao modelo"
      ]
    },
    {
      "cell_type": "markdown",
      "metadata": {
        "id": "A_GqZWAvhfGo"
      },
      "source": [
        "###Escolhendo com Random Forest"
      ]
    },
    {
      "cell_type": "markdown",
      "metadata": {
        "id": "417yq0-bimtq"
      },
      "source": [
        "A escolha das variáveis mais importantes é baseada em um output de modelos de árvore chamado feature importance, que retorna a importância de cada variável para o modelo"
      ]
    },
    {
      "cell_type": "code",
      "metadata": {
        "id": "8O0XFNr0hiVK",
        "colab": {
          "base_uri": "https://localhost:8080/"
        },
        "outputId": "075a8b43-51f0-48ee-afe3-0c412301604c"
      },
      "source": [
        "modelo_base = RandomForestClassifier(max_depth = 3)\n",
        "modelo_base.fit(treino, targets)"
      ],
      "execution_count": null,
      "outputs": [
        {
          "output_type": "execute_result",
          "data": {
            "text/plain": [
              "RandomForestClassifier(bootstrap=True, ccp_alpha=0.0, class_weight=None,\n",
              "                       criterion='gini', max_depth=3, max_features='auto',\n",
              "                       max_leaf_nodes=None, max_samples=None,\n",
              "                       min_impurity_decrease=0.0, min_impurity_split=None,\n",
              "                       min_samples_leaf=1, min_samples_split=2,\n",
              "                       min_weight_fraction_leaf=0.0, n_estimators=100,\n",
              "                       n_jobs=None, oob_score=False, random_state=None,\n",
              "                       verbose=0, warm_start=False)"
            ]
          },
          "metadata": {
            "tags": []
          },
          "execution_count": 118
        }
      ]
    },
    {
      "cell_type": "code",
      "metadata": {
        "id": "iAQmCHnehmgd",
        "colab": {
          "base_uri": "https://localhost:8080/",
          "height": 979
        },
        "outputId": "0f277bcc-fe77-48ff-8741-7d5345b08c2e"
      },
      "source": [
        "variaveis = pd.DataFrame()\n",
        "variaveis['variavel'] = treino.columns\n",
        "variaveis['importancia'] = modelo_base.feature_importances_\n",
        "variaveis.sort_values(by = 'importancia', ascending = False)"
      ],
      "execution_count": null,
      "outputs": [
        {
          "output_type": "execute_result",
          "data": {
            "text/html": [
              "<div>\n",
              "<style scoped>\n",
              "    .dataframe tbody tr th:only-of-type {\n",
              "        vertical-align: middle;\n",
              "    }\n",
              "\n",
              "    .dataframe tbody tr th {\n",
              "        vertical-align: top;\n",
              "    }\n",
              "\n",
              "    .dataframe thead th {\n",
              "        text-align: right;\n",
              "    }\n",
              "</style>\n",
              "<table border=\"1\" class=\"dataframe\">\n",
              "  <thead>\n",
              "    <tr style=\"text-align: right;\">\n",
              "      <th></th>\n",
              "      <th>variavel</th>\n",
              "      <th>importancia</th>\n",
              "    </tr>\n",
              "  </thead>\n",
              "  <tbody>\n",
              "    <tr>\n",
              "      <th>21</th>\n",
              "      <td>Titulacao_Mr</td>\n",
              "      <td>0.264832</td>\n",
              "    </tr>\n",
              "    <tr>\n",
              "      <th>0</th>\n",
              "      <td>Sex</td>\n",
              "      <td>0.213455</td>\n",
              "    </tr>\n",
              "    <tr>\n",
              "      <th>29</th>\n",
              "      <td>Tarifa</td>\n",
              "      <td>0.077065</td>\n",
              "    </tr>\n",
              "    <tr>\n",
              "      <th>6</th>\n",
              "      <td>Pclass_3</td>\n",
              "      <td>0.063648</td>\n",
              "    </tr>\n",
              "    <tr>\n",
              "      <th>20</th>\n",
              "      <td>Titulacao_Miss</td>\n",
              "      <td>0.059833</td>\n",
              "    </tr>\n",
              "    <tr>\n",
              "      <th>22</th>\n",
              "      <td>Titulacao_Mrs</td>\n",
              "      <td>0.059363</td>\n",
              "    </tr>\n",
              "    <tr>\n",
              "      <th>15</th>\n",
              "      <td>Cabin_n</td>\n",
              "      <td>0.045519</td>\n",
              "    </tr>\n",
              "    <tr>\n",
              "      <th>1</th>\n",
              "      <td>SibSp</td>\n",
              "      <td>0.030607</td>\n",
              "    </tr>\n",
              "    <tr>\n",
              "      <th>4</th>\n",
              "      <td>Pclass_1</td>\n",
              "      <td>0.028890</td>\n",
              "    </tr>\n",
              "    <tr>\n",
              "      <th>26</th>\n",
              "      <td>FamiliaTipo_Pequena</td>\n",
              "      <td>0.025931</td>\n",
              "    </tr>\n",
              "    <tr>\n",
              "      <th>3</th>\n",
              "      <td>Familia</td>\n",
              "      <td>0.024890</td>\n",
              "    </tr>\n",
              "    <tr>\n",
              "      <th>28</th>\n",
              "      <td>Idade</td>\n",
              "      <td>0.023222</td>\n",
              "    </tr>\n",
              "    <tr>\n",
              "      <th>25</th>\n",
              "      <td>FamiliaTipo_Grande</td>\n",
              "      <td>0.019673</td>\n",
              "    </tr>\n",
              "    <tr>\n",
              "      <th>27</th>\n",
              "      <td>FamiliaTipo_Sozinho</td>\n",
              "      <td>0.018333</td>\n",
              "    </tr>\n",
              "    <tr>\n",
              "      <th>2</th>\n",
              "      <td>Parch</td>\n",
              "      <td>0.007416</td>\n",
              "    </tr>\n",
              "    <tr>\n",
              "      <th>18</th>\n",
              "      <td>Embarked_S</td>\n",
              "      <td>0.006630</td>\n",
              "    </tr>\n",
              "    <tr>\n",
              "      <th>8</th>\n",
              "      <td>Cabin_B</td>\n",
              "      <td>0.006339</td>\n",
              "    </tr>\n",
              "    <tr>\n",
              "      <th>5</th>\n",
              "      <td>Pclass_2</td>\n",
              "      <td>0.005444</td>\n",
              "    </tr>\n",
              "    <tr>\n",
              "      <th>19</th>\n",
              "      <td>Titulacao_Master</td>\n",
              "      <td>0.005369</td>\n",
              "    </tr>\n",
              "    <tr>\n",
              "      <th>16</th>\n",
              "      <td>Embarked_C</td>\n",
              "      <td>0.003948</td>\n",
              "    </tr>\n",
              "    <tr>\n",
              "      <th>11</th>\n",
              "      <td>Cabin_E</td>\n",
              "      <td>0.003432</td>\n",
              "    </tr>\n",
              "    <tr>\n",
              "      <th>23</th>\n",
              "      <td>Titulacao_Officer</td>\n",
              "      <td>0.001733</td>\n",
              "    </tr>\n",
              "    <tr>\n",
              "      <th>10</th>\n",
              "      <td>Cabin_D</td>\n",
              "      <td>0.001341</td>\n",
              "    </tr>\n",
              "    <tr>\n",
              "      <th>17</th>\n",
              "      <td>Embarked_Q</td>\n",
              "      <td>0.001322</td>\n",
              "    </tr>\n",
              "    <tr>\n",
              "      <th>9</th>\n",
              "      <td>Cabin_C</td>\n",
              "      <td>0.001208</td>\n",
              "    </tr>\n",
              "    <tr>\n",
              "      <th>7</th>\n",
              "      <td>Cabin_A</td>\n",
              "      <td>0.000265</td>\n",
              "    </tr>\n",
              "    <tr>\n",
              "      <th>13</th>\n",
              "      <td>Cabin_G</td>\n",
              "      <td>0.000141</td>\n",
              "    </tr>\n",
              "    <tr>\n",
              "      <th>24</th>\n",
              "      <td>Titulacao_Royalty</td>\n",
              "      <td>0.000121</td>\n",
              "    </tr>\n",
              "    <tr>\n",
              "      <th>12</th>\n",
              "      <td>Cabin_F</td>\n",
              "      <td>0.000029</td>\n",
              "    </tr>\n",
              "    <tr>\n",
              "      <th>14</th>\n",
              "      <td>Cabin_T</td>\n",
              "      <td>0.000000</td>\n",
              "    </tr>\n",
              "  </tbody>\n",
              "</table>\n",
              "</div>"
            ],
            "text/plain": [
              "               variavel  importancia\n",
              "21         Titulacao_Mr     0.264832\n",
              "0                   Sex     0.213455\n",
              "29               Tarifa     0.077065\n",
              "6              Pclass_3     0.063648\n",
              "20       Titulacao_Miss     0.059833\n",
              "22        Titulacao_Mrs     0.059363\n",
              "15              Cabin_n     0.045519\n",
              "1                 SibSp     0.030607\n",
              "4              Pclass_1     0.028890\n",
              "26  FamiliaTipo_Pequena     0.025931\n",
              "3               Familia     0.024890\n",
              "28                Idade     0.023222\n",
              "25   FamiliaTipo_Grande     0.019673\n",
              "27  FamiliaTipo_Sozinho     0.018333\n",
              "2                 Parch     0.007416\n",
              "18           Embarked_S     0.006630\n",
              "8               Cabin_B     0.006339\n",
              "5              Pclass_2     0.005444\n",
              "19     Titulacao_Master     0.005369\n",
              "16           Embarked_C     0.003948\n",
              "11              Cabin_E     0.003432\n",
              "23    Titulacao_Officer     0.001733\n",
              "10              Cabin_D     0.001341\n",
              "17           Embarked_Q     0.001322\n",
              "9               Cabin_C     0.001208\n",
              "7               Cabin_A     0.000265\n",
              "13              Cabin_G     0.000141\n",
              "24    Titulacao_Royalty     0.000121\n",
              "12              Cabin_F     0.000029\n",
              "14              Cabin_T     0.000000"
            ]
          },
          "metadata": {
            "tags": []
          },
          "execution_count": 119
        }
      ]
    },
    {
      "cell_type": "markdown",
      "metadata": {
        "id": "5ZDEf-0hi6IR"
      },
      "source": [
        "Por meio de um gráfico, podemos perceber quais são as variáveis consideradas mais importantes pela Random Forest"
      ]
    },
    {
      "cell_type": "code",
      "metadata": {
        "id": "Ic5K4Zk4hoF4",
        "colab": {
          "base_uri": "https://localhost:8080/",
          "height": 562
        },
        "outputId": "34d2950a-9021-401f-b853-7c9bd4d4bb18"
      },
      "source": [
        "variaveis.sort_values(by = 'importancia', ascending = True, inplace = True)\n",
        "variaveis.set_index('variavel', inplace = True)\n",
        "variaveis.plot(kind='barh', figsize=(15, 15));"
      ],
      "execution_count": null,
      "outputs": [
        {
          "output_type": "display_data",
          "data": {
            "image/png": "[encoded data removed]",
            "text/plain": [
              "<Figure size 1080x1080 with 1 Axes>"
            ]
          },
          "metadata": {
            "tags": [],
            "needs_background": "light"
          }
        }
      ]
    },
    {
      "cell_type": "markdown",
      "metadata": {
        "id": "ChjkJ4jahv9t"
      },
      "source": [
        "###Selecionando com SelectFromModel"
      ]
    },
    {
      "cell_type": "markdown",
      "metadata": {
        "id": "jHFjtHbYjAVL"
      },
      "source": [
        "Uma vez compreendida a importância de cada variável para o modelo, selecionamos as que são mais importantes "
      ]
    },
    {
      "cell_type": "code",
      "metadata": {
        "id": "yqvgTcjPhzEf",
        "colab": {
          "base_uri": "https://localhost:8080/"
        },
        "outputId": "2684f1d7-d993-4ad3-e7ee-58d9d8a3dcdb"
      },
      "source": [
        "seletor = SelectFromModel(modelo_base, prefit = True, max_features = 11, threshold = -np.inf)\n",
        "\n",
        "treino_reduzido = seletor.transform(treino)\n",
        "print(treino_reduzido.shape)\n",
        "\n",
        "teste_reduzido = seletor.transform(teste)\n",
        "print(teste_reduzido.shape)"
      ],
      "execution_count": null,
      "outputs": [
        {
          "output_type": "stream",
          "text": [
            "(891, 11)\n",
            "(418, 11)\n"
          ],
          "name": "stdout"
        }
      ]
    },
    {
      "cell_type": "markdown",
      "metadata": {
        "id": "aTHLdmNih2wT"
      },
      "source": [
        "##Tunagem dos Modelos"
      ]
    },
    {
      "cell_type": "markdown",
      "metadata": {
        "id": "gweRnaa_mGPt"
      },
      "source": [
        "Para tunar nossos modelos, utilizaremos uma função que testa diversas combinações de parâmetros (estabelecidos na variável **parametros**). Esse teste pode ser do tipo 'tudo', que testa todas as combinações possíveis ou do tipo 'aleatório', que testa apenas uma amostra aleatória dos parâmetros. Em seguida, a função utiliza o método do K-FOLD repetido estratificado para avaliar o desempenho do modelo e retorna a combinação de parâmetros que teve o melhor desempenho em relação às demais na otimização da métrica acurácia"
      ]
    },
    {
      "cell_type": "markdown",
      "metadata": {
        "id": "mwQqQOJPh325"
      },
      "source": [
        "###Melhor KNN"
      ]
    },
    {
      "cell_type": "code",
      "metadata": {
        "colab": {
          "base_uri": "https://localhost:8080/"
        },
        "id": "mUJoyzLg_mNC",
        "outputId": "d7aafe1b-b291-4e39-ca28-ffd75b9f0f63"
      },
      "source": [
        "def GridSearchKNN(treino, targets, tipo = 'tudo'):\n",
        "    parametros = {'n_neighbors' : np.arange(1, 50, 2)}\n",
        "\n",
        "    modelo = KNeighborsClassifier()\n",
        "        \n",
        "    validacao = RepeatedStratifiedKFold(n_splits = 10, n_repeats = 1)\n",
        "\n",
        "    if tipo == 'tudo':\n",
        "        search = GridSearchCV(modelo, param_grid = parametros,\n",
        "                                  scoring = 'accuracy', cv = validacao, \n",
        "                                  verbose = 1, n_jobs = -1)\n",
        "    elif tipo == 'aleatorio':\n",
        "        search = RandomizedSearchCV(modelo, param_distributions = parametros,\n",
        "                                scoring = 'accuracy', cv = validacao,\n",
        "                                n_iter = 10, verbose = 1, n_jobs = -1)\n",
        "    else:\n",
        "        print('entrada invalida no argumento \"tipo\"')\n",
        "\n",
        "\n",
        "    search.fit(treino, targets) \n",
        "\n",
        "    melhor = search.best_estimator_\n",
        "    #best_estimator_ : melhor KNN\n",
        "\n",
        "    print('\\nAcuracia: {:.4f}'.format(search.best_score_))\n",
        "    print('Melhores parâmetros: {}\\n'.format(search.best_params_))\n",
        "    #best_params_ : melhores parâmetros para conseguir o menlhor estimador\n",
        "\n",
        "    return melhor\n",
        "\n",
        "knn = GridSearchKNN(treino_reduzido, targets, tipo = 'tudo')"
      ],
      "execution_count": null,
      "outputs": [
        {
          "output_type": "stream",
          "text": [
            "Fitting 10 folds for each of 25 candidates, totalling 250 fits\n"
          ],
          "name": "stdout"
        },
        {
          "output_type": "stream",
          "text": [
            "[Parallel(n_jobs=-1)]: Using backend LokyBackend with 2 concurrent workers.\n"
          ],
          "name": "stderr"
        },
        {
          "output_type": "stream",
          "text": [
            "\n",
            "Acuracia: 0.8137\n",
            "Melhores parâmetros: {'n_neighbors': 31}\n",
            "\n"
          ],
          "name": "stdout"
        },
        {
          "output_type": "stream",
          "text": [
            "[Parallel(n_jobs=-1)]: Done 240 tasks      | elapsed:    2.6s\n",
            "[Parallel(n_jobs=-1)]: Done 250 out of 250 | elapsed:    2.7s finished\n"
          ],
          "name": "stderr"
        }
      ]
    },
    {
      "cell_type": "markdown",
      "metadata": {
        "id": "gvtGsEzxi4XS"
      },
      "source": [
        "###Melhor Árvore de Decisão"
      ]
    },
    {
      "cell_type": "code",
      "metadata": {
        "colab": {
          "base_uri": "https://localhost:8080/"
        },
        "id": "jeKGoBlJFEww",
        "outputId": "554f817b-53bf-4533-c77b-d2239d6444db"
      },
      "source": [
        "def GridSearchARVORE(treino, targets, tipo = 'tudo'):\n",
        "    parametros = {   \n",
        "                 'max_depth' : np.arange(1,11), \n",
        "                 'min_samples_split': np.arange(2,12),\n",
        "                 'min_samples_leaf': np.arange(1,11),\n",
        "                 }\n",
        "\n",
        "    modelo = DecisionTreeClassifier()\n",
        "        \n",
        "    validacao = RepeatedStratifiedKFold(n_splits = 10, n_repeats = 10)\n",
        "\n",
        "    if tipo == 'tudo':\n",
        "        grid_search = GridSearchCV(modelo, param_grid = parametros,\n",
        "                                  scoring = 'accuracy', cv = validacao, \n",
        "                                  verbose = 1, n_jobs = -1)\n",
        "    elif tipo == 'aleatorio':\n",
        "        grid_search = RandomizedSearchCV(modelo, param_distributions = parametros,\n",
        "                                scoring = 'accuracy', cv = validacao,\n",
        "                                n_iter = 10, verbose = 1, n_jobs = -1)\n",
        "    else:\n",
        "        print('entrada invalida no argumento \"tipo\"')\n",
        "\n",
        "\n",
        "    grid_search.fit(treino, targets) \n",
        "\n",
        "    melhor = grid_search.best_estimator_\n",
        "\n",
        "    print('\\nAcuracia: {:.4f}'.format(grid_search.best_score_))\n",
        "    print('Melhores parâmetros: {}\\n'.format(grid_search.best_params_))\n",
        "\n",
        "    return melhor\n",
        "\n",
        "arvore = GridSearchARVORE(treino, targets, tipo = 'aleatorio')"
      ],
      "execution_count": null,
      "outputs": [
        {
          "output_type": "stream",
          "text": [
            "[Parallel(n_jobs=-1)]: Using backend LokyBackend with 2 concurrent workers.\n"
          ],
          "name": "stderr"
        },
        {
          "output_type": "stream",
          "text": [
            "Fitting 100 folds for each of 10 candidates, totalling 1000 fits\n"
          ],
          "name": "stdout"
        },
        {
          "output_type": "stream",
          "text": [
            "[Parallel(n_jobs=-1)]: Done 708 tasks      | elapsed:    3.4s\n"
          ],
          "name": "stderr"
        },
        {
          "output_type": "stream",
          "text": [
            "\n",
            "Acuracia: 0.8237\n",
            "Melhores parâmetros: {'min_samples_split': 11, 'min_samples_leaf': 5, 'max_depth': 9}\n",
            "\n"
          ],
          "name": "stdout"
        },
        {
          "output_type": "stream",
          "text": [
            "[Parallel(n_jobs=-1)]: Done 1000 out of 1000 | elapsed:    4.7s finished\n"
          ],
          "name": "stderr"
        }
      ]
    },
    {
      "cell_type": "markdown",
      "metadata": {
        "id": "M2fG4GEai8bq"
      },
      "source": [
        "###Melhor Random Forest"
      ]
    },
    {
      "cell_type": "code",
      "metadata": {
        "colab": {
          "base_uri": "https://localhost:8080/"
        },
        "id": "7uPdBQhcNoZO",
        "outputId": "68953e08-f557-4ea8-91bc-3683979ffc2f"
      },
      "source": [
        "def GridSearchRF(treino, targets, tipo = 'tudo'):\n",
        "    parametros = {   \n",
        "                 'max_depth' : [2, 6, 10],\n",
        "                 'n_estimators': [50, 100, 150],\n",
        "                 'max_features': ['sqrt', 'auto', 'log2'],\n",
        "                 'min_samples_split': [2, 5, 10],\n",
        "                 'min_samples_leaf': [1, 3, 5],\n",
        "                 'bootstrap': [True, False]\n",
        "                 }\n",
        "\n",
        "    modelo = RandomForestClassifier()\n",
        "        \n",
        "    validacao = RepeatedStratifiedKFold(n_splits = 10, n_repeats = 1)\n",
        "\n",
        "    if tipo == 'tudo':\n",
        "        grid_search = GridSearchCV(modelo, param_grid = parametros,\n",
        "                                  scoring = 'accuracy', cv = validacao, \n",
        "                                  verbose = 1, n_jobs = -1)\n",
        "    elif tipo == 'aleatorio':\n",
        "        grid_search = RandomizedSearchCV(modelo, param_distributions = parametros,\n",
        "                                scoring = 'accuracy', cv = validacao,\n",
        "                                n_iter = 50, verbose = 1, n_jobs = -1)\n",
        "    else:\n",
        "        print('entrada invalida no argumento \"tipo\"')\n",
        "\n",
        "\n",
        "    grid_search.fit(treino, targets) \n",
        "\n",
        "    melhor_rf = grid_search.best_estimator_\n",
        "\n",
        "    print('\\nAcuracia: {:.4f}'.format(grid_search.best_score_))\n",
        "    print('Melhores parâmetros: {}\\n'.format(grid_search.best_params_))\n",
        "\n",
        "    return melhor_rf\n",
        "\n",
        "rf = GridSearchRF(treino_reduzido, targets, tipo = 'aleatorio')"
      ],
      "execution_count": null,
      "outputs": [
        {
          "output_type": "stream",
          "text": [
            "[Parallel(n_jobs=-1)]: Using backend LokyBackend with 2 concurrent workers.\n"
          ],
          "name": "stderr"
        },
        {
          "output_type": "stream",
          "text": [
            "Fitting 10 folds for each of 50 candidates, totalling 500 fits\n"
          ],
          "name": "stdout"
        },
        {
          "output_type": "stream",
          "text": [
            "[Parallel(n_jobs=-1)]: Done  46 tasks      | elapsed:    7.5s\n",
            "[Parallel(n_jobs=-1)]: Done 196 tasks      | elapsed:   27.2s\n",
            "[Parallel(n_jobs=-1)]: Done 446 tasks      | elapsed:  1.0min\n",
            "[Parallel(n_jobs=-1)]: Done 500 out of 500 | elapsed:  1.1min finished\n"
          ],
          "name": "stderr"
        },
        {
          "output_type": "stream",
          "text": [
            "\n",
            "Acuracia: 0.8406\n",
            "Melhores parâmetros: {'n_estimators': 150, 'min_samples_split': 5, 'min_samples_leaf': 3, 'max_features': 'sqrt', 'max_depth': 10, 'bootstrap': True}\n",
            "\n"
          ],
          "name": "stdout"
        }
      ]
    },
    {
      "cell_type": "markdown",
      "metadata": {
        "id": "Nb_TKoCKjBL5"
      },
      "source": [
        "#Considerações Finais"
      ]
    },
    {
      "cell_type": "markdown",
      "metadata": {
        "id": "o2IzxgY-ps0M"
      },
      "source": [
        "Neste projeto final observamos a segunda forma de otimizar a capacidade preditiva de nossos modelos de machine learning, a tunagem de hiperparâmetros. Notamos que para realizar a tunagem ainda sim precisamos fazer o pré-processamento dos dados, que daí serão alimentados em nossos modelos otimizados para melhor utilizar suas informações. Assim como determinamos em relação ao pré-processamento, a melhor combinação de parâmetros também é específica para diferentes conjunto de dados e seus respectivos pré-processamentos. Se fizermos mudanças no pré-processamento de um mesmo conjunto de dados, deveremos encontrar novas variáveis e parâmetros que melhor se ajustem às informações fornecidas por ele"
      ]
    },
    {
      "cell_type": "code",
      "metadata": {
        "id": "tVWo6qPD7lzh"
      },
      "source": [
        ""
      ],
      "execution_count": null,
      "outputs": []
    }
  ]
}