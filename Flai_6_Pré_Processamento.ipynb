{
  "nbformat": 4,
  "nbformat_minor": 0,
  "metadata": {
    "colab": {
      "name": "Flai 6 - Pré-Processamento",
      "provenance": [],
      "collapsed_sections": [],
      "authorship_tag": "ABX9TyNheyxTjNHjWSffPGoPjooQ"
    },
    "kernelspec": {
      "name": "python3",
      "display_name": "Python 3"
    },
    "language_info": {
      "name": "python"
    },
    "widgets": {
      "application/vnd.jupyter.widget-state+json": {
        "4dbd996951454005899696a0f9ee086e": {
          "model_module": "@jupyter-widgets/controls",
          "model_name": "HBoxModel",
          "state": {
            "_view_name": "HBoxView",
            "_dom_classes": [],
            "_model_name": "HBoxModel",
            "_view_module": "@jupyter-widgets/controls",
            "_model_module_version": "1.5.0",
            "_view_count": null,
            "_view_module_version": "1.5.0",
            "box_style": "",
            "layout": "IPY_MODEL_8d8be39c9e714c4b85446e627f32e98b",
            "_model_module": "@jupyter-widgets/controls",
            "children": [
              "IPY_MODEL_4216de17a3b14504bc22c3f5fb19269b",
              "IPY_MODEL_d3b6007a34b04667aad71711ca437e32",
              "IPY_MODEL_da9409939ed84d218caa58dfb942acbf"
            ]
          }
        },
        "8d8be39c9e714c4b85446e627f32e98b": {
          "model_module": "@jupyter-widgets/base",
          "model_name": "LayoutModel",
          "state": {
            "_view_name": "LayoutView",
            "grid_template_rows": null,
            "right": null,
            "justify_content": null,
            "_view_module": "@jupyter-widgets/base",
            "overflow": null,
            "_model_module_version": "1.2.0",
            "_view_count": null,
            "flex_flow": "row wrap",
            "width": "100%",
            "min_width": null,
            "border": null,
            "align_items": null,
            "bottom": null,
            "_model_module": "@jupyter-widgets/base",
            "top": null,
            "grid_column": null,
            "overflow_y": null,
            "overflow_x": null,
            "grid_auto_flow": null,
            "grid_area": null,
            "grid_template_columns": null,
            "flex": null,
            "_model_name": "LayoutModel",
            "justify_items": null,
            "grid_row": null,
            "max_height": null,
            "align_content": null,
            "visibility": null,
            "align_self": null,
            "height": null,
            "min_height": null,
            "padding": null,
            "grid_auto_rows": null,
            "grid_gap": null,
            "max_width": null,
            "order": null,
            "_view_module_version": "1.2.0",
            "grid_template_areas": null,
            "object_position": null,
            "object_fit": null,
            "grid_auto_columns": null,
            "margin": null,
            "display": "inline-flex",
            "left": null
          }
        },
        "4216de17a3b14504bc22c3f5fb19269b": {
          "model_module": "@jupyter-widgets/controls",
          "model_name": "HTMLModel",
          "state": {
            "_view_name": "HTMLView",
            "style": "IPY_MODEL_49793263b7b94a3dad82aab36de10466",
            "_dom_classes": [],
            "description": "",
            "_model_name": "HTMLModel",
            "placeholder": "​",
            "_view_module": "@jupyter-widgets/controls",
            "_model_module_version": "1.5.0",
            "value": "Done! Use &#x27;show&#x27; commands to display/save.   ",
            "_view_count": null,
            "_view_module_version": "1.5.0",
            "description_tooltip": null,
            "_model_module": "@jupyter-widgets/controls",
            "layout": "IPY_MODEL_6af029b3b67f4091975291ac0e0cb91d"
          }
        },
        "d3b6007a34b04667aad71711ca437e32": {
          "model_module": "@jupyter-widgets/controls",
          "model_name": "FloatProgressModel",
          "state": {
            "_view_name": "ProgressView",
            "style": "IPY_MODEL_00d3488b9d154adcbfa3baed5200cd56",
            "_dom_classes": [],
            "description": "",
            "_model_name": "FloatProgressModel",
            "bar_style": "success",
            "max": 1,
            "_view_module": "@jupyter-widgets/controls",
            "_model_module_version": "1.5.0",
            "value": 1,
            "_view_count": null,
            "_view_module_version": "1.5.0",
            "orientation": "horizontal",
            "min": 0,
            "description_tooltip": null,
            "_model_module": "@jupyter-widgets/controls",
            "layout": "IPY_MODEL_ed0c919047d14780af729f1056f81d16"
          }
        },
        "da9409939ed84d218caa58dfb942acbf": {
          "model_module": "@jupyter-widgets/controls",
          "model_name": "HTMLModel",
          "state": {
            "_view_name": "HTMLView",
            "style": "IPY_MODEL_9330092f1edb410f9fd3a52258c04ea5",
            "_dom_classes": [],
            "description": "",
            "_model_name": "HTMLModel",
            "placeholder": "​",
            "_view_module": "@jupyter-widgets/controls",
            "_model_module_version": "1.5.0",
            "value": " [100%]   00:00 -&gt; (00:00 left)",
            "_view_count": null,
            "_view_module_version": "1.5.0",
            "description_tooltip": null,
            "_model_module": "@jupyter-widgets/controls",
            "layout": "IPY_MODEL_52917fe041fe4a8889875bce3eca122c"
          }
        },
        "49793263b7b94a3dad82aab36de10466": {
          "model_module": "@jupyter-widgets/controls",
          "model_name": "DescriptionStyleModel",
          "state": {
            "_view_name": "StyleView",
            "_model_name": "DescriptionStyleModel",
            "description_width": "",
            "_view_module": "@jupyter-widgets/base",
            "_model_module_version": "1.5.0",
            "_view_count": null,
            "_view_module_version": "1.2.0",
            "_model_module": "@jupyter-widgets/controls"
          }
        },
        "6af029b3b67f4091975291ac0e0cb91d": {
          "model_module": "@jupyter-widgets/base",
          "model_name": "LayoutModel",
          "state": {
            "_view_name": "LayoutView",
            "grid_template_rows": null,
            "right": null,
            "justify_content": null,
            "_view_module": "@jupyter-widgets/base",
            "overflow": null,
            "_model_module_version": "1.2.0",
            "_view_count": null,
            "flex_flow": null,
            "width": null,
            "min_width": null,
            "border": null,
            "align_items": null,
            "bottom": null,
            "_model_module": "@jupyter-widgets/base",
            "top": null,
            "grid_column": null,
            "overflow_y": null,
            "overflow_x": null,
            "grid_auto_flow": null,
            "grid_area": null,
            "grid_template_columns": null,
            "flex": null,
            "_model_name": "LayoutModel",
            "justify_items": null,
            "grid_row": null,
            "max_height": null,
            "align_content": null,
            "visibility": null,
            "align_self": null,
            "height": null,
            "min_height": null,
            "padding": null,
            "grid_auto_rows": null,
            "grid_gap": null,
            "max_width": null,
            "order": null,
            "_view_module_version": "1.2.0",
            "grid_template_areas": null,
            "object_position": null,
            "object_fit": null,
            "grid_auto_columns": null,
            "margin": null,
            "display": null,
            "left": null
          }
        },
        "00d3488b9d154adcbfa3baed5200cd56": {
          "model_module": "@jupyter-widgets/controls",
          "model_name": "ProgressStyleModel",
          "state": {
            "_view_name": "StyleView",
            "_model_name": "ProgressStyleModel",
            "description_width": "",
            "_view_module": "@jupyter-widgets/base",
            "_model_module_version": "1.5.0",
            "_view_count": null,
            "_view_module_version": "1.2.0",
            "bar_color": null,
            "_model_module": "@jupyter-widgets/controls"
          }
        },
        "ed0c919047d14780af729f1056f81d16": {
          "model_module": "@jupyter-widgets/base",
          "model_name": "LayoutModel",
          "state": {
            "_view_name": "LayoutView",
            "grid_template_rows": null,
            "right": null,
            "justify_content": null,
            "_view_module": "@jupyter-widgets/base",
            "overflow": null,
            "_model_module_version": "1.2.0",
            "_view_count": null,
            "flex_flow": null,
            "width": null,
            "min_width": null,
            "border": null,
            "align_items": null,
            "bottom": null,
            "_model_module": "@jupyter-widgets/base",
            "top": null,
            "grid_column": null,
            "overflow_y": null,
            "overflow_x": null,
            "grid_auto_flow": null,
            "grid_area": null,
            "grid_template_columns": null,
            "flex": "2",
            "_model_name": "LayoutModel",
            "justify_items": null,
            "grid_row": null,
            "max_height": null,
            "align_content": null,
            "visibility": null,
            "align_self": null,
            "height": null,
            "min_height": null,
            "padding": null,
            "grid_auto_rows": null,
            "grid_gap": null,
            "max_width": null,
            "order": null,
            "_view_module_version": "1.2.0",
            "grid_template_areas": null,
            "object_position": null,
            "object_fit": null,
            "grid_auto_columns": null,
            "margin": null,
            "display": null,
            "left": null
          }
        },
        "9330092f1edb410f9fd3a52258c04ea5": {
          "model_module": "@jupyter-widgets/controls",
          "model_name": "DescriptionStyleModel",
          "state": {
            "_view_name": "StyleView",
            "_model_name": "DescriptionStyleModel",
            "description_width": "",
            "_view_module": "@jupyter-widgets/base",
            "_model_module_version": "1.5.0",
            "_view_count": null,
            "_view_module_version": "1.2.0",
            "_model_module": "@jupyter-widgets/controls"
          }
        },
        "52917fe041fe4a8889875bce3eca122c": {
          "model_module": "@jupyter-widgets/base",
          "model_name": "LayoutModel",
          "state": {
            "_view_name": "LayoutView",
            "grid_template_rows": null,
            "right": null,
            "justify_content": null,
            "_view_module": "@jupyter-widgets/base",
            "overflow": null,
            "_model_module_version": "1.2.0",
            "_view_count": null,
            "flex_flow": null,
            "width": null,
            "min_width": null,
            "border": null,
            "align_items": null,
            "bottom": null,
            "_model_module": "@jupyter-widgets/base",
            "top": null,
            "grid_column": null,
            "overflow_y": null,
            "overflow_x": null,
            "grid_auto_flow": null,
            "grid_area": null,
            "grid_template_columns": null,
            "flex": null,
            "_model_name": "LayoutModel",
            "justify_items": null,
            "grid_row": null,
            "max_height": null,
            "align_content": null,
            "visibility": null,
            "align_self": null,
            "height": null,
            "min_height": null,
            "padding": null,
            "grid_auto_rows": null,
            "grid_gap": null,
            "max_width": null,
            "order": null,
            "_view_module_version": "1.2.0",
            "grid_template_areas": null,
            "object_position": null,
            "object_fit": null,
            "grid_auto_columns": null,
            "margin": null,
            "display": null,
            "left": null
          }
        },
        "60f0e4d5dcab48bea0528185aa5047b4": {
          "model_module": "@jupyter-widgets/controls",
          "model_name": "HBoxModel",
          "state": {
            "_view_name": "HBoxView",
            "_dom_classes": [],
            "_model_name": "HBoxModel",
            "_view_module": "@jupyter-widgets/controls",
            "_model_module_version": "1.5.0",
            "_view_count": null,
            "_view_module_version": "1.5.0",
            "box_style": "",
            "layout": "IPY_MODEL_474e6aa5cefb4d86b56aebdd5c1b97bd",
            "_model_module": "@jupyter-widgets/controls",
            "children": [
              "IPY_MODEL_a8fd754cd2374e39807da7e255a79f7a",
              "IPY_MODEL_2bc951c90230452b86fc38288b8e0fa9",
              "IPY_MODEL_032d0ec0cc844922b0a34873aae4a161"
            ]
          }
        },
        "474e6aa5cefb4d86b56aebdd5c1b97bd": {
          "model_module": "@jupyter-widgets/base",
          "model_name": "LayoutModel",
          "state": {
            "_view_name": "LayoutView",
            "grid_template_rows": null,
            "right": null,
            "justify_content": null,
            "_view_module": "@jupyter-widgets/base",
            "overflow": null,
            "_model_module_version": "1.2.0",
            "_view_count": null,
            "flex_flow": "row wrap",
            "width": "100%",
            "min_width": null,
            "border": null,
            "align_items": null,
            "bottom": null,
            "_model_module": "@jupyter-widgets/base",
            "top": null,
            "grid_column": null,
            "overflow_y": null,
            "overflow_x": null,
            "grid_auto_flow": null,
            "grid_area": null,
            "grid_template_columns": null,
            "flex": null,
            "_model_name": "LayoutModel",
            "justify_items": null,
            "grid_row": null,
            "max_height": null,
            "align_content": null,
            "visibility": null,
            "align_self": null,
            "height": null,
            "min_height": null,
            "padding": null,
            "grid_auto_rows": null,
            "grid_gap": null,
            "max_width": null,
            "order": null,
            "_view_module_version": "1.2.0",
            "grid_template_areas": null,
            "object_position": null,
            "object_fit": null,
            "grid_auto_columns": null,
            "margin": null,
            "display": "inline-flex",
            "left": null
          }
        },
        "a8fd754cd2374e39807da7e255a79f7a": {
          "model_module": "@jupyter-widgets/controls",
          "model_name": "HTMLModel",
          "state": {
            "_view_name": "HTMLView",
            "style": "IPY_MODEL_dab58ebb5777456791e3b69aff8ec898",
            "_dom_classes": [],
            "description": "",
            "_model_name": "HTMLModel",
            "placeholder": "​",
            "_view_module": "@jupyter-widgets/controls",
            "_model_module_version": "1.5.0",
            "value": "Done! Use &#x27;show&#x27; commands to display/save.   ",
            "_view_count": null,
            "_view_module_version": "1.5.0",
            "description_tooltip": null,
            "_model_module": "@jupyter-widgets/controls",
            "layout": "IPY_MODEL_4a211447955a4ddeacaf92613168fa07"
          }
        },
        "2bc951c90230452b86fc38288b8e0fa9": {
          "model_module": "@jupyter-widgets/controls",
          "model_name": "FloatProgressModel",
          "state": {
            "_view_name": "ProgressView",
            "style": "IPY_MODEL_3af852d738834da9a36de5a98f72c030",
            "_dom_classes": [],
            "description": "",
            "_model_name": "FloatProgressModel",
            "bar_style": "success",
            "max": 1,
            "_view_module": "@jupyter-widgets/controls",
            "_model_module_version": "1.5.0",
            "value": 1,
            "_view_count": null,
            "_view_module_version": "1.5.0",
            "orientation": "horizontal",
            "min": 0,
            "description_tooltip": null,
            "_model_module": "@jupyter-widgets/controls",
            "layout": "IPY_MODEL_455f68767fc14f93b9dcdf551b7e3ccd"
          }
        },
        "032d0ec0cc844922b0a34873aae4a161": {
          "model_module": "@jupyter-widgets/controls",
          "model_name": "HTMLModel",
          "state": {
            "_view_name": "HTMLView",
            "style": "IPY_MODEL_d3ca6d737018411daf4134ad2040f4c4",
            "_dom_classes": [],
            "description": "",
            "_model_name": "HTMLModel",
            "placeholder": "​",
            "_view_module": "@jupyter-widgets/controls",
            "_model_module_version": "1.5.0",
            "value": " [100%]   00:01 -&gt; (00:00 left)",
            "_view_count": null,
            "_view_module_version": "1.5.0",
            "description_tooltip": null,
            "_model_module": "@jupyter-widgets/controls",
            "layout": "IPY_MODEL_489748e8e10942c393af4100336f851c"
          }
        },
        "dab58ebb5777456791e3b69aff8ec898": {
          "model_module": "@jupyter-widgets/controls",
          "model_name": "DescriptionStyleModel",
          "state": {
            "_view_name": "StyleView",
            "_model_name": "DescriptionStyleModel",
            "description_width": "",
            "_view_module": "@jupyter-widgets/base",
            "_model_module_version": "1.5.0",
            "_view_count": null,
            "_view_module_version": "1.2.0",
            "_model_module": "@jupyter-widgets/controls"
          }
        },
        "4a211447955a4ddeacaf92613168fa07": {
          "model_module": "@jupyter-widgets/base",
          "model_name": "LayoutModel",
          "state": {
            "_view_name": "LayoutView",
            "grid_template_rows": null,
            "right": null,
            "justify_content": null,
            "_view_module": "@jupyter-widgets/base",
            "overflow": null,
            "_model_module_version": "1.2.0",
            "_view_count": null,
            "flex_flow": null,
            "width": null,
            "min_width": null,
            "border": null,
            "align_items": null,
            "bottom": null,
            "_model_module": "@jupyter-widgets/base",
            "top": null,
            "grid_column": null,
            "overflow_y": null,
            "overflow_x": null,
            "grid_auto_flow": null,
            "grid_area": null,
            "grid_template_columns": null,
            "flex": null,
            "_model_name": "LayoutModel",
            "justify_items": null,
            "grid_row": null,
            "max_height": null,
            "align_content": null,
            "visibility": null,
            "align_self": null,
            "height": null,
            "min_height": null,
            "padding": null,
            "grid_auto_rows": null,
            "grid_gap": null,
            "max_width": null,
            "order": null,
            "_view_module_version": "1.2.0",
            "grid_template_areas": null,
            "object_position": null,
            "object_fit": null,
            "grid_auto_columns": null,
            "margin": null,
            "display": null,
            "left": null
          }
        },
        "3af852d738834da9a36de5a98f72c030": {
          "model_module": "@jupyter-widgets/controls",
          "model_name": "ProgressStyleModel",
          "state": {
            "_view_name": "StyleView",
            "_model_name": "ProgressStyleModel",
            "description_width": "",
            "_view_module": "@jupyter-widgets/base",
            "_model_module_version": "1.5.0",
            "_view_count": null,
            "_view_module_version": "1.2.0",
            "bar_color": null,
            "_model_module": "@jupyter-widgets/controls"
          }
        },
        "455f68767fc14f93b9dcdf551b7e3ccd": {
          "model_module": "@jupyter-widgets/base",
          "model_name": "LayoutModel",
          "state": {
            "_view_name": "LayoutView",
            "grid_template_rows": null,
            "right": null,
            "justify_content": null,
            "_view_module": "@jupyter-widgets/base",
            "overflow": null,
            "_model_module_version": "1.2.0",
            "_view_count": null,
            "flex_flow": null,
            "width": null,
            "min_width": null,
            "border": null,
            "align_items": null,
            "bottom": null,
            "_model_module": "@jupyter-widgets/base",
            "top": null,
            "grid_column": null,
            "overflow_y": null,
            "overflow_x": null,
            "grid_auto_flow": null,
            "grid_area": null,
            "grid_template_columns": null,
            "flex": "2",
            "_model_name": "LayoutModel",
            "justify_items": null,
            "grid_row": null,
            "max_height": null,
            "align_content": null,
            "visibility": null,
            "align_self": null,
            "height": null,
            "min_height": null,
            "padding": null,
            "grid_auto_rows": null,
            "grid_gap": null,
            "max_width": null,
            "order": null,
            "_view_module_version": "1.2.0",
            "grid_template_areas": null,
            "object_position": null,
            "object_fit": null,
            "grid_auto_columns": null,
            "margin": null,
            "display": null,
            "left": null
          }
        },
        "d3ca6d737018411daf4134ad2040f4c4": {
          "model_module": "@jupyter-widgets/controls",
          "model_name": "DescriptionStyleModel",
          "state": {
            "_view_name": "StyleView",
            "_model_name": "DescriptionStyleModel",
            "description_width": "",
            "_view_module": "@jupyter-widgets/base",
            "_model_module_version": "1.5.0",
            "_view_count": null,
            "_view_module_version": "1.2.0",
            "_model_module": "@jupyter-widgets/controls"
          }
        },
        "489748e8e10942c393af4100336f851c": {
          "model_module": "@jupyter-widgets/base",
          "model_name": "LayoutModel",
          "state": {
            "_view_name": "LayoutView",
            "grid_template_rows": null,
            "right": null,
            "justify_content": null,
            "_view_module": "@jupyter-widgets/base",
            "overflow": null,
            "_model_module_version": "1.2.0",
            "_view_count": null,
            "flex_flow": null,
            "width": null,
            "min_width": null,
            "border": null,
            "align_items": null,
            "bottom": null,
            "_model_module": "@jupyter-widgets/base",
            "top": null,
            "grid_column": null,
            "overflow_y": null,
            "overflow_x": null,
            "grid_auto_flow": null,
            "grid_area": null,
            "grid_template_columns": null,
            "flex": null,
            "_model_name": "LayoutModel",
            "justify_items": null,
            "grid_row": null,
            "max_height": null,
            "align_content": null,
            "visibility": null,
            "align_self": null,
            "height": null,
            "min_height": null,
            "padding": null,
            "grid_auto_rows": null,
            "grid_gap": null,
            "max_width": null,
            "order": null,
            "_view_module_version": "1.2.0",
            "grid_template_areas": null,
            "object_position": null,
            "object_fit": null,
            "grid_auto_columns": null,
            "margin": null,
            "display": null,
            "left": null
          }
        }
      }
    }
  },
  "cells": [
    {
      "cell_type": "markdown",
      "metadata": {
        "id": "q9jET-vHq3_2"
      },
      "source": [
        "#Pré-Processamento de Variáveis"
      ]
    },
    {
      "cell_type": "markdown",
      "metadata": {
        "id": "FGSC0SXdcTPh"
      },
      "source": [
        "Vistos diferentes tipos de modelos tanto de classificação quanto de regressão e como uni-los para a criação de modelos mais potentes, passamos agora para a otimização desses modelos de modo que eles possuam o maior poder preditivo possível. Existem duas formas de se melhorar a performance de uma modelagem de machine learning: a melhoria do próprio modelo por meio da seleção de seus melhores parâmetros e a melhoria dos dados de entrada do modelo a partir do pré-processamento do conjunto de dados. Este projeto se dedicará a explorar a segunda opção"
      ]
    },
    {
      "cell_type": "markdown",
      "metadata": {
        "id": "uuorqidAdXvA"
      },
      "source": [
        "Para este e para o próximo projeto, nos afastaremos do conjunto de dados de seguro e utilizaremos o conjunto de dados de passageiros do Titanic. O objetivo será prever da melhor forma possível quais passageiros sobreviveram e quais não sobreviveram à tragédia (variável **Survived**)"
      ]
    },
    {
      "cell_type": "code",
      "metadata": {
        "id": "fDXiClX-XlF8"
      },
      "source": [
        "import pandas as pd\n",
        "import numpy as np\n",
        "import missingno as msno\n",
        "from sklearn.preprocessing import StandardScaler\n",
        "from sklearn.linear_model import LogisticRegression\n",
        "from sklearn.tree import DecisionTreeClassifier\n",
        "from sklearn.neighbors import KNeighborsClassifier\n",
        "from sklearn.ensemble import RandomForestClassifier, BaggingClassifier\n",
        "from sklearn.model_selection import cross_validate, StratifiedKFold\n",
        "from google.colab.data_table import DataTable"
      ],
      "execution_count": 1,
      "outputs": []
    },
    {
      "cell_type": "markdown",
      "metadata": {
        "id": "1ps6I6SKeDVQ"
      },
      "source": [
        "Sendo este um conjunto de dados do Kaggle, plataforma de competições de ciência de dados, os conjuntos de teste e treinamento já estão separados. Como a variável **Survived** do conjunto de teste é a que se deseja prever, seus valores não estão presentes no arquivo disponível ao público"
      ]
    },
    {
      "cell_type": "code",
      "metadata": {
        "id": "TUjmXxsClBHi"
      },
      "source": [
        "url1 = 'https://raw.githubusercontent.com/roberta-helena/projetos_estudo/main/datasets/titanic_train.csv'\n",
        "url2 = 'https://raw.githubusercontent.com/roberta-helena/projetos_estudo/main/datasets/titanic_test.csv'\n",
        "\n",
        "titanic = pd.read_csv(url1)\n",
        "teste = pd.read_csv(url2)"
      ],
      "execution_count": 2,
      "outputs": []
    },
    {
      "cell_type": "code",
      "metadata": {
        "id": "4TP7W5QZlDDx",
        "colab": {
          "base_uri": "https://localhost:8080/",
          "height": 204
        },
        "outputId": "fdc39de3-1a12-4799-da7d-f53f0a8da85e"
      },
      "source": [
        "titanic.head()"
      ],
      "execution_count": 3,
      "outputs": [
        {
          "output_type": "execute_result",
          "data": {
            "text/html": [
              "<div>\n",
              "<style scoped>\n",
              "    .dataframe tbody tr th:only-of-type {\n",
              "        vertical-align: middle;\n",
              "    }\n",
              "\n",
              "    .dataframe tbody tr th {\n",
              "        vertical-align: top;\n",
              "    }\n",
              "\n",
              "    .dataframe thead th {\n",
              "        text-align: right;\n",
              "    }\n",
              "</style>\n",
              "<table border=\"1\" class=\"dataframe\">\n",
              "  <thead>\n",
              "    <tr style=\"text-align: right;\">\n",
              "      <th></th>\n",
              "      <th>PassengerId</th>\n",
              "      <th>Survived</th>\n",
              "      <th>Pclass</th>\n",
              "      <th>Name</th>\n",
              "      <th>Sex</th>\n",
              "      <th>Age</th>\n",
              "      <th>SibSp</th>\n",
              "      <th>Parch</th>\n",
              "      <th>Ticket</th>\n",
              "      <th>Fare</th>\n",
              "      <th>Cabin</th>\n",
              "      <th>Embarked</th>\n",
              "    </tr>\n",
              "  </thead>\n",
              "  <tbody>\n",
              "    <tr>\n",
              "      <th>0</th>\n",
              "      <td>1</td>\n",
              "      <td>0</td>\n",
              "      <td>3</td>\n",
              "      <td>Braund, Mr. Owen Harris</td>\n",
              "      <td>male</td>\n",
              "      <td>22.0</td>\n",
              "      <td>1</td>\n",
              "      <td>0</td>\n",
              "      <td>A/5 21171</td>\n",
              "      <td>7.2500</td>\n",
              "      <td>NaN</td>\n",
              "      <td>S</td>\n",
              "    </tr>\n",
              "    <tr>\n",
              "      <th>1</th>\n",
              "      <td>2</td>\n",
              "      <td>1</td>\n",
              "      <td>1</td>\n",
              "      <td>Cumings, Mrs. John Bradley (Florence Briggs Th...</td>\n",
              "      <td>female</td>\n",
              "      <td>38.0</td>\n",
              "      <td>1</td>\n",
              "      <td>0</td>\n",
              "      <td>PC 17599</td>\n",
              "      <td>71.2833</td>\n",
              "      <td>C85</td>\n",
              "      <td>C</td>\n",
              "    </tr>\n",
              "    <tr>\n",
              "      <th>2</th>\n",
              "      <td>3</td>\n",
              "      <td>1</td>\n",
              "      <td>3</td>\n",
              "      <td>Heikkinen, Miss. Laina</td>\n",
              "      <td>female</td>\n",
              "      <td>26.0</td>\n",
              "      <td>0</td>\n",
              "      <td>0</td>\n",
              "      <td>STON/O2. 3101282</td>\n",
              "      <td>7.9250</td>\n",
              "      <td>NaN</td>\n",
              "      <td>S</td>\n",
              "    </tr>\n",
              "    <tr>\n",
              "      <th>3</th>\n",
              "      <td>4</td>\n",
              "      <td>1</td>\n",
              "      <td>1</td>\n",
              "      <td>Futrelle, Mrs. Jacques Heath (Lily May Peel)</td>\n",
              "      <td>female</td>\n",
              "      <td>35.0</td>\n",
              "      <td>1</td>\n",
              "      <td>0</td>\n",
              "      <td>113803</td>\n",
              "      <td>53.1000</td>\n",
              "      <td>C123</td>\n",
              "      <td>S</td>\n",
              "    </tr>\n",
              "    <tr>\n",
              "      <th>4</th>\n",
              "      <td>5</td>\n",
              "      <td>0</td>\n",
              "      <td>3</td>\n",
              "      <td>Allen, Mr. William Henry</td>\n",
              "      <td>male</td>\n",
              "      <td>35.0</td>\n",
              "      <td>0</td>\n",
              "      <td>0</td>\n",
              "      <td>373450</td>\n",
              "      <td>8.0500</td>\n",
              "      <td>NaN</td>\n",
              "      <td>S</td>\n",
              "    </tr>\n",
              "  </tbody>\n",
              "</table>\n",
              "</div>"
            ],
            "text/plain": [
              "   PassengerId  Survived  Pclass  ...     Fare Cabin  Embarked\n",
              "0            1         0       3  ...   7.2500   NaN         S\n",
              "1            2         1       1  ...  71.2833   C85         C\n",
              "2            3         1       3  ...   7.9250   NaN         S\n",
              "3            4         1       1  ...  53.1000  C123         S\n",
              "4            5         0       3  ...   8.0500   NaN         S\n",
              "\n",
              "[5 rows x 12 columns]"
            ]
          },
          "metadata": {
            "tags": []
          },
          "execution_count": 3
        }
      ]
    },
    {
      "cell_type": "code",
      "metadata": {
        "id": "3M_qv5VIlFcq",
        "colab": {
          "base_uri": "https://localhost:8080/"
        },
        "outputId": "15a4566c-c69d-45d7-fa48-37714ba343bb"
      },
      "source": [
        "titanic.info()"
      ],
      "execution_count": 4,
      "outputs": [
        {
          "output_type": "stream",
          "text": [
            "<class 'pandas.core.frame.DataFrame'>\n",
            "RangeIndex: 891 entries, 0 to 890\n",
            "Data columns (total 12 columns):\n",
            " #   Column       Non-Null Count  Dtype  \n",
            "---  ------       --------------  -----  \n",
            " 0   PassengerId  891 non-null    int64  \n",
            " 1   Survived     891 non-null    int64  \n",
            " 2   Pclass       891 non-null    int64  \n",
            " 3   Name         891 non-null    object \n",
            " 4   Sex          891 non-null    object \n",
            " 5   Age          714 non-null    float64\n",
            " 6   SibSp        891 non-null    int64  \n",
            " 7   Parch        891 non-null    int64  \n",
            " 8   Ticket       891 non-null    object \n",
            " 9   Fare         891 non-null    float64\n",
            " 10  Cabin        204 non-null    object \n",
            " 11  Embarked     889 non-null    object \n",
            "dtypes: float64(2), int64(5), object(5)\n",
            "memory usage: 83.7+ KB\n"
          ],
          "name": "stdout"
        }
      ]
    },
    {
      "cell_type": "code",
      "metadata": {
        "id": "KTP9qVyWlHlR",
        "colab": {
          "base_uri": "https://localhost:8080/",
          "height": 204
        },
        "outputId": "1dbf4d9f-bfa5-4ced-87d1-37eeeae7184f"
      },
      "source": [
        "teste.head()"
      ],
      "execution_count": 5,
      "outputs": [
        {
          "output_type": "execute_result",
          "data": {
            "text/html": [
              "<div>\n",
              "<style scoped>\n",
              "    .dataframe tbody tr th:only-of-type {\n",
              "        vertical-align: middle;\n",
              "    }\n",
              "\n",
              "    .dataframe tbody tr th {\n",
              "        vertical-align: top;\n",
              "    }\n",
              "\n",
              "    .dataframe thead th {\n",
              "        text-align: right;\n",
              "    }\n",
              "</style>\n",
              "<table border=\"1\" class=\"dataframe\">\n",
              "  <thead>\n",
              "    <tr style=\"text-align: right;\">\n",
              "      <th></th>\n",
              "      <th>PassengerId</th>\n",
              "      <th>Pclass</th>\n",
              "      <th>Name</th>\n",
              "      <th>Sex</th>\n",
              "      <th>Age</th>\n",
              "      <th>SibSp</th>\n",
              "      <th>Parch</th>\n",
              "      <th>Ticket</th>\n",
              "      <th>Fare</th>\n",
              "      <th>Cabin</th>\n",
              "      <th>Embarked</th>\n",
              "    </tr>\n",
              "  </thead>\n",
              "  <tbody>\n",
              "    <tr>\n",
              "      <th>0</th>\n",
              "      <td>892</td>\n",
              "      <td>3</td>\n",
              "      <td>Kelly, Mr. James</td>\n",
              "      <td>male</td>\n",
              "      <td>34.5</td>\n",
              "      <td>0</td>\n",
              "      <td>0</td>\n",
              "      <td>330911</td>\n",
              "      <td>7.8292</td>\n",
              "      <td>NaN</td>\n",
              "      <td>Q</td>\n",
              "    </tr>\n",
              "    <tr>\n",
              "      <th>1</th>\n",
              "      <td>893</td>\n",
              "      <td>3</td>\n",
              "      <td>Wilkes, Mrs. James (Ellen Needs)</td>\n",
              "      <td>female</td>\n",
              "      <td>47.0</td>\n",
              "      <td>1</td>\n",
              "      <td>0</td>\n",
              "      <td>363272</td>\n",
              "      <td>7.0000</td>\n",
              "      <td>NaN</td>\n",
              "      <td>S</td>\n",
              "    </tr>\n",
              "    <tr>\n",
              "      <th>2</th>\n",
              "      <td>894</td>\n",
              "      <td>2</td>\n",
              "      <td>Myles, Mr. Thomas Francis</td>\n",
              "      <td>male</td>\n",
              "      <td>62.0</td>\n",
              "      <td>0</td>\n",
              "      <td>0</td>\n",
              "      <td>240276</td>\n",
              "      <td>9.6875</td>\n",
              "      <td>NaN</td>\n",
              "      <td>Q</td>\n",
              "    </tr>\n",
              "    <tr>\n",
              "      <th>3</th>\n",
              "      <td>895</td>\n",
              "      <td>3</td>\n",
              "      <td>Wirz, Mr. Albert</td>\n",
              "      <td>male</td>\n",
              "      <td>27.0</td>\n",
              "      <td>0</td>\n",
              "      <td>0</td>\n",
              "      <td>315154</td>\n",
              "      <td>8.6625</td>\n",
              "      <td>NaN</td>\n",
              "      <td>S</td>\n",
              "    </tr>\n",
              "    <tr>\n",
              "      <th>4</th>\n",
              "      <td>896</td>\n",
              "      <td>3</td>\n",
              "      <td>Hirvonen, Mrs. Alexander (Helga E Lindqvist)</td>\n",
              "      <td>female</td>\n",
              "      <td>22.0</td>\n",
              "      <td>1</td>\n",
              "      <td>1</td>\n",
              "      <td>3101298</td>\n",
              "      <td>12.2875</td>\n",
              "      <td>NaN</td>\n",
              "      <td>S</td>\n",
              "    </tr>\n",
              "  </tbody>\n",
              "</table>\n",
              "</div>"
            ],
            "text/plain": [
              "   PassengerId  Pclass  ... Cabin Embarked\n",
              "0          892       3  ...   NaN        Q\n",
              "1          893       3  ...   NaN        S\n",
              "2          894       2  ...   NaN        Q\n",
              "3          895       3  ...   NaN        S\n",
              "4          896       3  ...   NaN        S\n",
              "\n",
              "[5 rows x 11 columns]"
            ]
          },
          "metadata": {
            "tags": []
          },
          "execution_count": 5
        }
      ]
    },
    {
      "cell_type": "markdown",
      "metadata": {
        "id": "_tA0vGYOlJRx"
      },
      "source": [
        "##Análise Exploratória de Dados Básica"
      ]
    },
    {
      "cell_type": "markdown",
      "metadata": {
        "id": "Qi3HhcjlUbTb"
      },
      "source": [
        "Podemos usar a biblioteca Sweetviz para fazermos uma análise exploratória básica dos dados"
      ]
    },
    {
      "cell_type": "code",
      "metadata": {
        "id": "u_gmnsculI_h",
        "colab": {
          "base_uri": "https://localhost:8080/"
        },
        "outputId": "f1a53697-c49a-4af6-d75b-afdbe8dd7e73"
      },
      "source": [
        "!pip install sweetviz"
      ],
      "execution_count": 6,
      "outputs": [
        {
          "output_type": "stream",
          "text": [
            "Collecting sweetviz\n",
            "\u001b[?25l  Downloading https://files.pythonhosted.org/packages/e6/06/f7341e6dc3fae77962855001cd1c1a6a73e3f094ffba2039b4dafe66c751/sweetviz-2.1.2-py3-none-any.whl (15.1MB)\n",
            "\u001b[K     |████████████████████████████████| 15.1MB 227kB/s \n",
            "\u001b[?25hRequirement already satisfied: importlib-resources>=1.2.0 in /usr/local/lib/python3.7/dist-packages (from sweetviz) (5.1.3)\n",
            "Requirement already satisfied: numpy>=1.16.0 in /usr/local/lib/python3.7/dist-packages (from sweetviz) (1.19.5)\n",
            "Requirement already satisfied: matplotlib>=3.1.3 in /usr/local/lib/python3.7/dist-packages (from sweetviz) (3.2.2)\n",
            "Requirement already satisfied: jinja2>=2.11.1 in /usr/local/lib/python3.7/dist-packages (from sweetviz) (2.11.3)\n",
            "Collecting tqdm>=4.43.0\n",
            "\u001b[?25l  Downloading https://files.pythonhosted.org/packages/42/d7/f357d98e9b50346bcb6095fe3ad205d8db3174eb5edb03edfe7c4099576d/tqdm-4.61.0-py2.py3-none-any.whl (75kB)\n",
            "\u001b[K     |████████████████████████████████| 81kB 9.3MB/s \n",
            "\u001b[?25hRequirement already satisfied: pandas!=1.0.0,!=1.0.1,!=1.0.2,>=0.25.3 in /usr/local/lib/python3.7/dist-packages (from sweetviz) (1.1.5)\n",
            "Requirement already satisfied: scipy>=1.3.2 in /usr/local/lib/python3.7/dist-packages (from sweetviz) (1.4.1)\n",
            "Requirement already satisfied: zipp>=0.4; python_version < \"3.8\" in /usr/local/lib/python3.7/dist-packages (from importlib-resources>=1.2.0->sweetviz) (3.4.1)\n",
            "Requirement already satisfied: python-dateutil>=2.1 in /usr/local/lib/python3.7/dist-packages (from matplotlib>=3.1.3->sweetviz) (2.8.1)\n",
            "Requirement already satisfied: pyparsing!=2.0.4,!=2.1.2,!=2.1.6,>=2.0.1 in /usr/local/lib/python3.7/dist-packages (from matplotlib>=3.1.3->sweetviz) (2.4.7)\n",
            "Requirement already satisfied: kiwisolver>=1.0.1 in /usr/local/lib/python3.7/dist-packages (from matplotlib>=3.1.3->sweetviz) (1.3.1)\n",
            "Requirement already satisfied: cycler>=0.10 in /usr/local/lib/python3.7/dist-packages (from matplotlib>=3.1.3->sweetviz) (0.10.0)\n",
            "Requirement already satisfied: MarkupSafe>=0.23 in /usr/local/lib/python3.7/dist-packages (from jinja2>=2.11.1->sweetviz) (2.0.1)\n",
            "Requirement already satisfied: pytz>=2017.2 in /usr/local/lib/python3.7/dist-packages (from pandas!=1.0.0,!=1.0.1,!=1.0.2,>=0.25.3->sweetviz) (2018.9)\n",
            "Requirement already satisfied: six>=1.5 in /usr/local/lib/python3.7/dist-packages (from python-dateutil>=2.1->matplotlib>=3.1.3->sweetviz) (1.15.0)\n",
            "Installing collected packages: tqdm, sweetviz\n",
            "  Found existing installation: tqdm 4.41.1\n",
            "    Uninstalling tqdm-4.41.1:\n",
            "      Successfully uninstalled tqdm-4.41.1\n",
            "Successfully installed sweetviz-2.1.2 tqdm-4.61.0\n"
          ],
          "name": "stdout"
        }
      ]
    },
    {
      "cell_type": "code",
      "metadata": {
        "id": "SfXY-t3vlPpx"
      },
      "source": [
        "import sweetviz"
      ],
      "execution_count": 7,
      "outputs": []
    },
    {
      "cell_type": "code",
      "metadata": {
        "id": "dwYdbRNjlRBy",
        "colab": {
          "base_uri": "https://localhost:8080/",
          "height": 66,
          "referenced_widgets": [
            "4dbd996951454005899696a0f9ee086e",
            "8d8be39c9e714c4b85446e627f32e98b",
            "4216de17a3b14504bc22c3f5fb19269b",
            "d3b6007a34b04667aad71711ca437e32",
            "da9409939ed84d218caa58dfb942acbf",
            "49793263b7b94a3dad82aab36de10466",
            "6af029b3b67f4091975291ac0e0cb91d",
            "00d3488b9d154adcbfa3baed5200cd56",
            "ed0c919047d14780af729f1056f81d16",
            "9330092f1edb410f9fd3a52258c04ea5",
            "52917fe041fe4a8889875bce3eca122c"
          ]
        },
        "outputId": "0f067d9d-634f-406c-d611-74a562b9769a"
      },
      "source": [
        "eda_titanic = sweetviz.analyze(titanic)\n",
        "eda_titanic.show_html()"
      ],
      "execution_count": 8,
      "outputs": [
        {
          "output_type": "display_data",
          "data": {
            "application/vnd.jupyter.widget-view+json": {
              "model_id": "4dbd996951454005899696a0f9ee086e",
              "version_minor": 0,
              "version_major": 2
            },
            "text/plain": [
              "                                             |          | [  0%]   00:00 -> (? left)"
            ]
          },
          "metadata": {
            "tags": []
          }
        },
        {
          "output_type": "stream",
          "text": [
            "Report SWEETVIZ_REPORT.html was generated! NOTEBOOK/COLAB USERS: the web browser MAY not pop up, regardless, the report IS saved in your notebook/colab files.\n"
          ],
          "name": "stdout"
        }
      ]
    },
    {
      "cell_type": "markdown",
      "metadata": {
        "id": "BqcAf23kUoTz"
      },
      "source": [
        "Procuramos então padrões discriminando a variável alvo em vítimas e sobreviventes"
      ]
    },
    {
      "cell_type": "code",
      "metadata": {
        "id": "_PS2QLx5lSQh",
        "colab": {
          "base_uri": "https://localhost:8080/",
          "height": 66,
          "referenced_widgets": [
            "60f0e4d5dcab48bea0528185aa5047b4",
            "474e6aa5cefb4d86b56aebdd5c1b97bd",
            "a8fd754cd2374e39807da7e255a79f7a",
            "2bc951c90230452b86fc38288b8e0fa9",
            "032d0ec0cc844922b0a34873aae4a161",
            "dab58ebb5777456791e3b69aff8ec898",
            "4a211447955a4ddeacaf92613168fa07",
            "3af852d738834da9a36de5a98f72c030",
            "455f68767fc14f93b9dcdf551b7e3ccd",
            "d3ca6d737018411daf4134ad2040f4c4",
            "489748e8e10942c393af4100336f851c"
          ]
        },
        "outputId": "b681fc8c-ed73-44a4-9101-c66eac718b15"
      },
      "source": [
        "eda2 = sweetviz.compare_intra(titanic, titanic['Survived'] == 0, ['Vítima', 'Sobrevivente'])\n",
        "eda2.show_html()"
      ],
      "execution_count": 9,
      "outputs": [
        {
          "output_type": "display_data",
          "data": {
            "application/vnd.jupyter.widget-view+json": {
              "model_id": "60f0e4d5dcab48bea0528185aa5047b4",
              "version_minor": 0,
              "version_major": 2
            },
            "text/plain": [
              "                                             |          | [  0%]   00:00 -> (? left)"
            ]
          },
          "metadata": {
            "tags": []
          }
        },
        {
          "output_type": "stream",
          "text": [
            "Report SWEETVIZ_REPORT.html was generated! NOTEBOOK/COLAB USERS: the web browser MAY not pop up, regardless, the report IS saved in your notebook/colab files.\n"
          ],
          "name": "stdout"
        }
      ]
    },
    {
      "cell_type": "markdown",
      "metadata": {
        "id": "jeH4vebMlXAB"
      },
      "source": [
        "###Heurística"
      ]
    },
    {
      "cell_type": "markdown",
      "metadata": {
        "id": "7Q92DwxtSLeC"
      },
      "source": [
        "A heurística é uma solução para o problema que parte de uma premissa simples. O número de acertos retornado pela heurística serve como base para avaliarmos nossos modelos na medida em que qualquer modelo posterior só será relevante se ele se sair melhor do que ela"
      ]
    },
    {
      "cell_type": "markdown",
      "metadata": {
        "id": "t37hKTEtTkTJ"
      },
      "source": [
        "Nete projeto, determinamos a heurística como \"toda mulher sobrevive, todo homem não sobrevive\""
      ]
    },
    {
      "cell_type": "code",
      "metadata": {
        "id": "27Jp4S8rlYPw",
        "colab": {
          "base_uri": "https://localhost:8080/"
        },
        "outputId": "ba7f1d49-3f4c-4cdc-ca1d-f2088490fc43"
      },
      "source": [
        "teste1 = titanic['Sex'].map({'male': 0, 'female': 1})\n",
        "\n",
        "(teste1 == titanic['Survived']).mean().round(4)"
      ],
      "execution_count": 10,
      "outputs": [
        {
          "output_type": "execute_result",
          "data": {
            "text/plain": [
              "0.7868"
            ]
          },
          "metadata": {
            "tags": []
          },
          "execution_count": 10
        }
      ]
    },
    {
      "cell_type": "markdown",
      "metadata": {
        "id": "trpYTfNflcnr"
      },
      "source": [
        "##Pré-Processamento"
      ]
    },
    {
      "cell_type": "markdown",
      "metadata": {
        "id": "EnEUaWPiJ0tb"
      },
      "source": [
        "Todas as alterações de pré-processamento devem ser feitas no conjunto de dados de teste e no conjunto de treinamento"
      ]
    },
    {
      "cell_type": "markdown",
      "metadata": {
        "id": "ESdAs82Xlgay"
      },
      "source": [
        "###Descartando Variáveis"
      ]
    },
    {
      "cell_type": "markdown",
      "metadata": {
        "id": "edmFRFo3J66B"
      },
      "source": [
        "De acordo com os resultados obtidos pela análise exploratória, podemos descartar variáveis do conjunto de dados que parecem não ser importantes para a previsão que desejamos fazer"
      ]
    },
    {
      "cell_type": "code",
      "metadata": {
        "id": "YvkQbBCTljip"
      },
      "source": [
        "titanic.drop(['PassengerId', 'Name', 'Ticket', 'Cabin'], axis = 1, inplace = True)\n",
        "teste.drop(['PassengerId', 'Name', 'Ticket', 'Cabin'], axis = 1, inplace = True)"
      ],
      "execution_count": 11,
      "outputs": []
    },
    {
      "cell_type": "code",
      "metadata": {
        "colab": {
          "base_uri": "https://localhost:8080/",
          "height": 204
        },
        "id": "Tw3trTpKpfjH",
        "outputId": "8b083a34-6033-468b-cd9e-89c2f817560f"
      },
      "source": [
        "titanic.head()"
      ],
      "execution_count": 12,
      "outputs": [
        {
          "output_type": "execute_result",
          "data": {
            "text/html": [
              "<div>\n",
              "<style scoped>\n",
              "    .dataframe tbody tr th:only-of-type {\n",
              "        vertical-align: middle;\n",
              "    }\n",
              "\n",
              "    .dataframe tbody tr th {\n",
              "        vertical-align: top;\n",
              "    }\n",
              "\n",
              "    .dataframe thead th {\n",
              "        text-align: right;\n",
              "    }\n",
              "</style>\n",
              "<table border=\"1\" class=\"dataframe\">\n",
              "  <thead>\n",
              "    <tr style=\"text-align: right;\">\n",
              "      <th></th>\n",
              "      <th>Survived</th>\n",
              "      <th>Pclass</th>\n",
              "      <th>Sex</th>\n",
              "      <th>Age</th>\n",
              "      <th>SibSp</th>\n",
              "      <th>Parch</th>\n",
              "      <th>Fare</th>\n",
              "      <th>Embarked</th>\n",
              "    </tr>\n",
              "  </thead>\n",
              "  <tbody>\n",
              "    <tr>\n",
              "      <th>0</th>\n",
              "      <td>0</td>\n",
              "      <td>3</td>\n",
              "      <td>male</td>\n",
              "      <td>22.0</td>\n",
              "      <td>1</td>\n",
              "      <td>0</td>\n",
              "      <td>7.2500</td>\n",
              "      <td>S</td>\n",
              "    </tr>\n",
              "    <tr>\n",
              "      <th>1</th>\n",
              "      <td>1</td>\n",
              "      <td>1</td>\n",
              "      <td>female</td>\n",
              "      <td>38.0</td>\n",
              "      <td>1</td>\n",
              "      <td>0</td>\n",
              "      <td>71.2833</td>\n",
              "      <td>C</td>\n",
              "    </tr>\n",
              "    <tr>\n",
              "      <th>2</th>\n",
              "      <td>1</td>\n",
              "      <td>3</td>\n",
              "      <td>female</td>\n",
              "      <td>26.0</td>\n",
              "      <td>0</td>\n",
              "      <td>0</td>\n",
              "      <td>7.9250</td>\n",
              "      <td>S</td>\n",
              "    </tr>\n",
              "    <tr>\n",
              "      <th>3</th>\n",
              "      <td>1</td>\n",
              "      <td>1</td>\n",
              "      <td>female</td>\n",
              "      <td>35.0</td>\n",
              "      <td>1</td>\n",
              "      <td>0</td>\n",
              "      <td>53.1000</td>\n",
              "      <td>S</td>\n",
              "    </tr>\n",
              "    <tr>\n",
              "      <th>4</th>\n",
              "      <td>0</td>\n",
              "      <td>3</td>\n",
              "      <td>male</td>\n",
              "      <td>35.0</td>\n",
              "      <td>0</td>\n",
              "      <td>0</td>\n",
              "      <td>8.0500</td>\n",
              "      <td>S</td>\n",
              "    </tr>\n",
              "  </tbody>\n",
              "</table>\n",
              "</div>"
            ],
            "text/plain": [
              "   Survived  Pclass     Sex   Age  SibSp  Parch     Fare Embarked\n",
              "0         0       3    male  22.0      1      0   7.2500        S\n",
              "1         1       1  female  38.0      1      0  71.2833        C\n",
              "2         1       3  female  26.0      0      0   7.9250        S\n",
              "3         1       1  female  35.0      1      0  53.1000        S\n",
              "4         0       3    male  35.0      0      0   8.0500        S"
            ]
          },
          "metadata": {
            "tags": []
          },
          "execution_count": 12
        }
      ]
    },
    {
      "cell_type": "code",
      "metadata": {
        "colab": {
          "base_uri": "https://localhost:8080/",
          "height": 204
        },
        "id": "6vXk7MDgpiUf",
        "outputId": "e0e489fc-5dc6-478b-b103-59ea955c87f4"
      },
      "source": [
        "teste.head()"
      ],
      "execution_count": 13,
      "outputs": [
        {
          "output_type": "execute_result",
          "data": {
            "text/html": [
              "<div>\n",
              "<style scoped>\n",
              "    .dataframe tbody tr th:only-of-type {\n",
              "        vertical-align: middle;\n",
              "    }\n",
              "\n",
              "    .dataframe tbody tr th {\n",
              "        vertical-align: top;\n",
              "    }\n",
              "\n",
              "    .dataframe thead th {\n",
              "        text-align: right;\n",
              "    }\n",
              "</style>\n",
              "<table border=\"1\" class=\"dataframe\">\n",
              "  <thead>\n",
              "    <tr style=\"text-align: right;\">\n",
              "      <th></th>\n",
              "      <th>Pclass</th>\n",
              "      <th>Sex</th>\n",
              "      <th>Age</th>\n",
              "      <th>SibSp</th>\n",
              "      <th>Parch</th>\n",
              "      <th>Fare</th>\n",
              "      <th>Embarked</th>\n",
              "    </tr>\n",
              "  </thead>\n",
              "  <tbody>\n",
              "    <tr>\n",
              "      <th>0</th>\n",
              "      <td>3</td>\n",
              "      <td>male</td>\n",
              "      <td>34.5</td>\n",
              "      <td>0</td>\n",
              "      <td>0</td>\n",
              "      <td>7.8292</td>\n",
              "      <td>Q</td>\n",
              "    </tr>\n",
              "    <tr>\n",
              "      <th>1</th>\n",
              "      <td>3</td>\n",
              "      <td>female</td>\n",
              "      <td>47.0</td>\n",
              "      <td>1</td>\n",
              "      <td>0</td>\n",
              "      <td>7.0000</td>\n",
              "      <td>S</td>\n",
              "    </tr>\n",
              "    <tr>\n",
              "      <th>2</th>\n",
              "      <td>2</td>\n",
              "      <td>male</td>\n",
              "      <td>62.0</td>\n",
              "      <td>0</td>\n",
              "      <td>0</td>\n",
              "      <td>9.6875</td>\n",
              "      <td>Q</td>\n",
              "    </tr>\n",
              "    <tr>\n",
              "      <th>3</th>\n",
              "      <td>3</td>\n",
              "      <td>male</td>\n",
              "      <td>27.0</td>\n",
              "      <td>0</td>\n",
              "      <td>0</td>\n",
              "      <td>8.6625</td>\n",
              "      <td>S</td>\n",
              "    </tr>\n",
              "    <tr>\n",
              "      <th>4</th>\n",
              "      <td>3</td>\n",
              "      <td>female</td>\n",
              "      <td>22.0</td>\n",
              "      <td>1</td>\n",
              "      <td>1</td>\n",
              "      <td>12.2875</td>\n",
              "      <td>S</td>\n",
              "    </tr>\n",
              "  </tbody>\n",
              "</table>\n",
              "</div>"
            ],
            "text/plain": [
              "   Pclass     Sex   Age  SibSp  Parch     Fare Embarked\n",
              "0       3    male  34.5      0      0   7.8292        Q\n",
              "1       3  female  47.0      1      0   7.0000        S\n",
              "2       2    male  62.0      0      0   9.6875        Q\n",
              "3       3    male  27.0      0      0   8.6625        S\n",
              "4       3  female  22.0      1      1  12.2875        S"
            ]
          },
          "metadata": {
            "tags": []
          },
          "execution_count": 13
        }
      ]
    },
    {
      "cell_type": "markdown",
      "metadata": {
        "id": "XKFRYMoTlpfB"
      },
      "source": [
        "###Dados Incompletos ou Faltantes"
      ]
    },
    {
      "cell_type": "markdown",
      "metadata": {
        "id": "yWwYtm4TgVwY"
      },
      "source": [
        "Determinadas as variáveis que desejamos manter, podemos verificar quais são os valores que estão ausentes no conjunto de dados e elaborar uma forma de preenchê-los"
      ]
    },
    {
      "cell_type": "markdown",
      "metadata": {
        "id": "1Xigiw5Yl_uk"
      },
      "source": [
        "VERIFICANDO DADOS FALTANTES"
      ]
    },
    {
      "cell_type": "code",
      "metadata": {
        "id": "pDXgx131lsd1",
        "colab": {
          "base_uri": "https://localhost:8080/",
          "height": 618
        },
        "outputId": "ceff3373-801d-4e5a-9e6d-9d1da3f15c0b"
      },
      "source": [
        "msno.matrix(titanic, figsize = (10, 6), color = (0, 0.1, 0.25), sparkline = False)"
      ],
      "execution_count": 14,
      "outputs": [
        {
          "output_type": "execute_result",
          "data": {
            "text/plain": [
              "<matplotlib.axes._subplots.AxesSubplot at 0x7f12ea906550>"
            ]
          },
          "metadata": {
            "tags": []
          },
          "execution_count": 14
        },
        {
          "output_type": "display_data",
          "data": {
            "image/png": "[encoded data removed]",
            "text/plain": [
              "<Figure size 1000x600 with 1 Axes>"
            ]
          },
          "metadata": {
            "tags": []
          }
        }
      ]
    },
    {
      "cell_type": "code",
      "metadata": {
        "id": "GcMJc8zll3Jp",
        "colab": {
          "base_uri": "https://localhost:8080/"
        },
        "outputId": "a6954d98-3ed3-4fa1-8ed4-8ee1270e8f58"
      },
      "source": [
        "titanic.isnull().mean()"
      ],
      "execution_count": 15,
      "outputs": [
        {
          "output_type": "execute_result",
          "data": {
            "text/plain": [
              "Survived    0.000000\n",
              "Pclass      0.000000\n",
              "Sex         0.000000\n",
              "Age         0.198653\n",
              "SibSp       0.000000\n",
              "Parch       0.000000\n",
              "Fare        0.000000\n",
              "Embarked    0.002245\n",
              "dtype: float64"
            ]
          },
          "metadata": {
            "tags": []
          },
          "execution_count": 15
        }
      ]
    },
    {
      "cell_type": "code",
      "metadata": {
        "id": "t0AgDYV8l1pJ",
        "colab": {
          "base_uri": "https://localhost:8080/",
          "height": 618
        },
        "outputId": "f739704b-1ce4-4df6-b68e-fdec167de414"
      },
      "source": [
        "msno.matrix(teste, figsize = (10, 6), color = (0, 0.1, 0.25), sparkline = False)"
      ],
      "execution_count": 16,
      "outputs": [
        {
          "output_type": "execute_result",
          "data": {
            "text/plain": [
              "<matplotlib.axes._subplots.AxesSubplot at 0x7f12e968da10>"
            ]
          },
          "metadata": {
            "tags": []
          },
          "execution_count": 16
        },
        {
          "output_type": "display_data",
          "data": {
            "image/png": "[encoded data removed]",
            "text/plain": [
              "<Figure size 1000x600 with 1 Axes>"
            ]
          },
          "metadata": {
            "tags": []
          }
        }
      ]
    },
    {
      "cell_type": "code",
      "metadata": {
        "id": "xjrlOWFSl41h",
        "colab": {
          "base_uri": "https://localhost:8080/"
        },
        "outputId": "6fdcf19f-2285-499f-db35-45fcf1a2a64d"
      },
      "source": [
        "teste.isnull().mean()"
      ],
      "execution_count": 17,
      "outputs": [
        {
          "output_type": "execute_result",
          "data": {
            "text/plain": [
              "Pclass      0.000000\n",
              "Sex         0.000000\n",
              "Age         0.205742\n",
              "SibSp       0.000000\n",
              "Parch       0.000000\n",
              "Fare        0.002392\n",
              "Embarked    0.000000\n",
              "dtype: float64"
            ]
          },
          "metadata": {
            "tags": []
          },
          "execution_count": 17
        }
      ]
    },
    {
      "cell_type": "markdown",
      "metadata": {
        "id": "FmCbsXGMmC3c"
      },
      "source": [
        "PREENCHENDO DADOS FALTANTES"
      ]
    },
    {
      "cell_type": "markdown",
      "metadata": {
        "id": "osn1TxkMKgdr"
      },
      "source": [
        "Neste projeto, optou-se por preencher os dados faltantes das variáveis **Age** e **Fare** com suas respectivas medianas e a variável **Embarked** com sua moda"
      ]
    },
    {
      "cell_type": "code",
      "metadata": {
        "id": "8zXQeHMVmEy_"
      },
      "source": [
        "med_age = titanic['Age'].median()\n",
        "med_fare = titanic['Fare'].median()\n",
        "med_emb = titanic['Embarked'].mode()[0]"
      ],
      "execution_count": 18,
      "outputs": []
    },
    {
      "cell_type": "code",
      "metadata": {
        "id": "k2fSy_J5mJab"
      },
      "source": [
        "titanic['Age'] = titanic['Age'].fillna(med_age)\n",
        "titanic['Fare'] = titanic['Fare'].fillna(med_fare)\n",
        "titanic['Embarked'] = titanic['Embarked'].fillna(med_emb)"
      ],
      "execution_count": 19,
      "outputs": []
    },
    {
      "cell_type": "code",
      "metadata": {
        "id": "axOHJuLHmLzy",
        "colab": {
          "base_uri": "https://localhost:8080/"
        },
        "outputId": "cfea7adf-89d2-4ca8-d400-e86cbc98c46d"
      },
      "source": [
        "titanic.isnull().mean()"
      ],
      "execution_count": 20,
      "outputs": [
        {
          "output_type": "execute_result",
          "data": {
            "text/plain": [
              "Survived    0.0\n",
              "Pclass      0.0\n",
              "Sex         0.0\n",
              "Age         0.0\n",
              "SibSp       0.0\n",
              "Parch       0.0\n",
              "Fare        0.0\n",
              "Embarked    0.0\n",
              "dtype: float64"
            ]
          },
          "metadata": {
            "tags": []
          },
          "execution_count": 20
        }
      ]
    },
    {
      "cell_type": "markdown",
      "metadata": {
        "id": "9YbL1OKlLD15"
      },
      "source": [
        "Como os dados de teste devem permanecer desconhecidos para não prejudicar o poder de previsão de nosso algoritmo, preenchemos seus dados faltantes com os valores de mediana e moda obtidos no conjunto de treinamento"
      ]
    },
    {
      "cell_type": "code",
      "metadata": {
        "id": "o6lztZoZmKs4"
      },
      "source": [
        "teste['Age'] = teste['Age'].fillna(med_age)\n",
        "teste['Fare'] = teste['Fare'].fillna(med_fare)\n",
        "teste['Embarked'] = teste['Embarked'].fillna(med_emb)"
      ],
      "execution_count": 21,
      "outputs": []
    },
    {
      "cell_type": "code",
      "metadata": {
        "id": "h7eUhRA1mNJv",
        "colab": {
          "base_uri": "https://localhost:8080/"
        },
        "outputId": "d7cdd577-1b27-4f6e-e70c-839737bb95fe"
      },
      "source": [
        "teste.isnull().mean()"
      ],
      "execution_count": 22,
      "outputs": [
        {
          "output_type": "execute_result",
          "data": {
            "text/plain": [
              "Pclass      0.0\n",
              "Sex         0.0\n",
              "Age         0.0\n",
              "SibSp       0.0\n",
              "Parch       0.0\n",
              "Fare        0.0\n",
              "Embarked    0.0\n",
              "dtype: float64"
            ]
          },
          "metadata": {
            "tags": []
          },
          "execution_count": 22
        }
      ]
    },
    {
      "cell_type": "markdown",
      "metadata": {
        "id": "ngmBeqfjmPPq"
      },
      "source": [
        "###Codificando as Variáveis Categóricas"
      ]
    },
    {
      "cell_type": "markdown",
      "metadata": {
        "id": "gBmf_x0wLd_c"
      },
      "source": [
        "Parte importante do pré-processamento é a codificação das variáveis categóricas, ou seja, sua transformação em valores numéricos. Este processo é importante para garantir que o modelo possa utilizar as informações nelas contidas para fazer suas previsões"
      ]
    },
    {
      "cell_type": "markdown",
      "metadata": {
        "id": "br0YFwb0MAM6"
      },
      "source": [
        "No caso da variável **Sex**, que possui apenas duas categorias, podemos transformá-la em uma variável binária atribuindo os valores 0 ou 1 a cada uma delas. Neste projeto, ao sexo feminino foi atribuído o valor 1 e ao masculino, o 0"
      ]
    },
    {
      "cell_type": "code",
      "metadata": {
        "id": "nHlzdhQ8mRga"
      },
      "source": [
        "titanic['Sex'] = titanic['Sex'].map({'male': 0, 'female': 1})\n",
        "teste['Sex'] = teste['Sex'].map({'male': 0, 'female': 1})"
      ],
      "execution_count": 23,
      "outputs": []
    },
    {
      "cell_type": "markdown",
      "metadata": {
        "id": "Chu65oW9MdbM"
      },
      "source": [
        "Já para variáveis como **Embarked** e **Pclass**, que possuem mais de duas categorias, a solução é fazer sua dummificação. No processo de dummificação, são criadas k colunas de acordo com o número de categorias da variável e, para cada coluna, é atribuído um valor 0 ou 1 dependendo da categoria que a variável assume em cada entrada"
      ]
    },
    {
      "cell_type": "code",
      "metadata": {
        "id": "iWVGjnSfmaj9"
      },
      "source": [
        "titanic = pd.get_dummies(titanic, columns = ['Embarked', 'Pclass'])\n",
        "teste = pd.get_dummies(teste, columns = ['Embarked', 'Pclass'])"
      ],
      "execution_count": 24,
      "outputs": []
    },
    {
      "cell_type": "code",
      "metadata": {
        "colab": {
          "base_uri": "https://localhost:8080/",
          "height": 204
        },
        "id": "qs7Hs6bei1ED",
        "outputId": "2d6cf9c0-890d-400c-9edc-62edd176fa7a"
      },
      "source": [
        "titanic.head()"
      ],
      "execution_count": 25,
      "outputs": [
        {
          "output_type": "execute_result",
          "data": {
            "text/html": [
              "<div>\n",
              "<style scoped>\n",
              "    .dataframe tbody tr th:only-of-type {\n",
              "        vertical-align: middle;\n",
              "    }\n",
              "\n",
              "    .dataframe tbody tr th {\n",
              "        vertical-align: top;\n",
              "    }\n",
              "\n",
              "    .dataframe thead th {\n",
              "        text-align: right;\n",
              "    }\n",
              "</style>\n",
              "<table border=\"1\" class=\"dataframe\">\n",
              "  <thead>\n",
              "    <tr style=\"text-align: right;\">\n",
              "      <th></th>\n",
              "      <th>Survived</th>\n",
              "      <th>Sex</th>\n",
              "      <th>Age</th>\n",
              "      <th>SibSp</th>\n",
              "      <th>Parch</th>\n",
              "      <th>Fare</th>\n",
              "      <th>Embarked_C</th>\n",
              "      <th>Embarked_Q</th>\n",
              "      <th>Embarked_S</th>\n",
              "      <th>Pclass_1</th>\n",
              "      <th>Pclass_2</th>\n",
              "      <th>Pclass_3</th>\n",
              "    </tr>\n",
              "  </thead>\n",
              "  <tbody>\n",
              "    <tr>\n",
              "      <th>0</th>\n",
              "      <td>0</td>\n",
              "      <td>0</td>\n",
              "      <td>22.0</td>\n",
              "      <td>1</td>\n",
              "      <td>0</td>\n",
              "      <td>7.2500</td>\n",
              "      <td>0</td>\n",
              "      <td>0</td>\n",
              "      <td>1</td>\n",
              "      <td>0</td>\n",
              "      <td>0</td>\n",
              "      <td>1</td>\n",
              "    </tr>\n",
              "    <tr>\n",
              "      <th>1</th>\n",
              "      <td>1</td>\n",
              "      <td>1</td>\n",
              "      <td>38.0</td>\n",
              "      <td>1</td>\n",
              "      <td>0</td>\n",
              "      <td>71.2833</td>\n",
              "      <td>1</td>\n",
              "      <td>0</td>\n",
              "      <td>0</td>\n",
              "      <td>1</td>\n",
              "      <td>0</td>\n",
              "      <td>0</td>\n",
              "    </tr>\n",
              "    <tr>\n",
              "      <th>2</th>\n",
              "      <td>1</td>\n",
              "      <td>1</td>\n",
              "      <td>26.0</td>\n",
              "      <td>0</td>\n",
              "      <td>0</td>\n",
              "      <td>7.9250</td>\n",
              "      <td>0</td>\n",
              "      <td>0</td>\n",
              "      <td>1</td>\n",
              "      <td>0</td>\n",
              "      <td>0</td>\n",
              "      <td>1</td>\n",
              "    </tr>\n",
              "    <tr>\n",
              "      <th>3</th>\n",
              "      <td>1</td>\n",
              "      <td>1</td>\n",
              "      <td>35.0</td>\n",
              "      <td>1</td>\n",
              "      <td>0</td>\n",
              "      <td>53.1000</td>\n",
              "      <td>0</td>\n",
              "      <td>0</td>\n",
              "      <td>1</td>\n",
              "      <td>1</td>\n",
              "      <td>0</td>\n",
              "      <td>0</td>\n",
              "    </tr>\n",
              "    <tr>\n",
              "      <th>4</th>\n",
              "      <td>0</td>\n",
              "      <td>0</td>\n",
              "      <td>35.0</td>\n",
              "      <td>0</td>\n",
              "      <td>0</td>\n",
              "      <td>8.0500</td>\n",
              "      <td>0</td>\n",
              "      <td>0</td>\n",
              "      <td>1</td>\n",
              "      <td>0</td>\n",
              "      <td>0</td>\n",
              "      <td>1</td>\n",
              "    </tr>\n",
              "  </tbody>\n",
              "</table>\n",
              "</div>"
            ],
            "text/plain": [
              "   Survived  Sex   Age  SibSp  ...  Embarked_S  Pclass_1  Pclass_2  Pclass_3\n",
              "0         0    0  22.0      1  ...           1         0         0         1\n",
              "1         1    1  38.0      1  ...           0         1         0         0\n",
              "2         1    1  26.0      0  ...           1         0         0         1\n",
              "3         1    1  35.0      1  ...           1         1         0         0\n",
              "4         0    0  35.0      0  ...           1         0         0         1\n",
              "\n",
              "[5 rows x 12 columns]"
            ]
          },
          "metadata": {
            "tags": []
          },
          "execution_count": 25
        }
      ]
    },
    {
      "cell_type": "code",
      "metadata": {
        "colab": {
          "base_uri": "https://localhost:8080/",
          "height": 204
        },
        "id": "RdQ01S2pi4fA",
        "outputId": "689a81c1-a073-4f0a-a75f-c02996bb0e26"
      },
      "source": [
        "teste.head()"
      ],
      "execution_count": 26,
      "outputs": [
        {
          "output_type": "execute_result",
          "data": {
            "text/html": [
              "<div>\n",
              "<style scoped>\n",
              "    .dataframe tbody tr th:only-of-type {\n",
              "        vertical-align: middle;\n",
              "    }\n",
              "\n",
              "    .dataframe tbody tr th {\n",
              "        vertical-align: top;\n",
              "    }\n",
              "\n",
              "    .dataframe thead th {\n",
              "        text-align: right;\n",
              "    }\n",
              "</style>\n",
              "<table border=\"1\" class=\"dataframe\">\n",
              "  <thead>\n",
              "    <tr style=\"text-align: right;\">\n",
              "      <th></th>\n",
              "      <th>Sex</th>\n",
              "      <th>Age</th>\n",
              "      <th>SibSp</th>\n",
              "      <th>Parch</th>\n",
              "      <th>Fare</th>\n",
              "      <th>Embarked_C</th>\n",
              "      <th>Embarked_Q</th>\n",
              "      <th>Embarked_S</th>\n",
              "      <th>Pclass_1</th>\n",
              "      <th>Pclass_2</th>\n",
              "      <th>Pclass_3</th>\n",
              "    </tr>\n",
              "  </thead>\n",
              "  <tbody>\n",
              "    <tr>\n",
              "      <th>0</th>\n",
              "      <td>0</td>\n",
              "      <td>34.5</td>\n",
              "      <td>0</td>\n",
              "      <td>0</td>\n",
              "      <td>7.8292</td>\n",
              "      <td>0</td>\n",
              "      <td>1</td>\n",
              "      <td>0</td>\n",
              "      <td>0</td>\n",
              "      <td>0</td>\n",
              "      <td>1</td>\n",
              "    </tr>\n",
              "    <tr>\n",
              "      <th>1</th>\n",
              "      <td>1</td>\n",
              "      <td>47.0</td>\n",
              "      <td>1</td>\n",
              "      <td>0</td>\n",
              "      <td>7.0000</td>\n",
              "      <td>0</td>\n",
              "      <td>0</td>\n",
              "      <td>1</td>\n",
              "      <td>0</td>\n",
              "      <td>0</td>\n",
              "      <td>1</td>\n",
              "    </tr>\n",
              "    <tr>\n",
              "      <th>2</th>\n",
              "      <td>0</td>\n",
              "      <td>62.0</td>\n",
              "      <td>0</td>\n",
              "      <td>0</td>\n",
              "      <td>9.6875</td>\n",
              "      <td>0</td>\n",
              "      <td>1</td>\n",
              "      <td>0</td>\n",
              "      <td>0</td>\n",
              "      <td>1</td>\n",
              "      <td>0</td>\n",
              "    </tr>\n",
              "    <tr>\n",
              "      <th>3</th>\n",
              "      <td>0</td>\n",
              "      <td>27.0</td>\n",
              "      <td>0</td>\n",
              "      <td>0</td>\n",
              "      <td>8.6625</td>\n",
              "      <td>0</td>\n",
              "      <td>0</td>\n",
              "      <td>1</td>\n",
              "      <td>0</td>\n",
              "      <td>0</td>\n",
              "      <td>1</td>\n",
              "    </tr>\n",
              "    <tr>\n",
              "      <th>4</th>\n",
              "      <td>1</td>\n",
              "      <td>22.0</td>\n",
              "      <td>1</td>\n",
              "      <td>1</td>\n",
              "      <td>12.2875</td>\n",
              "      <td>0</td>\n",
              "      <td>0</td>\n",
              "      <td>1</td>\n",
              "      <td>0</td>\n",
              "      <td>0</td>\n",
              "      <td>1</td>\n",
              "    </tr>\n",
              "  </tbody>\n",
              "</table>\n",
              "</div>"
            ],
            "text/plain": [
              "   Sex   Age  SibSp  Parch  ...  Embarked_S  Pclass_1  Pclass_2  Pclass_3\n",
              "0    0  34.5      0      0  ...           0         0         0         1\n",
              "1    1  47.0      1      0  ...           1         0         0         1\n",
              "2    0  62.0      0      0  ...           0         0         1         0\n",
              "3    0  27.0      0      0  ...           1         0         0         1\n",
              "4    1  22.0      1      1  ...           1         0         0         1\n",
              "\n",
              "[5 rows x 11 columns]"
            ]
          },
          "metadata": {
            "tags": []
          },
          "execution_count": 26
        }
      ]
    },
    {
      "cell_type": "markdown",
      "metadata": {
        "id": "aekD2dADmfEF"
      },
      "source": [
        "###Mudando a Escala das Variáveis Contínuas"
      ]
    },
    {
      "cell_type": "markdown",
      "metadata": {
        "id": "rC4PGMzINE1q"
      },
      "source": [
        "Outra forma de facilitar o processamento dos dados feito pelos algoritmos de machine learning é por meio do escalonamento das variáveis, ou seja, por meio do ajuste de sua escala para que os dados assumam valores mais próximos entre si. Quanto mais próximo de média 0 e desvio padrão 1, melhor para a modelagem"
      ]
    },
    {
      "cell_type": "markdown",
      "metadata": {
        "id": "5awbutshNreB"
      },
      "source": [
        "Uma forma de fazer o escalonamento das variáveis é por padronização:\n",
        "\n",
        "\n",
        "> (vetor - sua média) / seu desvio padrão\n",
        "\n",
        "Utilizando a função Standard Scaler, ajustamos a transformação nos dados de treinamento e utilizamos o mesmo ajuste também nos dados de teste"
      ]
    },
    {
      "cell_type": "code",
      "metadata": {
        "id": "xwuWpw2dmhzj"
      },
      "source": [
        "sc = StandardScaler()"
      ],
      "execution_count": 27,
      "outputs": []
    },
    {
      "cell_type": "code",
      "metadata": {
        "id": "RkgLX_bjmqaI"
      },
      "source": [
        "aux0 = sc.fit_transform(titanic[['Age', 'Fare']])\n",
        "aux1 = pd.DataFrame(aux0, columns = ['Idade', 'Tarifa'])\n",
        "titanic = pd.concat([titanic, aux1], axis = 1)\n",
        "\n",
        "titanic.drop(['Age', 'Fare'], axis = 1, inplace = True)"
      ],
      "execution_count": 28,
      "outputs": []
    },
    {
      "cell_type": "code",
      "metadata": {
        "colab": {
          "base_uri": "https://localhost:8080/",
          "height": 204
        },
        "id": "-AVbV5UMjAbo",
        "outputId": "97d34788-b4a4-431c-afa0-c4623591c87b"
      },
      "source": [
        "titanic.head()"
      ],
      "execution_count": 29,
      "outputs": [
        {
          "output_type": "execute_result",
          "data": {
            "text/html": [
              "<div>\n",
              "<style scoped>\n",
              "    .dataframe tbody tr th:only-of-type {\n",
              "        vertical-align: middle;\n",
              "    }\n",
              "\n",
              "    .dataframe tbody tr th {\n",
              "        vertical-align: top;\n",
              "    }\n",
              "\n",
              "    .dataframe thead th {\n",
              "        text-align: right;\n",
              "    }\n",
              "</style>\n",
              "<table border=\"1\" class=\"dataframe\">\n",
              "  <thead>\n",
              "    <tr style=\"text-align: right;\">\n",
              "      <th></th>\n",
              "      <th>Survived</th>\n",
              "      <th>Sex</th>\n",
              "      <th>SibSp</th>\n",
              "      <th>Parch</th>\n",
              "      <th>Embarked_C</th>\n",
              "      <th>Embarked_Q</th>\n",
              "      <th>Embarked_S</th>\n",
              "      <th>Pclass_1</th>\n",
              "      <th>Pclass_2</th>\n",
              "      <th>Pclass_3</th>\n",
              "      <th>Idade</th>\n",
              "      <th>Tarifa</th>\n",
              "    </tr>\n",
              "  </thead>\n",
              "  <tbody>\n",
              "    <tr>\n",
              "      <th>0</th>\n",
              "      <td>0</td>\n",
              "      <td>0</td>\n",
              "      <td>1</td>\n",
              "      <td>0</td>\n",
              "      <td>0</td>\n",
              "      <td>0</td>\n",
              "      <td>1</td>\n",
              "      <td>0</td>\n",
              "      <td>0</td>\n",
              "      <td>1</td>\n",
              "      <td>-0.565736</td>\n",
              "      <td>-0.502445</td>\n",
              "    </tr>\n",
              "    <tr>\n",
              "      <th>1</th>\n",
              "      <td>1</td>\n",
              "      <td>1</td>\n",
              "      <td>1</td>\n",
              "      <td>0</td>\n",
              "      <td>1</td>\n",
              "      <td>0</td>\n",
              "      <td>0</td>\n",
              "      <td>1</td>\n",
              "      <td>0</td>\n",
              "      <td>0</td>\n",
              "      <td>0.663861</td>\n",
              "      <td>0.786845</td>\n",
              "    </tr>\n",
              "    <tr>\n",
              "      <th>2</th>\n",
              "      <td>1</td>\n",
              "      <td>1</td>\n",
              "      <td>0</td>\n",
              "      <td>0</td>\n",
              "      <td>0</td>\n",
              "      <td>0</td>\n",
              "      <td>1</td>\n",
              "      <td>0</td>\n",
              "      <td>0</td>\n",
              "      <td>1</td>\n",
              "      <td>-0.258337</td>\n",
              "      <td>-0.488854</td>\n",
              "    </tr>\n",
              "    <tr>\n",
              "      <th>3</th>\n",
              "      <td>1</td>\n",
              "      <td>1</td>\n",
              "      <td>1</td>\n",
              "      <td>0</td>\n",
              "      <td>0</td>\n",
              "      <td>0</td>\n",
              "      <td>1</td>\n",
              "      <td>1</td>\n",
              "      <td>0</td>\n",
              "      <td>0</td>\n",
              "      <td>0.433312</td>\n",
              "      <td>0.420730</td>\n",
              "    </tr>\n",
              "    <tr>\n",
              "      <th>4</th>\n",
              "      <td>0</td>\n",
              "      <td>0</td>\n",
              "      <td>0</td>\n",
              "      <td>0</td>\n",
              "      <td>0</td>\n",
              "      <td>0</td>\n",
              "      <td>1</td>\n",
              "      <td>0</td>\n",
              "      <td>0</td>\n",
              "      <td>1</td>\n",
              "      <td>0.433312</td>\n",
              "      <td>-0.486337</td>\n",
              "    </tr>\n",
              "  </tbody>\n",
              "</table>\n",
              "</div>"
            ],
            "text/plain": [
              "   Survived  Sex  SibSp  Parch  ...  Pclass_2  Pclass_3     Idade    Tarifa\n",
              "0         0    0      1      0  ...         0         1 -0.565736 -0.502445\n",
              "1         1    1      1      0  ...         0         0  0.663861  0.786845\n",
              "2         1    1      0      0  ...         0         1 -0.258337 -0.488854\n",
              "3         1    1      1      0  ...         0         0  0.433312  0.420730\n",
              "4         0    0      0      0  ...         0         1  0.433312 -0.486337\n",
              "\n",
              "[5 rows x 12 columns]"
            ]
          },
          "metadata": {
            "tags": []
          },
          "execution_count": 29
        }
      ]
    },
    {
      "cell_type": "code",
      "metadata": {
        "id": "_VNJsuh3m885"
      },
      "source": [
        "aux0 = sc.transform(teste[['Age', 'Fare']])\n",
        "aux1 = pd.DataFrame(aux0, columns = ['Idade', 'Tarifa'])\n",
        "teste = pd.concat([teste, aux1], axis = 1)\n",
        "\n",
        "teste.drop(['Age', 'Fare'], axis = 1, inplace = True)"
      ],
      "execution_count": 30,
      "outputs": []
    },
    {
      "cell_type": "code",
      "metadata": {
        "colab": {
          "base_uri": "https://localhost:8080/",
          "height": 204
        },
        "id": "bnvwUa_3jDSf",
        "outputId": "069f5b9e-66ae-45e9-8da0-67a80a88ef90"
      },
      "source": [
        "teste.head()"
      ],
      "execution_count": 31,
      "outputs": [
        {
          "output_type": "execute_result",
          "data": {
            "text/html": [
              "<div>\n",
              "<style scoped>\n",
              "    .dataframe tbody tr th:only-of-type {\n",
              "        vertical-align: middle;\n",
              "    }\n",
              "\n",
              "    .dataframe tbody tr th {\n",
              "        vertical-align: top;\n",
              "    }\n",
              "\n",
              "    .dataframe thead th {\n",
              "        text-align: right;\n",
              "    }\n",
              "</style>\n",
              "<table border=\"1\" class=\"dataframe\">\n",
              "  <thead>\n",
              "    <tr style=\"text-align: right;\">\n",
              "      <th></th>\n",
              "      <th>Sex</th>\n",
              "      <th>SibSp</th>\n",
              "      <th>Parch</th>\n",
              "      <th>Embarked_C</th>\n",
              "      <th>Embarked_Q</th>\n",
              "      <th>Embarked_S</th>\n",
              "      <th>Pclass_1</th>\n",
              "      <th>Pclass_2</th>\n",
              "      <th>Pclass_3</th>\n",
              "      <th>Idade</th>\n",
              "      <th>Tarifa</th>\n",
              "    </tr>\n",
              "  </thead>\n",
              "  <tbody>\n",
              "    <tr>\n",
              "      <th>0</th>\n",
              "      <td>0</td>\n",
              "      <td>0</td>\n",
              "      <td>0</td>\n",
              "      <td>0</td>\n",
              "      <td>1</td>\n",
              "      <td>0</td>\n",
              "      <td>0</td>\n",
              "      <td>0</td>\n",
              "      <td>1</td>\n",
              "      <td>0.394887</td>\n",
              "      <td>-0.490783</td>\n",
              "    </tr>\n",
              "    <tr>\n",
              "      <th>1</th>\n",
              "      <td>1</td>\n",
              "      <td>1</td>\n",
              "      <td>0</td>\n",
              "      <td>0</td>\n",
              "      <td>0</td>\n",
              "      <td>1</td>\n",
              "      <td>0</td>\n",
              "      <td>0</td>\n",
              "      <td>1</td>\n",
              "      <td>1.355510</td>\n",
              "      <td>-0.507479</td>\n",
              "    </tr>\n",
              "    <tr>\n",
              "      <th>2</th>\n",
              "      <td>0</td>\n",
              "      <td>0</td>\n",
              "      <td>0</td>\n",
              "      <td>0</td>\n",
              "      <td>1</td>\n",
              "      <td>0</td>\n",
              "      <td>0</td>\n",
              "      <td>1</td>\n",
              "      <td>0</td>\n",
              "      <td>2.508257</td>\n",
              "      <td>-0.453367</td>\n",
              "    </tr>\n",
              "    <tr>\n",
              "      <th>3</th>\n",
              "      <td>0</td>\n",
              "      <td>0</td>\n",
              "      <td>0</td>\n",
              "      <td>0</td>\n",
              "      <td>0</td>\n",
              "      <td>1</td>\n",
              "      <td>0</td>\n",
              "      <td>0</td>\n",
              "      <td>1</td>\n",
              "      <td>-0.181487</td>\n",
              "      <td>-0.474005</td>\n",
              "    </tr>\n",
              "    <tr>\n",
              "      <th>4</th>\n",
              "      <td>1</td>\n",
              "      <td>1</td>\n",
              "      <td>1</td>\n",
              "      <td>0</td>\n",
              "      <td>0</td>\n",
              "      <td>1</td>\n",
              "      <td>0</td>\n",
              "      <td>0</td>\n",
              "      <td>1</td>\n",
              "      <td>-0.565736</td>\n",
              "      <td>-0.401017</td>\n",
              "    </tr>\n",
              "  </tbody>\n",
              "</table>\n",
              "</div>"
            ],
            "text/plain": [
              "   Sex  SibSp  Parch  Embarked_C  ...  Pclass_2  Pclass_3     Idade    Tarifa\n",
              "0    0      0      0           0  ...         0         1  0.394887 -0.490783\n",
              "1    1      1      0           0  ...         0         1  1.355510 -0.507479\n",
              "2    0      0      0           0  ...         1         0  2.508257 -0.453367\n",
              "3    0      0      0           0  ...         0         1 -0.181487 -0.474005\n",
              "4    1      1      1           0  ...         0         1 -0.565736 -0.401017\n",
              "\n",
              "[5 rows x 11 columns]"
            ]
          },
          "metadata": {
            "tags": []
          },
          "execution_count": 31
        }
      ]
    },
    {
      "cell_type": "markdown",
      "metadata": {
        "id": "37cHua41m_hR"
      },
      "source": [
        "##CHECKPOINT 1"
      ]
    },
    {
      "cell_type": "markdown",
      "metadata": {
        "id": "ZN-xmDc8OZdJ"
      },
      "source": [
        "Guardamos as alterações feitas no conjunto de dados até então. Assim, podemos testar o desempenho do modelo com os dados modificados em diversos pontos do pré-processamento"
      ]
    },
    {
      "cell_type": "code",
      "metadata": {
        "id": "CfIW3e97nDcG"
      },
      "source": [
        "titanic1 = titanic.copy()\n",
        "teste1 = teste.copy()"
      ],
      "execution_count": 32,
      "outputs": []
    },
    {
      "cell_type": "markdown",
      "metadata": {
        "id": "ZLl30879nE_p"
      },
      "source": [
        "###Engenharia de Variáveis"
      ]
    },
    {
      "cell_type": "markdown",
      "metadata": {
        "id": "r5YdkepvO0cp"
      },
      "source": [
        "Engenharia de variáveis é o processo pelo qual criamos novas variáveis ao alterarmos variáveis já existentes do conjunto de dados e deixarmos algumas de suas informações mais evidentes para serem utilizadas pelo modelo"
      ]
    },
    {
      "cell_type": "markdown",
      "metadata": {
        "id": "Ox39LvHTndq6"
      },
      "source": [
        "####Variável \"Sozinho\""
      ]
    },
    {
      "cell_type": "markdown",
      "metadata": {
        "id": "HdOKT7QjPNqq"
      },
      "source": [
        "Para criarmos uma variável que indica se um passageiro estava ou não sozinho no navio, contabilizamos quantos outros passageiros estavam com ele (incluindo ele mesmo). Se esse valor for 1, significa que ele estava sozinho. Senão, significa que ele estava acompanhado"
      ]
    },
    {
      "cell_type": "code",
      "metadata": {
        "id": "XS9Q7H-KnRIX"
      },
      "source": [
        "titanic['Família'] = titanic['SibSp'] + titanic['Parch'] + 1\n",
        "teste['Família'] = teste['SibSp'] + teste['Parch'] + 1"
      ],
      "execution_count": 33,
      "outputs": []
    },
    {
      "cell_type": "code",
      "metadata": {
        "colab": {
          "base_uri": "https://localhost:8080/",
          "height": 204
        },
        "id": "0tpHXN4apy6v",
        "outputId": "4027055e-5e5c-4fb0-cea4-516bc5b1b2d8"
      },
      "source": [
        "titanic.head()"
      ],
      "execution_count": 34,
      "outputs": [
        {
          "output_type": "execute_result",
          "data": {
            "text/html": [
              "<div>\n",
              "<style scoped>\n",
              "    .dataframe tbody tr th:only-of-type {\n",
              "        vertical-align: middle;\n",
              "    }\n",
              "\n",
              "    .dataframe tbody tr th {\n",
              "        vertical-align: top;\n",
              "    }\n",
              "\n",
              "    .dataframe thead th {\n",
              "        text-align: right;\n",
              "    }\n",
              "</style>\n",
              "<table border=\"1\" class=\"dataframe\">\n",
              "  <thead>\n",
              "    <tr style=\"text-align: right;\">\n",
              "      <th></th>\n",
              "      <th>Survived</th>\n",
              "      <th>Sex</th>\n",
              "      <th>SibSp</th>\n",
              "      <th>Parch</th>\n",
              "      <th>Embarked_C</th>\n",
              "      <th>Embarked_Q</th>\n",
              "      <th>Embarked_S</th>\n",
              "      <th>Pclass_1</th>\n",
              "      <th>Pclass_2</th>\n",
              "      <th>Pclass_3</th>\n",
              "      <th>Idade</th>\n",
              "      <th>Tarifa</th>\n",
              "      <th>Família</th>\n",
              "    </tr>\n",
              "  </thead>\n",
              "  <tbody>\n",
              "    <tr>\n",
              "      <th>0</th>\n",
              "      <td>0</td>\n",
              "      <td>0</td>\n",
              "      <td>1</td>\n",
              "      <td>0</td>\n",
              "      <td>0</td>\n",
              "      <td>0</td>\n",
              "      <td>1</td>\n",
              "      <td>0</td>\n",
              "      <td>0</td>\n",
              "      <td>1</td>\n",
              "      <td>-0.565736</td>\n",
              "      <td>-0.502445</td>\n",
              "      <td>2</td>\n",
              "    </tr>\n",
              "    <tr>\n",
              "      <th>1</th>\n",
              "      <td>1</td>\n",
              "      <td>1</td>\n",
              "      <td>1</td>\n",
              "      <td>0</td>\n",
              "      <td>1</td>\n",
              "      <td>0</td>\n",
              "      <td>0</td>\n",
              "      <td>1</td>\n",
              "      <td>0</td>\n",
              "      <td>0</td>\n",
              "      <td>0.663861</td>\n",
              "      <td>0.786845</td>\n",
              "      <td>2</td>\n",
              "    </tr>\n",
              "    <tr>\n",
              "      <th>2</th>\n",
              "      <td>1</td>\n",
              "      <td>1</td>\n",
              "      <td>0</td>\n",
              "      <td>0</td>\n",
              "      <td>0</td>\n",
              "      <td>0</td>\n",
              "      <td>1</td>\n",
              "      <td>0</td>\n",
              "      <td>0</td>\n",
              "      <td>1</td>\n",
              "      <td>-0.258337</td>\n",
              "      <td>-0.488854</td>\n",
              "      <td>1</td>\n",
              "    </tr>\n",
              "    <tr>\n",
              "      <th>3</th>\n",
              "      <td>1</td>\n",
              "      <td>1</td>\n",
              "      <td>1</td>\n",
              "      <td>0</td>\n",
              "      <td>0</td>\n",
              "      <td>0</td>\n",
              "      <td>1</td>\n",
              "      <td>1</td>\n",
              "      <td>0</td>\n",
              "      <td>0</td>\n",
              "      <td>0.433312</td>\n",
              "      <td>0.420730</td>\n",
              "      <td>2</td>\n",
              "    </tr>\n",
              "    <tr>\n",
              "      <th>4</th>\n",
              "      <td>0</td>\n",
              "      <td>0</td>\n",
              "      <td>0</td>\n",
              "      <td>0</td>\n",
              "      <td>0</td>\n",
              "      <td>0</td>\n",
              "      <td>1</td>\n",
              "      <td>0</td>\n",
              "      <td>0</td>\n",
              "      <td>1</td>\n",
              "      <td>0.433312</td>\n",
              "      <td>-0.486337</td>\n",
              "      <td>1</td>\n",
              "    </tr>\n",
              "  </tbody>\n",
              "</table>\n",
              "</div>"
            ],
            "text/plain": [
              "   Survived  Sex  SibSp  Parch  ...  Pclass_3     Idade    Tarifa  Família\n",
              "0         0    0      1      0  ...         1 -0.565736 -0.502445        2\n",
              "1         1    1      1      0  ...         0  0.663861  0.786845        2\n",
              "2         1    1      0      0  ...         1 -0.258337 -0.488854        1\n",
              "3         1    1      1      0  ...         0  0.433312  0.420730        2\n",
              "4         0    0      0      0  ...         1  0.433312 -0.486337        1\n",
              "\n",
              "[5 rows x 13 columns]"
            ]
          },
          "metadata": {
            "tags": []
          },
          "execution_count": 34
        }
      ]
    },
    {
      "cell_type": "code",
      "metadata": {
        "colab": {
          "base_uri": "https://localhost:8080/",
          "height": 204
        },
        "id": "XudGqgwCp3ie",
        "outputId": "fc940aad-9583-479b-ddee-06e8f962c870"
      },
      "source": [
        "teste.head()"
      ],
      "execution_count": 35,
      "outputs": [
        {
          "output_type": "execute_result",
          "data": {
            "text/html": [
              "<div>\n",
              "<style scoped>\n",
              "    .dataframe tbody tr th:only-of-type {\n",
              "        vertical-align: middle;\n",
              "    }\n",
              "\n",
              "    .dataframe tbody tr th {\n",
              "        vertical-align: top;\n",
              "    }\n",
              "\n",
              "    .dataframe thead th {\n",
              "        text-align: right;\n",
              "    }\n",
              "</style>\n",
              "<table border=\"1\" class=\"dataframe\">\n",
              "  <thead>\n",
              "    <tr style=\"text-align: right;\">\n",
              "      <th></th>\n",
              "      <th>Sex</th>\n",
              "      <th>SibSp</th>\n",
              "      <th>Parch</th>\n",
              "      <th>Embarked_C</th>\n",
              "      <th>Embarked_Q</th>\n",
              "      <th>Embarked_S</th>\n",
              "      <th>Pclass_1</th>\n",
              "      <th>Pclass_2</th>\n",
              "      <th>Pclass_3</th>\n",
              "      <th>Idade</th>\n",
              "      <th>Tarifa</th>\n",
              "      <th>Família</th>\n",
              "    </tr>\n",
              "  </thead>\n",
              "  <tbody>\n",
              "    <tr>\n",
              "      <th>0</th>\n",
              "      <td>0</td>\n",
              "      <td>0</td>\n",
              "      <td>0</td>\n",
              "      <td>0</td>\n",
              "      <td>1</td>\n",
              "      <td>0</td>\n",
              "      <td>0</td>\n",
              "      <td>0</td>\n",
              "      <td>1</td>\n",
              "      <td>0.394887</td>\n",
              "      <td>-0.490783</td>\n",
              "      <td>1</td>\n",
              "    </tr>\n",
              "    <tr>\n",
              "      <th>1</th>\n",
              "      <td>1</td>\n",
              "      <td>1</td>\n",
              "      <td>0</td>\n",
              "      <td>0</td>\n",
              "      <td>0</td>\n",
              "      <td>1</td>\n",
              "      <td>0</td>\n",
              "      <td>0</td>\n",
              "      <td>1</td>\n",
              "      <td>1.355510</td>\n",
              "      <td>-0.507479</td>\n",
              "      <td>2</td>\n",
              "    </tr>\n",
              "    <tr>\n",
              "      <th>2</th>\n",
              "      <td>0</td>\n",
              "      <td>0</td>\n",
              "      <td>0</td>\n",
              "      <td>0</td>\n",
              "      <td>1</td>\n",
              "      <td>0</td>\n",
              "      <td>0</td>\n",
              "      <td>1</td>\n",
              "      <td>0</td>\n",
              "      <td>2.508257</td>\n",
              "      <td>-0.453367</td>\n",
              "      <td>1</td>\n",
              "    </tr>\n",
              "    <tr>\n",
              "      <th>3</th>\n",
              "      <td>0</td>\n",
              "      <td>0</td>\n",
              "      <td>0</td>\n",
              "      <td>0</td>\n",
              "      <td>0</td>\n",
              "      <td>1</td>\n",
              "      <td>0</td>\n",
              "      <td>0</td>\n",
              "      <td>1</td>\n",
              "      <td>-0.181487</td>\n",
              "      <td>-0.474005</td>\n",
              "      <td>1</td>\n",
              "    </tr>\n",
              "    <tr>\n",
              "      <th>4</th>\n",
              "      <td>1</td>\n",
              "      <td>1</td>\n",
              "      <td>1</td>\n",
              "      <td>0</td>\n",
              "      <td>0</td>\n",
              "      <td>1</td>\n",
              "      <td>0</td>\n",
              "      <td>0</td>\n",
              "      <td>1</td>\n",
              "      <td>-0.565736</td>\n",
              "      <td>-0.401017</td>\n",
              "      <td>3</td>\n",
              "    </tr>\n",
              "  </tbody>\n",
              "</table>\n",
              "</div>"
            ],
            "text/plain": [
              "   Sex  SibSp  Parch  Embarked_C  ...  Pclass_3     Idade    Tarifa  Família\n",
              "0    0      0      0           0  ...         1  0.394887 -0.490783        1\n",
              "1    1      1      0           0  ...         1  1.355510 -0.507479        2\n",
              "2    0      0      0           0  ...         0  2.508257 -0.453367        1\n",
              "3    0      0      0           0  ...         1 -0.181487 -0.474005        1\n",
              "4    1      1      1           0  ...         1 -0.565736 -0.401017        3\n",
              "\n",
              "[5 rows x 12 columns]"
            ]
          },
          "metadata": {
            "tags": []
          },
          "execution_count": 35
        }
      ]
    },
    {
      "cell_type": "code",
      "metadata": {
        "id": "ZpMpbnbjnhjh"
      },
      "source": [
        "def aux(x):\n",
        "  if x == 1:\n",
        "    return 1\n",
        "  else: \n",
        "    return 0\n",
        "\n",
        "titanic['Sozinho'] = titanic['Família'].apply(aux)\n",
        "teste['Sozinho'] = teste['Família'].apply(aux)"
      ],
      "execution_count": 36,
      "outputs": []
    },
    {
      "cell_type": "code",
      "metadata": {
        "id": "p902-j7Kni3h"
      },
      "source": [
        "titanic.drop(['SibSp', 'Parch', 'Família'], axis = 1, inplace = True)\n",
        "teste.drop(['SibSp', 'Parch', 'Família'], axis = 1, inplace = True)"
      ],
      "execution_count": 37,
      "outputs": []
    },
    {
      "cell_type": "code",
      "metadata": {
        "colab": {
          "base_uri": "https://localhost:8080/",
          "height": 204
        },
        "id": "9_3MXp19jMXz",
        "outputId": "b0768f29-843a-4a02-be23-d88b77762c39"
      },
      "source": [
        "titanic.head()"
      ],
      "execution_count": 38,
      "outputs": [
        {
          "output_type": "execute_result",
          "data": {
            "text/html": [
              "<div>\n",
              "<style scoped>\n",
              "    .dataframe tbody tr th:only-of-type {\n",
              "        vertical-align: middle;\n",
              "    }\n",
              "\n",
              "    .dataframe tbody tr th {\n",
              "        vertical-align: top;\n",
              "    }\n",
              "\n",
              "    .dataframe thead th {\n",
              "        text-align: right;\n",
              "    }\n",
              "</style>\n",
              "<table border=\"1\" class=\"dataframe\">\n",
              "  <thead>\n",
              "    <tr style=\"text-align: right;\">\n",
              "      <th></th>\n",
              "      <th>Survived</th>\n",
              "      <th>Sex</th>\n",
              "      <th>Embarked_C</th>\n",
              "      <th>Embarked_Q</th>\n",
              "      <th>Embarked_S</th>\n",
              "      <th>Pclass_1</th>\n",
              "      <th>Pclass_2</th>\n",
              "      <th>Pclass_3</th>\n",
              "      <th>Idade</th>\n",
              "      <th>Tarifa</th>\n",
              "      <th>Sozinho</th>\n",
              "    </tr>\n",
              "  </thead>\n",
              "  <tbody>\n",
              "    <tr>\n",
              "      <th>0</th>\n",
              "      <td>0</td>\n",
              "      <td>0</td>\n",
              "      <td>0</td>\n",
              "      <td>0</td>\n",
              "      <td>1</td>\n",
              "      <td>0</td>\n",
              "      <td>0</td>\n",
              "      <td>1</td>\n",
              "      <td>-0.565736</td>\n",
              "      <td>-0.502445</td>\n",
              "      <td>0</td>\n",
              "    </tr>\n",
              "    <tr>\n",
              "      <th>1</th>\n",
              "      <td>1</td>\n",
              "      <td>1</td>\n",
              "      <td>1</td>\n",
              "      <td>0</td>\n",
              "      <td>0</td>\n",
              "      <td>1</td>\n",
              "      <td>0</td>\n",
              "      <td>0</td>\n",
              "      <td>0.663861</td>\n",
              "      <td>0.786845</td>\n",
              "      <td>0</td>\n",
              "    </tr>\n",
              "    <tr>\n",
              "      <th>2</th>\n",
              "      <td>1</td>\n",
              "      <td>1</td>\n",
              "      <td>0</td>\n",
              "      <td>0</td>\n",
              "      <td>1</td>\n",
              "      <td>0</td>\n",
              "      <td>0</td>\n",
              "      <td>1</td>\n",
              "      <td>-0.258337</td>\n",
              "      <td>-0.488854</td>\n",
              "      <td>1</td>\n",
              "    </tr>\n",
              "    <tr>\n",
              "      <th>3</th>\n",
              "      <td>1</td>\n",
              "      <td>1</td>\n",
              "      <td>0</td>\n",
              "      <td>0</td>\n",
              "      <td>1</td>\n",
              "      <td>1</td>\n",
              "      <td>0</td>\n",
              "      <td>0</td>\n",
              "      <td>0.433312</td>\n",
              "      <td>0.420730</td>\n",
              "      <td>0</td>\n",
              "    </tr>\n",
              "    <tr>\n",
              "      <th>4</th>\n",
              "      <td>0</td>\n",
              "      <td>0</td>\n",
              "      <td>0</td>\n",
              "      <td>0</td>\n",
              "      <td>1</td>\n",
              "      <td>0</td>\n",
              "      <td>0</td>\n",
              "      <td>1</td>\n",
              "      <td>0.433312</td>\n",
              "      <td>-0.486337</td>\n",
              "      <td>1</td>\n",
              "    </tr>\n",
              "  </tbody>\n",
              "</table>\n",
              "</div>"
            ],
            "text/plain": [
              "   Survived  Sex  Embarked_C  Embarked_Q  ...  Pclass_3     Idade    Tarifa  Sozinho\n",
              "0         0    0           0           0  ...         1 -0.565736 -0.502445        0\n",
              "1         1    1           1           0  ...         0  0.663861  0.786845        0\n",
              "2         1    1           0           0  ...         1 -0.258337 -0.488854        1\n",
              "3         1    1           0           0  ...         0  0.433312  0.420730        0\n",
              "4         0    0           0           0  ...         1  0.433312 -0.486337        1\n",
              "\n",
              "[5 rows x 11 columns]"
            ]
          },
          "metadata": {
            "tags": []
          },
          "execution_count": 38
        }
      ]
    },
    {
      "cell_type": "code",
      "metadata": {
        "colab": {
          "base_uri": "https://localhost:8080/",
          "height": 204
        },
        "id": "33DGewXsjObr",
        "outputId": "1f479f70-3e08-4ca6-97db-ebaa6e4eeaf8"
      },
      "source": [
        "teste.head()"
      ],
      "execution_count": 39,
      "outputs": [
        {
          "output_type": "execute_result",
          "data": {
            "text/html": [
              "<div>\n",
              "<style scoped>\n",
              "    .dataframe tbody tr th:only-of-type {\n",
              "        vertical-align: middle;\n",
              "    }\n",
              "\n",
              "    .dataframe tbody tr th {\n",
              "        vertical-align: top;\n",
              "    }\n",
              "\n",
              "    .dataframe thead th {\n",
              "        text-align: right;\n",
              "    }\n",
              "</style>\n",
              "<table border=\"1\" class=\"dataframe\">\n",
              "  <thead>\n",
              "    <tr style=\"text-align: right;\">\n",
              "      <th></th>\n",
              "      <th>Sex</th>\n",
              "      <th>Embarked_C</th>\n",
              "      <th>Embarked_Q</th>\n",
              "      <th>Embarked_S</th>\n",
              "      <th>Pclass_1</th>\n",
              "      <th>Pclass_2</th>\n",
              "      <th>Pclass_3</th>\n",
              "      <th>Idade</th>\n",
              "      <th>Tarifa</th>\n",
              "      <th>Sozinho</th>\n",
              "    </tr>\n",
              "  </thead>\n",
              "  <tbody>\n",
              "    <tr>\n",
              "      <th>0</th>\n",
              "      <td>0</td>\n",
              "      <td>0</td>\n",
              "      <td>1</td>\n",
              "      <td>0</td>\n",
              "      <td>0</td>\n",
              "      <td>0</td>\n",
              "      <td>1</td>\n",
              "      <td>0.394887</td>\n",
              "      <td>-0.490783</td>\n",
              "      <td>1</td>\n",
              "    </tr>\n",
              "    <tr>\n",
              "      <th>1</th>\n",
              "      <td>1</td>\n",
              "      <td>0</td>\n",
              "      <td>0</td>\n",
              "      <td>1</td>\n",
              "      <td>0</td>\n",
              "      <td>0</td>\n",
              "      <td>1</td>\n",
              "      <td>1.355510</td>\n",
              "      <td>-0.507479</td>\n",
              "      <td>0</td>\n",
              "    </tr>\n",
              "    <tr>\n",
              "      <th>2</th>\n",
              "      <td>0</td>\n",
              "      <td>0</td>\n",
              "      <td>1</td>\n",
              "      <td>0</td>\n",
              "      <td>0</td>\n",
              "      <td>1</td>\n",
              "      <td>0</td>\n",
              "      <td>2.508257</td>\n",
              "      <td>-0.453367</td>\n",
              "      <td>1</td>\n",
              "    </tr>\n",
              "    <tr>\n",
              "      <th>3</th>\n",
              "      <td>0</td>\n",
              "      <td>0</td>\n",
              "      <td>0</td>\n",
              "      <td>1</td>\n",
              "      <td>0</td>\n",
              "      <td>0</td>\n",
              "      <td>1</td>\n",
              "      <td>-0.181487</td>\n",
              "      <td>-0.474005</td>\n",
              "      <td>1</td>\n",
              "    </tr>\n",
              "    <tr>\n",
              "      <th>4</th>\n",
              "      <td>1</td>\n",
              "      <td>0</td>\n",
              "      <td>0</td>\n",
              "      <td>1</td>\n",
              "      <td>0</td>\n",
              "      <td>0</td>\n",
              "      <td>1</td>\n",
              "      <td>-0.565736</td>\n",
              "      <td>-0.401017</td>\n",
              "      <td>0</td>\n",
              "    </tr>\n",
              "  </tbody>\n",
              "</table>\n",
              "</div>"
            ],
            "text/plain": [
              "   Sex  Embarked_C  Embarked_Q  ...     Idade    Tarifa  Sozinho\n",
              "0    0           0           1  ...  0.394887 -0.490783        1\n",
              "1    1           0           0  ...  1.355510 -0.507479        0\n",
              "2    0           0           1  ...  2.508257 -0.453367        1\n",
              "3    0           0           0  ... -0.181487 -0.474005        1\n",
              "4    1           0           0  ... -0.565736 -0.401017        0\n",
              "\n",
              "[5 rows x 10 columns]"
            ]
          },
          "metadata": {
            "tags": []
          },
          "execution_count": 39
        }
      ]
    },
    {
      "cell_type": "markdown",
      "metadata": {
        "id": "UDICq9I4PqzC"
      },
      "source": [
        "Podemos verificar que tipo de informação a variável criada oferece em relação à variável que desejamos prever"
      ]
    },
    {
      "cell_type": "code",
      "metadata": {
        "id": "9LBuOKR_nkO8",
        "colab": {
          "base_uri": "https://localhost:8080/"
        },
        "outputId": "0ad923e9-276c-4481-b710-d12692b465e0"
      },
      "source": [
        "titanic['Sozinho'].groupby(titanic['Survived']).mean()"
      ],
      "execution_count": 40,
      "outputs": [
        {
          "output_type": "execute_result",
          "data": {
            "text/plain": [
              "Survived\n",
              "0    0.681239\n",
              "1    0.476608\n",
              "Name: Sozinho, dtype: float64"
            ]
          },
          "metadata": {
            "tags": []
          },
          "execution_count": 40
        }
      ]
    },
    {
      "cell_type": "markdown",
      "metadata": {
        "id": "tNdsx752nqpt"
      },
      "source": [
        "####Variável \"Titulação\""
      ]
    },
    {
      "cell_type": "markdown",
      "metadata": {
        "id": "sbe9wmFXQhxB"
      },
      "source": [
        "Podemos observar que na variável **Name** o nome de cada passageiro também apresenta seu título. É possível extrairmos somente essa informação da variável e adicioná-la ao modelo"
      ]
    },
    {
      "cell_type": "code",
      "metadata": {
        "id": "dqUKY_2L2S2u"
      },
      "source": [
        "url = 'https://raw.githubusercontent.com/roberta-helena/projetos_estudo/main/datasets/titanic_train.csv' \n",
        "nome = pd.read_csv(url, usecols = ['Name'] )   \n",
        "\n",
        "titulacao = []\n",
        "for i in range(nome.shape[0]):\n",
        "    titulacao.append(nome.iloc[i,0].split(', ')[1].split('. ')[0])\n",
        "\n",
        "tt = []\n",
        "for i in range(nome.shape[0]):\n",
        "    if titulacao[i] in ['Mr', 'Miss', 'Mrs', 'Master']:\n",
        "        tt.append(titulacao[i])\n",
        "    else:\n",
        "        tt.append('Outros')\n",
        "\n",
        "titanic['Titulo'] = tt"
      ],
      "execution_count": 41,
      "outputs": []
    },
    {
      "cell_type": "code",
      "metadata": {
        "colab": {
          "base_uri": "https://localhost:8080/",
          "height": 204
        },
        "id": "L5uS5TaPqsvW",
        "outputId": "a255b703-fc1c-4aea-f819-856df645f462"
      },
      "source": [
        "titanic.head()"
      ],
      "execution_count": 42,
      "outputs": [
        {
          "output_type": "execute_result",
          "data": {
            "text/html": [
              "<div>\n",
              "<style scoped>\n",
              "    .dataframe tbody tr th:only-of-type {\n",
              "        vertical-align: middle;\n",
              "    }\n",
              "\n",
              "    .dataframe tbody tr th {\n",
              "        vertical-align: top;\n",
              "    }\n",
              "\n",
              "    .dataframe thead th {\n",
              "        text-align: right;\n",
              "    }\n",
              "</style>\n",
              "<table border=\"1\" class=\"dataframe\">\n",
              "  <thead>\n",
              "    <tr style=\"text-align: right;\">\n",
              "      <th></th>\n",
              "      <th>Survived</th>\n",
              "      <th>Sex</th>\n",
              "      <th>Embarked_C</th>\n",
              "      <th>Embarked_Q</th>\n",
              "      <th>Embarked_S</th>\n",
              "      <th>Pclass_1</th>\n",
              "      <th>Pclass_2</th>\n",
              "      <th>Pclass_3</th>\n",
              "      <th>Idade</th>\n",
              "      <th>Tarifa</th>\n",
              "      <th>Sozinho</th>\n",
              "      <th>Titulo</th>\n",
              "    </tr>\n",
              "  </thead>\n",
              "  <tbody>\n",
              "    <tr>\n",
              "      <th>0</th>\n",
              "      <td>0</td>\n",
              "      <td>0</td>\n",
              "      <td>0</td>\n",
              "      <td>0</td>\n",
              "      <td>1</td>\n",
              "      <td>0</td>\n",
              "      <td>0</td>\n",
              "      <td>1</td>\n",
              "      <td>-0.565736</td>\n",
              "      <td>-0.502445</td>\n",
              "      <td>0</td>\n",
              "      <td>Mr</td>\n",
              "    </tr>\n",
              "    <tr>\n",
              "      <th>1</th>\n",
              "      <td>1</td>\n",
              "      <td>1</td>\n",
              "      <td>1</td>\n",
              "      <td>0</td>\n",
              "      <td>0</td>\n",
              "      <td>1</td>\n",
              "      <td>0</td>\n",
              "      <td>0</td>\n",
              "      <td>0.663861</td>\n",
              "      <td>0.786845</td>\n",
              "      <td>0</td>\n",
              "      <td>Mrs</td>\n",
              "    </tr>\n",
              "    <tr>\n",
              "      <th>2</th>\n",
              "      <td>1</td>\n",
              "      <td>1</td>\n",
              "      <td>0</td>\n",
              "      <td>0</td>\n",
              "      <td>1</td>\n",
              "      <td>0</td>\n",
              "      <td>0</td>\n",
              "      <td>1</td>\n",
              "      <td>-0.258337</td>\n",
              "      <td>-0.488854</td>\n",
              "      <td>1</td>\n",
              "      <td>Miss</td>\n",
              "    </tr>\n",
              "    <tr>\n",
              "      <th>3</th>\n",
              "      <td>1</td>\n",
              "      <td>1</td>\n",
              "      <td>0</td>\n",
              "      <td>0</td>\n",
              "      <td>1</td>\n",
              "      <td>1</td>\n",
              "      <td>0</td>\n",
              "      <td>0</td>\n",
              "      <td>0.433312</td>\n",
              "      <td>0.420730</td>\n",
              "      <td>0</td>\n",
              "      <td>Mrs</td>\n",
              "    </tr>\n",
              "    <tr>\n",
              "      <th>4</th>\n",
              "      <td>0</td>\n",
              "      <td>0</td>\n",
              "      <td>0</td>\n",
              "      <td>0</td>\n",
              "      <td>1</td>\n",
              "      <td>0</td>\n",
              "      <td>0</td>\n",
              "      <td>1</td>\n",
              "      <td>0.433312</td>\n",
              "      <td>-0.486337</td>\n",
              "      <td>1</td>\n",
              "      <td>Mr</td>\n",
              "    </tr>\n",
              "  </tbody>\n",
              "</table>\n",
              "</div>"
            ],
            "text/plain": [
              "   Survived  Sex  Embarked_C  Embarked_Q  ...     Idade    Tarifa  Sozinho  Titulo\n",
              "0         0    0           0           0  ... -0.565736 -0.502445        0      Mr\n",
              "1         1    1           1           0  ...  0.663861  0.786845        0     Mrs\n",
              "2         1    1           0           0  ... -0.258337 -0.488854        1    Miss\n",
              "3         1    1           0           0  ...  0.433312  0.420730        0     Mrs\n",
              "4         0    0           0           0  ...  0.433312 -0.486337        1      Mr\n",
              "\n",
              "[5 rows x 12 columns]"
            ]
          },
          "metadata": {
            "tags": []
          },
          "execution_count": 42
        }
      ]
    },
    {
      "cell_type": "code",
      "metadata": {
        "id": "MuuTYc9o2msN"
      },
      "source": [
        "url = 'https://raw.githubusercontent.com/roberta-helena/projetos_estudo/main/datasets/titanic_test.csv' \n",
        "nome = pd.read_csv(url, usecols = ['Name'] )   \n",
        "\n",
        "titulacao = []\n",
        "for i in range(nome.shape[0]):\n",
        "    titulacao.append(nome.iloc[i,0].split(', ')[1].split('. ')[0])\n",
        "\n",
        "tt = []\n",
        "for i in range(nome.shape[0]):\n",
        "    if titulacao[i] in ['Mr', 'Miss', 'Mrs', 'Master']:\n",
        "        tt.append(titulacao[i])\n",
        "    else:\n",
        "        tt.append('Outros')\n",
        "\n",
        "teste['Titulo'] = tt"
      ],
      "execution_count": 43,
      "outputs": []
    },
    {
      "cell_type": "code",
      "metadata": {
        "colab": {
          "base_uri": "https://localhost:8080/",
          "height": 204
        },
        "id": "Yy2Xgxd7qxoN",
        "outputId": "c1d9a307-ac81-4b21-8534-216b723d4f84"
      },
      "source": [
        "teste.head()"
      ],
      "execution_count": 44,
      "outputs": [
        {
          "output_type": "execute_result",
          "data": {
            "text/html": [
              "<div>\n",
              "<style scoped>\n",
              "    .dataframe tbody tr th:only-of-type {\n",
              "        vertical-align: middle;\n",
              "    }\n",
              "\n",
              "    .dataframe tbody tr th {\n",
              "        vertical-align: top;\n",
              "    }\n",
              "\n",
              "    .dataframe thead th {\n",
              "        text-align: right;\n",
              "    }\n",
              "</style>\n",
              "<table border=\"1\" class=\"dataframe\">\n",
              "  <thead>\n",
              "    <tr style=\"text-align: right;\">\n",
              "      <th></th>\n",
              "      <th>Sex</th>\n",
              "      <th>Embarked_C</th>\n",
              "      <th>Embarked_Q</th>\n",
              "      <th>Embarked_S</th>\n",
              "      <th>Pclass_1</th>\n",
              "      <th>Pclass_2</th>\n",
              "      <th>Pclass_3</th>\n",
              "      <th>Idade</th>\n",
              "      <th>Tarifa</th>\n",
              "      <th>Sozinho</th>\n",
              "      <th>Titulo</th>\n",
              "    </tr>\n",
              "  </thead>\n",
              "  <tbody>\n",
              "    <tr>\n",
              "      <th>0</th>\n",
              "      <td>0</td>\n",
              "      <td>0</td>\n",
              "      <td>1</td>\n",
              "      <td>0</td>\n",
              "      <td>0</td>\n",
              "      <td>0</td>\n",
              "      <td>1</td>\n",
              "      <td>0.394887</td>\n",
              "      <td>-0.490783</td>\n",
              "      <td>1</td>\n",
              "      <td>Mr</td>\n",
              "    </tr>\n",
              "    <tr>\n",
              "      <th>1</th>\n",
              "      <td>1</td>\n",
              "      <td>0</td>\n",
              "      <td>0</td>\n",
              "      <td>1</td>\n",
              "      <td>0</td>\n",
              "      <td>0</td>\n",
              "      <td>1</td>\n",
              "      <td>1.355510</td>\n",
              "      <td>-0.507479</td>\n",
              "      <td>0</td>\n",
              "      <td>Mrs</td>\n",
              "    </tr>\n",
              "    <tr>\n",
              "      <th>2</th>\n",
              "      <td>0</td>\n",
              "      <td>0</td>\n",
              "      <td>1</td>\n",
              "      <td>0</td>\n",
              "      <td>0</td>\n",
              "      <td>1</td>\n",
              "      <td>0</td>\n",
              "      <td>2.508257</td>\n",
              "      <td>-0.453367</td>\n",
              "      <td>1</td>\n",
              "      <td>Mr</td>\n",
              "    </tr>\n",
              "    <tr>\n",
              "      <th>3</th>\n",
              "      <td>0</td>\n",
              "      <td>0</td>\n",
              "      <td>0</td>\n",
              "      <td>1</td>\n",
              "      <td>0</td>\n",
              "      <td>0</td>\n",
              "      <td>1</td>\n",
              "      <td>-0.181487</td>\n",
              "      <td>-0.474005</td>\n",
              "      <td>1</td>\n",
              "      <td>Mr</td>\n",
              "    </tr>\n",
              "    <tr>\n",
              "      <th>4</th>\n",
              "      <td>1</td>\n",
              "      <td>0</td>\n",
              "      <td>0</td>\n",
              "      <td>1</td>\n",
              "      <td>0</td>\n",
              "      <td>0</td>\n",
              "      <td>1</td>\n",
              "      <td>-0.565736</td>\n",
              "      <td>-0.401017</td>\n",
              "      <td>0</td>\n",
              "      <td>Mrs</td>\n",
              "    </tr>\n",
              "  </tbody>\n",
              "</table>\n",
              "</div>"
            ],
            "text/plain": [
              "   Sex  Embarked_C  Embarked_Q  Embarked_S  ...     Idade    Tarifa  Sozinho  Titulo\n",
              "0    0           0           1           0  ...  0.394887 -0.490783        1      Mr\n",
              "1    1           0           0           1  ...  1.355510 -0.507479        0     Mrs\n",
              "2    0           0           1           0  ...  2.508257 -0.453367        1      Mr\n",
              "3    0           0           0           1  ... -0.181487 -0.474005        1      Mr\n",
              "4    1           0           0           1  ... -0.565736 -0.401017        0     Mrs\n",
              "\n",
              "[5 rows x 11 columns]"
            ]
          },
          "metadata": {
            "tags": []
          },
          "execution_count": 44
        }
      ]
    },
    {
      "cell_type": "markdown",
      "metadata": {
        "id": "_7IeAlMYP8HA"
      },
      "source": [
        "Podemos verificar que tipo de informação a variável criada fornece em relação à variável que desejamos prever"
      ]
    },
    {
      "cell_type": "code",
      "metadata": {
        "id": "faB9CdMl2Is4",
        "colab": {
          "base_uri": "https://localhost:8080/",
          "height": 235
        },
        "outputId": "694311e1-5eb8-4542-bcd3-60561aca785b"
      },
      "source": [
        "titanic['Survived'].groupby(titanic['Titulo']).describe().sort_values(by = 'count', ascending = False)"
      ],
      "execution_count": 45,
      "outputs": [
        {
          "output_type": "execute_result",
          "data": {
            "text/html": [
              "<div>\n",
              "<style scoped>\n",
              "    .dataframe tbody tr th:only-of-type {\n",
              "        vertical-align: middle;\n",
              "    }\n",
              "\n",
              "    .dataframe tbody tr th {\n",
              "        vertical-align: top;\n",
              "    }\n",
              "\n",
              "    .dataframe thead th {\n",
              "        text-align: right;\n",
              "    }\n",
              "</style>\n",
              "<table border=\"1\" class=\"dataframe\">\n",
              "  <thead>\n",
              "    <tr style=\"text-align: right;\">\n",
              "      <th></th>\n",
              "      <th>count</th>\n",
              "      <th>mean</th>\n",
              "      <th>std</th>\n",
              "      <th>min</th>\n",
              "      <th>25%</th>\n",
              "      <th>50%</th>\n",
              "      <th>75%</th>\n",
              "      <th>max</th>\n",
              "    </tr>\n",
              "    <tr>\n",
              "      <th>Titulo</th>\n",
              "      <th></th>\n",
              "      <th></th>\n",
              "      <th></th>\n",
              "      <th></th>\n",
              "      <th></th>\n",
              "      <th></th>\n",
              "      <th></th>\n",
              "      <th></th>\n",
              "    </tr>\n",
              "  </thead>\n",
              "  <tbody>\n",
              "    <tr>\n",
              "      <th>Mr</th>\n",
              "      <td>517.0</td>\n",
              "      <td>0.156673</td>\n",
              "      <td>0.363844</td>\n",
              "      <td>0.0</td>\n",
              "      <td>0.0</td>\n",
              "      <td>0.0</td>\n",
              "      <td>0.0</td>\n",
              "      <td>1.0</td>\n",
              "    </tr>\n",
              "    <tr>\n",
              "      <th>Miss</th>\n",
              "      <td>182.0</td>\n",
              "      <td>0.697802</td>\n",
              "      <td>0.460477</td>\n",
              "      <td>0.0</td>\n",
              "      <td>0.0</td>\n",
              "      <td>1.0</td>\n",
              "      <td>1.0</td>\n",
              "      <td>1.0</td>\n",
              "    </tr>\n",
              "    <tr>\n",
              "      <th>Mrs</th>\n",
              "      <td>125.0</td>\n",
              "      <td>0.792000</td>\n",
              "      <td>0.407510</td>\n",
              "      <td>0.0</td>\n",
              "      <td>1.0</td>\n",
              "      <td>1.0</td>\n",
              "      <td>1.0</td>\n",
              "      <td>1.0</td>\n",
              "    </tr>\n",
              "    <tr>\n",
              "      <th>Master</th>\n",
              "      <td>40.0</td>\n",
              "      <td>0.575000</td>\n",
              "      <td>0.500641</td>\n",
              "      <td>0.0</td>\n",
              "      <td>0.0</td>\n",
              "      <td>1.0</td>\n",
              "      <td>1.0</td>\n",
              "      <td>1.0</td>\n",
              "    </tr>\n",
              "    <tr>\n",
              "      <th>Outros</th>\n",
              "      <td>27.0</td>\n",
              "      <td>0.444444</td>\n",
              "      <td>0.506370</td>\n",
              "      <td>0.0</td>\n",
              "      <td>0.0</td>\n",
              "      <td>0.0</td>\n",
              "      <td>1.0</td>\n",
              "      <td>1.0</td>\n",
              "    </tr>\n",
              "  </tbody>\n",
              "</table>\n",
              "</div>"
            ],
            "text/plain": [
              "        count      mean       std  min  25%  50%  75%  max\n",
              "Titulo                                                    \n",
              "Mr      517.0  0.156673  0.363844  0.0  0.0  0.0  0.0  1.0\n",
              "Miss    182.0  0.697802  0.460477  0.0  0.0  1.0  1.0  1.0\n",
              "Mrs     125.0  0.792000  0.407510  0.0  1.0  1.0  1.0  1.0\n",
              "Master   40.0  0.575000  0.500641  0.0  0.0  1.0  1.0  1.0\n",
              "Outros   27.0  0.444444  0.506370  0.0  0.0  0.0  1.0  1.0"
            ]
          },
          "metadata": {
            "tags": []
          },
          "execution_count": 45
        }
      ]
    },
    {
      "cell_type": "markdown",
      "metadata": {
        "id": "5g9JT6YhP-Hp"
      },
      "source": [
        "Para incluir a nova variável no modelo, devemos dummificá-la para que ela passe a assumir valores numéricos"
      ]
    },
    {
      "cell_type": "code",
      "metadata": {
        "id": "nYLV1XImnsaE"
      },
      "source": [
        "titanic = pd.get_dummies(titanic, columns = ['Titulo'])\n",
        "teste = pd.get_dummies(teste, columns = ['Titulo'])"
      ],
      "execution_count": 46,
      "outputs": []
    },
    {
      "cell_type": "code",
      "metadata": {
        "colab": {
          "base_uri": "https://localhost:8080/",
          "height": 224
        },
        "id": "yjP3KguHq097",
        "outputId": "1a3d1ef8-a348-44bd-e56f-aa5588f63eed"
      },
      "source": [
        "titanic.head()"
      ],
      "execution_count": 47,
      "outputs": [
        {
          "output_type": "execute_result",
          "data": {
            "text/html": [
              "<div>\n",
              "<style scoped>\n",
              "    .dataframe tbody tr th:only-of-type {\n",
              "        vertical-align: middle;\n",
              "    }\n",
              "\n",
              "    .dataframe tbody tr th {\n",
              "        vertical-align: top;\n",
              "    }\n",
              "\n",
              "    .dataframe thead th {\n",
              "        text-align: right;\n",
              "    }\n",
              "</style>\n",
              "<table border=\"1\" class=\"dataframe\">\n",
              "  <thead>\n",
              "    <tr style=\"text-align: right;\">\n",
              "      <th></th>\n",
              "      <th>Survived</th>\n",
              "      <th>Sex</th>\n",
              "      <th>Embarked_C</th>\n",
              "      <th>Embarked_Q</th>\n",
              "      <th>Embarked_S</th>\n",
              "      <th>Pclass_1</th>\n",
              "      <th>Pclass_2</th>\n",
              "      <th>Pclass_3</th>\n",
              "      <th>Idade</th>\n",
              "      <th>Tarifa</th>\n",
              "      <th>Sozinho</th>\n",
              "      <th>Titulo_Master</th>\n",
              "      <th>Titulo_Miss</th>\n",
              "      <th>Titulo_Mr</th>\n",
              "      <th>Titulo_Mrs</th>\n",
              "      <th>Titulo_Outros</th>\n",
              "    </tr>\n",
              "  </thead>\n",
              "  <tbody>\n",
              "    <tr>\n",
              "      <th>0</th>\n",
              "      <td>0</td>\n",
              "      <td>0</td>\n",
              "      <td>0</td>\n",
              "      <td>0</td>\n",
              "      <td>1</td>\n",
              "      <td>0</td>\n",
              "      <td>0</td>\n",
              "      <td>1</td>\n",
              "      <td>-0.565736</td>\n",
              "      <td>-0.502445</td>\n",
              "      <td>0</td>\n",
              "      <td>0</td>\n",
              "      <td>0</td>\n",
              "      <td>1</td>\n",
              "      <td>0</td>\n",
              "      <td>0</td>\n",
              "    </tr>\n",
              "    <tr>\n",
              "      <th>1</th>\n",
              "      <td>1</td>\n",
              "      <td>1</td>\n",
              "      <td>1</td>\n",
              "      <td>0</td>\n",
              "      <td>0</td>\n",
              "      <td>1</td>\n",
              "      <td>0</td>\n",
              "      <td>0</td>\n",
              "      <td>0.663861</td>\n",
              "      <td>0.786845</td>\n",
              "      <td>0</td>\n",
              "      <td>0</td>\n",
              "      <td>0</td>\n",
              "      <td>0</td>\n",
              "      <td>1</td>\n",
              "      <td>0</td>\n",
              "    </tr>\n",
              "    <tr>\n",
              "      <th>2</th>\n",
              "      <td>1</td>\n",
              "      <td>1</td>\n",
              "      <td>0</td>\n",
              "      <td>0</td>\n",
              "      <td>1</td>\n",
              "      <td>0</td>\n",
              "      <td>0</td>\n",
              "      <td>1</td>\n",
              "      <td>-0.258337</td>\n",
              "      <td>-0.488854</td>\n",
              "      <td>1</td>\n",
              "      <td>0</td>\n",
              "      <td>1</td>\n",
              "      <td>0</td>\n",
              "      <td>0</td>\n",
              "      <td>0</td>\n",
              "    </tr>\n",
              "    <tr>\n",
              "      <th>3</th>\n",
              "      <td>1</td>\n",
              "      <td>1</td>\n",
              "      <td>0</td>\n",
              "      <td>0</td>\n",
              "      <td>1</td>\n",
              "      <td>1</td>\n",
              "      <td>0</td>\n",
              "      <td>0</td>\n",
              "      <td>0.433312</td>\n",
              "      <td>0.420730</td>\n",
              "      <td>0</td>\n",
              "      <td>0</td>\n",
              "      <td>0</td>\n",
              "      <td>0</td>\n",
              "      <td>1</td>\n",
              "      <td>0</td>\n",
              "    </tr>\n",
              "    <tr>\n",
              "      <th>4</th>\n",
              "      <td>0</td>\n",
              "      <td>0</td>\n",
              "      <td>0</td>\n",
              "      <td>0</td>\n",
              "      <td>1</td>\n",
              "      <td>0</td>\n",
              "      <td>0</td>\n",
              "      <td>1</td>\n",
              "      <td>0.433312</td>\n",
              "      <td>-0.486337</td>\n",
              "      <td>1</td>\n",
              "      <td>0</td>\n",
              "      <td>0</td>\n",
              "      <td>1</td>\n",
              "      <td>0</td>\n",
              "      <td>0</td>\n",
              "    </tr>\n",
              "  </tbody>\n",
              "</table>\n",
              "</div>"
            ],
            "text/plain": [
              "   Survived  Sex  Embarked_C  ...  Titulo_Mr  Titulo_Mrs  Titulo_Outros\n",
              "0         0    0           0  ...          1           0              0\n",
              "1         1    1           1  ...          0           1              0\n",
              "2         1    1           0  ...          0           0              0\n",
              "3         1    1           0  ...          0           1              0\n",
              "4         0    0           0  ...          1           0              0\n",
              "\n",
              "[5 rows x 16 columns]"
            ]
          },
          "metadata": {
            "tags": []
          },
          "execution_count": 47
        }
      ]
    },
    {
      "cell_type": "code",
      "metadata": {
        "colab": {
          "base_uri": "https://localhost:8080/",
          "height": 224
        },
        "id": "mu_Il8pNq3OQ",
        "outputId": "939ee280-4b6c-4878-e852-9c9521085a00"
      },
      "source": [
        "teste.head()"
      ],
      "execution_count": 48,
      "outputs": [
        {
          "output_type": "execute_result",
          "data": {
            "text/html": [
              "<div>\n",
              "<style scoped>\n",
              "    .dataframe tbody tr th:only-of-type {\n",
              "        vertical-align: middle;\n",
              "    }\n",
              "\n",
              "    .dataframe tbody tr th {\n",
              "        vertical-align: top;\n",
              "    }\n",
              "\n",
              "    .dataframe thead th {\n",
              "        text-align: right;\n",
              "    }\n",
              "</style>\n",
              "<table border=\"1\" class=\"dataframe\">\n",
              "  <thead>\n",
              "    <tr style=\"text-align: right;\">\n",
              "      <th></th>\n",
              "      <th>Sex</th>\n",
              "      <th>Embarked_C</th>\n",
              "      <th>Embarked_Q</th>\n",
              "      <th>Embarked_S</th>\n",
              "      <th>Pclass_1</th>\n",
              "      <th>Pclass_2</th>\n",
              "      <th>Pclass_3</th>\n",
              "      <th>Idade</th>\n",
              "      <th>Tarifa</th>\n",
              "      <th>Sozinho</th>\n",
              "      <th>Titulo_Master</th>\n",
              "      <th>Titulo_Miss</th>\n",
              "      <th>Titulo_Mr</th>\n",
              "      <th>Titulo_Mrs</th>\n",
              "      <th>Titulo_Outros</th>\n",
              "    </tr>\n",
              "  </thead>\n",
              "  <tbody>\n",
              "    <tr>\n",
              "      <th>0</th>\n",
              "      <td>0</td>\n",
              "      <td>0</td>\n",
              "      <td>1</td>\n",
              "      <td>0</td>\n",
              "      <td>0</td>\n",
              "      <td>0</td>\n",
              "      <td>1</td>\n",
              "      <td>0.394887</td>\n",
              "      <td>-0.490783</td>\n",
              "      <td>1</td>\n",
              "      <td>0</td>\n",
              "      <td>0</td>\n",
              "      <td>1</td>\n",
              "      <td>0</td>\n",
              "      <td>0</td>\n",
              "    </tr>\n",
              "    <tr>\n",
              "      <th>1</th>\n",
              "      <td>1</td>\n",
              "      <td>0</td>\n",
              "      <td>0</td>\n",
              "      <td>1</td>\n",
              "      <td>0</td>\n",
              "      <td>0</td>\n",
              "      <td>1</td>\n",
              "      <td>1.355510</td>\n",
              "      <td>-0.507479</td>\n",
              "      <td>0</td>\n",
              "      <td>0</td>\n",
              "      <td>0</td>\n",
              "      <td>0</td>\n",
              "      <td>1</td>\n",
              "      <td>0</td>\n",
              "    </tr>\n",
              "    <tr>\n",
              "      <th>2</th>\n",
              "      <td>0</td>\n",
              "      <td>0</td>\n",
              "      <td>1</td>\n",
              "      <td>0</td>\n",
              "      <td>0</td>\n",
              "      <td>1</td>\n",
              "      <td>0</td>\n",
              "      <td>2.508257</td>\n",
              "      <td>-0.453367</td>\n",
              "      <td>1</td>\n",
              "      <td>0</td>\n",
              "      <td>0</td>\n",
              "      <td>1</td>\n",
              "      <td>0</td>\n",
              "      <td>0</td>\n",
              "    </tr>\n",
              "    <tr>\n",
              "      <th>3</th>\n",
              "      <td>0</td>\n",
              "      <td>0</td>\n",
              "      <td>0</td>\n",
              "      <td>1</td>\n",
              "      <td>0</td>\n",
              "      <td>0</td>\n",
              "      <td>1</td>\n",
              "      <td>-0.181487</td>\n",
              "      <td>-0.474005</td>\n",
              "      <td>1</td>\n",
              "      <td>0</td>\n",
              "      <td>0</td>\n",
              "      <td>1</td>\n",
              "      <td>0</td>\n",
              "      <td>0</td>\n",
              "    </tr>\n",
              "    <tr>\n",
              "      <th>4</th>\n",
              "      <td>1</td>\n",
              "      <td>0</td>\n",
              "      <td>0</td>\n",
              "      <td>1</td>\n",
              "      <td>0</td>\n",
              "      <td>0</td>\n",
              "      <td>1</td>\n",
              "      <td>-0.565736</td>\n",
              "      <td>-0.401017</td>\n",
              "      <td>0</td>\n",
              "      <td>0</td>\n",
              "      <td>0</td>\n",
              "      <td>0</td>\n",
              "      <td>1</td>\n",
              "      <td>0</td>\n",
              "    </tr>\n",
              "  </tbody>\n",
              "</table>\n",
              "</div>"
            ],
            "text/plain": [
              "   Sex  Embarked_C  Embarked_Q  ...  Titulo_Mr  Titulo_Mrs  Titulo_Outros\n",
              "0    0           0           1  ...          1           0              0\n",
              "1    1           0           0  ...          0           1              0\n",
              "2    0           0           1  ...          1           0              0\n",
              "3    0           0           0  ...          1           0              0\n",
              "4    1           0           0  ...          0           1              0\n",
              "\n",
              "[5 rows x 15 columns]"
            ]
          },
          "metadata": {
            "tags": []
          },
          "execution_count": 48
        }
      ]
    },
    {
      "cell_type": "markdown",
      "metadata": {
        "id": "PZByrFcfoBfj"
      },
      "source": [
        "##CHECKPOINT 2"
      ]
    },
    {
      "cell_type": "markdown",
      "metadata": {
        "id": "oSRmO319RDyb"
      },
      "source": [
        "Guardamos novamente as alterações feitas até então"
      ]
    },
    {
      "cell_type": "code",
      "metadata": {
        "id": "UgHv3k8qoEN6"
      },
      "source": [
        "titanic2 = titanic.copy()\n",
        "teste2 = teste.copy()"
      ],
      "execution_count": 49,
      "outputs": []
    },
    {
      "cell_type": "markdown",
      "metadata": {
        "id": "F86M_2bvoKUI"
      },
      "source": [
        "##Aplicando nos Modelos de Machine Learning"
      ]
    },
    {
      "cell_type": "code",
      "metadata": {
        "id": "seoF1XtFoO-W"
      },
      "source": [
        "X = titanic.drop('Survived', axis = 1)\n",
        "y = titanic['Survived']"
      ],
      "execution_count": 50,
      "outputs": []
    },
    {
      "cell_type": "markdown",
      "metadata": {
        "id": "QbqKaHspRMkC"
      },
      "source": [
        "Para o processo de validação, utilizaremos o K-FOLD estratificado. Este é o processo K-FOLD mantendo-se nas amostragens a proporção na variável resposta"
      ]
    },
    {
      "cell_type": "code",
      "metadata": {
        "id": "2TJkHJDmosZD"
      },
      "source": [
        "kf = StratifiedKFold(n_splits = 10)"
      ],
      "execution_count": 51,
      "outputs": []
    },
    {
      "cell_type": "code",
      "metadata": {
        "id": "6PGlmKb2oviw"
      },
      "source": [
        "def MachineLearning(dataset):\n",
        "  X = dataset.drop('Survived', axis = 1)\n",
        "  y = dataset['Survived']\n",
        "\n",
        "  lista_de_medidas = ['accuracy', 'recall', 'precision', 'balanced_accuracy', 'f1']\n",
        "  nome_das_medidas = ['acurácia', 'sensibilidade', 'vpp', 'eficiência', 'f1-score']\n",
        "\n",
        "  lista_de_modelos = [LogisticRegression(),\n",
        "                      DecisionTreeClassifier(max_depth = 3),\n",
        "                      DecisionTreeClassifier(max_depth = 5),\n",
        "                      DecisionTreeClassifier(max_depth = 7),\n",
        "                      KNeighborsClassifier(n_neighbors = 5),\n",
        "                      KNeighborsClassifier(n_neighbors = 15),\n",
        "                      KNeighborsClassifier(n_neighbors = 25),\n",
        "                      BaggingClassifier(),\n",
        "                      RandomForestClassifier(n_estimators = 300, max_depth = 3, max_features = 3),\n",
        "                      RandomForestClassifier(n_estimators = 300, max_depth = 3, max_features = 4),\n",
        "                      RandomForestClassifier(n_estimators = 300, max_depth = 6, max_features = 3),\n",
        "                      RandomForestClassifier(n_estimators = 300, max_depth = 6, max_features = 4)]\n",
        "  \n",
        "  nome_dos_modelos = ['Regressão Logística',\n",
        "                        'Árvore (prof = 3)',\n",
        "                        'Árvore (prof = 5)',\n",
        "                        'Árvore (prof = 7)',\n",
        "                        '5-NN',\n",
        "                        '15-NN',\n",
        "                        '25-NN',\n",
        "                        'Bagging',\n",
        "                        'Random Forest (prof = 3, mf = 3)',\n",
        "                        'Random Forest (prof = 3, mf = 4)',\n",
        "                        'Random Forest (prof = 6, mf = 3)',\n",
        "                        'Random Forest (prof = 6, mf = 4)']\n",
        "  \n",
        "  resultados0 = {}\n",
        "\n",
        "  for i in range(len(lista_de_modelos)):\n",
        "    print('Rodando modelo: ' + nome_dos_modelos[i])\n",
        "    accs_vc = cross_validate(lista_de_modelos[i], X, y, cv = kf, scoring = lista_de_medidas)\n",
        "    \n",
        "    acc = accs_vc['test_accuracy'].mean().round(4)\n",
        "    sen = accs_vc['test_recall'].mean().round(4)\n",
        "    vpp = accs_vc['test_precision'].mean().round(4)\n",
        "    bac = accs_vc['test_balanced_accuracy'].mean().round(4)\n",
        "    f1s = accs_vc['test_f1'].mean().round(4)\n",
        "\n",
        "    resultados0[nome_dos_modelos[i]] = [acc, sen, vpp, f1s, bac]\n",
        "\n",
        "  resultados = pd.DataFrame(resultados0, index = nome_das_medidas).T\n",
        "\n",
        "  return resultados"
      ],
      "execution_count": 52,
      "outputs": []
    },
    {
      "cell_type": "markdown",
      "metadata": {
        "id": "JgwlwPWWRjS4"
      },
      "source": [
        "Utilizamos então os dados guardados nos Cenários 1 e 2 para verificarmos o poder preditivo dos modelos levando em conta dados fornecidos em diferentes etapas do pré-processamento"
      ]
    },
    {
      "cell_type": "code",
      "metadata": {
        "id": "ehQ39o5KoyLB",
        "colab": {
          "base_uri": "https://localhost:8080/",
          "height": 545
        },
        "outputId": "34ee3cbc-aa24-4575-a9e7-bb076c4a470d"
      },
      "source": [
        "resultados1 = MachineLearning(titanic1)\n",
        "DataTable(resultados1)"
      ],
      "execution_count": 53,
      "outputs": [
        {
          "output_type": "stream",
          "text": [
            "Rodando modelo: Regressão Logística\n",
            "Rodando modelo: Árvore (prof = 3)\n",
            "Rodando modelo: Árvore (prof = 5)\n",
            "Rodando modelo: Árvore (prof = 7)\n",
            "Rodando modelo: 5-NN\n",
            "Rodando modelo: 15-NN\n",
            "Rodando modelo: 25-NN\n",
            "Rodando modelo: Bagging\n",
            "Rodando modelo: Random Forest (prof = 3, mf = 3)\n",
            "Rodando modelo: Random Forest (prof = 3, mf = 4)\n",
            "Rodando modelo: Random Forest (prof = 6, mf = 3)\n",
            "Rodando modelo: Random Forest (prof = 6, mf = 4)\n"
          ],
          "name": "stdout"
        },
        {
          "output_type": "execute_result",
          "data": {
            "application/vnd.google.colaboratory.module+javascript": "\n      import \"https://ssl.gstatic.com/colaboratory/data_table/a6224c040fa35dcf/data_table.js\";\n\n      window.createDataTable({\n        data: [[\"Regress\\u00e3o Log\\u00edstica\",\n{\n            'v': 0.7991,\n            'f': \"0.7991\",\n        },\n{\n            'v': 0.6987,\n            'f': \"0.6987\",\n        },\n{\n            'v': 0.7611,\n            'f': \"0.7611\",\n        },\n{\n            'v': 0.7255,\n            'f': \"0.7255\",\n        },\n{\n            'v': 0.7802,\n            'f': \"0.7802\",\n        }],\n [\"\\u00c1rvore (prof = 3)\",\n{\n            'v': 0.8159,\n            'f': \"0.8159\",\n        },\n{\n            'v': 0.7044,\n            'f': \"0.7044\",\n        },\n{\n            'v': 0.7947,\n            'f': \"0.7947\",\n        },\n{\n            'v': 0.7425,\n            'f': \"0.7425\",\n        },\n{\n            'v': 0.7948,\n            'f': \"0.7948\",\n        }],\n [\"\\u00c1rvore (prof = 5)\",\n{\n            'v': 0.8036,\n            'f': \"0.8036\",\n        },\n{\n            'v': 0.6694,\n            'f': \"0.6694\",\n        },\n{\n            'v': 0.7895,\n            'f': \"0.7895\",\n        },\n{\n            'v': 0.719,\n            'f': \"0.719\",\n        },\n{\n            'v': 0.7782,\n            'f': \"0.7782\",\n        }],\n [\"\\u00c1rvore (prof = 7)\",\n{\n            'v': 0.8194,\n            'f': \"0.8194\",\n        },\n{\n            'v': 0.6726,\n            'f': \"0.6726\",\n        },\n{\n            'v': 0.8277,\n            'f': \"0.8277\",\n        },\n{\n            'v': 0.7389,\n            'f': \"0.7389\",\n        },\n{\n            'v': 0.7917,\n            'f': \"0.7917\",\n        }],\n [\"5-NN\",\n{\n            'v': 0.8059,\n            'f': \"0.8059\",\n        },\n{\n            'v': 0.7194,\n            'f': \"0.7194\",\n        },\n{\n            'v': 0.7623,\n            'f': \"0.7623\",\n        },\n{\n            'v': 0.738,\n            'f': \"0.738\",\n        },\n{\n            'v': 0.7896,\n            'f': \"0.7896\",\n        }],\n [\"15-NN\",\n{\n            'v': 0.7857,\n            'f': \"0.7857\",\n        },\n{\n            'v': 0.6467,\n            'f': \"0.6467\",\n        },\n{\n            'v': 0.7601,\n            'f': \"0.7601\",\n        },\n{\n            'v': 0.6958,\n            'f': \"0.6958\",\n        },\n{\n            'v': 0.7596,\n            'f': \"0.7596\",\n        }],\n [\"25-NN\",\n{\n            'v': 0.8003,\n            'f': \"0.8003\",\n        },\n{\n            'v': 0.6552,\n            'f': \"0.6552\",\n        },\n{\n            'v': 0.7913,\n            'f': \"0.7913\",\n        },\n{\n            'v': 0.7145,\n            'f': \"0.7145\",\n        },\n{\n            'v': 0.773,\n            'f': \"0.773\",\n        }],\n [\"Bagging\",\n{\n            'v': 0.8059,\n            'f': \"0.8059\",\n        },\n{\n            'v': 0.7047,\n            'f': \"0.7047\",\n        },\n{\n            'v': 0.7733,\n            'f': \"0.7733\",\n        },\n{\n            'v': 0.7325,\n            'f': \"0.7325\",\n        },\n{\n            'v': 0.7868,\n            'f': \"0.7868\",\n        }],\n [\"Random Forest (prof = 3, mf = 3)\",\n{\n            'v': 0.8048,\n            'f': \"0.8048\",\n        },\n{\n            'v': 0.5791,\n            'f': \"0.5791\",\n        },\n{\n            'v': 0.868,\n            'f': \"0.868\",\n        },\n{\n            'v': 0.6924,\n            'f': \"0.6924\",\n        },\n{\n            'v': 0.7622,\n            'f': \"0.7622\",\n        }],\n [\"Random Forest (prof = 3, mf = 4)\",\n{\n            'v': 0.8238,\n            'f': \"0.8238\",\n        },\n{\n            'v': 0.6198,\n            'f': \"0.6198\",\n        },\n{\n            'v': 0.8857,\n            'f': \"0.8857\",\n        },\n{\n            'v': 0.7275,\n            'f': \"0.7275\",\n        },\n{\n            'v': 0.7853,\n            'f': \"0.7853\",\n        }],\n [\"Random Forest (prof = 6, mf = 3)\",\n{\n            'v': 0.8239,\n            'f': \"0.8239\",\n        },\n{\n            'v': 0.655,\n            'f': \"0.655\",\n        },\n{\n            'v': 0.8503,\n            'f': \"0.8503\",\n        },\n{\n            'v': 0.7371,\n            'f': \"0.7371\",\n        },\n{\n            'v': 0.792,\n            'f': \"0.792\",\n        }],\n [\"Random Forest (prof = 6, mf = 4)\",\n{\n            'v': 0.8295,\n            'f': \"0.8295\",\n        },\n{\n            'v': 0.6666,\n            'f': \"0.6666\",\n        },\n{\n            'v': 0.8544,\n            'f': \"0.8544\",\n        },\n{\n            'v': 0.7462,\n            'f': \"0.7462\",\n        },\n{\n            'v': 0.7987,\n            'f': \"0.7987\",\n        }]],\n        columns: [[\"string\", \"index\"], [\"number\", \"acur\\u00e1cia\"], [\"number\", \"sensibilidade\"], [\"number\", \"vpp\"], [\"number\", \"efici\\u00eancia\"], [\"number\", \"f1-score\"]],\n        columnOptions: [{\"width\": \"1px\", \"className\": \"index_column\"}],\n        rowsPerPage: 25,\n        helpUrl: \"https://colab.research.google.com/notebooks/data_table.ipynb\",\n        suppressOutputScrolling: true,\n        minimumWidth: undefined,\n      });\n    ",
            "text/plain": [
              "<google.colab.data_table.DataTable object>"
            ],
            "text/html": [
              "<div>\n",
              "<style scoped>\n",
              "    .dataframe tbody tr th:only-of-type {\n",
              "        vertical-align: middle;\n",
              "    }\n",
              "\n",
              "    .dataframe tbody tr th {\n",
              "        vertical-align: top;\n",
              "    }\n",
              "\n",
              "    .dataframe thead th {\n",
              "        text-align: right;\n",
              "    }\n",
              "</style>\n",
              "<table border=\"1\" class=\"dataframe\">\n",
              "  <thead>\n",
              "    <tr style=\"text-align: right;\">\n",
              "      <th></th>\n",
              "      <th>acurácia</th>\n",
              "      <th>sensibilidade</th>\n",
              "      <th>vpp</th>\n",
              "      <th>eficiência</th>\n",
              "      <th>f1-score</th>\n",
              "    </tr>\n",
              "  </thead>\n",
              "  <tbody>\n",
              "    <tr>\n",
              "      <th>Regressão Logística</th>\n",
              "      <td>0.7991</td>\n",
              "      <td>0.6987</td>\n",
              "      <td>0.7611</td>\n",
              "      <td>0.7255</td>\n",
              "      <td>0.7802</td>\n",
              "    </tr>\n",
              "    <tr>\n",
              "      <th>Árvore (prof = 3)</th>\n",
              "      <td>0.8159</td>\n",
              "      <td>0.7044</td>\n",
              "      <td>0.7947</td>\n",
              "      <td>0.7425</td>\n",
              "      <td>0.7948</td>\n",
              "    </tr>\n",
              "    <tr>\n",
              "      <th>Árvore (prof = 5)</th>\n",
              "      <td>0.8036</td>\n",
              "      <td>0.6694</td>\n",
              "      <td>0.7895</td>\n",
              "      <td>0.7190</td>\n",
              "      <td>0.7782</td>\n",
              "    </tr>\n",
              "    <tr>\n",
              "      <th>Árvore (prof = 7)</th>\n",
              "      <td>0.8194</td>\n",
              "      <td>0.6726</td>\n",
              "      <td>0.8277</td>\n",
              "      <td>0.7389</td>\n",
              "      <td>0.7917</td>\n",
              "    </tr>\n",
              "    <tr>\n",
              "      <th>5-NN</th>\n",
              "      <td>0.8059</td>\n",
              "      <td>0.7194</td>\n",
              "      <td>0.7623</td>\n",
              "      <td>0.7380</td>\n",
              "      <td>0.7896</td>\n",
              "    </tr>\n",
              "    <tr>\n",
              "      <th>15-NN</th>\n",
              "      <td>0.7857</td>\n",
              "      <td>0.6467</td>\n",
              "      <td>0.7601</td>\n",
              "      <td>0.6958</td>\n",
              "      <td>0.7596</td>\n",
              "    </tr>\n",
              "    <tr>\n",
              "      <th>25-NN</th>\n",
              "      <td>0.8003</td>\n",
              "      <td>0.6552</td>\n",
              "      <td>0.7913</td>\n",
              "      <td>0.7145</td>\n",
              "      <td>0.7730</td>\n",
              "    </tr>\n",
              "    <tr>\n",
              "      <th>Bagging</th>\n",
              "      <td>0.8059</td>\n",
              "      <td>0.7047</td>\n",
              "      <td>0.7733</td>\n",
              "      <td>0.7325</td>\n",
              "      <td>0.7868</td>\n",
              "    </tr>\n",
              "    <tr>\n",
              "      <th>Random Forest (prof = 3, mf = 3)</th>\n",
              "      <td>0.8048</td>\n",
              "      <td>0.5791</td>\n",
              "      <td>0.8680</td>\n",
              "      <td>0.6924</td>\n",
              "      <td>0.7622</td>\n",
              "    </tr>\n",
              "    <tr>\n",
              "      <th>Random Forest (prof = 3, mf = 4)</th>\n",
              "      <td>0.8238</td>\n",
              "      <td>0.6198</td>\n",
              "      <td>0.8857</td>\n",
              "      <td>0.7275</td>\n",
              "      <td>0.7853</td>\n",
              "    </tr>\n",
              "    <tr>\n",
              "      <th>Random Forest (prof = 6, mf = 3)</th>\n",
              "      <td>0.8239</td>\n",
              "      <td>0.6550</td>\n",
              "      <td>0.8503</td>\n",
              "      <td>0.7371</td>\n",
              "      <td>0.7920</td>\n",
              "    </tr>\n",
              "    <tr>\n",
              "      <th>Random Forest (prof = 6, mf = 4)</th>\n",
              "      <td>0.8295</td>\n",
              "      <td>0.6666</td>\n",
              "      <td>0.8544</td>\n",
              "      <td>0.7462</td>\n",
              "      <td>0.7987</td>\n",
              "    </tr>\n",
              "  </tbody>\n",
              "</table>\n",
              "</div>"
            ]
          },
          "metadata": {
            "tags": []
          },
          "execution_count": 53
        }
      ]
    },
    {
      "cell_type": "code",
      "metadata": {
        "id": "WkTYHd53ozLd",
        "colab": {
          "base_uri": "https://localhost:8080/",
          "height": 545
        },
        "outputId": "14c6d413-4726-408a-8060-d35254b123e5"
      },
      "source": [
        "resultados2 = MachineLearning(titanic2)\n",
        "DataTable(resultados2)"
      ],
      "execution_count": 54,
      "outputs": [
        {
          "output_type": "stream",
          "text": [
            "Rodando modelo: Regressão Logística\n",
            "Rodando modelo: Árvore (prof = 3)\n",
            "Rodando modelo: Árvore (prof = 5)\n",
            "Rodando modelo: Árvore (prof = 7)\n",
            "Rodando modelo: 5-NN\n",
            "Rodando modelo: 15-NN\n",
            "Rodando modelo: 25-NN\n",
            "Rodando modelo: Bagging\n",
            "Rodando modelo: Random Forest (prof = 3, mf = 3)\n",
            "Rodando modelo: Random Forest (prof = 3, mf = 4)\n",
            "Rodando modelo: Random Forest (prof = 6, mf = 3)\n",
            "Rodando modelo: Random Forest (prof = 6, mf = 4)\n"
          ],
          "name": "stdout"
        },
        {
          "output_type": "execute_result",
          "data": {
            "application/vnd.google.colaboratory.module+javascript": "\n      import \"https://ssl.gstatic.com/colaboratory/data_table/a6224c040fa35dcf/data_table.js\";\n\n      window.createDataTable({\n        data: [[\"Regress\\u00e3o Log\\u00edstica\",\n{\n            'v': 0.8092,\n            'f': \"0.8092\",\n        },\n{\n            'v': 0.7308,\n            'f': \"0.7308\",\n        },\n{\n            'v': 0.7619,\n            'f': \"0.7619\",\n        },\n{\n            'v': 0.7442,\n            'f': \"0.7442\",\n        },\n{\n            'v': 0.7944,\n            'f': \"0.7944\",\n        }],\n [\"\\u00c1rvore (prof = 3)\",\n{\n            'v': 0.8238,\n            'f': \"0.8238\",\n        },\n{\n            'v': 0.7247,\n            'f': \"0.7247\",\n        },\n{\n            'v': 0.798,\n            'f': \"0.798\",\n        },\n{\n            'v': 0.7561,\n            'f': \"0.7561\",\n        },\n{\n            'v': 0.805,\n            'f': \"0.805\",\n        }],\n [\"\\u00c1rvore (prof = 5)\",\n{\n            'v': 0.8183,\n            'f': \"0.8183\",\n        },\n{\n            'v': 0.7139,\n            'f': \"0.7139\",\n        },\n{\n            'v': 0.7894,\n            'f': \"0.7894\",\n        },\n{\n            'v': 0.7461,\n            'f': \"0.7461\",\n        },\n{\n            'v': 0.7986,\n            'f': \"0.7986\",\n        }],\n [\"\\u00c1rvore (prof = 7)\",\n{\n            'v': 0.8194,\n            'f': \"0.8194\",\n        },\n{\n            'v': 0.7048,\n            'f': \"0.7048\",\n        },\n{\n            'v': 0.7987,\n            'f': \"0.7987\",\n        },\n{\n            'v': 0.7464,\n            'f': \"0.7464\",\n        },\n{\n            'v': 0.7977,\n            'f': \"0.7977\",\n        }],\n [\"5-NN\",\n{\n            'v': 0.8171,\n            'f': \"0.8171\",\n        },\n{\n            'v': 0.7368,\n            'f': \"0.7368\",\n        },\n{\n            'v': 0.777,\n            'f': \"0.777\",\n        },\n{\n            'v': 0.7536,\n            'f': \"0.7536\",\n        },\n{\n            'v': 0.8019,\n            'f': \"0.8019\",\n        }],\n [\"15-NN\",\n{\n            'v': 0.8048,\n            'f': \"0.8048\",\n        },\n{\n            'v': 0.6726,\n            'f': \"0.6726\",\n        },\n{\n            'v': 0.7893,\n            'f': \"0.7893\",\n        },\n{\n            'v': 0.7224,\n            'f': \"0.7224\",\n        },\n{\n            'v': 0.7798,\n            'f': \"0.7798\",\n        }],\n [\"25-NN\",\n{\n            'v': 0.8003,\n            'f': \"0.8003\",\n        },\n{\n            'v': 0.6317,\n            'f': \"0.6317\",\n        },\n{\n            'v': 0.8094,\n            'f': \"0.8094\",\n        },\n{\n            'v': 0.7064,\n            'f': \"0.7064\",\n        },\n{\n            'v': 0.7685,\n            'f': \"0.7685\",\n        }],\n [\"Bagging\",\n{\n            'v': 0.8182,\n            'f': \"0.8182\",\n        },\n{\n            'v': 0.7193,\n            'f': \"0.7193\",\n        },\n{\n            'v': 0.7894,\n            'f': \"0.7894\",\n        },\n{\n            'v': 0.748,\n            'f': \"0.748\",\n        },\n{\n            'v': 0.7996,\n            'f': \"0.7996\",\n        }],\n [\"Random Forest (prof = 3, mf = 3)\",\n{\n            'v': 0.8002,\n            'f': \"0.8002\",\n        },\n{\n            'v': 0.7104,\n            'f': \"0.7104\",\n        },\n{\n            'v': 0.7541,\n            'f': \"0.7541\",\n        },\n{\n            'v': 0.7295,\n            'f': \"0.7295\",\n        },\n{\n            'v': 0.7832,\n            'f': \"0.7832\",\n        }],\n [\"Random Forest (prof = 3, mf = 4)\",\n{\n            'v': 0.8025,\n            'f': \"0.8025\",\n        },\n{\n            'v': 0.7104,\n            'f': \"0.7104\",\n        },\n{\n            'v': 0.7578,\n            'f': \"0.7578\",\n        },\n{\n            'v': 0.7313,\n            'f': \"0.7313\",\n        },\n{\n            'v': 0.7851,\n            'f': \"0.7851\",\n        }],\n [\"Random Forest (prof = 6, mf = 3)\",\n{\n            'v': 0.8261,\n            'f': \"0.8261\",\n        },\n{\n            'v': 0.6753,\n            'f': \"0.6753\",\n        },\n{\n            'v': 0.8386,\n            'f': \"0.8386\",\n        },\n{\n            'v': 0.7453,\n            'f': \"0.7453\",\n        },\n{\n            'v': 0.7976,\n            'f': \"0.7976\",\n        }],\n [\"Random Forest (prof = 6, mf = 4)\",\n{\n            'v': 0.8339,\n            'f': \"0.8339\",\n        },\n{\n            'v': 0.6958,\n            'f': \"0.6958\",\n        },\n{\n            'v': 0.8419,\n            'f': \"0.8419\",\n        },\n{\n            'v': 0.759,\n            'f': \"0.759\",\n        },\n{\n            'v': 0.8078,\n            'f': \"0.8078\",\n        }]],\n        columns: [[\"string\", \"index\"], [\"number\", \"acur\\u00e1cia\"], [\"number\", \"sensibilidade\"], [\"number\", \"vpp\"], [\"number\", \"efici\\u00eancia\"], [\"number\", \"f1-score\"]],\n        columnOptions: [{\"width\": \"1px\", \"className\": \"index_column\"}],\n        rowsPerPage: 25,\n        helpUrl: \"https://colab.research.google.com/notebooks/data_table.ipynb\",\n        suppressOutputScrolling: true,\n        minimumWidth: undefined,\n      });\n    ",
            "text/plain": [
              "<google.colab.data_table.DataTable object>"
            ],
            "text/html": [
              "<div>\n",
              "<style scoped>\n",
              "    .dataframe tbody tr th:only-of-type {\n",
              "        vertical-align: middle;\n",
              "    }\n",
              "\n",
              "    .dataframe tbody tr th {\n",
              "        vertical-align: top;\n",
              "    }\n",
              "\n",
              "    .dataframe thead th {\n",
              "        text-align: right;\n",
              "    }\n",
              "</style>\n",
              "<table border=\"1\" class=\"dataframe\">\n",
              "  <thead>\n",
              "    <tr style=\"text-align: right;\">\n",
              "      <th></th>\n",
              "      <th>acurácia</th>\n",
              "      <th>sensibilidade</th>\n",
              "      <th>vpp</th>\n",
              "      <th>eficiência</th>\n",
              "      <th>f1-score</th>\n",
              "    </tr>\n",
              "  </thead>\n",
              "  <tbody>\n",
              "    <tr>\n",
              "      <th>Regressão Logística</th>\n",
              "      <td>0.8092</td>\n",
              "      <td>0.7308</td>\n",
              "      <td>0.7619</td>\n",
              "      <td>0.7442</td>\n",
              "      <td>0.7944</td>\n",
              "    </tr>\n",
              "    <tr>\n",
              "      <th>Árvore (prof = 3)</th>\n",
              "      <td>0.8238</td>\n",
              "      <td>0.7247</td>\n",
              "      <td>0.7980</td>\n",
              "      <td>0.7561</td>\n",
              "      <td>0.8050</td>\n",
              "    </tr>\n",
              "    <tr>\n",
              "      <th>Árvore (prof = 5)</th>\n",
              "      <td>0.8183</td>\n",
              "      <td>0.7139</td>\n",
              "      <td>0.7894</td>\n",
              "      <td>0.7461</td>\n",
              "      <td>0.7986</td>\n",
              "    </tr>\n",
              "    <tr>\n",
              "      <th>Árvore (prof = 7)</th>\n",
              "      <td>0.8194</td>\n",
              "      <td>0.7048</td>\n",
              "      <td>0.7987</td>\n",
              "      <td>0.7464</td>\n",
              "      <td>0.7977</td>\n",
              "    </tr>\n",
              "    <tr>\n",
              "      <th>5-NN</th>\n",
              "      <td>0.8171</td>\n",
              "      <td>0.7368</td>\n",
              "      <td>0.7770</td>\n",
              "      <td>0.7536</td>\n",
              "      <td>0.8019</td>\n",
              "    </tr>\n",
              "    <tr>\n",
              "      <th>15-NN</th>\n",
              "      <td>0.8048</td>\n",
              "      <td>0.6726</td>\n",
              "      <td>0.7893</td>\n",
              "      <td>0.7224</td>\n",
              "      <td>0.7798</td>\n",
              "    </tr>\n",
              "    <tr>\n",
              "      <th>25-NN</th>\n",
              "      <td>0.8003</td>\n",
              "      <td>0.6317</td>\n",
              "      <td>0.8094</td>\n",
              "      <td>0.7064</td>\n",
              "      <td>0.7685</td>\n",
              "    </tr>\n",
              "    <tr>\n",
              "      <th>Bagging</th>\n",
              "      <td>0.8182</td>\n",
              "      <td>0.7193</td>\n",
              "      <td>0.7894</td>\n",
              "      <td>0.7480</td>\n",
              "      <td>0.7996</td>\n",
              "    </tr>\n",
              "    <tr>\n",
              "      <th>Random Forest (prof = 3, mf = 3)</th>\n",
              "      <td>0.8002</td>\n",
              "      <td>0.7104</td>\n",
              "      <td>0.7541</td>\n",
              "      <td>0.7295</td>\n",
              "      <td>0.7832</td>\n",
              "    </tr>\n",
              "    <tr>\n",
              "      <th>Random Forest (prof = 3, mf = 4)</th>\n",
              "      <td>0.8025</td>\n",
              "      <td>0.7104</td>\n",
              "      <td>0.7578</td>\n",
              "      <td>0.7313</td>\n",
              "      <td>0.7851</td>\n",
              "    </tr>\n",
              "    <tr>\n",
              "      <th>Random Forest (prof = 6, mf = 3)</th>\n",
              "      <td>0.8261</td>\n",
              "      <td>0.6753</td>\n",
              "      <td>0.8386</td>\n",
              "      <td>0.7453</td>\n",
              "      <td>0.7976</td>\n",
              "    </tr>\n",
              "    <tr>\n",
              "      <th>Random Forest (prof = 6, mf = 4)</th>\n",
              "      <td>0.8339</td>\n",
              "      <td>0.6958</td>\n",
              "      <td>0.8419</td>\n",
              "      <td>0.7590</td>\n",
              "      <td>0.8078</td>\n",
              "    </tr>\n",
              "  </tbody>\n",
              "</table>\n",
              "</div>"
            ]
          },
          "metadata": {
            "tags": []
          },
          "execution_count": 54
        }
      ]
    },
    {
      "cell_type": "markdown",
      "metadata": {
        "id": "QmOWug8_u99C"
      },
      "source": [
        "#Considerações Finais"
      ]
    },
    {
      "cell_type": "markdown",
      "metadata": {
        "id": "XA3zsVVrvJSi"
      },
      "source": [
        "Neste projeto, observamos alguns procedimentos de pré-processamento realizados com o intuito de se obter uma melhor performance em nossos modelos de previsão. Apesar de os procedimentos realizados não esgotarem as possibilidades de pré-processamento, foram apresentados conceitos indispensáveis, como dummificação, descarte e escalonamento de variáveis, bem como verificação de dados faltantes. Problemas e conjuntos de dados diferentes exigem pré-processamentos distintos, e que só poderão ser avaliados após o ajuste e avaliação do modelo. Nesta etapa, deve-se buscar o modelo e seu respectivo conjunto de parâmetros que, alimentados com os dados tratados, melhor se adequam ao problema que se deseja resolver"
      ]
    },
    {
      "cell_type": "code",
      "metadata": {
        "id": "L8LBNrV72hnO"
      },
      "source": [
        ""
      ],
      "execution_count": 54,
      "outputs": []
    }
  ]
}