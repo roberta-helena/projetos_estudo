{
  "nbformat": 4,
  "nbformat_minor": 0,
  "metadata": {
    "colab": {
      "name": "Flai 7 - Tunagem de Hiperparâmetros",
      "provenance": [],
      "collapsed_sections": [],
      "authorship_tag": "ABX9TyPoGzGPeA65xcL/fuU7iWhH"
    },
    "kernelspec": {
      "name": "python3",
      "display_name": "Python 3"
    },
    "language_info": {
      "name": "python"
    }
  },
  "cells": [
    {
      "cell_type": "markdown",
      "metadata": {
        "id": "CvRj5mFjcL5A"
      },
      "source": [
        "#Tunagem de Hiperparâmetros"
      ]
    },
    {
      "cell_type": "markdown",
      "metadata": {
        "id": "8RUzH1n_lKr_"
      },
      "source": [
        "Os modelos de machine learning possuem parâmetros que podem assumir diversos valores e são capazes de alterar seu desempenho. A tunagem de hiperparâmetros é o processo pelo qual procuramos encontrar a melhor combinação de valores para calibrar o modelo e solucionar nosso problema. Combinando-se a tunagem com um bom pré-processamento, produzimos modelos com maior poder preditivo. A tunagem, porém, é considerado como um ajuste fino, sendo o maior ganho para o modelo aquele promovido por sua alimentação com dados de qualidade"
      ]
    },
    {
      "cell_type": "markdown",
      "metadata": {
        "id": "tis1MJq7oMUP"
      },
      "source": [
        "Para este projeto, continuaremos a utilizar os dados do Titanic. Faremos um novo pré-processamente, diferente do que vimos em \"Flai 6 - Pré-Processamento\" e utilizaremos uma função para retornar os melhores parâmetros para KNN, Árvore de Decisão e Random Forest, buscando otimizar a métrica da acurácia"
      ]
    },
    {
      "cell_type": "code",
      "metadata": {
        "id": "fReNQhxbe6f0"
      },
      "source": [
        "import pandas as pd\n",
        "import numpy as np\n",
        "from sklearn.impute import KNNImputer\n",
        "from sklearn.preprocessing import StandardScaler\n",
        "from sklearn.ensemble import RandomForestClassifier\n",
        "from sklearn.feature_selection import SelectFromModel\n",
        "from sklearn.model_selection import RandomizedSearchCV, GridSearchCV, cross_validate, RepeatedStratifiedKFold\n",
        "from sklearn.neighbors import KNeighborsClassifier\n",
        "from sklearn.tree import DecisionTreeClassifier\n",
        "from sklearn.ensemble import RandomForestClassifier"
      ],
      "execution_count": 1,
      "outputs": []
    },
    {
      "cell_type": "code",
      "metadata": {
        "id": "iR88cweTfLNN"
      },
      "source": [
        "url1 = 'https://raw.githubusercontent.com/roberta-helena/projetos_estudo/main/datasets/titanic_train.csv'\n",
        "url2 = 'https://raw.githubusercontent.com/roberta-helena/projetos_estudo/main/datasets/titanic_test.csv'\n",
        "\n",
        "treino = pd.read_csv(url1)\n",
        "teste = pd.read_csv(url2)"
      ],
      "execution_count": 2,
      "outputs": []
    },
    {
      "cell_type": "markdown",
      "metadata": {
        "id": "-emCjj9SnXz9"
      },
      "source": [
        "A variável **n** recebe o tamanho do conjunto de dados de treino"
      ]
    },
    {
      "cell_type": "code",
      "metadata": {
        "id": "MDfWU_DnfUNd"
      },
      "source": [
        "n = treino.shape[0]"
      ],
      "execution_count": 3,
      "outputs": []
    },
    {
      "cell_type": "markdown",
      "metadata": {
        "id": "yHrEqXipneL5"
      },
      "source": [
        "A variável **targets** recebe a variável resposta do conjunto de dados de treino"
      ]
    },
    {
      "cell_type": "code",
      "metadata": {
        "id": "JNbr4PazfUIV"
      },
      "source": [
        "targets = list(treino['Survived'])"
      ],
      "execution_count": 4,
      "outputs": []
    },
    {
      "cell_type": "markdown",
      "metadata": {
        "id": "aZE3lNXEnkE5"
      },
      "source": [
        "Para facilitar as alterações do pré-processamento, unimos os conjuntos de teste e de treino em um só dataset. Em etapa posterior, os separaremos novamente"
      ]
    },
    {
      "cell_type": "code",
      "metadata": {
        "id": "HzYOHEo1fWQp"
      },
      "source": [
        "dataset = pd.concat([treino, teste])"
      ],
      "execution_count": 5,
      "outputs": []
    },
    {
      "cell_type": "code",
      "metadata": {
        "colab": {
          "base_uri": "https://localhost:8080/"
        },
        "id": "lS1ZMcJ1c6pR",
        "outputId": "3bfa7c66-3c91-42f1-8c2c-303e26519879"
      },
      "source": [
        "dataset.shape"
      ],
      "execution_count": 6,
      "outputs": [
        {
          "output_type": "execute_result",
          "data": {
            "text/plain": [
              "(1309, 12)"
            ]
          },
          "metadata": {
            "tags": []
          },
          "execution_count": 6
        }
      ]
    },
    {
      "cell_type": "markdown",
      "metadata": {
        "id": "T_fMFyzPfadG"
      },
      "source": [
        "##Pré-Processamento das Variáveis"
      ]
    },
    {
      "cell_type": "markdown",
      "metadata": {
        "id": "cVt7ze_ienkR"
      },
      "source": [
        "Para este projeto, propomos um novo pré-processamento das variáveis"
      ]
    },
    {
      "cell_type": "markdown",
      "metadata": {
        "id": "PshrY6NJfeBe"
      },
      "source": [
        "###Variável \"Sexo\""
      ]
    },
    {
      "cell_type": "markdown",
      "metadata": {
        "id": "kr_FMaDyex69"
      },
      "source": [
        "Transformamos a variável **Sex** em binária, atribuindo o valor 1 para sexo feminino e 0 para sexo masculino"
      ]
    },
    {
      "cell_type": "code",
      "metadata": {
        "id": "Bh3dP6uUfiLt"
      },
      "source": [
        "dataset['Sex'] = dataset['Sex'].map({'female': 1, 'male': 0})"
      ],
      "execution_count": 7,
      "outputs": []
    },
    {
      "cell_type": "code",
      "metadata": {
        "colab": {
          "base_uri": "https://localhost:8080/"
        },
        "id": "23M-HFL-daqj",
        "outputId": "7c81989e-dfbe-42b9-a0b7-b465a5fa7b7c"
      },
      "source": [
        "dataset['Sex'].value_counts()"
      ],
      "execution_count": 8,
      "outputs": [
        {
          "output_type": "execute_result",
          "data": {
            "text/plain": [
              "0    843\n",
              "1    466\n",
              "Name: Sex, dtype: int64"
            ]
          },
          "metadata": {
            "tags": []
          },
          "execution_count": 8
        }
      ]
    },
    {
      "cell_type": "markdown",
      "metadata": {
        "id": "OCMrN1Xnfjc1"
      },
      "source": [
        "###Variável \"Titulação\""
      ]
    },
    {
      "cell_type": "markdown",
      "metadata": {
        "id": "-HlZonuJe_lD"
      },
      "source": [
        "Para criarmos a variável **Titulação**, retiramos os títulos dos nomes dos passageiros e os agrupamos em categorias"
      ]
    },
    {
      "cell_type": "code",
      "metadata": {
        "id": "dFwG_lHeflb9"
      },
      "source": [
        "def aux(x):\n",
        "  return x.split(', ')[1].split('. ')[0]\n",
        "\n",
        "dataset['Titulo'] = dataset['Name']. apply(aux)"
      ],
      "execution_count": 9,
      "outputs": []
    },
    {
      "cell_type": "code",
      "metadata": {
        "id": "fSxHIUdxfneV"
      },
      "source": [
        "titulos = {\n",
        "    \"Capt\": \"Officer\",\n",
        "    \"Col\": \"Officer\",\n",
        "    \"Major\": \"Officer\",\n",
        "    \"Jonkheer\": \"Royalty\",\n",
        "    \"Don\": \"Royalty\",\n",
        "    \"Sir\" : \"Royalty\",\n",
        "    \"Dr\": \"Officer\",\n",
        "    \"Rev\": \"Officer\",\n",
        "    \"the Countess\":\"Royalty\",\n",
        "    \"Mme\": \"Mrs\",\n",
        "    \"Mlle\": \"Miss\",\n",
        "    \"Ms\": \"Mrs\",\n",
        "    \"Mr\" : \"Mr\",\n",
        "    \"Mrs\" : \"Mrs\",\n",
        "    \"Miss\" : \"Miss\",\n",
        "    \"Master\" : \"Master\",\n",
        "    \"Lady\" : \"Royalty\"\n",
        "}\n",
        "\n",
        "dataset['Titulacao'] = dataset['Titulo'].map(titulos)"
      ],
      "execution_count": 10,
      "outputs": []
    },
    {
      "cell_type": "code",
      "metadata": {
        "colab": {
          "base_uri": "https://localhost:8080/"
        },
        "id": "fQeUBkq4dRMd",
        "outputId": "04e28204-0da9-4f25-c4c4-647d556088dd"
      },
      "source": [
        "dataset['Titulacao'].value_counts()"
      ],
      "execution_count": 11,
      "outputs": [
        {
          "output_type": "execute_result",
          "data": {
            "text/plain": [
              "Mr         757\n",
              "Miss       262\n",
              "Mrs        200\n",
              "Master      61\n",
              "Officer     23\n",
              "Royalty      5\n",
              "Name: Titulacao, dtype: int64"
            ]
          },
          "metadata": {
            "tags": []
          },
          "execution_count": 11
        }
      ]
    },
    {
      "cell_type": "markdown",
      "metadata": {
        "id": "ahNAT_lConSk"
      },
      "source": [
        "Podemos verificar que tipo de informação a variável criada fornece em relação à variável que desejamos prever"
      ]
    },
    {
      "cell_type": "code",
      "metadata": {
        "id": "zndouSCXfpjF",
        "colab": {
          "base_uri": "https://localhost:8080/",
          "height": 266
        },
        "outputId": "e540beaa-a84d-4f10-f574-a73e93d02dc4"
      },
      "source": [
        "dataset['Survived'].groupby(dataset['Titulacao']).describe()"
      ],
      "execution_count": 12,
      "outputs": [
        {
          "output_type": "execute_result",
          "data": {
            "text/html": [
              "<div>\n",
              "<style scoped>\n",
              "    .dataframe tbody tr th:only-of-type {\n",
              "        vertical-align: middle;\n",
              "    }\n",
              "\n",
              "    .dataframe tbody tr th {\n",
              "        vertical-align: top;\n",
              "    }\n",
              "\n",
              "    .dataframe thead th {\n",
              "        text-align: right;\n",
              "    }\n",
              "</style>\n",
              "<table border=\"1\" class=\"dataframe\">\n",
              "  <thead>\n",
              "    <tr style=\"text-align: right;\">\n",
              "      <th></th>\n",
              "      <th>count</th>\n",
              "      <th>mean</th>\n",
              "      <th>std</th>\n",
              "      <th>min</th>\n",
              "      <th>25%</th>\n",
              "      <th>50%</th>\n",
              "      <th>75%</th>\n",
              "      <th>max</th>\n",
              "    </tr>\n",
              "    <tr>\n",
              "      <th>Titulacao</th>\n",
              "      <th></th>\n",
              "      <th></th>\n",
              "      <th></th>\n",
              "      <th></th>\n",
              "      <th></th>\n",
              "      <th></th>\n",
              "      <th></th>\n",
              "      <th></th>\n",
              "    </tr>\n",
              "  </thead>\n",
              "  <tbody>\n",
              "    <tr>\n",
              "      <th>Master</th>\n",
              "      <td>40.0</td>\n",
              "      <td>0.575000</td>\n",
              "      <td>0.500641</td>\n",
              "      <td>0.0</td>\n",
              "      <td>0.0</td>\n",
              "      <td>1.0</td>\n",
              "      <td>1.00</td>\n",
              "      <td>1.0</td>\n",
              "    </tr>\n",
              "    <tr>\n",
              "      <th>Miss</th>\n",
              "      <td>184.0</td>\n",
              "      <td>0.701087</td>\n",
              "      <td>0.459031</td>\n",
              "      <td>0.0</td>\n",
              "      <td>0.0</td>\n",
              "      <td>1.0</td>\n",
              "      <td>1.00</td>\n",
              "      <td>1.0</td>\n",
              "    </tr>\n",
              "    <tr>\n",
              "      <th>Mr</th>\n",
              "      <td>517.0</td>\n",
              "      <td>0.156673</td>\n",
              "      <td>0.363844</td>\n",
              "      <td>0.0</td>\n",
              "      <td>0.0</td>\n",
              "      <td>0.0</td>\n",
              "      <td>0.00</td>\n",
              "      <td>1.0</td>\n",
              "    </tr>\n",
              "    <tr>\n",
              "      <th>Mrs</th>\n",
              "      <td>127.0</td>\n",
              "      <td>0.795276</td>\n",
              "      <td>0.405098</td>\n",
              "      <td>0.0</td>\n",
              "      <td>1.0</td>\n",
              "      <td>1.0</td>\n",
              "      <td>1.00</td>\n",
              "      <td>1.0</td>\n",
              "    </tr>\n",
              "    <tr>\n",
              "      <th>Officer</th>\n",
              "      <td>18.0</td>\n",
              "      <td>0.277778</td>\n",
              "      <td>0.460889</td>\n",
              "      <td>0.0</td>\n",
              "      <td>0.0</td>\n",
              "      <td>0.0</td>\n",
              "      <td>0.75</td>\n",
              "      <td>1.0</td>\n",
              "    </tr>\n",
              "    <tr>\n",
              "      <th>Royalty</th>\n",
              "      <td>5.0</td>\n",
              "      <td>0.600000</td>\n",
              "      <td>0.547723</td>\n",
              "      <td>0.0</td>\n",
              "      <td>0.0</td>\n",
              "      <td>1.0</td>\n",
              "      <td>1.00</td>\n",
              "      <td>1.0</td>\n",
              "    </tr>\n",
              "  </tbody>\n",
              "</table>\n",
              "</div>"
            ],
            "text/plain": [
              "           count      mean       std  min  25%  50%   75%  max\n",
              "Titulacao                                                     \n",
              "Master      40.0  0.575000  0.500641  0.0  0.0  1.0  1.00  1.0\n",
              "Miss       184.0  0.701087  0.459031  0.0  0.0  1.0  1.00  1.0\n",
              "Mr         517.0  0.156673  0.363844  0.0  0.0  0.0  0.00  1.0\n",
              "Mrs        127.0  0.795276  0.405098  0.0  1.0  1.0  1.00  1.0\n",
              "Officer     18.0  0.277778  0.460889  0.0  0.0  0.0  0.75  1.0\n",
              "Royalty      5.0  0.600000  0.547723  0.0  0.0  1.0  1.00  1.0"
            ]
          },
          "metadata": {
            "tags": []
          },
          "execution_count": 12
        }
      ]
    },
    {
      "cell_type": "markdown",
      "metadata": {
        "id": "iUzeAUhVfqp9"
      },
      "source": [
        "###Variável \"Cabin\""
      ]
    },
    {
      "cell_type": "markdown",
      "metadata": {
        "id": "8YoVQk2AfP3T"
      },
      "source": [
        "Para a variável **Cabin**, pegamos apenas sua primeira letra. Pela quantidade de valores faltantes presentes na variável, nota-se que a maior parte dos valores é representado por n (de NaN ou Not a Number)"
      ]
    },
    {
      "cell_type": "code",
      "metadata": {
        "id": "YeQxRzTdfrVB"
      },
      "source": [
        "def aux(x):\n",
        "  return list(str(x))[0]\n",
        "\n",
        "dataset['Cabin'] = dataset['Cabin'].apply(aux)"
      ],
      "execution_count": 13,
      "outputs": []
    },
    {
      "cell_type": "code",
      "metadata": {
        "id": "BXvcgqX6fsuE",
        "colab": {
          "base_uri": "https://localhost:8080/"
        },
        "outputId": "9bf2b50c-4674-4de7-cdcc-e2b506207749"
      },
      "source": [
        "dataset['Cabin'].value_counts()"
      ],
      "execution_count": 14,
      "outputs": [
        {
          "output_type": "execute_result",
          "data": {
            "text/plain": [
              "n    1014\n",
              "C      94\n",
              "B      65\n",
              "D      46\n",
              "E      41\n",
              "A      22\n",
              "F      21\n",
              "G       5\n",
              "T       1\n",
              "Name: Cabin, dtype: int64"
            ]
          },
          "metadata": {
            "tags": []
          },
          "execution_count": 14
        }
      ]
    },
    {
      "cell_type": "markdown",
      "metadata": {
        "id": "eOhvVK5_fuLN"
      },
      "source": [
        "###Variável \"Tipos de Família\""
      ]
    },
    {
      "cell_type": "markdown",
      "metadata": {
        "id": "M_pdvvv7ftKc"
      },
      "source": [
        "Para indicarmos os tipos de família presentes no Titanic, contabilizamos para cada passageiro quantos passageiros estavam com ele (incluindo ele mesmo). Grupos com quatro ou menos passageiros formam famílias pequenas, grupos com mais de quatro passageiros formam famílias grandes e apenas um passageiro indica que ele estava sozinho no navio"
      ]
    },
    {
      "cell_type": "code",
      "metadata": {
        "id": "xN5bi_3JfwcS"
      },
      "source": [
        "dataset['Familia'] = dataset['SibSp'] + dataset['Parch'] + 1"
      ],
      "execution_count": 15,
      "outputs": []
    },
    {
      "cell_type": "code",
      "metadata": {
        "id": "HtuJSRD8fxjd"
      },
      "source": [
        "def aux(x):\n",
        "  if x == 1:\n",
        "    return 'Sozinho'\n",
        "  elif x <= 4:\n",
        "    return 'Pequena'\n",
        "  else:\n",
        "    return 'Grande'\n",
        "\n",
        "dataset['FamiliaTipo'] = dataset['Familia'].apply(aux)"
      ],
      "execution_count": 16,
      "outputs": []
    },
    {
      "cell_type": "code",
      "metadata": {
        "colab": {
          "base_uri": "https://localhost:8080/",
          "height": 265
        },
        "id": "pZXs1vdvpAwR",
        "outputId": "aad60883-84bd-4de2-ddb5-6d8700039fd2"
      },
      "source": [
        "dataset['FamiliaTipo'].value_counts().plot(kind = 'pie')"
      ],
      "execution_count": 17,
      "outputs": [
        {
          "output_type": "execute_result",
          "data": {
            "text/plain": [
              "<matplotlib.axes._subplots.AxesSubplot at 0x7f7931c73a10>"
            ]
          },
          "metadata": {
            "tags": []
          },
          "execution_count": 17
        },
        {
          "output_type": "display_data",
          "data": {
            "image/png": "[encoded data removed]",
            "text/plain": [
              "<Figure size 432x288 with 1 Axes>"
            ]
          },
          "metadata": {
            "tags": []
          }
        }
      ]
    },
    {
      "cell_type": "markdown",
      "metadata": {
        "id": "S2Udn6v0pBOw"
      },
      "source": [
        "Podemos verificar que tipo de informação a variável criada fornece em relação à variável que desejamos prever"
      ]
    },
    {
      "cell_type": "code",
      "metadata": {
        "id": "RdfoM-3ofywM",
        "colab": {
          "base_uri": "https://localhost:8080/"
        },
        "outputId": "6e2acc59-8121-474e-bbf5-d142c220e422"
      },
      "source": [
        "dataset['Survived'].groupby(dataset['FamiliaTipo']).mean()"
      ],
      "execution_count": 18,
      "outputs": [
        {
          "output_type": "execute_result",
          "data": {
            "text/plain": [
              "FamiliaTipo\n",
              "Grande     0.161290\n",
              "Pequena    0.578767\n",
              "Sozinho    0.303538\n",
              "Name: Survived, dtype: float64"
            ]
          },
          "metadata": {
            "tags": []
          },
          "execution_count": 18
        }
      ]
    },
    {
      "cell_type": "markdown",
      "metadata": {
        "id": "qn63qm11f4ZA"
      },
      "source": [
        "###Descartando Variáveis"
      ]
    },
    {
      "cell_type": "markdown",
      "metadata": {
        "id": "UEi0xNhug-U5"
      },
      "source": [
        "Descartamos as variáveis que não serão mais utilizadas"
      ]
    },
    {
      "cell_type": "code",
      "metadata": {
        "id": "29Ps_8orf6wh"
      },
      "source": [
        "variaveis = ['PassengerId', 'Name', 'Ticket', 'Titulo']\n",
        "dataset.drop(variaveis, axis = 1, inplace = True)"
      ],
      "execution_count": 19,
      "outputs": []
    },
    {
      "cell_type": "code",
      "metadata": {
        "colab": {
          "base_uri": "https://localhost:8080/",
          "height": 204
        },
        "id": "9V3kBP47dkV2",
        "outputId": "a22db232-ab5a-4e2c-ab77-9d6d84e5023c"
      },
      "source": [
        "dataset.head()"
      ],
      "execution_count": 20,
      "outputs": [
        {
          "output_type": "execute_result",
          "data": {
            "text/html": [
              "<div>\n",
              "<style scoped>\n",
              "    .dataframe tbody tr th:only-of-type {\n",
              "        vertical-align: middle;\n",
              "    }\n",
              "\n",
              "    .dataframe tbody tr th {\n",
              "        vertical-align: top;\n",
              "    }\n",
              "\n",
              "    .dataframe thead th {\n",
              "        text-align: right;\n",
              "    }\n",
              "</style>\n",
              "<table border=\"1\" class=\"dataframe\">\n",
              "  <thead>\n",
              "    <tr style=\"text-align: right;\">\n",
              "      <th></th>\n",
              "      <th>Survived</th>\n",
              "      <th>Pclass</th>\n",
              "      <th>Sex</th>\n",
              "      <th>Age</th>\n",
              "      <th>SibSp</th>\n",
              "      <th>Parch</th>\n",
              "      <th>Fare</th>\n",
              "      <th>Cabin</th>\n",
              "      <th>Embarked</th>\n",
              "      <th>Titulacao</th>\n",
              "      <th>Familia</th>\n",
              "      <th>FamiliaTipo</th>\n",
              "    </tr>\n",
              "  </thead>\n",
              "  <tbody>\n",
              "    <tr>\n",
              "      <th>0</th>\n",
              "      <td>0.0</td>\n",
              "      <td>3</td>\n",
              "      <td>0</td>\n",
              "      <td>22.0</td>\n",
              "      <td>1</td>\n",
              "      <td>0</td>\n",
              "      <td>7.2500</td>\n",
              "      <td>n</td>\n",
              "      <td>S</td>\n",
              "      <td>Mr</td>\n",
              "      <td>2</td>\n",
              "      <td>Pequena</td>\n",
              "    </tr>\n",
              "    <tr>\n",
              "      <th>1</th>\n",
              "      <td>1.0</td>\n",
              "      <td>1</td>\n",
              "      <td>1</td>\n",
              "      <td>38.0</td>\n",
              "      <td>1</td>\n",
              "      <td>0</td>\n",
              "      <td>71.2833</td>\n",
              "      <td>C</td>\n",
              "      <td>C</td>\n",
              "      <td>Mrs</td>\n",
              "      <td>2</td>\n",
              "      <td>Pequena</td>\n",
              "    </tr>\n",
              "    <tr>\n",
              "      <th>2</th>\n",
              "      <td>1.0</td>\n",
              "      <td>3</td>\n",
              "      <td>1</td>\n",
              "      <td>26.0</td>\n",
              "      <td>0</td>\n",
              "      <td>0</td>\n",
              "      <td>7.9250</td>\n",
              "      <td>n</td>\n",
              "      <td>S</td>\n",
              "      <td>Miss</td>\n",
              "      <td>1</td>\n",
              "      <td>Sozinho</td>\n",
              "    </tr>\n",
              "    <tr>\n",
              "      <th>3</th>\n",
              "      <td>1.0</td>\n",
              "      <td>1</td>\n",
              "      <td>1</td>\n",
              "      <td>35.0</td>\n",
              "      <td>1</td>\n",
              "      <td>0</td>\n",
              "      <td>53.1000</td>\n",
              "      <td>C</td>\n",
              "      <td>S</td>\n",
              "      <td>Mrs</td>\n",
              "      <td>2</td>\n",
              "      <td>Pequena</td>\n",
              "    </tr>\n",
              "    <tr>\n",
              "      <th>4</th>\n",
              "      <td>0.0</td>\n",
              "      <td>3</td>\n",
              "      <td>0</td>\n",
              "      <td>35.0</td>\n",
              "      <td>0</td>\n",
              "      <td>0</td>\n",
              "      <td>8.0500</td>\n",
              "      <td>n</td>\n",
              "      <td>S</td>\n",
              "      <td>Mr</td>\n",
              "      <td>1</td>\n",
              "      <td>Sozinho</td>\n",
              "    </tr>\n",
              "  </tbody>\n",
              "</table>\n",
              "</div>"
            ],
            "text/plain": [
              "   Survived  Pclass  Sex   Age  ...  Embarked  Titulacao  Familia FamiliaTipo\n",
              "0       0.0       3    0  22.0  ...         S         Mr        2     Pequena\n",
              "1       1.0       1    1  38.0  ...         C        Mrs        2     Pequena\n",
              "2       1.0       3    1  26.0  ...         S       Miss        1     Sozinho\n",
              "3       1.0       1    1  35.0  ...         S        Mrs        2     Pequena\n",
              "4       0.0       3    0  35.0  ...         S         Mr        1     Sozinho\n",
              "\n",
              "[5 rows x 12 columns]"
            ]
          },
          "metadata": {
            "tags": []
          },
          "execution_count": 20
        }
      ]
    },
    {
      "cell_type": "markdown",
      "metadata": {
        "id": "2Tmmd6jHf8Vl"
      },
      "source": [
        "###Dummificando Variáveis"
      ]
    },
    {
      "cell_type": "markdown",
      "metadata": {
        "id": "uyTATLZbhDwp"
      },
      "source": [
        "Fazemos a dummificação das variáveis com mais de duas categorias para que elas sejam apresentadas ao modelo de forma numérica"
      ]
    },
    {
      "cell_type": "code",
      "metadata": {
        "id": "QW7reSMmgs_f"
      },
      "source": [
        "dummificar = ['Pclass', 'Cabin', 'Embarked', 'Titulacao', 'FamiliaTipo']\n",
        "dataset = pd.get_dummies(dataset, columns = dummificar)"
      ],
      "execution_count": 21,
      "outputs": []
    },
    {
      "cell_type": "code",
      "metadata": {
        "colab": {
          "base_uri": "https://localhost:8080/",
          "height": 224
        },
        "id": "MeQ0amMJdmm8",
        "outputId": "5c80e33d-d9b9-4b3b-92bb-7e31e0641c0a"
      },
      "source": [
        "dataset.head()"
      ],
      "execution_count": 22,
      "outputs": [
        {
          "output_type": "execute_result",
          "data": {
            "text/html": [
              "<div>\n",
              "<style scoped>\n",
              "    .dataframe tbody tr th:only-of-type {\n",
              "        vertical-align: middle;\n",
              "    }\n",
              "\n",
              "    .dataframe tbody tr th {\n",
              "        vertical-align: top;\n",
              "    }\n",
              "\n",
              "    .dataframe thead th {\n",
              "        text-align: right;\n",
              "    }\n",
              "</style>\n",
              "<table border=\"1\" class=\"dataframe\">\n",
              "  <thead>\n",
              "    <tr style=\"text-align: right;\">\n",
              "      <th></th>\n",
              "      <th>Survived</th>\n",
              "      <th>Sex</th>\n",
              "      <th>Age</th>\n",
              "      <th>SibSp</th>\n",
              "      <th>Parch</th>\n",
              "      <th>Fare</th>\n",
              "      <th>Familia</th>\n",
              "      <th>Pclass_1</th>\n",
              "      <th>Pclass_2</th>\n",
              "      <th>Pclass_3</th>\n",
              "      <th>Cabin_A</th>\n",
              "      <th>Cabin_B</th>\n",
              "      <th>Cabin_C</th>\n",
              "      <th>Cabin_D</th>\n",
              "      <th>Cabin_E</th>\n",
              "      <th>Cabin_F</th>\n",
              "      <th>Cabin_G</th>\n",
              "      <th>Cabin_T</th>\n",
              "      <th>Cabin_n</th>\n",
              "      <th>Embarked_C</th>\n",
              "      <th>Embarked_Q</th>\n",
              "      <th>Embarked_S</th>\n",
              "      <th>Titulacao_Master</th>\n",
              "      <th>Titulacao_Miss</th>\n",
              "      <th>Titulacao_Mr</th>\n",
              "      <th>Titulacao_Mrs</th>\n",
              "      <th>Titulacao_Officer</th>\n",
              "      <th>Titulacao_Royalty</th>\n",
              "      <th>FamiliaTipo_Grande</th>\n",
              "      <th>FamiliaTipo_Pequena</th>\n",
              "      <th>FamiliaTipo_Sozinho</th>\n",
              "    </tr>\n",
              "  </thead>\n",
              "  <tbody>\n",
              "    <tr>\n",
              "      <th>0</th>\n",
              "      <td>0.0</td>\n",
              "      <td>0</td>\n",
              "      <td>22.0</td>\n",
              "      <td>1</td>\n",
              "      <td>0</td>\n",
              "      <td>7.2500</td>\n",
              "      <td>2</td>\n",
              "      <td>0</td>\n",
              "      <td>0</td>\n",
              "      <td>1</td>\n",
              "      <td>0</td>\n",
              "      <td>0</td>\n",
              "      <td>0</td>\n",
              "      <td>0</td>\n",
              "      <td>0</td>\n",
              "      <td>0</td>\n",
              "      <td>0</td>\n",
              "      <td>0</td>\n",
              "      <td>1</td>\n",
              "      <td>0</td>\n",
              "      <td>0</td>\n",
              "      <td>1</td>\n",
              "      <td>0</td>\n",
              "      <td>0</td>\n",
              "      <td>1</td>\n",
              "      <td>0</td>\n",
              "      <td>0</td>\n",
              "      <td>0</td>\n",
              "      <td>0</td>\n",
              "      <td>1</td>\n",
              "      <td>0</td>\n",
              "    </tr>\n",
              "    <tr>\n",
              "      <th>1</th>\n",
              "      <td>1.0</td>\n",
              "      <td>1</td>\n",
              "      <td>38.0</td>\n",
              "      <td>1</td>\n",
              "      <td>0</td>\n",
              "      <td>71.2833</td>\n",
              "      <td>2</td>\n",
              "      <td>1</td>\n",
              "      <td>0</td>\n",
              "      <td>0</td>\n",
              "      <td>0</td>\n",
              "      <td>0</td>\n",
              "      <td>1</td>\n",
              "      <td>0</td>\n",
              "      <td>0</td>\n",
              "      <td>0</td>\n",
              "      <td>0</td>\n",
              "      <td>0</td>\n",
              "      <td>0</td>\n",
              "      <td>1</td>\n",
              "      <td>0</td>\n",
              "      <td>0</td>\n",
              "      <td>0</td>\n",
              "      <td>0</td>\n",
              "      <td>0</td>\n",
              "      <td>1</td>\n",
              "      <td>0</td>\n",
              "      <td>0</td>\n",
              "      <td>0</td>\n",
              "      <td>1</td>\n",
              "      <td>0</td>\n",
              "    </tr>\n",
              "    <tr>\n",
              "      <th>2</th>\n",
              "      <td>1.0</td>\n",
              "      <td>1</td>\n",
              "      <td>26.0</td>\n",
              "      <td>0</td>\n",
              "      <td>0</td>\n",
              "      <td>7.9250</td>\n",
              "      <td>1</td>\n",
              "      <td>0</td>\n",
              "      <td>0</td>\n",
              "      <td>1</td>\n",
              "      <td>0</td>\n",
              "      <td>0</td>\n",
              "      <td>0</td>\n",
              "      <td>0</td>\n",
              "      <td>0</td>\n",
              "      <td>0</td>\n",
              "      <td>0</td>\n",
              "      <td>0</td>\n",
              "      <td>1</td>\n",
              "      <td>0</td>\n",
              "      <td>0</td>\n",
              "      <td>1</td>\n",
              "      <td>0</td>\n",
              "      <td>1</td>\n",
              "      <td>0</td>\n",
              "      <td>0</td>\n",
              "      <td>0</td>\n",
              "      <td>0</td>\n",
              "      <td>0</td>\n",
              "      <td>0</td>\n",
              "      <td>1</td>\n",
              "    </tr>\n",
              "    <tr>\n",
              "      <th>3</th>\n",
              "      <td>1.0</td>\n",
              "      <td>1</td>\n",
              "      <td>35.0</td>\n",
              "      <td>1</td>\n",
              "      <td>0</td>\n",
              "      <td>53.1000</td>\n",
              "      <td>2</td>\n",
              "      <td>1</td>\n",
              "      <td>0</td>\n",
              "      <td>0</td>\n",
              "      <td>0</td>\n",
              "      <td>0</td>\n",
              "      <td>1</td>\n",
              "      <td>0</td>\n",
              "      <td>0</td>\n",
              "      <td>0</td>\n",
              "      <td>0</td>\n",
              "      <td>0</td>\n",
              "      <td>0</td>\n",
              "      <td>0</td>\n",
              "      <td>0</td>\n",
              "      <td>1</td>\n",
              "      <td>0</td>\n",
              "      <td>0</td>\n",
              "      <td>0</td>\n",
              "      <td>1</td>\n",
              "      <td>0</td>\n",
              "      <td>0</td>\n",
              "      <td>0</td>\n",
              "      <td>1</td>\n",
              "      <td>0</td>\n",
              "    </tr>\n",
              "    <tr>\n",
              "      <th>4</th>\n",
              "      <td>0.0</td>\n",
              "      <td>0</td>\n",
              "      <td>35.0</td>\n",
              "      <td>0</td>\n",
              "      <td>0</td>\n",
              "      <td>8.0500</td>\n",
              "      <td>1</td>\n",
              "      <td>0</td>\n",
              "      <td>0</td>\n",
              "      <td>1</td>\n",
              "      <td>0</td>\n",
              "      <td>0</td>\n",
              "      <td>0</td>\n",
              "      <td>0</td>\n",
              "      <td>0</td>\n",
              "      <td>0</td>\n",
              "      <td>0</td>\n",
              "      <td>0</td>\n",
              "      <td>1</td>\n",
              "      <td>0</td>\n",
              "      <td>0</td>\n",
              "      <td>1</td>\n",
              "      <td>0</td>\n",
              "      <td>0</td>\n",
              "      <td>1</td>\n",
              "      <td>0</td>\n",
              "      <td>0</td>\n",
              "      <td>0</td>\n",
              "      <td>0</td>\n",
              "      <td>0</td>\n",
              "      <td>1</td>\n",
              "    </tr>\n",
              "  </tbody>\n",
              "</table>\n",
              "</div>"
            ],
            "text/plain": [
              "   Survived  Sex  ...  FamiliaTipo_Pequena  FamiliaTipo_Sozinho\n",
              "0       0.0    0  ...                    1                    0\n",
              "1       1.0    1  ...                    1                    0\n",
              "2       1.0    1  ...                    0                    1\n",
              "3       1.0    1  ...                    1                    0\n",
              "4       0.0    0  ...                    0                    1\n",
              "\n",
              "[5 rows x 31 columns]"
            ]
          },
          "metadata": {
            "tags": []
          },
          "execution_count": 22
        }
      ]
    },
    {
      "cell_type": "markdown",
      "metadata": {
        "id": "kRe9DzSCgzNO"
      },
      "source": [
        "###Valores Faltantes"
      ]
    },
    {
      "cell_type": "markdown",
      "metadata": {
        "id": "ShjCe8CnhOaD"
      },
      "source": [
        "VERIFICANDO DADOS FALTANTES"
      ]
    },
    {
      "cell_type": "code",
      "metadata": {
        "id": "Lcjhdad-g0Ox",
        "colab": {
          "base_uri": "https://localhost:8080/"
        },
        "outputId": "4c8409b1-c84e-4089-ee9d-10ca8679faa6"
      },
      "source": [
        "dataset.isnull().sum()"
      ],
      "execution_count": 23,
      "outputs": [
        {
          "output_type": "execute_result",
          "data": {
            "text/plain": [
              "Survived               418\n",
              "Sex                      0\n",
              "Age                    263\n",
              "SibSp                    0\n",
              "Parch                    0\n",
              "Fare                     1\n",
              "Familia                  0\n",
              "Pclass_1                 0\n",
              "Pclass_2                 0\n",
              "Pclass_3                 0\n",
              "Cabin_A                  0\n",
              "Cabin_B                  0\n",
              "Cabin_C                  0\n",
              "Cabin_D                  0\n",
              "Cabin_E                  0\n",
              "Cabin_F                  0\n",
              "Cabin_G                  0\n",
              "Cabin_T                  0\n",
              "Cabin_n                  0\n",
              "Embarked_C               0\n",
              "Embarked_Q               0\n",
              "Embarked_S               0\n",
              "Titulacao_Master         0\n",
              "Titulacao_Miss           0\n",
              "Titulacao_Mr             0\n",
              "Titulacao_Mrs            0\n",
              "Titulacao_Officer        0\n",
              "Titulacao_Royalty        0\n",
              "FamiliaTipo_Grande       0\n",
              "FamiliaTipo_Pequena      0\n",
              "FamiliaTipo_Sozinho      0\n",
              "dtype: int64"
            ]
          },
          "metadata": {
            "tags": []
          },
          "execution_count": 23
        }
      ]
    },
    {
      "cell_type": "markdown",
      "metadata": {
        "id": "Clw0-SvGhRqb"
      },
      "source": [
        "PREENCHENDO DADOS FALTANTES"
      ]
    },
    {
      "cell_type": "markdown",
      "metadata": {
        "id": "eq5zRj99pXwM"
      },
      "source": [
        "Neste projeto, faremos a imputação dos dados faltantes por meio de modelagem KNN. Ajustamos a transformação nos dados de treinamento e utilizamos o mesmo ajuste também nos dados de teste"
      ]
    },
    {
      "cell_type": "code",
      "metadata": {
        "id": "BfppmVNPg1e-"
      },
      "source": [
        "imputer = KNNImputer()\n",
        "\n",
        "knnimp = imputer.fit(dataset.loc[:n-1, :].drop('Survived', axis = 1))\n",
        "knnimp = imputer.transform(dataset.drop('Survived', axis = 1))"
      ],
      "execution_count": 24,
      "outputs": []
    },
    {
      "cell_type": "code",
      "metadata": {
        "id": "DdSL9NYWg7L9"
      },
      "source": [
        "dataset = pd.DataFrame(knnimp, columns = dataset.columns[1:])"
      ],
      "execution_count": 25,
      "outputs": []
    },
    {
      "cell_type": "code",
      "metadata": {
        "colab": {
          "base_uri": "https://localhost:8080/"
        },
        "id": "TYQ3r1cldrtL",
        "outputId": "f8dde829-9b72-40b8-c28f-6ebe1646c8a3"
      },
      "source": [
        "dataset.isnull().sum()"
      ],
      "execution_count": 26,
      "outputs": [
        {
          "output_type": "execute_result",
          "data": {
            "text/plain": [
              "Sex                    0\n",
              "Age                    0\n",
              "SibSp                  0\n",
              "Parch                  0\n",
              "Fare                   0\n",
              "Familia                0\n",
              "Pclass_1               0\n",
              "Pclass_2               0\n",
              "Pclass_3               0\n",
              "Cabin_A                0\n",
              "Cabin_B                0\n",
              "Cabin_C                0\n",
              "Cabin_D                0\n",
              "Cabin_E                0\n",
              "Cabin_F                0\n",
              "Cabin_G                0\n",
              "Cabin_T                0\n",
              "Cabin_n                0\n",
              "Embarked_C             0\n",
              "Embarked_Q             0\n",
              "Embarked_S             0\n",
              "Titulacao_Master       0\n",
              "Titulacao_Miss         0\n",
              "Titulacao_Mr           0\n",
              "Titulacao_Mrs          0\n",
              "Titulacao_Officer      0\n",
              "Titulacao_Royalty      0\n",
              "FamiliaTipo_Grande     0\n",
              "FamiliaTipo_Pequena    0\n",
              "FamiliaTipo_Sozinho    0\n",
              "dtype: int64"
            ]
          },
          "metadata": {
            "tags": []
          },
          "execution_count": 26
        }
      ]
    },
    {
      "cell_type": "markdown",
      "metadata": {
        "id": "NWpHSKqbg8qL"
      },
      "source": [
        "###Padronização das Variáveis"
      ]
    },
    {
      "cell_type": "markdown",
      "metadata": {
        "id": "TI3iFF3VhW_B"
      },
      "source": [
        "Antes de alterarmos a escala das variáveis por padronização, redividimos o conjunto de dados no conjunto treino e no conjunto teste"
      ]
    },
    {
      "cell_type": "code",
      "metadata": {
        "id": "p7trxxQeg-5O"
      },
      "source": [
        "treino = dataset.loc[:n-1, :]\n",
        "teste = dataset.loc[n:, :]"
      ],
      "execution_count": 27,
      "outputs": []
    },
    {
      "cell_type": "markdown",
      "metadata": {
        "id": "xDoBmOGYhwv6"
      },
      "source": [
        "Utilizando a função Standard Scaler, ajustamos a transformação nos dados de treinamento e utilizamos o mesmo ajuste também nos dados de teste"
      ]
    },
    {
      "cell_type": "code",
      "metadata": {
        "id": "AKoFJ79GhB5l"
      },
      "source": [
        "sc = StandardScaler()\n",
        "\n",
        "aux0 = sc.fit_transform(treino[['Age', 'Fare']])\n",
        "aux1 = pd.DataFrame(aux0, columns = ['Idade', 'Tarifa'])\n",
        "treino = pd.concat([treino, aux1], axis = 1)\n",
        "treino.drop(['Age', 'Fare'], axis = 1, inplace = True)"
      ],
      "execution_count": 28,
      "outputs": []
    },
    {
      "cell_type": "code",
      "metadata": {
        "colab": {
          "base_uri": "https://localhost:8080/",
          "height": 224
        },
        "id": "NyGZpxUndyB9",
        "outputId": "c2235348-44e1-4a06-81e0-a37e94e22ecc"
      },
      "source": [
        "treino.head()"
      ],
      "execution_count": 29,
      "outputs": [
        {
          "output_type": "execute_result",
          "data": {
            "text/html": [
              "<div>\n",
              "<style scoped>\n",
              "    .dataframe tbody tr th:only-of-type {\n",
              "        vertical-align: middle;\n",
              "    }\n",
              "\n",
              "    .dataframe tbody tr th {\n",
              "        vertical-align: top;\n",
              "    }\n",
              "\n",
              "    .dataframe thead th {\n",
              "        text-align: right;\n",
              "    }\n",
              "</style>\n",
              "<table border=\"1\" class=\"dataframe\">\n",
              "  <thead>\n",
              "    <tr style=\"text-align: right;\">\n",
              "      <th></th>\n",
              "      <th>Sex</th>\n",
              "      <th>SibSp</th>\n",
              "      <th>Parch</th>\n",
              "      <th>Familia</th>\n",
              "      <th>Pclass_1</th>\n",
              "      <th>Pclass_2</th>\n",
              "      <th>Pclass_3</th>\n",
              "      <th>Cabin_A</th>\n",
              "      <th>Cabin_B</th>\n",
              "      <th>Cabin_C</th>\n",
              "      <th>Cabin_D</th>\n",
              "      <th>Cabin_E</th>\n",
              "      <th>Cabin_F</th>\n",
              "      <th>Cabin_G</th>\n",
              "      <th>Cabin_T</th>\n",
              "      <th>Cabin_n</th>\n",
              "      <th>Embarked_C</th>\n",
              "      <th>Embarked_Q</th>\n",
              "      <th>Embarked_S</th>\n",
              "      <th>Titulacao_Master</th>\n",
              "      <th>Titulacao_Miss</th>\n",
              "      <th>Titulacao_Mr</th>\n",
              "      <th>Titulacao_Mrs</th>\n",
              "      <th>Titulacao_Officer</th>\n",
              "      <th>Titulacao_Royalty</th>\n",
              "      <th>FamiliaTipo_Grande</th>\n",
              "      <th>FamiliaTipo_Pequena</th>\n",
              "      <th>FamiliaTipo_Sozinho</th>\n",
              "      <th>Idade</th>\n",
              "      <th>Tarifa</th>\n",
              "    </tr>\n",
              "  </thead>\n",
              "  <tbody>\n",
              "    <tr>\n",
              "      <th>0</th>\n",
              "      <td>0.0</td>\n",
              "      <td>1.0</td>\n",
              "      <td>0.0</td>\n",
              "      <td>2.0</td>\n",
              "      <td>0.0</td>\n",
              "      <td>0.0</td>\n",
              "      <td>1.0</td>\n",
              "      <td>0.0</td>\n",
              "      <td>0.0</td>\n",
              "      <td>0.0</td>\n",
              "      <td>0.0</td>\n",
              "      <td>0.0</td>\n",
              "      <td>0.0</td>\n",
              "      <td>0.0</td>\n",
              "      <td>0.0</td>\n",
              "      <td>1.0</td>\n",
              "      <td>0.0</td>\n",
              "      <td>0.0</td>\n",
              "      <td>1.0</td>\n",
              "      <td>0.0</td>\n",
              "      <td>0.0</td>\n",
              "      <td>1.0</td>\n",
              "      <td>0.0</td>\n",
              "      <td>0.0</td>\n",
              "      <td>0.0</td>\n",
              "      <td>0.0</td>\n",
              "      <td>1.0</td>\n",
              "      <td>0.0</td>\n",
              "      <td>-0.575796</td>\n",
              "      <td>-0.502445</td>\n",
              "    </tr>\n",
              "    <tr>\n",
              "      <th>1</th>\n",
              "      <td>1.0</td>\n",
              "      <td>1.0</td>\n",
              "      <td>0.0</td>\n",
              "      <td>2.0</td>\n",
              "      <td>1.0</td>\n",
              "      <td>0.0</td>\n",
              "      <td>0.0</td>\n",
              "      <td>0.0</td>\n",
              "      <td>0.0</td>\n",
              "      <td>1.0</td>\n",
              "      <td>0.0</td>\n",
              "      <td>0.0</td>\n",
              "      <td>0.0</td>\n",
              "      <td>0.0</td>\n",
              "      <td>0.0</td>\n",
              "      <td>0.0</td>\n",
              "      <td>1.0</td>\n",
              "      <td>0.0</td>\n",
              "      <td>0.0</td>\n",
              "      <td>0.0</td>\n",
              "      <td>0.0</td>\n",
              "      <td>0.0</td>\n",
              "      <td>1.0</td>\n",
              "      <td>0.0</td>\n",
              "      <td>0.0</td>\n",
              "      <td>0.0</td>\n",
              "      <td>1.0</td>\n",
              "      <td>0.0</td>\n",
              "      <td>0.598609</td>\n",
              "      <td>0.786845</td>\n",
              "    </tr>\n",
              "    <tr>\n",
              "      <th>2</th>\n",
              "      <td>1.0</td>\n",
              "      <td>0.0</td>\n",
              "      <td>0.0</td>\n",
              "      <td>1.0</td>\n",
              "      <td>0.0</td>\n",
              "      <td>0.0</td>\n",
              "      <td>1.0</td>\n",
              "      <td>0.0</td>\n",
              "      <td>0.0</td>\n",
              "      <td>0.0</td>\n",
              "      <td>0.0</td>\n",
              "      <td>0.0</td>\n",
              "      <td>0.0</td>\n",
              "      <td>0.0</td>\n",
              "      <td>0.0</td>\n",
              "      <td>1.0</td>\n",
              "      <td>0.0</td>\n",
              "      <td>0.0</td>\n",
              "      <td>1.0</td>\n",
              "      <td>0.0</td>\n",
              "      <td>1.0</td>\n",
              "      <td>0.0</td>\n",
              "      <td>0.0</td>\n",
              "      <td>0.0</td>\n",
              "      <td>0.0</td>\n",
              "      <td>0.0</td>\n",
              "      <td>0.0</td>\n",
              "      <td>1.0</td>\n",
              "      <td>-0.282195</td>\n",
              "      <td>-0.488854</td>\n",
              "    </tr>\n",
              "    <tr>\n",
              "      <th>3</th>\n",
              "      <td>1.0</td>\n",
              "      <td>1.0</td>\n",
              "      <td>0.0</td>\n",
              "      <td>2.0</td>\n",
              "      <td>1.0</td>\n",
              "      <td>0.0</td>\n",
              "      <td>0.0</td>\n",
              "      <td>0.0</td>\n",
              "      <td>0.0</td>\n",
              "      <td>1.0</td>\n",
              "      <td>0.0</td>\n",
              "      <td>0.0</td>\n",
              "      <td>0.0</td>\n",
              "      <td>0.0</td>\n",
              "      <td>0.0</td>\n",
              "      <td>0.0</td>\n",
              "      <td>0.0</td>\n",
              "      <td>0.0</td>\n",
              "      <td>1.0</td>\n",
              "      <td>0.0</td>\n",
              "      <td>0.0</td>\n",
              "      <td>0.0</td>\n",
              "      <td>1.0</td>\n",
              "      <td>0.0</td>\n",
              "      <td>0.0</td>\n",
              "      <td>0.0</td>\n",
              "      <td>1.0</td>\n",
              "      <td>0.0</td>\n",
              "      <td>0.378408</td>\n",
              "      <td>0.420730</td>\n",
              "    </tr>\n",
              "    <tr>\n",
              "      <th>4</th>\n",
              "      <td>0.0</td>\n",
              "      <td>0.0</td>\n",
              "      <td>0.0</td>\n",
              "      <td>1.0</td>\n",
              "      <td>0.0</td>\n",
              "      <td>0.0</td>\n",
              "      <td>1.0</td>\n",
              "      <td>0.0</td>\n",
              "      <td>0.0</td>\n",
              "      <td>0.0</td>\n",
              "      <td>0.0</td>\n",
              "      <td>0.0</td>\n",
              "      <td>0.0</td>\n",
              "      <td>0.0</td>\n",
              "      <td>0.0</td>\n",
              "      <td>1.0</td>\n",
              "      <td>0.0</td>\n",
              "      <td>0.0</td>\n",
              "      <td>1.0</td>\n",
              "      <td>0.0</td>\n",
              "      <td>0.0</td>\n",
              "      <td>1.0</td>\n",
              "      <td>0.0</td>\n",
              "      <td>0.0</td>\n",
              "      <td>0.0</td>\n",
              "      <td>0.0</td>\n",
              "      <td>0.0</td>\n",
              "      <td>1.0</td>\n",
              "      <td>0.378408</td>\n",
              "      <td>-0.486337</td>\n",
              "    </tr>\n",
              "  </tbody>\n",
              "</table>\n",
              "</div>"
            ],
            "text/plain": [
              "   Sex  SibSp  Parch  ...  FamiliaTipo_Sozinho     Idade    Tarifa\n",
              "0  0.0    1.0    0.0  ...                  0.0 -0.575796 -0.502445\n",
              "1  1.0    1.0    0.0  ...                  0.0  0.598609  0.786845\n",
              "2  1.0    0.0    0.0  ...                  1.0 -0.282195 -0.488854\n",
              "3  1.0    1.0    0.0  ...                  0.0  0.378408  0.420730\n",
              "4  0.0    0.0    0.0  ...                  1.0  0.378408 -0.486337\n",
              "\n",
              "[5 rows x 30 columns]"
            ]
          },
          "metadata": {
            "tags": []
          },
          "execution_count": 29
        }
      ]
    },
    {
      "cell_type": "code",
      "metadata": {
        "id": "T3yL9UZHhInN"
      },
      "source": [
        "aux0 = sc.transform(teste[['Age', 'Fare']])\n",
        "aux1 = pd.DataFrame(aux0, columns = ['Idade', 'Tarifa'])\n",
        "teste = teste.reset_index()\n",
        "teste = pd.concat([teste, aux1], axis = 1)\n",
        "teste.drop(['Age', 'Fare', 'index'], axis = 1, inplace = True)"
      ],
      "execution_count": 30,
      "outputs": []
    },
    {
      "cell_type": "code",
      "metadata": {
        "colab": {
          "base_uri": "https://localhost:8080/",
          "height": 224
        },
        "id": "O-9hb-Wehcsa",
        "outputId": "bfe82500-7506-4a39-aae9-e7ce8b5def2a"
      },
      "source": [
        "teste.head()"
      ],
      "execution_count": 31,
      "outputs": [
        {
          "output_type": "execute_result",
          "data": {
            "text/html": [
              "<div>\n",
              "<style scoped>\n",
              "    .dataframe tbody tr th:only-of-type {\n",
              "        vertical-align: middle;\n",
              "    }\n",
              "\n",
              "    .dataframe tbody tr th {\n",
              "        vertical-align: top;\n",
              "    }\n",
              "\n",
              "    .dataframe thead th {\n",
              "        text-align: right;\n",
              "    }\n",
              "</style>\n",
              "<table border=\"1\" class=\"dataframe\">\n",
              "  <thead>\n",
              "    <tr style=\"text-align: right;\">\n",
              "      <th></th>\n",
              "      <th>Sex</th>\n",
              "      <th>SibSp</th>\n",
              "      <th>Parch</th>\n",
              "      <th>Familia</th>\n",
              "      <th>Pclass_1</th>\n",
              "      <th>Pclass_2</th>\n",
              "      <th>Pclass_3</th>\n",
              "      <th>Cabin_A</th>\n",
              "      <th>Cabin_B</th>\n",
              "      <th>Cabin_C</th>\n",
              "      <th>Cabin_D</th>\n",
              "      <th>Cabin_E</th>\n",
              "      <th>Cabin_F</th>\n",
              "      <th>Cabin_G</th>\n",
              "      <th>Cabin_T</th>\n",
              "      <th>Cabin_n</th>\n",
              "      <th>Embarked_C</th>\n",
              "      <th>Embarked_Q</th>\n",
              "      <th>Embarked_S</th>\n",
              "      <th>Titulacao_Master</th>\n",
              "      <th>Titulacao_Miss</th>\n",
              "      <th>Titulacao_Mr</th>\n",
              "      <th>Titulacao_Mrs</th>\n",
              "      <th>Titulacao_Officer</th>\n",
              "      <th>Titulacao_Royalty</th>\n",
              "      <th>FamiliaTipo_Grande</th>\n",
              "      <th>FamiliaTipo_Pequena</th>\n",
              "      <th>FamiliaTipo_Sozinho</th>\n",
              "      <th>Idade</th>\n",
              "      <th>Tarifa</th>\n",
              "    </tr>\n",
              "  </thead>\n",
              "  <tbody>\n",
              "    <tr>\n",
              "      <th>0</th>\n",
              "      <td>0.0</td>\n",
              "      <td>0.0</td>\n",
              "      <td>0.0</td>\n",
              "      <td>1.0</td>\n",
              "      <td>0.0</td>\n",
              "      <td>0.0</td>\n",
              "      <td>1.0</td>\n",
              "      <td>0.0</td>\n",
              "      <td>0.0</td>\n",
              "      <td>0.0</td>\n",
              "      <td>0.0</td>\n",
              "      <td>0.0</td>\n",
              "      <td>0.0</td>\n",
              "      <td>0.0</td>\n",
              "      <td>0.0</td>\n",
              "      <td>1.0</td>\n",
              "      <td>0.0</td>\n",
              "      <td>1.0</td>\n",
              "      <td>0.0</td>\n",
              "      <td>0.0</td>\n",
              "      <td>0.0</td>\n",
              "      <td>1.0</td>\n",
              "      <td>0.0</td>\n",
              "      <td>0.0</td>\n",
              "      <td>0.0</td>\n",
              "      <td>0.0</td>\n",
              "      <td>0.0</td>\n",
              "      <td>1.0</td>\n",
              "      <td>0.341708</td>\n",
              "      <td>-0.490783</td>\n",
              "    </tr>\n",
              "    <tr>\n",
              "      <th>1</th>\n",
              "      <td>1.0</td>\n",
              "      <td>1.0</td>\n",
              "      <td>0.0</td>\n",
              "      <td>2.0</td>\n",
              "      <td>0.0</td>\n",
              "      <td>0.0</td>\n",
              "      <td>1.0</td>\n",
              "      <td>0.0</td>\n",
              "      <td>0.0</td>\n",
              "      <td>0.0</td>\n",
              "      <td>0.0</td>\n",
              "      <td>0.0</td>\n",
              "      <td>0.0</td>\n",
              "      <td>0.0</td>\n",
              "      <td>0.0</td>\n",
              "      <td>1.0</td>\n",
              "      <td>0.0</td>\n",
              "      <td>0.0</td>\n",
              "      <td>1.0</td>\n",
              "      <td>0.0</td>\n",
              "      <td>0.0</td>\n",
              "      <td>0.0</td>\n",
              "      <td>1.0</td>\n",
              "      <td>0.0</td>\n",
              "      <td>0.0</td>\n",
              "      <td>0.0</td>\n",
              "      <td>1.0</td>\n",
              "      <td>0.0</td>\n",
              "      <td>1.259212</td>\n",
              "      <td>-0.507479</td>\n",
              "    </tr>\n",
              "    <tr>\n",
              "      <th>2</th>\n",
              "      <td>0.0</td>\n",
              "      <td>0.0</td>\n",
              "      <td>0.0</td>\n",
              "      <td>1.0</td>\n",
              "      <td>0.0</td>\n",
              "      <td>1.0</td>\n",
              "      <td>0.0</td>\n",
              "      <td>0.0</td>\n",
              "      <td>0.0</td>\n",
              "      <td>0.0</td>\n",
              "      <td>0.0</td>\n",
              "      <td>0.0</td>\n",
              "      <td>0.0</td>\n",
              "      <td>0.0</td>\n",
              "      <td>0.0</td>\n",
              "      <td>1.0</td>\n",
              "      <td>0.0</td>\n",
              "      <td>1.0</td>\n",
              "      <td>0.0</td>\n",
              "      <td>0.0</td>\n",
              "      <td>0.0</td>\n",
              "      <td>1.0</td>\n",
              "      <td>0.0</td>\n",
              "      <td>0.0</td>\n",
              "      <td>0.0</td>\n",
              "      <td>0.0</td>\n",
              "      <td>0.0</td>\n",
              "      <td>1.0</td>\n",
              "      <td>2.360217</td>\n",
              "      <td>-0.453367</td>\n",
              "    </tr>\n",
              "    <tr>\n",
              "      <th>3</th>\n",
              "      <td>0.0</td>\n",
              "      <td>0.0</td>\n",
              "      <td>0.0</td>\n",
              "      <td>1.0</td>\n",
              "      <td>0.0</td>\n",
              "      <td>0.0</td>\n",
              "      <td>1.0</td>\n",
              "      <td>0.0</td>\n",
              "      <td>0.0</td>\n",
              "      <td>0.0</td>\n",
              "      <td>0.0</td>\n",
              "      <td>0.0</td>\n",
              "      <td>0.0</td>\n",
              "      <td>0.0</td>\n",
              "      <td>0.0</td>\n",
              "      <td>1.0</td>\n",
              "      <td>0.0</td>\n",
              "      <td>0.0</td>\n",
              "      <td>1.0</td>\n",
              "      <td>0.0</td>\n",
              "      <td>0.0</td>\n",
              "      <td>1.0</td>\n",
              "      <td>0.0</td>\n",
              "      <td>0.0</td>\n",
              "      <td>0.0</td>\n",
              "      <td>0.0</td>\n",
              "      <td>0.0</td>\n",
              "      <td>1.0</td>\n",
              "      <td>-0.208795</td>\n",
              "      <td>-0.474005</td>\n",
              "    </tr>\n",
              "    <tr>\n",
              "      <th>4</th>\n",
              "      <td>1.0</td>\n",
              "      <td>1.0</td>\n",
              "      <td>1.0</td>\n",
              "      <td>3.0</td>\n",
              "      <td>0.0</td>\n",
              "      <td>0.0</td>\n",
              "      <td>1.0</td>\n",
              "      <td>0.0</td>\n",
              "      <td>0.0</td>\n",
              "      <td>0.0</td>\n",
              "      <td>0.0</td>\n",
              "      <td>0.0</td>\n",
              "      <td>0.0</td>\n",
              "      <td>0.0</td>\n",
              "      <td>0.0</td>\n",
              "      <td>1.0</td>\n",
              "      <td>0.0</td>\n",
              "      <td>0.0</td>\n",
              "      <td>1.0</td>\n",
              "      <td>0.0</td>\n",
              "      <td>0.0</td>\n",
              "      <td>0.0</td>\n",
              "      <td>1.0</td>\n",
              "      <td>0.0</td>\n",
              "      <td>0.0</td>\n",
              "      <td>0.0</td>\n",
              "      <td>1.0</td>\n",
              "      <td>0.0</td>\n",
              "      <td>-0.575796</td>\n",
              "      <td>-0.401017</td>\n",
              "    </tr>\n",
              "  </tbody>\n",
              "</table>\n",
              "</div>"
            ],
            "text/plain": [
              "   Sex  SibSp  Parch  ...  FamiliaTipo_Sozinho     Idade    Tarifa\n",
              "0  0.0    0.0    0.0  ...                  1.0  0.341708 -0.490783\n",
              "1  1.0    1.0    0.0  ...                  0.0  1.259212 -0.507479\n",
              "2  0.0    0.0    0.0  ...                  1.0  2.360217 -0.453367\n",
              "3  0.0    0.0    0.0  ...                  1.0 -0.208795 -0.474005\n",
              "4  1.0    1.0    1.0  ...                  0.0 -0.575796 -0.401017\n",
              "\n",
              "[5 rows x 30 columns]"
            ]
          },
          "metadata": {
            "tags": []
          },
          "execution_count": 31
        }
      ]
    },
    {
      "cell_type": "markdown",
      "metadata": {
        "id": "l6m60lD3hc2m"
      },
      "source": [
        "##Escolhendo as Variáveis Mais Importantes"
      ]
    },
    {
      "cell_type": "markdown",
      "metadata": {
        "id": "07XxXKHAovOP"
      },
      "source": [
        "Feito o pré-processamento dos dados, podemos agora escolher quais variáveis serão introduzidas ao modelo"
      ]
    },
    {
      "cell_type": "markdown",
      "metadata": {
        "id": "A_GqZWAvhfGo"
      },
      "source": [
        "###Escolhendo com Random Forest"
      ]
    },
    {
      "cell_type": "markdown",
      "metadata": {
        "id": "417yq0-bimtq"
      },
      "source": [
        "A escolha das variáveis mais importantes é baseada em um output de modelos de árvore chamado feature importance, que retorna a importância de cada variável para o modelo"
      ]
    },
    {
      "cell_type": "code",
      "metadata": {
        "id": "8O0XFNr0hiVK",
        "colab": {
          "base_uri": "https://localhost:8080/"
        },
        "outputId": "4443c587-0904-46f1-9fc9-3175235de28e"
      },
      "source": [
        "modelo_base = RandomForestClassifier(max_depth = 3)\n",
        "modelo_base.fit(treino, targets)"
      ],
      "execution_count": 32,
      "outputs": [
        {
          "output_type": "execute_result",
          "data": {
            "text/plain": [
              "RandomForestClassifier(bootstrap=True, ccp_alpha=0.0, class_weight=None,\n",
              "                       criterion='gini', max_depth=3, max_features='auto',\n",
              "                       max_leaf_nodes=None, max_samples=None,\n",
              "                       min_impurity_decrease=0.0, min_impurity_split=None,\n",
              "                       min_samples_leaf=1, min_samples_split=2,\n",
              "                       min_weight_fraction_leaf=0.0, n_estimators=100,\n",
              "                       n_jobs=None, oob_score=False, random_state=None,\n",
              "                       verbose=0, warm_start=False)"
            ]
          },
          "metadata": {
            "tags": []
          },
          "execution_count": 32
        }
      ]
    },
    {
      "cell_type": "code",
      "metadata": {
        "id": "iAQmCHnehmgd",
        "colab": {
          "base_uri": "https://localhost:8080/",
          "height": 979
        },
        "outputId": "51a4a835-ba14-4a7c-b396-568222c3f37f"
      },
      "source": [
        "variaveis = pd.DataFrame()\n",
        "variaveis['variavel'] = treino.columns\n",
        "variaveis['importancia'] = modelo_base.feature_importances_\n",
        "variaveis.sort_values(by = 'importancia', ascending = False)"
      ],
      "execution_count": 33,
      "outputs": [
        {
          "output_type": "execute_result",
          "data": {
            "text/html": [
              "<div>\n",
              "<style scoped>\n",
              "    .dataframe tbody tr th:only-of-type {\n",
              "        vertical-align: middle;\n",
              "    }\n",
              "\n",
              "    .dataframe tbody tr th {\n",
              "        vertical-align: top;\n",
              "    }\n",
              "\n",
              "    .dataframe thead th {\n",
              "        text-align: right;\n",
              "    }\n",
              "</style>\n",
              "<table border=\"1\" class=\"dataframe\">\n",
              "  <thead>\n",
              "    <tr style=\"text-align: right;\">\n",
              "      <th></th>\n",
              "      <th>variavel</th>\n",
              "      <th>importancia</th>\n",
              "    </tr>\n",
              "  </thead>\n",
              "  <tbody>\n",
              "    <tr>\n",
              "      <th>21</th>\n",
              "      <td>Titulacao_Mr</td>\n",
              "      <td>0.192829</td>\n",
              "    </tr>\n",
              "    <tr>\n",
              "      <th>0</th>\n",
              "      <td>Sex</td>\n",
              "      <td>0.175071</td>\n",
              "    </tr>\n",
              "    <tr>\n",
              "      <th>22</th>\n",
              "      <td>Titulacao_Mrs</td>\n",
              "      <td>0.130142</td>\n",
              "    </tr>\n",
              "    <tr>\n",
              "      <th>20</th>\n",
              "      <td>Titulacao_Miss</td>\n",
              "      <td>0.096423</td>\n",
              "    </tr>\n",
              "    <tr>\n",
              "      <th>29</th>\n",
              "      <td>Tarifa</td>\n",
              "      <td>0.075936</td>\n",
              "    </tr>\n",
              "    <tr>\n",
              "      <th>15</th>\n",
              "      <td>Cabin_n</td>\n",
              "      <td>0.062970</td>\n",
              "    </tr>\n",
              "    <tr>\n",
              "      <th>4</th>\n",
              "      <td>Pclass_1</td>\n",
              "      <td>0.049007</td>\n",
              "    </tr>\n",
              "    <tr>\n",
              "      <th>6</th>\n",
              "      <td>Pclass_3</td>\n",
              "      <td>0.041122</td>\n",
              "    </tr>\n",
              "    <tr>\n",
              "      <th>3</th>\n",
              "      <td>Familia</td>\n",
              "      <td>0.028452</td>\n",
              "    </tr>\n",
              "    <tr>\n",
              "      <th>28</th>\n",
              "      <td>Idade</td>\n",
              "      <td>0.028156</td>\n",
              "    </tr>\n",
              "    <tr>\n",
              "      <th>26</th>\n",
              "      <td>FamiliaTipo_Pequena</td>\n",
              "      <td>0.024780</td>\n",
              "    </tr>\n",
              "    <tr>\n",
              "      <th>25</th>\n",
              "      <td>FamiliaTipo_Grande</td>\n",
              "      <td>0.014836</td>\n",
              "    </tr>\n",
              "    <tr>\n",
              "      <th>27</th>\n",
              "      <td>FamiliaTipo_Sozinho</td>\n",
              "      <td>0.012394</td>\n",
              "    </tr>\n",
              "    <tr>\n",
              "      <th>1</th>\n",
              "      <td>SibSp</td>\n",
              "      <td>0.011162</td>\n",
              "    </tr>\n",
              "    <tr>\n",
              "      <th>11</th>\n",
              "      <td>Cabin_E</td>\n",
              "      <td>0.008848</td>\n",
              "    </tr>\n",
              "    <tr>\n",
              "      <th>2</th>\n",
              "      <td>Parch</td>\n",
              "      <td>0.008772</td>\n",
              "    </tr>\n",
              "    <tr>\n",
              "      <th>8</th>\n",
              "      <td>Cabin_B</td>\n",
              "      <td>0.006759</td>\n",
              "    </tr>\n",
              "    <tr>\n",
              "      <th>10</th>\n",
              "      <td>Cabin_D</td>\n",
              "      <td>0.006368</td>\n",
              "    </tr>\n",
              "    <tr>\n",
              "      <th>5</th>\n",
              "      <td>Pclass_2</td>\n",
              "      <td>0.005859</td>\n",
              "    </tr>\n",
              "    <tr>\n",
              "      <th>19</th>\n",
              "      <td>Titulacao_Master</td>\n",
              "      <td>0.004792</td>\n",
              "    </tr>\n",
              "    <tr>\n",
              "      <th>16</th>\n",
              "      <td>Embarked_C</td>\n",
              "      <td>0.004722</td>\n",
              "    </tr>\n",
              "    <tr>\n",
              "      <th>9</th>\n",
              "      <td>Cabin_C</td>\n",
              "      <td>0.003810</td>\n",
              "    </tr>\n",
              "    <tr>\n",
              "      <th>18</th>\n",
              "      <td>Embarked_S</td>\n",
              "      <td>0.003269</td>\n",
              "    </tr>\n",
              "    <tr>\n",
              "      <th>17</th>\n",
              "      <td>Embarked_Q</td>\n",
              "      <td>0.001719</td>\n",
              "    </tr>\n",
              "    <tr>\n",
              "      <th>23</th>\n",
              "      <td>Titulacao_Officer</td>\n",
              "      <td>0.000748</td>\n",
              "    </tr>\n",
              "    <tr>\n",
              "      <th>7</th>\n",
              "      <td>Cabin_A</td>\n",
              "      <td>0.000524</td>\n",
              "    </tr>\n",
              "    <tr>\n",
              "      <th>13</th>\n",
              "      <td>Cabin_G</td>\n",
              "      <td>0.000225</td>\n",
              "    </tr>\n",
              "    <tr>\n",
              "      <th>12</th>\n",
              "      <td>Cabin_F</td>\n",
              "      <td>0.000219</td>\n",
              "    </tr>\n",
              "    <tr>\n",
              "      <th>14</th>\n",
              "      <td>Cabin_T</td>\n",
              "      <td>0.000085</td>\n",
              "    </tr>\n",
              "    <tr>\n",
              "      <th>24</th>\n",
              "      <td>Titulacao_Royalty</td>\n",
              "      <td>0.000000</td>\n",
              "    </tr>\n",
              "  </tbody>\n",
              "</table>\n",
              "</div>"
            ],
            "text/plain": [
              "               variavel  importancia\n",
              "21         Titulacao_Mr     0.192829\n",
              "0                   Sex     0.175071\n",
              "22        Titulacao_Mrs     0.130142\n",
              "20       Titulacao_Miss     0.096423\n",
              "29               Tarifa     0.075936\n",
              "15              Cabin_n     0.062970\n",
              "4              Pclass_1     0.049007\n",
              "6              Pclass_3     0.041122\n",
              "3               Familia     0.028452\n",
              "28                Idade     0.028156\n",
              "26  FamiliaTipo_Pequena     0.024780\n",
              "25   FamiliaTipo_Grande     0.014836\n",
              "27  FamiliaTipo_Sozinho     0.012394\n",
              "1                 SibSp     0.011162\n",
              "11              Cabin_E     0.008848\n",
              "2                 Parch     0.008772\n",
              "8               Cabin_B     0.006759\n",
              "10              Cabin_D     0.006368\n",
              "5              Pclass_2     0.005859\n",
              "19     Titulacao_Master     0.004792\n",
              "16           Embarked_C     0.004722\n",
              "9               Cabin_C     0.003810\n",
              "18           Embarked_S     0.003269\n",
              "17           Embarked_Q     0.001719\n",
              "23    Titulacao_Officer     0.000748\n",
              "7               Cabin_A     0.000524\n",
              "13              Cabin_G     0.000225\n",
              "12              Cabin_F     0.000219\n",
              "14              Cabin_T     0.000085\n",
              "24    Titulacao_Royalty     0.000000"
            ]
          },
          "metadata": {
            "tags": []
          },
          "execution_count": 33
        }
      ]
    },
    {
      "cell_type": "markdown",
      "metadata": {
        "id": "5ZDEf-0hi6IR"
      },
      "source": [
        "Por meio de um gráfico, podemos perceber quais são as variáveis consideradas mais importantes pela Random Forest"
      ]
    },
    {
      "cell_type": "code",
      "metadata": {
        "id": "Ic5K4Zk4hoF4",
        "colab": {
          "base_uri": "https://localhost:8080/",
          "height": 863
        },
        "outputId": "d9a3aebb-9f6c-4825-bb17-0c4c31901d45"
      },
      "source": [
        "variaveis.sort_values(by = 'importancia', ascending = True, inplace = True)\n",
        "variaveis.set_index('variavel', inplace = True)\n",
        "variaveis.plot(kind='barh', figsize=(15, 15));"
      ],
      "execution_count": 34,
      "outputs": [
        {
          "output_type": "display_data",
          "data": {
            "image/png": "[encoded data removed]",
            "text/plain": [
              "<Figure size 1080x1080 with 1 Axes>"
            ]
          },
          "metadata": {
            "tags": [],
            "needs_background": "light"
          }
        }
      ]
    },
    {
      "cell_type": "markdown",
      "metadata": {
        "id": "ChjkJ4jahv9t"
      },
      "source": [
        "###Selecionando com SelectFromModel"
      ]
    },
    {
      "cell_type": "markdown",
      "metadata": {
        "id": "jHFjtHbYjAVL"
      },
      "source": [
        "Uma vez compreendida a importância de cada variável para o modelo, selecionamos as que são mais importantes "
      ]
    },
    {
      "cell_type": "code",
      "metadata": {
        "id": "yqvgTcjPhzEf",
        "colab": {
          "base_uri": "https://localhost:8080/"
        },
        "outputId": "62d10b68-0a77-49b6-9658-fdf86aac67b0"
      },
      "source": [
        "seletor = SelectFromModel(modelo_base, prefit = True, max_features = 11, threshold = -np.inf)\n",
        "\n",
        "treino_reduzido = seletor.transform(treino)\n",
        "print(treino_reduzido.shape)\n",
        "\n",
        "teste_reduzido = seletor.transform(teste)\n",
        "print(teste_reduzido.shape)"
      ],
      "execution_count": 35,
      "outputs": [
        {
          "output_type": "stream",
          "text": [
            "(891, 11)\n",
            "(418, 11)\n"
          ],
          "name": "stdout"
        }
      ]
    },
    {
      "cell_type": "markdown",
      "metadata": {
        "id": "aTHLdmNih2wT"
      },
      "source": [
        "##Tunagem dos Modelos"
      ]
    },
    {
      "cell_type": "markdown",
      "metadata": {
        "id": "gweRnaa_mGPt"
      },
      "source": [
        "Para tunar nossos modelos, utilizaremos uma função que testa diversas combinações de parâmetros (estabelecidos na variável **parametros**). Esse teste pode ser do tipo 'tudo', que testa todas as combinações possíveis ou do tipo 'aleatório', que testa apenas uma amostra aleatória dos parâmetros. Em seguida, a função utiliza o método do K-FOLD repetido estratificado para avaliar o desempenho do modelo e retorna a combinação de parâmetros que teve o melhor desempenho em relação às demais na otimização da métrica acurácia"
      ]
    },
    {
      "cell_type": "markdown",
      "metadata": {
        "id": "mwQqQOJPh325"
      },
      "source": [
        "###Melhor KNN"
      ]
    },
    {
      "cell_type": "code",
      "metadata": {
        "colab": {
          "base_uri": "https://localhost:8080/"
        },
        "id": "mUJoyzLg_mNC",
        "outputId": "962b42db-d1c7-472b-a623-b1633087f88a"
      },
      "source": [
        "def GridSearchKNN(treino, targets, tipo = 'tudo'):\n",
        "    parametros = {'n_neighbors' : np.arange(1, 50, 2)}\n",
        "\n",
        "    modelo = KNeighborsClassifier()\n",
        "        \n",
        "    validacao = RepeatedStratifiedKFold(n_splits = 10, n_repeats = 1)\n",
        "\n",
        "    if tipo == 'tudo':\n",
        "        search = GridSearchCV(modelo, param_grid = parametros,\n",
        "                                  scoring = 'accuracy', cv = validacao, \n",
        "                                  verbose = 1, n_jobs = -1)\n",
        "    elif tipo == 'aleatorio':\n",
        "        search = RandomizedSearchCV(modelo, param_distributions = parametros,\n",
        "                                scoring = 'accuracy', cv = validacao,\n",
        "                                n_iter = 10, verbose = 1, n_jobs = -1)\n",
        "    else:\n",
        "        print('entrada invalida no argumento \"tipo\"')\n",
        "\n",
        "\n",
        "    search.fit(treino, targets) \n",
        "\n",
        "    melhor = search.best_estimator_\n",
        "    #best_estimator_ : melhor KNN\n",
        "\n",
        "    print('\\nAcuracia: {:.4f}'.format(search.best_score_))\n",
        "    print('Melhores parâmetros: {}\\n'.format(search.best_params_))\n",
        "    #best_params_ : melhores parâmetros para conseguir o menlhor estimador\n",
        "\n",
        "    return melhor\n",
        "\n",
        "knn = GridSearchKNN(treino_reduzido, targets, tipo = 'tudo')"
      ],
      "execution_count": 36,
      "outputs": [
        {
          "output_type": "stream",
          "text": [
            "Fitting 10 folds for each of 25 candidates, totalling 250 fits\n"
          ],
          "name": "stdout"
        },
        {
          "output_type": "stream",
          "text": [
            "[Parallel(n_jobs=-1)]: Using backend LokyBackend with 2 concurrent workers.\n"
          ],
          "name": "stderr"
        },
        {
          "output_type": "stream",
          "text": [
            "\n",
            "Acuracia: 0.8193\n",
            "Melhores parâmetros: {'n_neighbors': 19}\n",
            "\n"
          ],
          "name": "stdout"
        },
        {
          "output_type": "stream",
          "text": [
            "[Parallel(n_jobs=-1)]: Done 240 tasks      | elapsed:    2.6s\n",
            "[Parallel(n_jobs=-1)]: Done 250 out of 250 | elapsed:    2.7s finished\n"
          ],
          "name": "stderr"
        }
      ]
    },
    {
      "cell_type": "markdown",
      "metadata": {
        "id": "gvtGsEzxi4XS"
      },
      "source": [
        "###Melhor Árvore de Decisão"
      ]
    },
    {
      "cell_type": "code",
      "metadata": {
        "colab": {
          "base_uri": "https://localhost:8080/"
        },
        "id": "jeKGoBlJFEww",
        "outputId": "c60f829e-abd3-4a1d-84c1-0f69d62aa1f3"
      },
      "source": [
        "def GridSearchARVORE(treino, targets, tipo = 'tudo'):\n",
        "    parametros = {   \n",
        "                 'max_depth' : np.arange(1,11), \n",
        "                 'min_samples_split': np.arange(2,12),\n",
        "                 'min_samples_leaf': np.arange(1,11),\n",
        "                 }\n",
        "\n",
        "    modelo = DecisionTreeClassifier()\n",
        "        \n",
        "    validacao = RepeatedStratifiedKFold(n_splits = 10, n_repeats = 10)\n",
        "\n",
        "    if tipo == 'tudo':\n",
        "        grid_search = GridSearchCV(modelo, param_grid = parametros,\n",
        "                                  scoring = 'accuracy', cv = validacao, \n",
        "                                  verbose = 1, n_jobs = -1)\n",
        "    elif tipo == 'aleatorio':\n",
        "        grid_search = RandomizedSearchCV(modelo, param_distributions = parametros,\n",
        "                                scoring = 'accuracy', cv = validacao,\n",
        "                                n_iter = 10, verbose = 1, n_jobs = -1)\n",
        "    else:\n",
        "        print('entrada invalida no argumento \"tipo\"')\n",
        "\n",
        "\n",
        "    grid_search.fit(treino, targets) \n",
        "\n",
        "    melhor = grid_search.best_estimator_\n",
        "\n",
        "    print('\\nAcuracia: {:.4f}'.format(grid_search.best_score_))\n",
        "    print('Melhores parâmetros: {}\\n'.format(grid_search.best_params_))\n",
        "\n",
        "    return melhor\n",
        "\n",
        "arvore = GridSearchARVORE(treino, targets, tipo = 'aleatorio')"
      ],
      "execution_count": 37,
      "outputs": [
        {
          "output_type": "stream",
          "text": [
            "[Parallel(n_jobs=-1)]: Using backend LokyBackend with 2 concurrent workers.\n"
          ],
          "name": "stderr"
        },
        {
          "output_type": "stream",
          "text": [
            "Fitting 100 folds for each of 10 candidates, totalling 1000 fits\n"
          ],
          "name": "stdout"
        },
        {
          "output_type": "stream",
          "text": [
            "[Parallel(n_jobs=-1)]: Done 770 tasks      | elapsed:    3.2s\n"
          ],
          "name": "stderr"
        },
        {
          "output_type": "stream",
          "text": [
            "\n",
            "Acuracia: 0.8227\n",
            "Melhores parâmetros: {'min_samples_split': 9, 'min_samples_leaf': 5, 'max_depth': 3}\n",
            "\n"
          ],
          "name": "stdout"
        },
        {
          "output_type": "stream",
          "text": [
            "[Parallel(n_jobs=-1)]: Done 1000 out of 1000 | elapsed:    4.2s finished\n"
          ],
          "name": "stderr"
        }
      ]
    },
    {
      "cell_type": "markdown",
      "metadata": {
        "id": "M2fG4GEai8bq"
      },
      "source": [
        "###Melhor Random Forest"
      ]
    },
    {
      "cell_type": "code",
      "metadata": {
        "colab": {
          "base_uri": "https://localhost:8080/"
        },
        "id": "7uPdBQhcNoZO",
        "outputId": "bf0eff5a-c120-477e-968a-0fe14c2722e7"
      },
      "source": [
        "def GridSearchRF(treino, targets, tipo = 'tudo'):\n",
        "    parametros = {   \n",
        "                 'max_depth' : [2, 6, 10],\n",
        "                 'n_estimators': [50, 100, 150],\n",
        "                 'max_features': ['sqrt', 'auto', 'log2'],\n",
        "                 'min_samples_split': [2, 5, 10],\n",
        "                 'min_samples_leaf': [1, 3, 5],\n",
        "                 'bootstrap': [True, False]\n",
        "                 }\n",
        "\n",
        "    modelo = RandomForestClassifier()\n",
        "        \n",
        "    validacao = RepeatedStratifiedKFold(n_splits = 10, n_repeats = 1)\n",
        "\n",
        "    if tipo == 'tudo':\n",
        "        grid_search = GridSearchCV(modelo, param_grid = parametros,\n",
        "                                  scoring = 'accuracy', cv = validacao, \n",
        "                                  verbose = 1, n_jobs = -1)\n",
        "    elif tipo == 'aleatorio':\n",
        "        grid_search = RandomizedSearchCV(modelo, param_distributions = parametros,\n",
        "                                scoring = 'accuracy', cv = validacao,\n",
        "                                n_iter = 50, verbose = 1, n_jobs = -1)\n",
        "    else:\n",
        "        print('entrada invalida no argumento \"tipo\"')\n",
        "\n",
        "\n",
        "    grid_search.fit(treino, targets) \n",
        "\n",
        "    melhor_rf = grid_search.best_estimator_\n",
        "\n",
        "    print('\\nAcuracia: {:.4f}'.format(grid_search.best_score_))\n",
        "    print('Melhores parâmetros: {}\\n'.format(grid_search.best_params_))\n",
        "\n",
        "    return melhor_rf\n",
        "\n",
        "rf = GridSearchRF(treino_reduzido, targets, tipo = 'aleatorio')"
      ],
      "execution_count": 38,
      "outputs": [
        {
          "output_type": "stream",
          "text": [
            "[Parallel(n_jobs=-1)]: Using backend LokyBackend with 2 concurrent workers.\n"
          ],
          "name": "stderr"
        },
        {
          "output_type": "stream",
          "text": [
            "Fitting 10 folds for each of 50 candidates, totalling 500 fits\n"
          ],
          "name": "stdout"
        },
        {
          "output_type": "stream",
          "text": [
            "[Parallel(n_jobs=-1)]: Done  88 tasks      | elapsed:   12.7s\n",
            "[Parallel(n_jobs=-1)]: Done 388 tasks      | elapsed:   49.2s\n"
          ],
          "name": "stderr"
        },
        {
          "output_type": "stream",
          "text": [
            "\n",
            "Acuracia: 0.8440\n",
            "Melhores parâmetros: {'n_estimators': 100, 'min_samples_split': 5, 'min_samples_leaf': 1, 'max_features': 'sqrt', 'max_depth': 10, 'bootstrap': True}\n",
            "\n"
          ],
          "name": "stdout"
        },
        {
          "output_type": "stream",
          "text": [
            "[Parallel(n_jobs=-1)]: Done 500 out of 500 | elapsed:  1.1min finished\n"
          ],
          "name": "stderr"
        }
      ]
    },
    {
      "cell_type": "markdown",
      "metadata": {
        "id": "Nb_TKoCKjBL5"
      },
      "source": [
        "#Considerações Finais"
      ]
    },
    {
      "cell_type": "markdown",
      "metadata": {
        "id": "o2IzxgY-ps0M"
      },
      "source": [
        "Neste projeto final observamos a segunda forma de otimizar a capacidade preditiva de nossos modelos de machine learning, a tunagem de hiperparâmetros. Notamos que para realizar a tunagem ainda sim precisamos fazer o pré-processamento dos dados, que daí serão alimentados em nossos modelos otimizados para melhor utilizar suas informações. Assim como determinamos em relação ao pré-processamento, a melhor combinação de parâmetros também é específica para diferentes conjunto de dados e seus respectivos pré-processamentos. Se fizermos mudanças no pré-processamento de um mesmo conjunto de dados, deveremos encontrar novas variáveis e parâmetros que melhor se ajustem às informações fornecidas por ele"
      ]
    },
    {
      "cell_type": "code",
      "metadata": {
        "id": "tVWo6qPD7lzh"
      },
      "source": [
        ""
      ],
      "execution_count": 38,
      "outputs": []
    }
  ]
}