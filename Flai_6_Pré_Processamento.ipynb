{
  "nbformat": 4,
  "nbformat_minor": 0,
  "metadata": {
    "colab": {
      "name": "Flai 6 - Pré-Processamento",
      "provenance": [],
      "collapsed_sections": [],
      "authorship_tag": "ABX9TyNYJWcukwR/RS9KGBUWm7Ee"
    },
    "kernelspec": {
      "name": "python3",
      "display_name": "Python 3"
    },
    "language_info": {
      "name": "python"
    }
  },
  "cells": [
    {
      "cell_type": "markdown",
      "metadata": {
        "id": "q9jET-vHq3_2"
      },
      "source": [
        "#Pré-Processamento de Variáveis"
      ]
    },
    {
      "cell_type": "markdown",
      "metadata": {
        "id": "FGSC0SXdcTPh"
      },
      "source": [
        "Vistos diferentes tipos de modelos tanto de classificação quanto de regressão e como uni-los para a criação de modelos mais potentes, passamos agora para a otimização desses modelos de modo que eles possuam o maior poder preditivo possível. Existem duas formas de se melhorar a performance de uma modelagem de machine learning: a melhoria do próprio modelo por meio da seleção de seus melhores parâmetros e a melhoria dos dados de entrada do modelo a partir do pré-processamento do conjunto de dados. Este projeto se dedicará a explorar a segunda opção"
      ]
    },
    {
      "cell_type": "markdown",
      "metadata": {
        "id": "uuorqidAdXvA"
      },
      "source": [
        "Para este e para o próximo projeto, nos afastaremos do conjunto de dados de seguro e utilizaremos o conjunto de dados de passageiros do Titanic. O objetivo será prever da melhor forma possível quais passageiros sobreviveram e quais não sobreviveram à tragédia (variável **Survived**)"
      ]
    },
    {
      "cell_type": "code",
      "metadata": {
        "id": "fDXiClX-XlF8"
      },
      "source": [
        "import pandas as pd\n",
        "import numpy as np\n",
        "import missingno as msno\n",
        "from sklearn.preprocessing import StandardScaler\n",
        "from sklearn.linear_model import LogisticRegression\n",
        "from sklearn.tree import DecisionTreeClassifier\n",
        "from sklearn.neighbors import KNeighborsClassifier\n",
        "from sklearn.ensemble import RandomForestClassifier, BaggingClassifier\n",
        "from sklearn.model_selection import cross_validate, StratifiedKFold\n",
        "from google.colab.data_table import DataTable"
      ],
      "execution_count": null,
      "outputs": []
    },
    {
      "cell_type": "markdown",
      "metadata": {
        "id": "1ps6I6SKeDVQ"
      },
      "source": [
        "Sendo este um conjunto de dados do Kaggle, plataforma de competições de ciência de dados, os conjuntos de teste e treinamento já estão separados. Como a variável **Survived** do conjunto de teste é a que se deseja prever, seus valores não estão presentes no arquivo disponível ao público"
      ]
    },
    {
      "cell_type": "code",
      "metadata": {
        "id": "TUjmXxsClBHi"
      },
      "source": [
        "url1 = 'https://raw.githubusercontent.com/ricardorocha86/Datasets/master/Titanic/train.csv'\n",
        "url2 = 'https://raw.githubusercontent.com/ricardorocha86/Datasets/master/Titanic/test.csv'\n",
        "\n",
        "titanic = pd.read_csv(url1)\n",
        "teste = pd.read_csv(url2)"
      ],
      "execution_count": null,
      "outputs": []
    },
    {
      "cell_type": "code",
      "metadata": {
        "id": "4TP7W5QZlDDx",
        "colab": {
          "base_uri": "https://localhost:8080/",
          "height": 496
        },
        "outputId": "e9bdfb77-c90d-419d-ca06-e85638f778a2"
      },
      "source": [
        "titanic.head()"
      ],
      "execution_count": null,
      "outputs": [
        {
          "output_type": "execute_result",
          "data": {
            "text/html": [
              "<div>\n",
              "<style scoped>\n",
              "    .dataframe tbody tr th:only-of-type {\n",
              "        vertical-align: middle;\n",
              "    }\n",
              "\n",
              "    .dataframe tbody tr th {\n",
              "        vertical-align: top;\n",
              "    }\n",
              "\n",
              "    .dataframe thead th {\n",
              "        text-align: right;\n",
              "    }\n",
              "</style>\n",
              "<table border=\"1\" class=\"dataframe\">\n",
              "  <thead>\n",
              "    <tr style=\"text-align: right;\">\n",
              "      <th></th>\n",
              "      <th>PassengerId</th>\n",
              "      <th>Survived</th>\n",
              "      <th>Pclass</th>\n",
              "      <th>Name</th>\n",
              "      <th>Sex</th>\n",
              "      <th>Age</th>\n",
              "      <th>SibSp</th>\n",
              "      <th>Parch</th>\n",
              "      <th>Ticket</th>\n",
              "      <th>Fare</th>\n",
              "      <th>Cabin</th>\n",
              "      <th>Embarked</th>\n",
              "    </tr>\n",
              "  </thead>\n",
              "  <tbody>\n",
              "    <tr>\n",
              "      <th>0</th>\n",
              "      <td>1</td>\n",
              "      <td>0</td>\n",
              "      <td>3</td>\n",
              "      <td>Braund, Mr. Owen Harris</td>\n",
              "      <td>male</td>\n",
              "      <td>22.0</td>\n",
              "      <td>1</td>\n",
              "      <td>0</td>\n",
              "      <td>A/5 21171</td>\n",
              "      <td>7.2500</td>\n",
              "      <td>NaN</td>\n",
              "      <td>S</td>\n",
              "    </tr>\n",
              "    <tr>\n",
              "      <th>1</th>\n",
              "      <td>2</td>\n",
              "      <td>1</td>\n",
              "      <td>1</td>\n",
              "      <td>Cumings, Mrs. John Bradley (Florence Briggs Th...</td>\n",
              "      <td>female</td>\n",
              "      <td>38.0</td>\n",
              "      <td>1</td>\n",
              "      <td>0</td>\n",
              "      <td>PC 17599</td>\n",
              "      <td>71.2833</td>\n",
              "      <td>C85</td>\n",
              "      <td>C</td>\n",
              "    </tr>\n",
              "    <tr>\n",
              "      <th>2</th>\n",
              "      <td>3</td>\n",
              "      <td>1</td>\n",
              "      <td>3</td>\n",
              "      <td>Heikkinen, Miss. Laina</td>\n",
              "      <td>female</td>\n",
              "      <td>26.0</td>\n",
              "      <td>0</td>\n",
              "      <td>0</td>\n",
              "      <td>STON/O2. 3101282</td>\n",
              "      <td>7.9250</td>\n",
              "      <td>NaN</td>\n",
              "      <td>S</td>\n",
              "    </tr>\n",
              "    <tr>\n",
              "      <th>3</th>\n",
              "      <td>4</td>\n",
              "      <td>1</td>\n",
              "      <td>1</td>\n",
              "      <td>Futrelle, Mrs. Jacques Heath (Lily May Peel)</td>\n",
              "      <td>female</td>\n",
              "      <td>35.0</td>\n",
              "      <td>1</td>\n",
              "      <td>0</td>\n",
              "      <td>113803</td>\n",
              "      <td>53.1000</td>\n",
              "      <td>C123</td>\n",
              "      <td>S</td>\n",
              "    </tr>\n",
              "    <tr>\n",
              "      <th>4</th>\n",
              "      <td>5</td>\n",
              "      <td>0</td>\n",
              "      <td>3</td>\n",
              "      <td>Allen, Mr. William Henry</td>\n",
              "      <td>male</td>\n",
              "      <td>35.0</td>\n",
              "      <td>0</td>\n",
              "      <td>0</td>\n",
              "      <td>373450</td>\n",
              "      <td>8.0500</td>\n",
              "      <td>NaN</td>\n",
              "      <td>S</td>\n",
              "    </tr>\n",
              "  </tbody>\n",
              "</table>\n",
              "</div>"
            ],
            "text/plain": [
              "   PassengerId  Survived  Pclass  ...     Fare Cabin  Embarked\n",
              "0            1         0       3  ...   7.2500   NaN         S\n",
              "1            2         1       1  ...  71.2833   C85         C\n",
              "2            3         1       3  ...   7.9250   NaN         S\n",
              "3            4         1       1  ...  53.1000  C123         S\n",
              "4            5         0       3  ...   8.0500   NaN         S\n",
              "\n",
              "[5 rows x 12 columns]"
            ]
          },
          "metadata": {
            "tags": []
          },
          "execution_count": 161
        }
      ]
    },
    {
      "cell_type": "code",
      "metadata": {
        "id": "3M_qv5VIlFcq",
        "colab": {
          "base_uri": "https://localhost:8080/"
        },
        "outputId": "2d63f3db-bd8b-4e82-e2b8-d209ba5e44b7"
      },
      "source": [
        "titanic.info()"
      ],
      "execution_count": null,
      "outputs": [
        {
          "output_type": "stream",
          "text": [
            "<class 'pandas.core.frame.DataFrame'>\n",
            "RangeIndex: 891 entries, 0 to 890\n",
            "Data columns (total 12 columns):\n",
            " #   Column       Non-Null Count  Dtype  \n",
            "---  ------       --------------  -----  \n",
            " 0   PassengerId  891 non-null    int64  \n",
            " 1   Survived     891 non-null    int64  \n",
            " 2   Pclass       891 non-null    int64  \n",
            " 3   Name         891 non-null    object \n",
            " 4   Sex          891 non-null    object \n",
            " 5   Age          714 non-null    float64\n",
            " 6   SibSp        891 non-null    int64  \n",
            " 7   Parch        891 non-null    int64  \n",
            " 8   Ticket       891 non-null    object \n",
            " 9   Fare         891 non-null    float64\n",
            " 10  Cabin        204 non-null    object \n",
            " 11  Embarked     889 non-null    object \n",
            "dtypes: float64(2), int64(5), object(5)\n",
            "memory usage: 83.7+ KB\n"
          ],
          "name": "stdout"
        }
      ]
    },
    {
      "cell_type": "code",
      "metadata": {
        "id": "KTP9qVyWlHlR",
        "colab": {
          "base_uri": "https://localhost:8080/",
          "height": 428
        },
        "outputId": "87aeb8b5-a78f-4567-9199-f5839ba4ca84"
      },
      "source": [
        "teste.head()"
      ],
      "execution_count": null,
      "outputs": [
        {
          "output_type": "execute_result",
          "data": {
            "text/html": [
              "<div>\n",
              "<style scoped>\n",
              "    .dataframe tbody tr th:only-of-type {\n",
              "        vertical-align: middle;\n",
              "    }\n",
              "\n",
              "    .dataframe tbody tr th {\n",
              "        vertical-align: top;\n",
              "    }\n",
              "\n",
              "    .dataframe thead th {\n",
              "        text-align: right;\n",
              "    }\n",
              "</style>\n",
              "<table border=\"1\" class=\"dataframe\">\n",
              "  <thead>\n",
              "    <tr style=\"text-align: right;\">\n",
              "      <th></th>\n",
              "      <th>PassengerId</th>\n",
              "      <th>Pclass</th>\n",
              "      <th>Name</th>\n",
              "      <th>Sex</th>\n",
              "      <th>Age</th>\n",
              "      <th>SibSp</th>\n",
              "      <th>Parch</th>\n",
              "      <th>Ticket</th>\n",
              "      <th>Fare</th>\n",
              "      <th>Cabin</th>\n",
              "      <th>Embarked</th>\n",
              "    </tr>\n",
              "  </thead>\n",
              "  <tbody>\n",
              "    <tr>\n",
              "      <th>0</th>\n",
              "      <td>892</td>\n",
              "      <td>3</td>\n",
              "      <td>Kelly, Mr. James</td>\n",
              "      <td>male</td>\n",
              "      <td>34.5</td>\n",
              "      <td>0</td>\n",
              "      <td>0</td>\n",
              "      <td>330911</td>\n",
              "      <td>7.8292</td>\n",
              "      <td>NaN</td>\n",
              "      <td>Q</td>\n",
              "    </tr>\n",
              "    <tr>\n",
              "      <th>1</th>\n",
              "      <td>893</td>\n",
              "      <td>3</td>\n",
              "      <td>Wilkes, Mrs. James (Ellen Needs)</td>\n",
              "      <td>female</td>\n",
              "      <td>47.0</td>\n",
              "      <td>1</td>\n",
              "      <td>0</td>\n",
              "      <td>363272</td>\n",
              "      <td>7.0000</td>\n",
              "      <td>NaN</td>\n",
              "      <td>S</td>\n",
              "    </tr>\n",
              "    <tr>\n",
              "      <th>2</th>\n",
              "      <td>894</td>\n",
              "      <td>2</td>\n",
              "      <td>Myles, Mr. Thomas Francis</td>\n",
              "      <td>male</td>\n",
              "      <td>62.0</td>\n",
              "      <td>0</td>\n",
              "      <td>0</td>\n",
              "      <td>240276</td>\n",
              "      <td>9.6875</td>\n",
              "      <td>NaN</td>\n",
              "      <td>Q</td>\n",
              "    </tr>\n",
              "    <tr>\n",
              "      <th>3</th>\n",
              "      <td>895</td>\n",
              "      <td>3</td>\n",
              "      <td>Wirz, Mr. Albert</td>\n",
              "      <td>male</td>\n",
              "      <td>27.0</td>\n",
              "      <td>0</td>\n",
              "      <td>0</td>\n",
              "      <td>315154</td>\n",
              "      <td>8.6625</td>\n",
              "      <td>NaN</td>\n",
              "      <td>S</td>\n",
              "    </tr>\n",
              "    <tr>\n",
              "      <th>4</th>\n",
              "      <td>896</td>\n",
              "      <td>3</td>\n",
              "      <td>Hirvonen, Mrs. Alexander (Helga E Lindqvist)</td>\n",
              "      <td>female</td>\n",
              "      <td>22.0</td>\n",
              "      <td>1</td>\n",
              "      <td>1</td>\n",
              "      <td>3101298</td>\n",
              "      <td>12.2875</td>\n",
              "      <td>NaN</td>\n",
              "      <td>S</td>\n",
              "    </tr>\n",
              "  </tbody>\n",
              "</table>\n",
              "</div>"
            ],
            "text/plain": [
              "   PassengerId  Pclass  ... Cabin Embarked\n",
              "0          892       3  ...   NaN        Q\n",
              "1          893       3  ...   NaN        S\n",
              "2          894       2  ...   NaN        Q\n",
              "3          895       3  ...   NaN        S\n",
              "4          896       3  ...   NaN        S\n",
              "\n",
              "[5 rows x 11 columns]"
            ]
          },
          "metadata": {
            "tags": []
          },
          "execution_count": 163
        }
      ]
    },
    {
      "cell_type": "markdown",
      "metadata": {
        "id": "_tA0vGYOlJRx"
      },
      "source": [
        "##Análise Exploratória de Dados Básica"
      ]
    },
    {
      "cell_type": "markdown",
      "metadata": {
        "id": "Qi3HhcjlUbTb"
      },
      "source": [
        "Podemos usar a biblioteca Sweetviz para fazermos uma análise exploratória básica dos dados"
      ]
    },
    {
      "cell_type": "code",
      "metadata": {
        "id": "u_gmnsculI_h"
      },
      "source": [
        "!pip install sweetviz"
      ],
      "execution_count": null,
      "outputs": []
    },
    {
      "cell_type": "code",
      "metadata": {
        "id": "SfXY-t3vlPpx"
      },
      "source": [
        "import sweetviz"
      ],
      "execution_count": null,
      "outputs": []
    },
    {
      "cell_type": "code",
      "metadata": {
        "id": "dwYdbRNjlRBy"
      },
      "source": [
        "eda_titanic = sweetviz.analyze(titanic)\n",
        "eda_titanic.show_html()"
      ],
      "execution_count": null,
      "outputs": []
    },
    {
      "cell_type": "markdown",
      "metadata": {
        "id": "BqcAf23kUoTz"
      },
      "source": [
        "Procuramos então padrões discriminando a variável alvo em vítimas e sobreviventes"
      ]
    },
    {
      "cell_type": "code",
      "metadata": {
        "id": "_PS2QLx5lSQh"
      },
      "source": [
        "eda2 = sweetviz.compare_intra(titanic, titanic['Survived'] == 0, ['Vítima', 'Sobrevivente'])\n",
        "eda2.show_html()"
      ],
      "execution_count": null,
      "outputs": []
    },
    {
      "cell_type": "markdown",
      "metadata": {
        "id": "jeH4vebMlXAB"
      },
      "source": [
        "###Heurística"
      ]
    },
    {
      "cell_type": "markdown",
      "metadata": {
        "id": "7Q92DwxtSLeC"
      },
      "source": [
        "A heurística é uma solução para o problema que parte de uma premissa simples. O número de acertos retornado pela heurística serve como base para avaliarmos nossos modelos na medida em que qualquer modelo posterior só será relevante se ele se sair melhor do que ela"
      ]
    },
    {
      "cell_type": "markdown",
      "metadata": {
        "id": "t37hKTEtTkTJ"
      },
      "source": [
        "Nete projeto, determinamos a heurística como \"toda mulher sobrevive, todo homem não sobrevive\""
      ]
    },
    {
      "cell_type": "code",
      "metadata": {
        "id": "27Jp4S8rlYPw",
        "colab": {
          "base_uri": "https://localhost:8080/"
        },
        "outputId": "a18ce1c6-2401-4f81-87ee-4159898561bf"
      },
      "source": [
        "teste1 = titanic['Sex'].map({'male': 0, 'female': 1})\n",
        "\n",
        "(teste1 == titanic['Survived']).mean().round(4)"
      ],
      "execution_count": null,
      "outputs": [
        {
          "output_type": "execute_result",
          "data": {
            "text/plain": [
              "0.7868"
            ]
          },
          "metadata": {
            "tags": []
          },
          "execution_count": 164
        }
      ]
    },
    {
      "cell_type": "markdown",
      "metadata": {
        "id": "trpYTfNflcnr"
      },
      "source": [
        "##Pré-Processamento"
      ]
    },
    {
      "cell_type": "markdown",
      "metadata": {
        "id": "EnEUaWPiJ0tb"
      },
      "source": [
        "Todas as alterações de pré-processamento devem ser feitas no conjunto de dados de teste e no conjunto de treinamento"
      ]
    },
    {
      "cell_type": "markdown",
      "metadata": {
        "id": "ESdAs82Xlgay"
      },
      "source": [
        "###Descartando Variáveis"
      ]
    },
    {
      "cell_type": "markdown",
      "metadata": {
        "id": "edmFRFo3J66B"
      },
      "source": [
        "De acordo com os resultados obtidos pela análise exploratória, podemos descartar variáveis do conjunto de dados que parecem não ser importantes para a previsão que desejamos fazer"
      ]
    },
    {
      "cell_type": "code",
      "metadata": {
        "id": "YvkQbBCTljip"
      },
      "source": [
        "titanic.drop(['PassengerId', 'Name', 'Ticket', 'Cabin'], axis = 1, inplace = True)\n",
        "teste.drop(['PassengerId', 'Name', 'Ticket', 'Cabin'], axis = 1, inplace = True)"
      ],
      "execution_count": null,
      "outputs": []
    },
    {
      "cell_type": "code",
      "metadata": {
        "colab": {
          "base_uri": "https://localhost:8080/",
          "height": 204
        },
        "id": "Tw3trTpKpfjH",
        "outputId": "ac573d9d-cd11-4a71-a05e-b9bdb978a809"
      },
      "source": [
        "titanic.head()"
      ],
      "execution_count": null,
      "outputs": [
        {
          "output_type": "execute_result",
          "data": {
            "text/html": [
              "<div>\n",
              "<style scoped>\n",
              "    .dataframe tbody tr th:only-of-type {\n",
              "        vertical-align: middle;\n",
              "    }\n",
              "\n",
              "    .dataframe tbody tr th {\n",
              "        vertical-align: top;\n",
              "    }\n",
              "\n",
              "    .dataframe thead th {\n",
              "        text-align: right;\n",
              "    }\n",
              "</style>\n",
              "<table border=\"1\" class=\"dataframe\">\n",
              "  <thead>\n",
              "    <tr style=\"text-align: right;\">\n",
              "      <th></th>\n",
              "      <th>Survived</th>\n",
              "      <th>Pclass</th>\n",
              "      <th>Sex</th>\n",
              "      <th>Age</th>\n",
              "      <th>SibSp</th>\n",
              "      <th>Parch</th>\n",
              "      <th>Fare</th>\n",
              "      <th>Embarked</th>\n",
              "    </tr>\n",
              "  </thead>\n",
              "  <tbody>\n",
              "    <tr>\n",
              "      <th>0</th>\n",
              "      <td>0</td>\n",
              "      <td>3</td>\n",
              "      <td>male</td>\n",
              "      <td>22.0</td>\n",
              "      <td>1</td>\n",
              "      <td>0</td>\n",
              "      <td>7.2500</td>\n",
              "      <td>S</td>\n",
              "    </tr>\n",
              "    <tr>\n",
              "      <th>1</th>\n",
              "      <td>1</td>\n",
              "      <td>1</td>\n",
              "      <td>female</td>\n",
              "      <td>38.0</td>\n",
              "      <td>1</td>\n",
              "      <td>0</td>\n",
              "      <td>71.2833</td>\n",
              "      <td>C</td>\n",
              "    </tr>\n",
              "    <tr>\n",
              "      <th>2</th>\n",
              "      <td>1</td>\n",
              "      <td>3</td>\n",
              "      <td>female</td>\n",
              "      <td>26.0</td>\n",
              "      <td>0</td>\n",
              "      <td>0</td>\n",
              "      <td>7.9250</td>\n",
              "      <td>S</td>\n",
              "    </tr>\n",
              "    <tr>\n",
              "      <th>3</th>\n",
              "      <td>1</td>\n",
              "      <td>1</td>\n",
              "      <td>female</td>\n",
              "      <td>35.0</td>\n",
              "      <td>1</td>\n",
              "      <td>0</td>\n",
              "      <td>53.1000</td>\n",
              "      <td>S</td>\n",
              "    </tr>\n",
              "    <tr>\n",
              "      <th>4</th>\n",
              "      <td>0</td>\n",
              "      <td>3</td>\n",
              "      <td>male</td>\n",
              "      <td>35.0</td>\n",
              "      <td>0</td>\n",
              "      <td>0</td>\n",
              "      <td>8.0500</td>\n",
              "      <td>S</td>\n",
              "    </tr>\n",
              "  </tbody>\n",
              "</table>\n",
              "</div>"
            ],
            "text/plain": [
              "   Survived  Pclass     Sex   Age  SibSp  Parch     Fare Embarked\n",
              "0         0       3    male  22.0      1      0   7.2500        S\n",
              "1         1       1  female  38.0      1      0  71.2833        C\n",
              "2         1       3  female  26.0      0      0   7.9250        S\n",
              "3         1       1  female  35.0      1      0  53.1000        S\n",
              "4         0       3    male  35.0      0      0   8.0500        S"
            ]
          },
          "metadata": {
            "tags": []
          },
          "execution_count": 166
        }
      ]
    },
    {
      "cell_type": "code",
      "metadata": {
        "colab": {
          "base_uri": "https://localhost:8080/",
          "height": 204
        },
        "id": "6vXk7MDgpiUf",
        "outputId": "e9a3a748-6459-492f-8c72-4a5434f875e0"
      },
      "source": [
        "teste.head()"
      ],
      "execution_count": null,
      "outputs": [
        {
          "output_type": "execute_result",
          "data": {
            "text/html": [
              "<div>\n",
              "<style scoped>\n",
              "    .dataframe tbody tr th:only-of-type {\n",
              "        vertical-align: middle;\n",
              "    }\n",
              "\n",
              "    .dataframe tbody tr th {\n",
              "        vertical-align: top;\n",
              "    }\n",
              "\n",
              "    .dataframe thead th {\n",
              "        text-align: right;\n",
              "    }\n",
              "</style>\n",
              "<table border=\"1\" class=\"dataframe\">\n",
              "  <thead>\n",
              "    <tr style=\"text-align: right;\">\n",
              "      <th></th>\n",
              "      <th>Pclass</th>\n",
              "      <th>Sex</th>\n",
              "      <th>Age</th>\n",
              "      <th>SibSp</th>\n",
              "      <th>Parch</th>\n",
              "      <th>Fare</th>\n",
              "      <th>Embarked</th>\n",
              "    </tr>\n",
              "  </thead>\n",
              "  <tbody>\n",
              "    <tr>\n",
              "      <th>0</th>\n",
              "      <td>3</td>\n",
              "      <td>male</td>\n",
              "      <td>34.5</td>\n",
              "      <td>0</td>\n",
              "      <td>0</td>\n",
              "      <td>7.8292</td>\n",
              "      <td>Q</td>\n",
              "    </tr>\n",
              "    <tr>\n",
              "      <th>1</th>\n",
              "      <td>3</td>\n",
              "      <td>female</td>\n",
              "      <td>47.0</td>\n",
              "      <td>1</td>\n",
              "      <td>0</td>\n",
              "      <td>7.0000</td>\n",
              "      <td>S</td>\n",
              "    </tr>\n",
              "    <tr>\n",
              "      <th>2</th>\n",
              "      <td>2</td>\n",
              "      <td>male</td>\n",
              "      <td>62.0</td>\n",
              "      <td>0</td>\n",
              "      <td>0</td>\n",
              "      <td>9.6875</td>\n",
              "      <td>Q</td>\n",
              "    </tr>\n",
              "    <tr>\n",
              "      <th>3</th>\n",
              "      <td>3</td>\n",
              "      <td>male</td>\n",
              "      <td>27.0</td>\n",
              "      <td>0</td>\n",
              "      <td>0</td>\n",
              "      <td>8.6625</td>\n",
              "      <td>S</td>\n",
              "    </tr>\n",
              "    <tr>\n",
              "      <th>4</th>\n",
              "      <td>3</td>\n",
              "      <td>female</td>\n",
              "      <td>22.0</td>\n",
              "      <td>1</td>\n",
              "      <td>1</td>\n",
              "      <td>12.2875</td>\n",
              "      <td>S</td>\n",
              "    </tr>\n",
              "  </tbody>\n",
              "</table>\n",
              "</div>"
            ],
            "text/plain": [
              "   Pclass     Sex   Age  SibSp  Parch     Fare Embarked\n",
              "0       3    male  34.5      0      0   7.8292        Q\n",
              "1       3  female  47.0      1      0   7.0000        S\n",
              "2       2    male  62.0      0      0   9.6875        Q\n",
              "3       3    male  27.0      0      0   8.6625        S\n",
              "4       3  female  22.0      1      1  12.2875        S"
            ]
          },
          "metadata": {
            "tags": []
          },
          "execution_count": 167
        }
      ]
    },
    {
      "cell_type": "markdown",
      "metadata": {
        "id": "XKFRYMoTlpfB"
      },
      "source": [
        "###Dados Incompletos ou Faltantes"
      ]
    },
    {
      "cell_type": "markdown",
      "metadata": {
        "id": "yWwYtm4TgVwY"
      },
      "source": [
        "Determinadas as variáveis que desejamos manter, podemos verificar quais são os valores que estão ausentes no conjunto de dados e elaborar uma forma de preenchê-los"
      ]
    },
    {
      "cell_type": "markdown",
      "metadata": {
        "id": "1Xigiw5Yl_uk"
      },
      "source": [
        "VERIFICANDO DADOS FALTANTES"
      ]
    },
    {
      "cell_type": "code",
      "metadata": {
        "id": "pDXgx131lsd1",
        "colab": {
          "base_uri": "https://localhost:8080/",
          "height": 447
        },
        "outputId": "ac2e8d5e-3f55-4ff4-ca31-ddd36f76d737"
      },
      "source": [
        "msno.matrix(titanic, figsize = (10, 6), color = (0, 0.1, 0.25), sparkline = False)"
      ],
      "execution_count": null,
      "outputs": [
        {
          "output_type": "execute_result",
          "data": {
            "text/plain": [
              "<matplotlib.axes._subplots.AxesSubplot at 0x7f14479cc3d0>"
            ]
          },
          "metadata": {
            "tags": []
          },
          "execution_count": 168
        },
        {
          "output_type": "display_data",
          "data": {
            "image/png": "[encoded data removed]",
            "text/plain": [
              "<Figure size 720x432 with 1 Axes>"
            ]
          },
          "metadata": {
            "tags": [],
            "needs_background": "light"
          }
        }
      ]
    },
    {
      "cell_type": "code",
      "metadata": {
        "id": "GcMJc8zll3Jp",
        "colab": {
          "base_uri": "https://localhost:8080/"
        },
        "outputId": "e4e5fcea-d635-4317-9935-9df488c62fa3"
      },
      "source": [
        "titanic.isnull().mean()"
      ],
      "execution_count": null,
      "outputs": [
        {
          "output_type": "execute_result",
          "data": {
            "text/plain": [
              "Survived    0.000000\n",
              "Pclass      0.000000\n",
              "Sex         0.000000\n",
              "Age         0.198653\n",
              "SibSp       0.000000\n",
              "Parch       0.000000\n",
              "Fare        0.000000\n",
              "Embarked    0.002245\n",
              "dtype: float64"
            ]
          },
          "metadata": {
            "tags": []
          },
          "execution_count": 169
        }
      ]
    },
    {
      "cell_type": "code",
      "metadata": {
        "id": "t0AgDYV8l1pJ",
        "colab": {
          "base_uri": "https://localhost:8080/",
          "height": 449
        },
        "outputId": "7c7f4dbf-f2fa-4020-8377-14f7d8f91b34"
      },
      "source": [
        "msno.matrix(teste, figsize = (10, 6), color = (0, 0.1, 0.25), sparkline = False)"
      ],
      "execution_count": null,
      "outputs": [
        {
          "output_type": "execute_result",
          "data": {
            "text/plain": [
              "<matplotlib.axes._subplots.AxesSubplot at 0x7f14479fa250>"
            ]
          },
          "metadata": {
            "tags": []
          },
          "execution_count": 170
        },
        {
          "output_type": "display_data",
          "data": {
            "image/png": "[encoded data removed]",
            "text/plain": [
              "<Figure size 720x432 with 1 Axes>"
            ]
          },
          "metadata": {
            "tags": [],
            "needs_background": "light"
          }
        }
      ]
    },
    {
      "cell_type": "code",
      "metadata": {
        "id": "xjrlOWFSl41h",
        "colab": {
          "base_uri": "https://localhost:8080/"
        },
        "outputId": "8493bbab-f878-4cf5-9548-c14b5977a474"
      },
      "source": [
        "teste.isnull().mean()"
      ],
      "execution_count": null,
      "outputs": [
        {
          "output_type": "execute_result",
          "data": {
            "text/plain": [
              "Pclass      0.000000\n",
              "Sex         0.000000\n",
              "Age         0.205742\n",
              "SibSp       0.000000\n",
              "Parch       0.000000\n",
              "Fare        0.002392\n",
              "Embarked    0.000000\n",
              "dtype: float64"
            ]
          },
          "metadata": {
            "tags": []
          },
          "execution_count": 171
        }
      ]
    },
    {
      "cell_type": "markdown",
      "metadata": {
        "id": "FmCbsXGMmC3c"
      },
      "source": [
        "PREENCHENDO DADOS FALTANTES"
      ]
    },
    {
      "cell_type": "markdown",
      "metadata": {
        "id": "osn1TxkMKgdr"
      },
      "source": [
        "Neste projeto, optou-se por preencher os dados faltantes das variáveis **Age** e **Fare** com suas respectivas medianas e a variável **Embarked** com sua moda"
      ]
    },
    {
      "cell_type": "code",
      "metadata": {
        "id": "8zXQeHMVmEy_"
      },
      "source": [
        "med_age = titanic['Age'].median()\n",
        "med_fare = titanic['Fare'].median()\n",
        "med_emb = titanic['Embarked'].mode()[0]"
      ],
      "execution_count": null,
      "outputs": []
    },
    {
      "cell_type": "code",
      "metadata": {
        "id": "k2fSy_J5mJab"
      },
      "source": [
        "titanic['Age'] = titanic['Age'].fillna(med_age)\n",
        "titanic['Fare'] = titanic['Fare'].fillna(med_fare)\n",
        "titanic['Embarked'] = titanic['Embarked'].fillna(med_emb)"
      ],
      "execution_count": null,
      "outputs": []
    },
    {
      "cell_type": "code",
      "metadata": {
        "id": "axOHJuLHmLzy",
        "colab": {
          "base_uri": "https://localhost:8080/"
        },
        "outputId": "02a1976e-6767-45e4-ad4b-daa83b0e9279"
      },
      "source": [
        "titanic.isnull().mean()"
      ],
      "execution_count": null,
      "outputs": [
        {
          "output_type": "execute_result",
          "data": {
            "text/plain": [
              "Survived    0.0\n",
              "Pclass      0.0\n",
              "Sex         0.0\n",
              "Age         0.0\n",
              "SibSp       0.0\n",
              "Parch       0.0\n",
              "Fare        0.0\n",
              "Embarked    0.0\n",
              "dtype: float64"
            ]
          },
          "metadata": {
            "tags": []
          },
          "execution_count": 174
        }
      ]
    },
    {
      "cell_type": "markdown",
      "metadata": {
        "id": "9YbL1OKlLD15"
      },
      "source": [
        "Como os dados de teste devem permanecer desconhecidos para não prejudicar o poder de previsão de nosso algoritmo, preenchemos seus dados faltantes com os valores de mediana e moda obtidos no conjunto de treinamento"
      ]
    },
    {
      "cell_type": "code",
      "metadata": {
        "id": "o6lztZoZmKs4"
      },
      "source": [
        "teste['Age'] = teste['Age'].fillna(med_age)\n",
        "teste['Fare'] = teste['Fare'].fillna(med_fare)\n",
        "teste['Embarked'] = teste['Embarked'].fillna(med_emb)"
      ],
      "execution_count": null,
      "outputs": []
    },
    {
      "cell_type": "code",
      "metadata": {
        "id": "h7eUhRA1mNJv",
        "colab": {
          "base_uri": "https://localhost:8080/"
        },
        "outputId": "7efc1988-f822-45fe-830e-7ccbdd1febf9"
      },
      "source": [
        "teste.isnull().mean()"
      ],
      "execution_count": null,
      "outputs": [
        {
          "output_type": "execute_result",
          "data": {
            "text/plain": [
              "Pclass      0.0\n",
              "Sex         0.0\n",
              "Age         0.0\n",
              "SibSp       0.0\n",
              "Parch       0.0\n",
              "Fare        0.0\n",
              "Embarked    0.0\n",
              "dtype: float64"
            ]
          },
          "metadata": {
            "tags": []
          },
          "execution_count": 176
        }
      ]
    },
    {
      "cell_type": "markdown",
      "metadata": {
        "id": "ngmBeqfjmPPq"
      },
      "source": [
        "###Codificando as Variáveis Categóricas"
      ]
    },
    {
      "cell_type": "markdown",
      "metadata": {
        "id": "gBmf_x0wLd_c"
      },
      "source": [
        "Parte importante do pré-processamento é a codificação das variáveis categóricas, ou seja, sua transformação em valores numéricos. Este processo é importante para garantir que o modelo possa utilizar as informações nelas contidas para fazer suas previsões"
      ]
    },
    {
      "cell_type": "markdown",
      "metadata": {
        "id": "br0YFwb0MAM6"
      },
      "source": [
        "No caso da variável **Sex**, que possui apenas duas categorias, podemos transformá-la em uma variável binária atribuindo os valores 0 ou 1 a cada uma delas. Neste projeto, ao sexo feminino foi atribuído o valor 1 e ao masculino, o 0"
      ]
    },
    {
      "cell_type": "code",
      "metadata": {
        "id": "nHlzdhQ8mRga"
      },
      "source": [
        "titanic['Sex'] = titanic['Sex'].map({'male': 0, 'female': 1})\n",
        "teste['Sex'] = teste['Sex'].map({'male': 0, 'female': 1})"
      ],
      "execution_count": null,
      "outputs": []
    },
    {
      "cell_type": "markdown",
      "metadata": {
        "id": "Chu65oW9MdbM"
      },
      "source": [
        "Já para variáveis como **Embarked** e **Pclass**, que possuem mais de duas categorias, a solução é fazer sua dummificação. No processo de dummificação, são criadas k colunas de acordo com o número de categorias da variável e, para cada coluna, é atribuído um valor 0 ou 1 dependendo da categoria que a variável assume em cada entrada"
      ]
    },
    {
      "cell_type": "code",
      "metadata": {
        "id": "iWVGjnSfmaj9"
      },
      "source": [
        "titanic = pd.get_dummies(titanic, columns = ['Embarked', 'Pclass'])\n",
        "teste = pd.get_dummies(teste, columns = ['Embarked', 'Pclass'])"
      ],
      "execution_count": null,
      "outputs": []
    },
    {
      "cell_type": "code",
      "metadata": {
        "colab": {
          "base_uri": "https://localhost:8080/",
          "height": 204
        },
        "id": "qs7Hs6bei1ED",
        "outputId": "9ced6e93-7c2e-4310-93f8-abc20dcd2207"
      },
      "source": [
        "titanic.head()"
      ],
      "execution_count": null,
      "outputs": [
        {
          "output_type": "execute_result",
          "data": {
            "text/html": [
              "<div>\n",
              "<style scoped>\n",
              "    .dataframe tbody tr th:only-of-type {\n",
              "        vertical-align: middle;\n",
              "    }\n",
              "\n",
              "    .dataframe tbody tr th {\n",
              "        vertical-align: top;\n",
              "    }\n",
              "\n",
              "    .dataframe thead th {\n",
              "        text-align: right;\n",
              "    }\n",
              "</style>\n",
              "<table border=\"1\" class=\"dataframe\">\n",
              "  <thead>\n",
              "    <tr style=\"text-align: right;\">\n",
              "      <th></th>\n",
              "      <th>Survived</th>\n",
              "      <th>Sex</th>\n",
              "      <th>Age</th>\n",
              "      <th>SibSp</th>\n",
              "      <th>Parch</th>\n",
              "      <th>Fare</th>\n",
              "      <th>Embarked_C</th>\n",
              "      <th>Embarked_Q</th>\n",
              "      <th>Embarked_S</th>\n",
              "      <th>Pclass_1</th>\n",
              "      <th>Pclass_2</th>\n",
              "      <th>Pclass_3</th>\n",
              "    </tr>\n",
              "  </thead>\n",
              "  <tbody>\n",
              "    <tr>\n",
              "      <th>0</th>\n",
              "      <td>0</td>\n",
              "      <td>0</td>\n",
              "      <td>22.0</td>\n",
              "      <td>1</td>\n",
              "      <td>0</td>\n",
              "      <td>7.2500</td>\n",
              "      <td>0</td>\n",
              "      <td>0</td>\n",
              "      <td>1</td>\n",
              "      <td>0</td>\n",
              "      <td>0</td>\n",
              "      <td>1</td>\n",
              "    </tr>\n",
              "    <tr>\n",
              "      <th>1</th>\n",
              "      <td>1</td>\n",
              "      <td>1</td>\n",
              "      <td>38.0</td>\n",
              "      <td>1</td>\n",
              "      <td>0</td>\n",
              "      <td>71.2833</td>\n",
              "      <td>1</td>\n",
              "      <td>0</td>\n",
              "      <td>0</td>\n",
              "      <td>1</td>\n",
              "      <td>0</td>\n",
              "      <td>0</td>\n",
              "    </tr>\n",
              "    <tr>\n",
              "      <th>2</th>\n",
              "      <td>1</td>\n",
              "      <td>1</td>\n",
              "      <td>26.0</td>\n",
              "      <td>0</td>\n",
              "      <td>0</td>\n",
              "      <td>7.9250</td>\n",
              "      <td>0</td>\n",
              "      <td>0</td>\n",
              "      <td>1</td>\n",
              "      <td>0</td>\n",
              "      <td>0</td>\n",
              "      <td>1</td>\n",
              "    </tr>\n",
              "    <tr>\n",
              "      <th>3</th>\n",
              "      <td>1</td>\n",
              "      <td>1</td>\n",
              "      <td>35.0</td>\n",
              "      <td>1</td>\n",
              "      <td>0</td>\n",
              "      <td>53.1000</td>\n",
              "      <td>0</td>\n",
              "      <td>0</td>\n",
              "      <td>1</td>\n",
              "      <td>1</td>\n",
              "      <td>0</td>\n",
              "      <td>0</td>\n",
              "    </tr>\n",
              "    <tr>\n",
              "      <th>4</th>\n",
              "      <td>0</td>\n",
              "      <td>0</td>\n",
              "      <td>35.0</td>\n",
              "      <td>0</td>\n",
              "      <td>0</td>\n",
              "      <td>8.0500</td>\n",
              "      <td>0</td>\n",
              "      <td>0</td>\n",
              "      <td>1</td>\n",
              "      <td>0</td>\n",
              "      <td>0</td>\n",
              "      <td>1</td>\n",
              "    </tr>\n",
              "  </tbody>\n",
              "</table>\n",
              "</div>"
            ],
            "text/plain": [
              "   Survived  Sex   Age  SibSp  ...  Embarked_S  Pclass_1  Pclass_2  Pclass_3\n",
              "0         0    0  22.0      1  ...           1         0         0         1\n",
              "1         1    1  38.0      1  ...           0         1         0         0\n",
              "2         1    1  26.0      0  ...           1         0         0         1\n",
              "3         1    1  35.0      1  ...           1         1         0         0\n",
              "4         0    0  35.0      0  ...           1         0         0         1\n",
              "\n",
              "[5 rows x 12 columns]"
            ]
          },
          "metadata": {
            "tags": []
          },
          "execution_count": 179
        }
      ]
    },
    {
      "cell_type": "code",
      "metadata": {
        "colab": {
          "base_uri": "https://localhost:8080/",
          "height": 224
        },
        "id": "RdQ01S2pi4fA",
        "outputId": "eb025d0b-6e2a-4865-ab2d-a5c8d38d0d8f"
      },
      "source": [
        "teste.head()"
      ],
      "execution_count": null,
      "outputs": [
        {
          "output_type": "execute_result",
          "data": {
            "text/html": [
              "<div>\n",
              "<style scoped>\n",
              "    .dataframe tbody tr th:only-of-type {\n",
              "        vertical-align: middle;\n",
              "    }\n",
              "\n",
              "    .dataframe tbody tr th {\n",
              "        vertical-align: top;\n",
              "    }\n",
              "\n",
              "    .dataframe thead th {\n",
              "        text-align: right;\n",
              "    }\n",
              "</style>\n",
              "<table border=\"1\" class=\"dataframe\">\n",
              "  <thead>\n",
              "    <tr style=\"text-align: right;\">\n",
              "      <th></th>\n",
              "      <th>Sex</th>\n",
              "      <th>Age</th>\n",
              "      <th>SibSp</th>\n",
              "      <th>Parch</th>\n",
              "      <th>Fare</th>\n",
              "      <th>Embarked_C</th>\n",
              "      <th>Embarked_Q</th>\n",
              "      <th>Embarked_S</th>\n",
              "      <th>Pclass_1</th>\n",
              "      <th>Pclass_2</th>\n",
              "      <th>Pclass_3</th>\n",
              "    </tr>\n",
              "  </thead>\n",
              "  <tbody>\n",
              "    <tr>\n",
              "      <th>0</th>\n",
              "      <td>0</td>\n",
              "      <td>34.5</td>\n",
              "      <td>0</td>\n",
              "      <td>0</td>\n",
              "      <td>7.8292</td>\n",
              "      <td>0</td>\n",
              "      <td>1</td>\n",
              "      <td>0</td>\n",
              "      <td>0</td>\n",
              "      <td>0</td>\n",
              "      <td>1</td>\n",
              "    </tr>\n",
              "    <tr>\n",
              "      <th>1</th>\n",
              "      <td>1</td>\n",
              "      <td>47.0</td>\n",
              "      <td>1</td>\n",
              "      <td>0</td>\n",
              "      <td>7.0000</td>\n",
              "      <td>0</td>\n",
              "      <td>0</td>\n",
              "      <td>1</td>\n",
              "      <td>0</td>\n",
              "      <td>0</td>\n",
              "      <td>1</td>\n",
              "    </tr>\n",
              "    <tr>\n",
              "      <th>2</th>\n",
              "      <td>0</td>\n",
              "      <td>62.0</td>\n",
              "      <td>0</td>\n",
              "      <td>0</td>\n",
              "      <td>9.6875</td>\n",
              "      <td>0</td>\n",
              "      <td>1</td>\n",
              "      <td>0</td>\n",
              "      <td>0</td>\n",
              "      <td>1</td>\n",
              "      <td>0</td>\n",
              "    </tr>\n",
              "    <tr>\n",
              "      <th>3</th>\n",
              "      <td>0</td>\n",
              "      <td>27.0</td>\n",
              "      <td>0</td>\n",
              "      <td>0</td>\n",
              "      <td>8.6625</td>\n",
              "      <td>0</td>\n",
              "      <td>0</td>\n",
              "      <td>1</td>\n",
              "      <td>0</td>\n",
              "      <td>0</td>\n",
              "      <td>1</td>\n",
              "    </tr>\n",
              "    <tr>\n",
              "      <th>4</th>\n",
              "      <td>1</td>\n",
              "      <td>22.0</td>\n",
              "      <td>1</td>\n",
              "      <td>1</td>\n",
              "      <td>12.2875</td>\n",
              "      <td>0</td>\n",
              "      <td>0</td>\n",
              "      <td>1</td>\n",
              "      <td>0</td>\n",
              "      <td>0</td>\n",
              "      <td>1</td>\n",
              "    </tr>\n",
              "  </tbody>\n",
              "</table>\n",
              "</div>"
            ],
            "text/plain": [
              "   Sex   Age  SibSp  Parch  ...  Embarked_S  Pclass_1  Pclass_2  Pclass_3\n",
              "0    0  34.5      0      0  ...           0         0         0         1\n",
              "1    1  47.0      1      0  ...           1         0         0         1\n",
              "2    0  62.0      0      0  ...           0         0         1         0\n",
              "3    0  27.0      0      0  ...           1         0         0         1\n",
              "4    1  22.0      1      1  ...           1         0         0         1\n",
              "\n",
              "[5 rows x 11 columns]"
            ]
          },
          "metadata": {
            "tags": []
          },
          "execution_count": 180
        }
      ]
    },
    {
      "cell_type": "markdown",
      "metadata": {
        "id": "aekD2dADmfEF"
      },
      "source": [
        "###Mudando a Escala das Variáveis Contínuas"
      ]
    },
    {
      "cell_type": "markdown",
      "metadata": {
        "id": "rC4PGMzINE1q"
      },
      "source": [
        "Outra forma de facilitar o processamento dos dados feito pelos algoritmos de machine learning é por meio do escalonamento das variáveis, ou seja, por meio do ajuste de sua escala para que os dados assumam valores mais próximos entre si. Quanto mais próximo de média 0 e desvio padrão 1, melhor para a modelagem"
      ]
    },
    {
      "cell_type": "markdown",
      "metadata": {
        "id": "5awbutshNreB"
      },
      "source": [
        "Uma forma de fazer o escalonamento das variáveis é por padronização:\n",
        "\n",
        "\n",
        "> (vetor - sua média) / seu desvio padrão\n",
        "\n",
        "Utilizando a função Standard Scaler, ajustamos a transformação nos dados de treinamento e utilizamos o mesmo ajuste também nos dados de teste"
      ]
    },
    {
      "cell_type": "code",
      "metadata": {
        "id": "xwuWpw2dmhzj"
      },
      "source": [
        "sc = StandardScaler()"
      ],
      "execution_count": null,
      "outputs": []
    },
    {
      "cell_type": "code",
      "metadata": {
        "id": "RkgLX_bjmqaI"
      },
      "source": [
        "aux0 = sc.fit_transform(titanic[['Age', 'Fare']])\n",
        "aux1 = pd.DataFrame(aux0, columns = ['Idade', 'Tarifa'])\n",
        "titanic = pd.concat([titanic, aux1], axis = 1)\n",
        "\n",
        "titanic.drop(['Age', 'Fare'], axis = 1, inplace = True)"
      ],
      "execution_count": null,
      "outputs": []
    },
    {
      "cell_type": "code",
      "metadata": {
        "colab": {
          "base_uri": "https://localhost:8080/",
          "height": 224
        },
        "id": "-AVbV5UMjAbo",
        "outputId": "04661355-3784-4d8b-cc52-e4ab8b9fbf78"
      },
      "source": [
        "titanic.head()"
      ],
      "execution_count": null,
      "outputs": [
        {
          "output_type": "execute_result",
          "data": {
            "text/html": [
              "<div>\n",
              "<style scoped>\n",
              "    .dataframe tbody tr th:only-of-type {\n",
              "        vertical-align: middle;\n",
              "    }\n",
              "\n",
              "    .dataframe tbody tr th {\n",
              "        vertical-align: top;\n",
              "    }\n",
              "\n",
              "    .dataframe thead th {\n",
              "        text-align: right;\n",
              "    }\n",
              "</style>\n",
              "<table border=\"1\" class=\"dataframe\">\n",
              "  <thead>\n",
              "    <tr style=\"text-align: right;\">\n",
              "      <th></th>\n",
              "      <th>Survived</th>\n",
              "      <th>Sex</th>\n",
              "      <th>SibSp</th>\n",
              "      <th>Parch</th>\n",
              "      <th>Embarked_C</th>\n",
              "      <th>Embarked_Q</th>\n",
              "      <th>Embarked_S</th>\n",
              "      <th>Pclass_1</th>\n",
              "      <th>Pclass_2</th>\n",
              "      <th>Pclass_3</th>\n",
              "      <th>Idade</th>\n",
              "      <th>Tarifa</th>\n",
              "    </tr>\n",
              "  </thead>\n",
              "  <tbody>\n",
              "    <tr>\n",
              "      <th>0</th>\n",
              "      <td>0</td>\n",
              "      <td>0</td>\n",
              "      <td>1</td>\n",
              "      <td>0</td>\n",
              "      <td>0</td>\n",
              "      <td>0</td>\n",
              "      <td>1</td>\n",
              "      <td>0</td>\n",
              "      <td>0</td>\n",
              "      <td>1</td>\n",
              "      <td>-0.565736</td>\n",
              "      <td>-0.502445</td>\n",
              "    </tr>\n",
              "    <tr>\n",
              "      <th>1</th>\n",
              "      <td>1</td>\n",
              "      <td>1</td>\n",
              "      <td>1</td>\n",
              "      <td>0</td>\n",
              "      <td>1</td>\n",
              "      <td>0</td>\n",
              "      <td>0</td>\n",
              "      <td>1</td>\n",
              "      <td>0</td>\n",
              "      <td>0</td>\n",
              "      <td>0.663861</td>\n",
              "      <td>0.786845</td>\n",
              "    </tr>\n",
              "    <tr>\n",
              "      <th>2</th>\n",
              "      <td>1</td>\n",
              "      <td>1</td>\n",
              "      <td>0</td>\n",
              "      <td>0</td>\n",
              "      <td>0</td>\n",
              "      <td>0</td>\n",
              "      <td>1</td>\n",
              "      <td>0</td>\n",
              "      <td>0</td>\n",
              "      <td>1</td>\n",
              "      <td>-0.258337</td>\n",
              "      <td>-0.488854</td>\n",
              "    </tr>\n",
              "    <tr>\n",
              "      <th>3</th>\n",
              "      <td>1</td>\n",
              "      <td>1</td>\n",
              "      <td>1</td>\n",
              "      <td>0</td>\n",
              "      <td>0</td>\n",
              "      <td>0</td>\n",
              "      <td>1</td>\n",
              "      <td>1</td>\n",
              "      <td>0</td>\n",
              "      <td>0</td>\n",
              "      <td>0.433312</td>\n",
              "      <td>0.420730</td>\n",
              "    </tr>\n",
              "    <tr>\n",
              "      <th>4</th>\n",
              "      <td>0</td>\n",
              "      <td>0</td>\n",
              "      <td>0</td>\n",
              "      <td>0</td>\n",
              "      <td>0</td>\n",
              "      <td>0</td>\n",
              "      <td>1</td>\n",
              "      <td>0</td>\n",
              "      <td>0</td>\n",
              "      <td>1</td>\n",
              "      <td>0.433312</td>\n",
              "      <td>-0.486337</td>\n",
              "    </tr>\n",
              "  </tbody>\n",
              "</table>\n",
              "</div>"
            ],
            "text/plain": [
              "   Survived  Sex  SibSp  Parch  ...  Pclass_2  Pclass_3     Idade    Tarifa\n",
              "0         0    0      1      0  ...         0         1 -0.565736 -0.502445\n",
              "1         1    1      1      0  ...         0         0  0.663861  0.786845\n",
              "2         1    1      0      0  ...         0         1 -0.258337 -0.488854\n",
              "3         1    1      1      0  ...         0         0  0.433312  0.420730\n",
              "4         0    0      0      0  ...         0         1  0.433312 -0.486337\n",
              "\n",
              "[5 rows x 12 columns]"
            ]
          },
          "metadata": {
            "tags": []
          },
          "execution_count": 184
        }
      ]
    },
    {
      "cell_type": "code",
      "metadata": {
        "id": "_VNJsuh3m885"
      },
      "source": [
        "aux0 = sc.transform(teste[['Age', 'Fare']])\n",
        "aux1 = pd.DataFrame(aux0, columns = ['Idade', 'Tarifa'])\n",
        "teste = pd.concat([teste, aux1], axis = 1)\n",
        "\n",
        "teste.drop(['Age', 'Fare'], axis = 1, inplace = True)"
      ],
      "execution_count": null,
      "outputs": []
    },
    {
      "cell_type": "code",
      "metadata": {
        "colab": {
          "base_uri": "https://localhost:8080/",
          "height": 224
        },
        "id": "bnvwUa_3jDSf",
        "outputId": "d9a82fd9-dfaf-4126-cd7e-67367faaeb6f"
      },
      "source": [
        "teste.head()"
      ],
      "execution_count": null,
      "outputs": [
        {
          "output_type": "execute_result",
          "data": {
            "text/html": [
              "<div>\n",
              "<style scoped>\n",
              "    .dataframe tbody tr th:only-of-type {\n",
              "        vertical-align: middle;\n",
              "    }\n",
              "\n",
              "    .dataframe tbody tr th {\n",
              "        vertical-align: top;\n",
              "    }\n",
              "\n",
              "    .dataframe thead th {\n",
              "        text-align: right;\n",
              "    }\n",
              "</style>\n",
              "<table border=\"1\" class=\"dataframe\">\n",
              "  <thead>\n",
              "    <tr style=\"text-align: right;\">\n",
              "      <th></th>\n",
              "      <th>Sex</th>\n",
              "      <th>SibSp</th>\n",
              "      <th>Parch</th>\n",
              "      <th>Embarked_C</th>\n",
              "      <th>Embarked_Q</th>\n",
              "      <th>Embarked_S</th>\n",
              "      <th>Pclass_1</th>\n",
              "      <th>Pclass_2</th>\n",
              "      <th>Pclass_3</th>\n",
              "      <th>Idade</th>\n",
              "      <th>Tarifa</th>\n",
              "    </tr>\n",
              "  </thead>\n",
              "  <tbody>\n",
              "    <tr>\n",
              "      <th>0</th>\n",
              "      <td>0</td>\n",
              "      <td>0</td>\n",
              "      <td>0</td>\n",
              "      <td>0</td>\n",
              "      <td>1</td>\n",
              "      <td>0</td>\n",
              "      <td>0</td>\n",
              "      <td>0</td>\n",
              "      <td>1</td>\n",
              "      <td>0.394887</td>\n",
              "      <td>-0.490783</td>\n",
              "    </tr>\n",
              "    <tr>\n",
              "      <th>1</th>\n",
              "      <td>1</td>\n",
              "      <td>1</td>\n",
              "      <td>0</td>\n",
              "      <td>0</td>\n",
              "      <td>0</td>\n",
              "      <td>1</td>\n",
              "      <td>0</td>\n",
              "      <td>0</td>\n",
              "      <td>1</td>\n",
              "      <td>1.355510</td>\n",
              "      <td>-0.507479</td>\n",
              "    </tr>\n",
              "    <tr>\n",
              "      <th>2</th>\n",
              "      <td>0</td>\n",
              "      <td>0</td>\n",
              "      <td>0</td>\n",
              "      <td>0</td>\n",
              "      <td>1</td>\n",
              "      <td>0</td>\n",
              "      <td>0</td>\n",
              "      <td>1</td>\n",
              "      <td>0</td>\n",
              "      <td>2.508257</td>\n",
              "      <td>-0.453367</td>\n",
              "    </tr>\n",
              "    <tr>\n",
              "      <th>3</th>\n",
              "      <td>0</td>\n",
              "      <td>0</td>\n",
              "      <td>0</td>\n",
              "      <td>0</td>\n",
              "      <td>0</td>\n",
              "      <td>1</td>\n",
              "      <td>0</td>\n",
              "      <td>0</td>\n",
              "      <td>1</td>\n",
              "      <td>-0.181487</td>\n",
              "      <td>-0.474005</td>\n",
              "    </tr>\n",
              "    <tr>\n",
              "      <th>4</th>\n",
              "      <td>1</td>\n",
              "      <td>1</td>\n",
              "      <td>1</td>\n",
              "      <td>0</td>\n",
              "      <td>0</td>\n",
              "      <td>1</td>\n",
              "      <td>0</td>\n",
              "      <td>0</td>\n",
              "      <td>1</td>\n",
              "      <td>-0.565736</td>\n",
              "      <td>-0.401017</td>\n",
              "    </tr>\n",
              "  </tbody>\n",
              "</table>\n",
              "</div>"
            ],
            "text/plain": [
              "   Sex  SibSp  Parch  Embarked_C  ...  Pclass_2  Pclass_3     Idade    Tarifa\n",
              "0    0      0      0           0  ...         0         1  0.394887 -0.490783\n",
              "1    1      1      0           0  ...         0         1  1.355510 -0.507479\n",
              "2    0      0      0           0  ...         1         0  2.508257 -0.453367\n",
              "3    0      0      0           0  ...         0         1 -0.181487 -0.474005\n",
              "4    1      1      1           0  ...         0         1 -0.565736 -0.401017\n",
              "\n",
              "[5 rows x 11 columns]"
            ]
          },
          "metadata": {
            "tags": []
          },
          "execution_count": 185
        }
      ]
    },
    {
      "cell_type": "markdown",
      "metadata": {
        "id": "37cHua41m_hR"
      },
      "source": [
        "##CHECKPOINT 1"
      ]
    },
    {
      "cell_type": "markdown",
      "metadata": {
        "id": "ZN-xmDc8OZdJ"
      },
      "source": [
        "Guardamos as alterações feitas no conjunto de dados até então. Assim, podemos testar o desempenho do modelo com os dados modificados em diversos pontos do pré-processamento"
      ]
    },
    {
      "cell_type": "code",
      "metadata": {
        "id": "CfIW3e97nDcG"
      },
      "source": [
        "titanic1 = titanic.copy()\n",
        "teste1 = teste.copy()"
      ],
      "execution_count": null,
      "outputs": []
    },
    {
      "cell_type": "markdown",
      "metadata": {
        "id": "ZLl30879nE_p"
      },
      "source": [
        "###Engenharia de Variáveis"
      ]
    },
    {
      "cell_type": "markdown",
      "metadata": {
        "id": "r5YdkepvO0cp"
      },
      "source": [
        "Engenharia de variáveis é o processo pelo qual criamos novas variáveis ao alterarmos variáveis já existentes do conjunto de dados e deixarmos algumas de suas informações mais evidentes para serem utilizadas pelo modelo"
      ]
    },
    {
      "cell_type": "markdown",
      "metadata": {
        "id": "Ox39LvHTndq6"
      },
      "source": [
        "####Variável \"Sozinho\""
      ]
    },
    {
      "cell_type": "markdown",
      "metadata": {
        "id": "HdOKT7QjPNqq"
      },
      "source": [
        "Para criarmos uma variável que indica se um passageiro estava ou não sozinho no navio, contabilizamos quantos outros passageiros estavam com ele (incluindo ele mesmo). Se esse valor for 1, significa que ele estava sozinho. Senão, significa que ele estava acompanhado"
      ]
    },
    {
      "cell_type": "code",
      "metadata": {
        "id": "XS9Q7H-KnRIX"
      },
      "source": [
        "titanic['Família'] = titanic['SibSp'] + titanic['Parch'] + 1\n",
        "teste['Família'] = teste['SibSp'] + teste['Parch'] + 1"
      ],
      "execution_count": null,
      "outputs": []
    },
    {
      "cell_type": "code",
      "metadata": {
        "colab": {
          "base_uri": "https://localhost:8080/",
          "height": 224
        },
        "id": "0tpHXN4apy6v",
        "outputId": "e631c501-9922-4eae-bc41-4b7531143ad5"
      },
      "source": [
        "titanic.head()"
      ],
      "execution_count": null,
      "outputs": [
        {
          "output_type": "execute_result",
          "data": {
            "text/html": [
              "<div>\n",
              "<style scoped>\n",
              "    .dataframe tbody tr th:only-of-type {\n",
              "        vertical-align: middle;\n",
              "    }\n",
              "\n",
              "    .dataframe tbody tr th {\n",
              "        vertical-align: top;\n",
              "    }\n",
              "\n",
              "    .dataframe thead th {\n",
              "        text-align: right;\n",
              "    }\n",
              "</style>\n",
              "<table border=\"1\" class=\"dataframe\">\n",
              "  <thead>\n",
              "    <tr style=\"text-align: right;\">\n",
              "      <th></th>\n",
              "      <th>Survived</th>\n",
              "      <th>Sex</th>\n",
              "      <th>SibSp</th>\n",
              "      <th>Parch</th>\n",
              "      <th>Embarked_C</th>\n",
              "      <th>Embarked_Q</th>\n",
              "      <th>Embarked_S</th>\n",
              "      <th>Pclass_1</th>\n",
              "      <th>Pclass_2</th>\n",
              "      <th>Pclass_3</th>\n",
              "      <th>Idade</th>\n",
              "      <th>Tarifa</th>\n",
              "      <th>Família</th>\n",
              "    </tr>\n",
              "  </thead>\n",
              "  <tbody>\n",
              "    <tr>\n",
              "      <th>0</th>\n",
              "      <td>0</td>\n",
              "      <td>0</td>\n",
              "      <td>1</td>\n",
              "      <td>0</td>\n",
              "      <td>0</td>\n",
              "      <td>0</td>\n",
              "      <td>1</td>\n",
              "      <td>0</td>\n",
              "      <td>0</td>\n",
              "      <td>1</td>\n",
              "      <td>-0.565736</td>\n",
              "      <td>-0.502445</td>\n",
              "      <td>2</td>\n",
              "    </tr>\n",
              "    <tr>\n",
              "      <th>1</th>\n",
              "      <td>1</td>\n",
              "      <td>1</td>\n",
              "      <td>1</td>\n",
              "      <td>0</td>\n",
              "      <td>1</td>\n",
              "      <td>0</td>\n",
              "      <td>0</td>\n",
              "      <td>1</td>\n",
              "      <td>0</td>\n",
              "      <td>0</td>\n",
              "      <td>0.663861</td>\n",
              "      <td>0.786845</td>\n",
              "      <td>2</td>\n",
              "    </tr>\n",
              "    <tr>\n",
              "      <th>2</th>\n",
              "      <td>1</td>\n",
              "      <td>1</td>\n",
              "      <td>0</td>\n",
              "      <td>0</td>\n",
              "      <td>0</td>\n",
              "      <td>0</td>\n",
              "      <td>1</td>\n",
              "      <td>0</td>\n",
              "      <td>0</td>\n",
              "      <td>1</td>\n",
              "      <td>-0.258337</td>\n",
              "      <td>-0.488854</td>\n",
              "      <td>1</td>\n",
              "    </tr>\n",
              "    <tr>\n",
              "      <th>3</th>\n",
              "      <td>1</td>\n",
              "      <td>1</td>\n",
              "      <td>1</td>\n",
              "      <td>0</td>\n",
              "      <td>0</td>\n",
              "      <td>0</td>\n",
              "      <td>1</td>\n",
              "      <td>1</td>\n",
              "      <td>0</td>\n",
              "      <td>0</td>\n",
              "      <td>0.433312</td>\n",
              "      <td>0.420730</td>\n",
              "      <td>2</td>\n",
              "    </tr>\n",
              "    <tr>\n",
              "      <th>4</th>\n",
              "      <td>0</td>\n",
              "      <td>0</td>\n",
              "      <td>0</td>\n",
              "      <td>0</td>\n",
              "      <td>0</td>\n",
              "      <td>0</td>\n",
              "      <td>1</td>\n",
              "      <td>0</td>\n",
              "      <td>0</td>\n",
              "      <td>1</td>\n",
              "      <td>0.433312</td>\n",
              "      <td>-0.486337</td>\n",
              "      <td>1</td>\n",
              "    </tr>\n",
              "  </tbody>\n",
              "</table>\n",
              "</div>"
            ],
            "text/plain": [
              "   Survived  Sex  SibSp  Parch  ...  Pclass_3     Idade    Tarifa  Família\n",
              "0         0    0      1      0  ...         1 -0.565736 -0.502445        2\n",
              "1         1    1      1      0  ...         0  0.663861  0.786845        2\n",
              "2         1    1      0      0  ...         1 -0.258337 -0.488854        1\n",
              "3         1    1      1      0  ...         0  0.433312  0.420730        2\n",
              "4         0    0      0      0  ...         1  0.433312 -0.486337        1\n",
              "\n",
              "[5 rows x 13 columns]"
            ]
          },
          "metadata": {
            "tags": []
          },
          "execution_count": 188
        }
      ]
    },
    {
      "cell_type": "code",
      "metadata": {
        "colab": {
          "base_uri": "https://localhost:8080/",
          "height": 224
        },
        "id": "XudGqgwCp3ie",
        "outputId": "6f0b67a5-eef9-4681-ed12-9cabcbf04e90"
      },
      "source": [
        "teste.head()"
      ],
      "execution_count": null,
      "outputs": [
        {
          "output_type": "execute_result",
          "data": {
            "text/html": [
              "<div>\n",
              "<style scoped>\n",
              "    .dataframe tbody tr th:only-of-type {\n",
              "        vertical-align: middle;\n",
              "    }\n",
              "\n",
              "    .dataframe tbody tr th {\n",
              "        vertical-align: top;\n",
              "    }\n",
              "\n",
              "    .dataframe thead th {\n",
              "        text-align: right;\n",
              "    }\n",
              "</style>\n",
              "<table border=\"1\" class=\"dataframe\">\n",
              "  <thead>\n",
              "    <tr style=\"text-align: right;\">\n",
              "      <th></th>\n",
              "      <th>Sex</th>\n",
              "      <th>SibSp</th>\n",
              "      <th>Parch</th>\n",
              "      <th>Embarked_C</th>\n",
              "      <th>Embarked_Q</th>\n",
              "      <th>Embarked_S</th>\n",
              "      <th>Pclass_1</th>\n",
              "      <th>Pclass_2</th>\n",
              "      <th>Pclass_3</th>\n",
              "      <th>Idade</th>\n",
              "      <th>Tarifa</th>\n",
              "      <th>Família</th>\n",
              "    </tr>\n",
              "  </thead>\n",
              "  <tbody>\n",
              "    <tr>\n",
              "      <th>0</th>\n",
              "      <td>0</td>\n",
              "      <td>0</td>\n",
              "      <td>0</td>\n",
              "      <td>0</td>\n",
              "      <td>1</td>\n",
              "      <td>0</td>\n",
              "      <td>0</td>\n",
              "      <td>0</td>\n",
              "      <td>1</td>\n",
              "      <td>0.394887</td>\n",
              "      <td>-0.490783</td>\n",
              "      <td>1</td>\n",
              "    </tr>\n",
              "    <tr>\n",
              "      <th>1</th>\n",
              "      <td>1</td>\n",
              "      <td>1</td>\n",
              "      <td>0</td>\n",
              "      <td>0</td>\n",
              "      <td>0</td>\n",
              "      <td>1</td>\n",
              "      <td>0</td>\n",
              "      <td>0</td>\n",
              "      <td>1</td>\n",
              "      <td>1.355510</td>\n",
              "      <td>-0.507479</td>\n",
              "      <td>2</td>\n",
              "    </tr>\n",
              "    <tr>\n",
              "      <th>2</th>\n",
              "      <td>0</td>\n",
              "      <td>0</td>\n",
              "      <td>0</td>\n",
              "      <td>0</td>\n",
              "      <td>1</td>\n",
              "      <td>0</td>\n",
              "      <td>0</td>\n",
              "      <td>1</td>\n",
              "      <td>0</td>\n",
              "      <td>2.508257</td>\n",
              "      <td>-0.453367</td>\n",
              "      <td>1</td>\n",
              "    </tr>\n",
              "    <tr>\n",
              "      <th>3</th>\n",
              "      <td>0</td>\n",
              "      <td>0</td>\n",
              "      <td>0</td>\n",
              "      <td>0</td>\n",
              "      <td>0</td>\n",
              "      <td>1</td>\n",
              "      <td>0</td>\n",
              "      <td>0</td>\n",
              "      <td>1</td>\n",
              "      <td>-0.181487</td>\n",
              "      <td>-0.474005</td>\n",
              "      <td>1</td>\n",
              "    </tr>\n",
              "    <tr>\n",
              "      <th>4</th>\n",
              "      <td>1</td>\n",
              "      <td>1</td>\n",
              "      <td>1</td>\n",
              "      <td>0</td>\n",
              "      <td>0</td>\n",
              "      <td>1</td>\n",
              "      <td>0</td>\n",
              "      <td>0</td>\n",
              "      <td>1</td>\n",
              "      <td>-0.565736</td>\n",
              "      <td>-0.401017</td>\n",
              "      <td>3</td>\n",
              "    </tr>\n",
              "  </tbody>\n",
              "</table>\n",
              "</div>"
            ],
            "text/plain": [
              "   Sex  SibSp  Parch  Embarked_C  ...  Pclass_3     Idade    Tarifa  Família\n",
              "0    0      0      0           0  ...         1  0.394887 -0.490783        1\n",
              "1    1      1      0           0  ...         1  1.355510 -0.507479        2\n",
              "2    0      0      0           0  ...         0  2.508257 -0.453367        1\n",
              "3    0      0      0           0  ...         1 -0.181487 -0.474005        1\n",
              "4    1      1      1           0  ...         1 -0.565736 -0.401017        3\n",
              "\n",
              "[5 rows x 12 columns]"
            ]
          },
          "metadata": {
            "tags": []
          },
          "execution_count": 189
        }
      ]
    },
    {
      "cell_type": "code",
      "metadata": {
        "id": "ZpMpbnbjnhjh"
      },
      "source": [
        "def aux(x):\n",
        "  if x == 1:\n",
        "    return 1\n",
        "  else: \n",
        "    return 0\n",
        "\n",
        "titanic['Sozinho'] = titanic['Família'].apply(aux)\n",
        "teste['Sozinho'] = teste['Família'].apply(aux)"
      ],
      "execution_count": null,
      "outputs": []
    },
    {
      "cell_type": "code",
      "metadata": {
        "id": "p902-j7Kni3h"
      },
      "source": [
        "titanic.drop(['SibSp', 'Parch', 'Família'], axis = 1, inplace = True)\n",
        "teste.drop(['SibSp', 'Parch', 'Família'], axis = 1, inplace = True)"
      ],
      "execution_count": null,
      "outputs": []
    },
    {
      "cell_type": "code",
      "metadata": {
        "colab": {
          "base_uri": "https://localhost:8080/",
          "height": 224
        },
        "id": "9_3MXp19jMXz",
        "outputId": "0939b864-78ed-4929-b52d-d7c56a1dfc25"
      },
      "source": [
        "titanic.head()"
      ],
      "execution_count": null,
      "outputs": [
        {
          "output_type": "execute_result",
          "data": {
            "text/html": [
              "<div>\n",
              "<style scoped>\n",
              "    .dataframe tbody tr th:only-of-type {\n",
              "        vertical-align: middle;\n",
              "    }\n",
              "\n",
              "    .dataframe tbody tr th {\n",
              "        vertical-align: top;\n",
              "    }\n",
              "\n",
              "    .dataframe thead th {\n",
              "        text-align: right;\n",
              "    }\n",
              "</style>\n",
              "<table border=\"1\" class=\"dataframe\">\n",
              "  <thead>\n",
              "    <tr style=\"text-align: right;\">\n",
              "      <th></th>\n",
              "      <th>Survived</th>\n",
              "      <th>Sex</th>\n",
              "      <th>Embarked_C</th>\n",
              "      <th>Embarked_Q</th>\n",
              "      <th>Embarked_S</th>\n",
              "      <th>Pclass_1</th>\n",
              "      <th>Pclass_2</th>\n",
              "      <th>Pclass_3</th>\n",
              "      <th>Idade</th>\n",
              "      <th>Tarifa</th>\n",
              "      <th>Sozinho</th>\n",
              "    </tr>\n",
              "  </thead>\n",
              "  <tbody>\n",
              "    <tr>\n",
              "      <th>0</th>\n",
              "      <td>0</td>\n",
              "      <td>0</td>\n",
              "      <td>0</td>\n",
              "      <td>0</td>\n",
              "      <td>1</td>\n",
              "      <td>0</td>\n",
              "      <td>0</td>\n",
              "      <td>1</td>\n",
              "      <td>-0.565736</td>\n",
              "      <td>-0.502445</td>\n",
              "      <td>0</td>\n",
              "    </tr>\n",
              "    <tr>\n",
              "      <th>1</th>\n",
              "      <td>1</td>\n",
              "      <td>1</td>\n",
              "      <td>1</td>\n",
              "      <td>0</td>\n",
              "      <td>0</td>\n",
              "      <td>1</td>\n",
              "      <td>0</td>\n",
              "      <td>0</td>\n",
              "      <td>0.663861</td>\n",
              "      <td>0.786845</td>\n",
              "      <td>0</td>\n",
              "    </tr>\n",
              "    <tr>\n",
              "      <th>2</th>\n",
              "      <td>1</td>\n",
              "      <td>1</td>\n",
              "      <td>0</td>\n",
              "      <td>0</td>\n",
              "      <td>1</td>\n",
              "      <td>0</td>\n",
              "      <td>0</td>\n",
              "      <td>1</td>\n",
              "      <td>-0.258337</td>\n",
              "      <td>-0.488854</td>\n",
              "      <td>1</td>\n",
              "    </tr>\n",
              "    <tr>\n",
              "      <th>3</th>\n",
              "      <td>1</td>\n",
              "      <td>1</td>\n",
              "      <td>0</td>\n",
              "      <td>0</td>\n",
              "      <td>1</td>\n",
              "      <td>1</td>\n",
              "      <td>0</td>\n",
              "      <td>0</td>\n",
              "      <td>0.433312</td>\n",
              "      <td>0.420730</td>\n",
              "      <td>0</td>\n",
              "    </tr>\n",
              "    <tr>\n",
              "      <th>4</th>\n",
              "      <td>0</td>\n",
              "      <td>0</td>\n",
              "      <td>0</td>\n",
              "      <td>0</td>\n",
              "      <td>1</td>\n",
              "      <td>0</td>\n",
              "      <td>0</td>\n",
              "      <td>1</td>\n",
              "      <td>0.433312</td>\n",
              "      <td>-0.486337</td>\n",
              "      <td>1</td>\n",
              "    </tr>\n",
              "  </tbody>\n",
              "</table>\n",
              "</div>"
            ],
            "text/plain": [
              "   Survived  Sex  Embarked_C  Embarked_Q  ...  Pclass_3     Idade    Tarifa  Sozinho\n",
              "0         0    0           0           0  ...         1 -0.565736 -0.502445        0\n",
              "1         1    1           1           0  ...         0  0.663861  0.786845        0\n",
              "2         1    1           0           0  ...         1 -0.258337 -0.488854        1\n",
              "3         1    1           0           0  ...         0  0.433312  0.420730        0\n",
              "4         0    0           0           0  ...         1  0.433312 -0.486337        1\n",
              "\n",
              "[5 rows x 11 columns]"
            ]
          },
          "metadata": {
            "tags": []
          },
          "execution_count": 192
        }
      ]
    },
    {
      "cell_type": "code",
      "metadata": {
        "colab": {
          "base_uri": "https://localhost:8080/",
          "height": 204
        },
        "id": "33DGewXsjObr",
        "outputId": "ebdb7ede-aa8d-4243-c7c2-00eb2dd7a504"
      },
      "source": [
        "teste.head()"
      ],
      "execution_count": null,
      "outputs": [
        {
          "output_type": "execute_result",
          "data": {
            "text/html": [
              "<div>\n",
              "<style scoped>\n",
              "    .dataframe tbody tr th:only-of-type {\n",
              "        vertical-align: middle;\n",
              "    }\n",
              "\n",
              "    .dataframe tbody tr th {\n",
              "        vertical-align: top;\n",
              "    }\n",
              "\n",
              "    .dataframe thead th {\n",
              "        text-align: right;\n",
              "    }\n",
              "</style>\n",
              "<table border=\"1\" class=\"dataframe\">\n",
              "  <thead>\n",
              "    <tr style=\"text-align: right;\">\n",
              "      <th></th>\n",
              "      <th>Sex</th>\n",
              "      <th>Embarked_C</th>\n",
              "      <th>Embarked_Q</th>\n",
              "      <th>Embarked_S</th>\n",
              "      <th>Pclass_1</th>\n",
              "      <th>Pclass_2</th>\n",
              "      <th>Pclass_3</th>\n",
              "      <th>Idade</th>\n",
              "      <th>Tarifa</th>\n",
              "      <th>Sozinho</th>\n",
              "    </tr>\n",
              "  </thead>\n",
              "  <tbody>\n",
              "    <tr>\n",
              "      <th>0</th>\n",
              "      <td>0</td>\n",
              "      <td>0</td>\n",
              "      <td>1</td>\n",
              "      <td>0</td>\n",
              "      <td>0</td>\n",
              "      <td>0</td>\n",
              "      <td>1</td>\n",
              "      <td>0.394887</td>\n",
              "      <td>-0.490783</td>\n",
              "      <td>1</td>\n",
              "    </tr>\n",
              "    <tr>\n",
              "      <th>1</th>\n",
              "      <td>1</td>\n",
              "      <td>0</td>\n",
              "      <td>0</td>\n",
              "      <td>1</td>\n",
              "      <td>0</td>\n",
              "      <td>0</td>\n",
              "      <td>1</td>\n",
              "      <td>1.355510</td>\n",
              "      <td>-0.507479</td>\n",
              "      <td>0</td>\n",
              "    </tr>\n",
              "    <tr>\n",
              "      <th>2</th>\n",
              "      <td>0</td>\n",
              "      <td>0</td>\n",
              "      <td>1</td>\n",
              "      <td>0</td>\n",
              "      <td>0</td>\n",
              "      <td>1</td>\n",
              "      <td>0</td>\n",
              "      <td>2.508257</td>\n",
              "      <td>-0.453367</td>\n",
              "      <td>1</td>\n",
              "    </tr>\n",
              "    <tr>\n",
              "      <th>3</th>\n",
              "      <td>0</td>\n",
              "      <td>0</td>\n",
              "      <td>0</td>\n",
              "      <td>1</td>\n",
              "      <td>0</td>\n",
              "      <td>0</td>\n",
              "      <td>1</td>\n",
              "      <td>-0.181487</td>\n",
              "      <td>-0.474005</td>\n",
              "      <td>1</td>\n",
              "    </tr>\n",
              "    <tr>\n",
              "      <th>4</th>\n",
              "      <td>1</td>\n",
              "      <td>0</td>\n",
              "      <td>0</td>\n",
              "      <td>1</td>\n",
              "      <td>0</td>\n",
              "      <td>0</td>\n",
              "      <td>1</td>\n",
              "      <td>-0.565736</td>\n",
              "      <td>-0.401017</td>\n",
              "      <td>0</td>\n",
              "    </tr>\n",
              "  </tbody>\n",
              "</table>\n",
              "</div>"
            ],
            "text/plain": [
              "   Sex  Embarked_C  Embarked_Q  ...     Idade    Tarifa  Sozinho\n",
              "0    0           0           1  ...  0.394887 -0.490783        1\n",
              "1    1           0           0  ...  1.355510 -0.507479        0\n",
              "2    0           0           1  ...  2.508257 -0.453367        1\n",
              "3    0           0           0  ... -0.181487 -0.474005        1\n",
              "4    1           0           0  ... -0.565736 -0.401017        0\n",
              "\n",
              "[5 rows x 10 columns]"
            ]
          },
          "metadata": {
            "tags": []
          },
          "execution_count": 193
        }
      ]
    },
    {
      "cell_type": "markdown",
      "metadata": {
        "id": "UDICq9I4PqzC"
      },
      "source": [
        "Podemos verificar que tipo de informação a variável criada oferece em relação à variável que desejamos prever"
      ]
    },
    {
      "cell_type": "code",
      "metadata": {
        "id": "9LBuOKR_nkO8",
        "colab": {
          "base_uri": "https://localhost:8080/"
        },
        "outputId": "bc628b12-09ad-479d-afa4-4065d49f69bb"
      },
      "source": [
        "titanic['Sozinho'].groupby(titanic['Survived']).mean()"
      ],
      "execution_count": null,
      "outputs": [
        {
          "output_type": "execute_result",
          "data": {
            "text/plain": [
              "Survived\n",
              "0    0.681239\n",
              "1    0.476608\n",
              "Name: Sozinho, dtype: float64"
            ]
          },
          "metadata": {
            "tags": []
          },
          "execution_count": 194
        }
      ]
    },
    {
      "cell_type": "markdown",
      "metadata": {
        "id": "tNdsx752nqpt"
      },
      "source": [
        "####Variável \"Titulação\""
      ]
    },
    {
      "cell_type": "markdown",
      "metadata": {
        "id": "sbe9wmFXQhxB"
      },
      "source": [
        "Podemos observar que na variável **Name** o nome de cada passageiro também apresenta seu título. É possível extrairmos somente essa informação da variável e adicioná-la ao modelo"
      ]
    },
    {
      "cell_type": "code",
      "metadata": {
        "id": "dqUKY_2L2S2u"
      },
      "source": [
        "url = 'https://raw.githubusercontent.com/ricardorocha86/Datasets/master/Titanic/train.csv' \n",
        "nome = pd.read_csv(url, usecols = ['Name'] )   \n",
        "\n",
        "titulacao = []\n",
        "for i in range(nome.shape[0]):\n",
        "    titulacao.append(nome.iloc[i,0].split(', ')[1].split('. ')[0])\n",
        "\n",
        "tt = []\n",
        "for i in range(nome.shape[0]):\n",
        "    if titulacao[i] in ['Mr', 'Miss', 'Mrs', 'Master']:\n",
        "        tt.append(titulacao[i])\n",
        "    else:\n",
        "        tt.append('Outros')\n",
        "\n",
        "titanic['Titulo'] = tt"
      ],
      "execution_count": null,
      "outputs": []
    },
    {
      "cell_type": "code",
      "metadata": {
        "colab": {
          "base_uri": "https://localhost:8080/",
          "height": 224
        },
        "id": "L5uS5TaPqsvW",
        "outputId": "5f17d55b-4ce1-42f3-9ab0-887924897855"
      },
      "source": [
        "titanic.head()"
      ],
      "execution_count": null,
      "outputs": [
        {
          "output_type": "execute_result",
          "data": {
            "text/html": [
              "<div>\n",
              "<style scoped>\n",
              "    .dataframe tbody tr th:only-of-type {\n",
              "        vertical-align: middle;\n",
              "    }\n",
              "\n",
              "    .dataframe tbody tr th {\n",
              "        vertical-align: top;\n",
              "    }\n",
              "\n",
              "    .dataframe thead th {\n",
              "        text-align: right;\n",
              "    }\n",
              "</style>\n",
              "<table border=\"1\" class=\"dataframe\">\n",
              "  <thead>\n",
              "    <tr style=\"text-align: right;\">\n",
              "      <th></th>\n",
              "      <th>Survived</th>\n",
              "      <th>Sex</th>\n",
              "      <th>Embarked_C</th>\n",
              "      <th>Embarked_Q</th>\n",
              "      <th>Embarked_S</th>\n",
              "      <th>Pclass_1</th>\n",
              "      <th>Pclass_2</th>\n",
              "      <th>Pclass_3</th>\n",
              "      <th>Idade</th>\n",
              "      <th>Tarifa</th>\n",
              "      <th>Sozinho</th>\n",
              "      <th>Titulo</th>\n",
              "    </tr>\n",
              "  </thead>\n",
              "  <tbody>\n",
              "    <tr>\n",
              "      <th>0</th>\n",
              "      <td>0</td>\n",
              "      <td>0</td>\n",
              "      <td>0</td>\n",
              "      <td>0</td>\n",
              "      <td>1</td>\n",
              "      <td>0</td>\n",
              "      <td>0</td>\n",
              "      <td>1</td>\n",
              "      <td>-0.565736</td>\n",
              "      <td>-0.502445</td>\n",
              "      <td>0</td>\n",
              "      <td>Mr</td>\n",
              "    </tr>\n",
              "    <tr>\n",
              "      <th>1</th>\n",
              "      <td>1</td>\n",
              "      <td>1</td>\n",
              "      <td>1</td>\n",
              "      <td>0</td>\n",
              "      <td>0</td>\n",
              "      <td>1</td>\n",
              "      <td>0</td>\n",
              "      <td>0</td>\n",
              "      <td>0.663861</td>\n",
              "      <td>0.786845</td>\n",
              "      <td>0</td>\n",
              "      <td>Mrs</td>\n",
              "    </tr>\n",
              "    <tr>\n",
              "      <th>2</th>\n",
              "      <td>1</td>\n",
              "      <td>1</td>\n",
              "      <td>0</td>\n",
              "      <td>0</td>\n",
              "      <td>1</td>\n",
              "      <td>0</td>\n",
              "      <td>0</td>\n",
              "      <td>1</td>\n",
              "      <td>-0.258337</td>\n",
              "      <td>-0.488854</td>\n",
              "      <td>1</td>\n",
              "      <td>Miss</td>\n",
              "    </tr>\n",
              "    <tr>\n",
              "      <th>3</th>\n",
              "      <td>1</td>\n",
              "      <td>1</td>\n",
              "      <td>0</td>\n",
              "      <td>0</td>\n",
              "      <td>1</td>\n",
              "      <td>1</td>\n",
              "      <td>0</td>\n",
              "      <td>0</td>\n",
              "      <td>0.433312</td>\n",
              "      <td>0.420730</td>\n",
              "      <td>0</td>\n",
              "      <td>Mrs</td>\n",
              "    </tr>\n",
              "    <tr>\n",
              "      <th>4</th>\n",
              "      <td>0</td>\n",
              "      <td>0</td>\n",
              "      <td>0</td>\n",
              "      <td>0</td>\n",
              "      <td>1</td>\n",
              "      <td>0</td>\n",
              "      <td>0</td>\n",
              "      <td>1</td>\n",
              "      <td>0.433312</td>\n",
              "      <td>-0.486337</td>\n",
              "      <td>1</td>\n",
              "      <td>Mr</td>\n",
              "    </tr>\n",
              "  </tbody>\n",
              "</table>\n",
              "</div>"
            ],
            "text/plain": [
              "   Survived  Sex  Embarked_C  Embarked_Q  ...     Idade    Tarifa  Sozinho  Titulo\n",
              "0         0    0           0           0  ... -0.565736 -0.502445        0      Mr\n",
              "1         1    1           1           0  ...  0.663861  0.786845        0     Mrs\n",
              "2         1    1           0           0  ... -0.258337 -0.488854        1    Miss\n",
              "3         1    1           0           0  ...  0.433312  0.420730        0     Mrs\n",
              "4         0    0           0           0  ...  0.433312 -0.486337        1      Mr\n",
              "\n",
              "[5 rows x 12 columns]"
            ]
          },
          "metadata": {
            "tags": []
          },
          "execution_count": 196
        }
      ]
    },
    {
      "cell_type": "code",
      "metadata": {
        "id": "MuuTYc9o2msN"
      },
      "source": [
        "url = 'https://raw.githubusercontent.com/ricardorocha86/Datasets/master/Titanic/test.csv' \n",
        "nome = pd.read_csv(url, usecols = ['Name'] )   \n",
        "\n",
        "titulacao = []\n",
        "for i in range(nome.shape[0]):\n",
        "    titulacao.append(nome.iloc[i,0].split(', ')[1].split('. ')[0])\n",
        "\n",
        "tt = []\n",
        "for i in range(nome.shape[0]):\n",
        "    if titulacao[i] in ['Mr', 'Miss', 'Mrs', 'Master']:\n",
        "        tt.append(titulacao[i])\n",
        "    else:\n",
        "        tt.append('Outros')\n",
        "\n",
        "teste['Titulo'] = tt"
      ],
      "execution_count": null,
      "outputs": []
    },
    {
      "cell_type": "code",
      "metadata": {
        "colab": {
          "base_uri": "https://localhost:8080/",
          "height": 204
        },
        "id": "Yy2Xgxd7qxoN",
        "outputId": "127ae9ed-b425-41a9-eb40-0718f23f44b0"
      },
      "source": [
        "teste.head()"
      ],
      "execution_count": null,
      "outputs": [
        {
          "output_type": "execute_result",
          "data": {
            "text/html": [
              "<div>\n",
              "<style scoped>\n",
              "    .dataframe tbody tr th:only-of-type {\n",
              "        vertical-align: middle;\n",
              "    }\n",
              "\n",
              "    .dataframe tbody tr th {\n",
              "        vertical-align: top;\n",
              "    }\n",
              "\n",
              "    .dataframe thead th {\n",
              "        text-align: right;\n",
              "    }\n",
              "</style>\n",
              "<table border=\"1\" class=\"dataframe\">\n",
              "  <thead>\n",
              "    <tr style=\"text-align: right;\">\n",
              "      <th></th>\n",
              "      <th>Sex</th>\n",
              "      <th>Embarked_C</th>\n",
              "      <th>Embarked_Q</th>\n",
              "      <th>Embarked_S</th>\n",
              "      <th>Pclass_1</th>\n",
              "      <th>Pclass_2</th>\n",
              "      <th>Pclass_3</th>\n",
              "      <th>Idade</th>\n",
              "      <th>Tarifa</th>\n",
              "      <th>Sozinho</th>\n",
              "      <th>Titulo</th>\n",
              "    </tr>\n",
              "  </thead>\n",
              "  <tbody>\n",
              "    <tr>\n",
              "      <th>0</th>\n",
              "      <td>0</td>\n",
              "      <td>0</td>\n",
              "      <td>1</td>\n",
              "      <td>0</td>\n",
              "      <td>0</td>\n",
              "      <td>0</td>\n",
              "      <td>1</td>\n",
              "      <td>0.394887</td>\n",
              "      <td>-0.490783</td>\n",
              "      <td>1</td>\n",
              "      <td>Mr</td>\n",
              "    </tr>\n",
              "    <tr>\n",
              "      <th>1</th>\n",
              "      <td>1</td>\n",
              "      <td>0</td>\n",
              "      <td>0</td>\n",
              "      <td>1</td>\n",
              "      <td>0</td>\n",
              "      <td>0</td>\n",
              "      <td>1</td>\n",
              "      <td>1.355510</td>\n",
              "      <td>-0.507479</td>\n",
              "      <td>0</td>\n",
              "      <td>Mrs</td>\n",
              "    </tr>\n",
              "    <tr>\n",
              "      <th>2</th>\n",
              "      <td>0</td>\n",
              "      <td>0</td>\n",
              "      <td>1</td>\n",
              "      <td>0</td>\n",
              "      <td>0</td>\n",
              "      <td>1</td>\n",
              "      <td>0</td>\n",
              "      <td>2.508257</td>\n",
              "      <td>-0.453367</td>\n",
              "      <td>1</td>\n",
              "      <td>Mr</td>\n",
              "    </tr>\n",
              "    <tr>\n",
              "      <th>3</th>\n",
              "      <td>0</td>\n",
              "      <td>0</td>\n",
              "      <td>0</td>\n",
              "      <td>1</td>\n",
              "      <td>0</td>\n",
              "      <td>0</td>\n",
              "      <td>1</td>\n",
              "      <td>-0.181487</td>\n",
              "      <td>-0.474005</td>\n",
              "      <td>1</td>\n",
              "      <td>Mr</td>\n",
              "    </tr>\n",
              "    <tr>\n",
              "      <th>4</th>\n",
              "      <td>1</td>\n",
              "      <td>0</td>\n",
              "      <td>0</td>\n",
              "      <td>1</td>\n",
              "      <td>0</td>\n",
              "      <td>0</td>\n",
              "      <td>1</td>\n",
              "      <td>-0.565736</td>\n",
              "      <td>-0.401017</td>\n",
              "      <td>0</td>\n",
              "      <td>Mrs</td>\n",
              "    </tr>\n",
              "  </tbody>\n",
              "</table>\n",
              "</div>"
            ],
            "text/plain": [
              "   Sex  Embarked_C  Embarked_Q  Embarked_S  ...     Idade    Tarifa  Sozinho  Titulo\n",
              "0    0           0           1           0  ...  0.394887 -0.490783        1      Mr\n",
              "1    1           0           0           1  ...  1.355510 -0.507479        0     Mrs\n",
              "2    0           0           1           0  ...  2.508257 -0.453367        1      Mr\n",
              "3    0           0           0           1  ... -0.181487 -0.474005        1      Mr\n",
              "4    1           0           0           1  ... -0.565736 -0.401017        0     Mrs\n",
              "\n",
              "[5 rows x 11 columns]"
            ]
          },
          "metadata": {
            "tags": []
          },
          "execution_count": 198
        }
      ]
    },
    {
      "cell_type": "markdown",
      "metadata": {
        "id": "_7IeAlMYP8HA"
      },
      "source": [
        "Podemos verificar que tipo de informação a variável criada fornece em relação à variável que desejamos prever"
      ]
    },
    {
      "cell_type": "code",
      "metadata": {
        "id": "faB9CdMl2Is4",
        "colab": {
          "base_uri": "https://localhost:8080/",
          "height": 235
        },
        "outputId": "f52ed3ed-e28d-4331-bc0a-d5f0db3c4c3d"
      },
      "source": [
        "titanic['Survived'].groupby(titanic['Titulo']).describe().sort_values(by = 'count', ascending = False)"
      ],
      "execution_count": null,
      "outputs": [
        {
          "output_type": "execute_result",
          "data": {
            "text/html": [
              "<div>\n",
              "<style scoped>\n",
              "    .dataframe tbody tr th:only-of-type {\n",
              "        vertical-align: middle;\n",
              "    }\n",
              "\n",
              "    .dataframe tbody tr th {\n",
              "        vertical-align: top;\n",
              "    }\n",
              "\n",
              "    .dataframe thead th {\n",
              "        text-align: right;\n",
              "    }\n",
              "</style>\n",
              "<table border=\"1\" class=\"dataframe\">\n",
              "  <thead>\n",
              "    <tr style=\"text-align: right;\">\n",
              "      <th></th>\n",
              "      <th>count</th>\n",
              "      <th>mean</th>\n",
              "      <th>std</th>\n",
              "      <th>min</th>\n",
              "      <th>25%</th>\n",
              "      <th>50%</th>\n",
              "      <th>75%</th>\n",
              "      <th>max</th>\n",
              "    </tr>\n",
              "    <tr>\n",
              "      <th>Titulo</th>\n",
              "      <th></th>\n",
              "      <th></th>\n",
              "      <th></th>\n",
              "      <th></th>\n",
              "      <th></th>\n",
              "      <th></th>\n",
              "      <th></th>\n",
              "      <th></th>\n",
              "    </tr>\n",
              "  </thead>\n",
              "  <tbody>\n",
              "    <tr>\n",
              "      <th>Mr</th>\n",
              "      <td>517.0</td>\n",
              "      <td>0.156673</td>\n",
              "      <td>0.363844</td>\n",
              "      <td>0.0</td>\n",
              "      <td>0.0</td>\n",
              "      <td>0.0</td>\n",
              "      <td>0.0</td>\n",
              "      <td>1.0</td>\n",
              "    </tr>\n",
              "    <tr>\n",
              "      <th>Miss</th>\n",
              "      <td>182.0</td>\n",
              "      <td>0.697802</td>\n",
              "      <td>0.460477</td>\n",
              "      <td>0.0</td>\n",
              "      <td>0.0</td>\n",
              "      <td>1.0</td>\n",
              "      <td>1.0</td>\n",
              "      <td>1.0</td>\n",
              "    </tr>\n",
              "    <tr>\n",
              "      <th>Mrs</th>\n",
              "      <td>125.0</td>\n",
              "      <td>0.792000</td>\n",
              "      <td>0.407510</td>\n",
              "      <td>0.0</td>\n",
              "      <td>1.0</td>\n",
              "      <td>1.0</td>\n",
              "      <td>1.0</td>\n",
              "      <td>1.0</td>\n",
              "    </tr>\n",
              "    <tr>\n",
              "      <th>Master</th>\n",
              "      <td>40.0</td>\n",
              "      <td>0.575000</td>\n",
              "      <td>0.500641</td>\n",
              "      <td>0.0</td>\n",
              "      <td>0.0</td>\n",
              "      <td>1.0</td>\n",
              "      <td>1.0</td>\n",
              "      <td>1.0</td>\n",
              "    </tr>\n",
              "    <tr>\n",
              "      <th>Outros</th>\n",
              "      <td>27.0</td>\n",
              "      <td>0.444444</td>\n",
              "      <td>0.506370</td>\n",
              "      <td>0.0</td>\n",
              "      <td>0.0</td>\n",
              "      <td>0.0</td>\n",
              "      <td>1.0</td>\n",
              "      <td>1.0</td>\n",
              "    </tr>\n",
              "  </tbody>\n",
              "</table>\n",
              "</div>"
            ],
            "text/plain": [
              "        count      mean       std  min  25%  50%  75%  max\n",
              "Titulo                                                    \n",
              "Mr      517.0  0.156673  0.363844  0.0  0.0  0.0  0.0  1.0\n",
              "Miss    182.0  0.697802  0.460477  0.0  0.0  1.0  1.0  1.0\n",
              "Mrs     125.0  0.792000  0.407510  0.0  1.0  1.0  1.0  1.0\n",
              "Master   40.0  0.575000  0.500641  0.0  0.0  1.0  1.0  1.0\n",
              "Outros   27.0  0.444444  0.506370  0.0  0.0  0.0  1.0  1.0"
            ]
          },
          "metadata": {
            "tags": []
          },
          "execution_count": 199
        }
      ]
    },
    {
      "cell_type": "markdown",
      "metadata": {
        "id": "5g9JT6YhP-Hp"
      },
      "source": [
        "Para incluir a nova variável no modelo, devemos dummificá-la para que ela passe a assumir valores numéricos"
      ]
    },
    {
      "cell_type": "code",
      "metadata": {
        "id": "nYLV1XImnsaE"
      },
      "source": [
        "titanic = pd.get_dummies(titanic, columns = ['Titulo'])\n",
        "teste = pd.get_dummies(teste, columns = ['Titulo'])"
      ],
      "execution_count": null,
      "outputs": []
    },
    {
      "cell_type": "code",
      "metadata": {
        "colab": {
          "base_uri": "https://localhost:8080/",
          "height": 224
        },
        "id": "yjP3KguHq097",
        "outputId": "0459f7cb-c80e-45b4-c467-5ee8c27e1eb2"
      },
      "source": [
        "titanic.head()"
      ],
      "execution_count": null,
      "outputs": [
        {
          "output_type": "execute_result",
          "data": {
            "text/html": [
              "<div>\n",
              "<style scoped>\n",
              "    .dataframe tbody tr th:only-of-type {\n",
              "        vertical-align: middle;\n",
              "    }\n",
              "\n",
              "    .dataframe tbody tr th {\n",
              "        vertical-align: top;\n",
              "    }\n",
              "\n",
              "    .dataframe thead th {\n",
              "        text-align: right;\n",
              "    }\n",
              "</style>\n",
              "<table border=\"1\" class=\"dataframe\">\n",
              "  <thead>\n",
              "    <tr style=\"text-align: right;\">\n",
              "      <th></th>\n",
              "      <th>Survived</th>\n",
              "      <th>Sex</th>\n",
              "      <th>Embarked_C</th>\n",
              "      <th>Embarked_Q</th>\n",
              "      <th>Embarked_S</th>\n",
              "      <th>Pclass_1</th>\n",
              "      <th>Pclass_2</th>\n",
              "      <th>Pclass_3</th>\n",
              "      <th>Idade</th>\n",
              "      <th>Tarifa</th>\n",
              "      <th>Sozinho</th>\n",
              "      <th>Titulo_Master</th>\n",
              "      <th>Titulo_Miss</th>\n",
              "      <th>Titulo_Mr</th>\n",
              "      <th>Titulo_Mrs</th>\n",
              "      <th>Titulo_Outros</th>\n",
              "    </tr>\n",
              "  </thead>\n",
              "  <tbody>\n",
              "    <tr>\n",
              "      <th>0</th>\n",
              "      <td>0</td>\n",
              "      <td>0</td>\n",
              "      <td>0</td>\n",
              "      <td>0</td>\n",
              "      <td>1</td>\n",
              "      <td>0</td>\n",
              "      <td>0</td>\n",
              "      <td>1</td>\n",
              "      <td>-0.565736</td>\n",
              "      <td>-0.502445</td>\n",
              "      <td>0</td>\n",
              "      <td>0</td>\n",
              "      <td>0</td>\n",
              "      <td>1</td>\n",
              "      <td>0</td>\n",
              "      <td>0</td>\n",
              "    </tr>\n",
              "    <tr>\n",
              "      <th>1</th>\n",
              "      <td>1</td>\n",
              "      <td>1</td>\n",
              "      <td>1</td>\n",
              "      <td>0</td>\n",
              "      <td>0</td>\n",
              "      <td>1</td>\n",
              "      <td>0</td>\n",
              "      <td>0</td>\n",
              "      <td>0.663861</td>\n",
              "      <td>0.786845</td>\n",
              "      <td>0</td>\n",
              "      <td>0</td>\n",
              "      <td>0</td>\n",
              "      <td>0</td>\n",
              "      <td>1</td>\n",
              "      <td>0</td>\n",
              "    </tr>\n",
              "    <tr>\n",
              "      <th>2</th>\n",
              "      <td>1</td>\n",
              "      <td>1</td>\n",
              "      <td>0</td>\n",
              "      <td>0</td>\n",
              "      <td>1</td>\n",
              "      <td>0</td>\n",
              "      <td>0</td>\n",
              "      <td>1</td>\n",
              "      <td>-0.258337</td>\n",
              "      <td>-0.488854</td>\n",
              "      <td>1</td>\n",
              "      <td>0</td>\n",
              "      <td>1</td>\n",
              "      <td>0</td>\n",
              "      <td>0</td>\n",
              "      <td>0</td>\n",
              "    </tr>\n",
              "    <tr>\n",
              "      <th>3</th>\n",
              "      <td>1</td>\n",
              "      <td>1</td>\n",
              "      <td>0</td>\n",
              "      <td>0</td>\n",
              "      <td>1</td>\n",
              "      <td>1</td>\n",
              "      <td>0</td>\n",
              "      <td>0</td>\n",
              "      <td>0.433312</td>\n",
              "      <td>0.420730</td>\n",
              "      <td>0</td>\n",
              "      <td>0</td>\n",
              "      <td>0</td>\n",
              "      <td>0</td>\n",
              "      <td>1</td>\n",
              "      <td>0</td>\n",
              "    </tr>\n",
              "    <tr>\n",
              "      <th>4</th>\n",
              "      <td>0</td>\n",
              "      <td>0</td>\n",
              "      <td>0</td>\n",
              "      <td>0</td>\n",
              "      <td>1</td>\n",
              "      <td>0</td>\n",
              "      <td>0</td>\n",
              "      <td>1</td>\n",
              "      <td>0.433312</td>\n",
              "      <td>-0.486337</td>\n",
              "      <td>1</td>\n",
              "      <td>0</td>\n",
              "      <td>0</td>\n",
              "      <td>1</td>\n",
              "      <td>0</td>\n",
              "      <td>0</td>\n",
              "    </tr>\n",
              "  </tbody>\n",
              "</table>\n",
              "</div>"
            ],
            "text/plain": [
              "   Survived  Sex  Embarked_C  ...  Titulo_Mr  Titulo_Mrs  Titulo_Outros\n",
              "0         0    0           0  ...          1           0              0\n",
              "1         1    1           1  ...          0           1              0\n",
              "2         1    1           0  ...          0           0              0\n",
              "3         1    1           0  ...          0           1              0\n",
              "4         0    0           0  ...          1           0              0\n",
              "\n",
              "[5 rows x 16 columns]"
            ]
          },
          "metadata": {
            "tags": []
          },
          "execution_count": 201
        }
      ]
    },
    {
      "cell_type": "code",
      "metadata": {
        "colab": {
          "base_uri": "https://localhost:8080/",
          "height": 224
        },
        "id": "mu_Il8pNq3OQ",
        "outputId": "cd357fe5-7f10-475c-aad5-50a1b05e0697"
      },
      "source": [
        "teste.head()"
      ],
      "execution_count": null,
      "outputs": [
        {
          "output_type": "execute_result",
          "data": {
            "text/html": [
              "<div>\n",
              "<style scoped>\n",
              "    .dataframe tbody tr th:only-of-type {\n",
              "        vertical-align: middle;\n",
              "    }\n",
              "\n",
              "    .dataframe tbody tr th {\n",
              "        vertical-align: top;\n",
              "    }\n",
              "\n",
              "    .dataframe thead th {\n",
              "        text-align: right;\n",
              "    }\n",
              "</style>\n",
              "<table border=\"1\" class=\"dataframe\">\n",
              "  <thead>\n",
              "    <tr style=\"text-align: right;\">\n",
              "      <th></th>\n",
              "      <th>Sex</th>\n",
              "      <th>Embarked_C</th>\n",
              "      <th>Embarked_Q</th>\n",
              "      <th>Embarked_S</th>\n",
              "      <th>Pclass_1</th>\n",
              "      <th>Pclass_2</th>\n",
              "      <th>Pclass_3</th>\n",
              "      <th>Idade</th>\n",
              "      <th>Tarifa</th>\n",
              "      <th>Sozinho</th>\n",
              "      <th>Titulo_Master</th>\n",
              "      <th>Titulo_Miss</th>\n",
              "      <th>Titulo_Mr</th>\n",
              "      <th>Titulo_Mrs</th>\n",
              "      <th>Titulo_Outros</th>\n",
              "    </tr>\n",
              "  </thead>\n",
              "  <tbody>\n",
              "    <tr>\n",
              "      <th>0</th>\n",
              "      <td>0</td>\n",
              "      <td>0</td>\n",
              "      <td>1</td>\n",
              "      <td>0</td>\n",
              "      <td>0</td>\n",
              "      <td>0</td>\n",
              "      <td>1</td>\n",
              "      <td>0.394887</td>\n",
              "      <td>-0.490783</td>\n",
              "      <td>1</td>\n",
              "      <td>0</td>\n",
              "      <td>0</td>\n",
              "      <td>1</td>\n",
              "      <td>0</td>\n",
              "      <td>0</td>\n",
              "    </tr>\n",
              "    <tr>\n",
              "      <th>1</th>\n",
              "      <td>1</td>\n",
              "      <td>0</td>\n",
              "      <td>0</td>\n",
              "      <td>1</td>\n",
              "      <td>0</td>\n",
              "      <td>0</td>\n",
              "      <td>1</td>\n",
              "      <td>1.355510</td>\n",
              "      <td>-0.507479</td>\n",
              "      <td>0</td>\n",
              "      <td>0</td>\n",
              "      <td>0</td>\n",
              "      <td>0</td>\n",
              "      <td>1</td>\n",
              "      <td>0</td>\n",
              "    </tr>\n",
              "    <tr>\n",
              "      <th>2</th>\n",
              "      <td>0</td>\n",
              "      <td>0</td>\n",
              "      <td>1</td>\n",
              "      <td>0</td>\n",
              "      <td>0</td>\n",
              "      <td>1</td>\n",
              "      <td>0</td>\n",
              "      <td>2.508257</td>\n",
              "      <td>-0.453367</td>\n",
              "      <td>1</td>\n",
              "      <td>0</td>\n",
              "      <td>0</td>\n",
              "      <td>1</td>\n",
              "      <td>0</td>\n",
              "      <td>0</td>\n",
              "    </tr>\n",
              "    <tr>\n",
              "      <th>3</th>\n",
              "      <td>0</td>\n",
              "      <td>0</td>\n",
              "      <td>0</td>\n",
              "      <td>1</td>\n",
              "      <td>0</td>\n",
              "      <td>0</td>\n",
              "      <td>1</td>\n",
              "      <td>-0.181487</td>\n",
              "      <td>-0.474005</td>\n",
              "      <td>1</td>\n",
              "      <td>0</td>\n",
              "      <td>0</td>\n",
              "      <td>1</td>\n",
              "      <td>0</td>\n",
              "      <td>0</td>\n",
              "    </tr>\n",
              "    <tr>\n",
              "      <th>4</th>\n",
              "      <td>1</td>\n",
              "      <td>0</td>\n",
              "      <td>0</td>\n",
              "      <td>1</td>\n",
              "      <td>0</td>\n",
              "      <td>0</td>\n",
              "      <td>1</td>\n",
              "      <td>-0.565736</td>\n",
              "      <td>-0.401017</td>\n",
              "      <td>0</td>\n",
              "      <td>0</td>\n",
              "      <td>0</td>\n",
              "      <td>0</td>\n",
              "      <td>1</td>\n",
              "      <td>0</td>\n",
              "    </tr>\n",
              "  </tbody>\n",
              "</table>\n",
              "</div>"
            ],
            "text/plain": [
              "   Sex  Embarked_C  Embarked_Q  ...  Titulo_Mr  Titulo_Mrs  Titulo_Outros\n",
              "0    0           0           1  ...          1           0              0\n",
              "1    1           0           0  ...          0           1              0\n",
              "2    0           0           1  ...          1           0              0\n",
              "3    0           0           0  ...          1           0              0\n",
              "4    1           0           0  ...          0           1              0\n",
              "\n",
              "[5 rows x 15 columns]"
            ]
          },
          "metadata": {
            "tags": []
          },
          "execution_count": 202
        }
      ]
    },
    {
      "cell_type": "markdown",
      "metadata": {
        "id": "PZByrFcfoBfj"
      },
      "source": [
        "##CHECKPOINT 2"
      ]
    },
    {
      "cell_type": "markdown",
      "metadata": {
        "id": "oSRmO319RDyb"
      },
      "source": [
        "Guardamos novamente as alterações feitas até então"
      ]
    },
    {
      "cell_type": "code",
      "metadata": {
        "id": "UgHv3k8qoEN6"
      },
      "source": [
        "titanic2 = titanic.copy()\n",
        "teste2 = teste.copy()"
      ],
      "execution_count": null,
      "outputs": []
    },
    {
      "cell_type": "markdown",
      "metadata": {
        "id": "F86M_2bvoKUI"
      },
      "source": [
        "##Aplicando nos Modelos de Machine Learning"
      ]
    },
    {
      "cell_type": "code",
      "metadata": {
        "id": "seoF1XtFoO-W"
      },
      "source": [
        "X = titanic.drop('Survived', axis = 1)\n",
        "y = titanic['Survived']"
      ],
      "execution_count": null,
      "outputs": []
    },
    {
      "cell_type": "markdown",
      "metadata": {
        "id": "QbqKaHspRMkC"
      },
      "source": [
        "Para o processo de validação, utilizaremos o K-FOLD estratificado. Este é o processo K-FOLD mantendo-se nas amostragens a proporção na variável resposta"
      ]
    },
    {
      "cell_type": "code",
      "metadata": {
        "id": "2TJkHJDmosZD"
      },
      "source": [
        "kf = StratifiedKFold(n_splits = 10)"
      ],
      "execution_count": null,
      "outputs": []
    },
    {
      "cell_type": "code",
      "metadata": {
        "id": "6PGlmKb2oviw"
      },
      "source": [
        "def MachineLearning(dataset):\n",
        "  X = dataset.drop('Survived', axis = 1)\n",
        "  y = dataset['Survived']\n",
        "\n",
        "  lista_de_medidas = ['accuracy', 'recall', 'precision', 'balanced_accuracy', 'f1']\n",
        "  nome_das_medidas = ['acurácia', 'sensibilidade', 'vpp', 'eficiência', 'f1-score']\n",
        "\n",
        "  lista_de_modelos = [LogisticRegression(),\n",
        "                      DecisionTreeClassifier(max_depth = 3),\n",
        "                      DecisionTreeClassifier(max_depth = 5),\n",
        "                      DecisionTreeClassifier(max_depth = 7),\n",
        "                      KNeighborsClassifier(n_neighbors = 5),\n",
        "                      KNeighborsClassifier(n_neighbors = 15),\n",
        "                      KNeighborsClassifier(n_neighbors = 25),\n",
        "                      BaggingClassifier(),\n",
        "                      RandomForestClassifier(n_estimators = 300, max_depth = 3, max_features = 3),\n",
        "                      RandomForestClassifier(n_estimators = 300, max_depth = 3, max_features = 4),\n",
        "                      RandomForestClassifier(n_estimators = 300, max_depth = 6, max_features = 3),\n",
        "                      RandomForestClassifier(n_estimators = 300, max_depth = 6, max_features = 4)]\n",
        "  \n",
        "  nome_dos_modelos = ['Regressão Logística',\n",
        "                        'Árvore (prof = 3)',\n",
        "                        'Árvore (prof = 5)',\n",
        "                        'Árvore (prof = 7)',\n",
        "                        '5-NN',\n",
        "                        '15-NN',\n",
        "                        '25-NN',\n",
        "                        'Bagging',\n",
        "                        'Random Forest (prof = 3, mf = 3)',\n",
        "                        'Random Forest (prof = 3, mf = 4)',\n",
        "                        'Random Forest (prof = 6, mf = 3)',\n",
        "                        'Random Forest (prof = 6, mf = 4)']\n",
        "  \n",
        "  resultados0 = {}\n",
        "\n",
        "  for i in range(len(lista_de_modelos)):\n",
        "    print('Rodando modelo: ' + nome_dos_modelos[i])\n",
        "    accs_vc = cross_validate(lista_de_modelos[i], X, y, cv = kf, scoring = lista_de_medidas)\n",
        "    \n",
        "    acc = accs_vc['test_accuracy'].mean().round(4)\n",
        "    sen = accs_vc['test_recall'].mean().round(4)\n",
        "    vpp = accs_vc['test_precision'].mean().round(4)\n",
        "    bac = accs_vc['test_balanced_accuracy'].mean().round(4)\n",
        "    f1s = accs_vc['test_f1'].mean().round(4)\n",
        "\n",
        "    resultados0[nome_dos_modelos[i]] = [acc, sen, vpp, f1s, bac]\n",
        "\n",
        "  resultados = pd.DataFrame(resultados0, index = nome_das_medidas).T\n",
        "\n",
        "  return resultados"
      ],
      "execution_count": null,
      "outputs": []
    },
    {
      "cell_type": "markdown",
      "metadata": {
        "id": "JgwlwPWWRjS4"
      },
      "source": [
        "Utilizamos então os dados guardados nos Cenários 1 e 2 para verificarmos o poder preditivo dos modelos levando em conta dados fornecidos em diferentes etapas do pré-processamento"
      ]
    },
    {
      "cell_type": "code",
      "metadata": {
        "id": "ehQ39o5KoyLB",
        "colab": {
          "base_uri": "https://localhost:8080/",
          "height": 545
        },
        "outputId": "33bf0736-b414-4c07-8a38-da6354880e10"
      },
      "source": [
        "resultados1 = MachineLearning(titanic1)\n",
        "DataTable(resultados1)"
      ],
      "execution_count": null,
      "outputs": [
        {
          "output_type": "stream",
          "text": [
            "Rodando modelo: Regressão Logística\n",
            "Rodando modelo: Árvore (prof = 3)\n",
            "Rodando modelo: Árvore (prof = 5)\n",
            "Rodando modelo: Árvore (prof = 7)\n",
            "Rodando modelo: 5-NN\n",
            "Rodando modelo: 15-NN\n",
            "Rodando modelo: 25-NN\n",
            "Rodando modelo: Bagging\n",
            "Rodando modelo: Random Forest (prof = 3, mf = 3)\n",
            "Rodando modelo: Random Forest (prof = 3, mf = 4)\n",
            "Rodando modelo: Random Forest (prof = 6, mf = 3)\n",
            "Rodando modelo: Random Forest (prof = 6, mf = 4)\n"
          ],
          "name": "stdout"
        },
        {
          "output_type": "execute_result",
          "data": {
            "application/vnd.google.colaboratory.module+javascript": "\n      import \"https://ssl.gstatic.com/colaboratory/data_table/a6224c040fa35dcf/data_table.js\";\n\n      window.createDataTable({\n        data: [[\"Regress\\u00e3o Log\\u00edstica\",\n{\n            'v': 0.7991,\n            'f': \"0.7991\",\n        },\n{\n            'v': 0.6987,\n            'f': \"0.6987\",\n        },\n{\n            'v': 0.7611,\n            'f': \"0.7611\",\n        },\n{\n            'v': 0.7255,\n            'f': \"0.7255\",\n        },\n{\n            'v': 0.7802,\n            'f': \"0.7802\",\n        }],\n [\"\\u00c1rvore (prof = 3)\",\n{\n            'v': 0.8159,\n            'f': \"0.8159\",\n        },\n{\n            'v': 0.7044,\n            'f': \"0.7044\",\n        },\n{\n            'v': 0.7947,\n            'f': \"0.7947\",\n        },\n{\n            'v': 0.7425,\n            'f': \"0.7425\",\n        },\n{\n            'v': 0.7948,\n            'f': \"0.7948\",\n        }],\n [\"\\u00c1rvore (prof = 5)\",\n{\n            'v': 0.8037,\n            'f': \"0.8037\",\n        },\n{\n            'v': 0.6724,\n            'f': \"0.6724\",\n        },\n{\n            'v': 0.7878,\n            'f': \"0.7878\",\n        },\n{\n            'v': 0.7205,\n            'f': \"0.7205\",\n        },\n{\n            'v': 0.7788,\n            'f': \"0.7788\",\n        }],\n [\"\\u00c1rvore (prof = 7)\",\n{\n            'v': 0.8194,\n            'f': \"0.8194\",\n        },\n{\n            'v': 0.6754,\n            'f': \"0.6754\",\n        },\n{\n            'v': 0.8252,\n            'f': \"0.8252\",\n        },\n{\n            'v': 0.7389,\n            'f': \"0.7389\",\n        },\n{\n            'v': 0.7921,\n            'f': \"0.7921\",\n        }],\n [\"5-NN\",\n{\n            'v': 0.8059,\n            'f': \"0.8059\",\n        },\n{\n            'v': 0.7194,\n            'f': \"0.7194\",\n        },\n{\n            'v': 0.7623,\n            'f': \"0.7623\",\n        },\n{\n            'v': 0.738,\n            'f': \"0.738\",\n        },\n{\n            'v': 0.7896,\n            'f': \"0.7896\",\n        }],\n [\"15-NN\",\n{\n            'v': 0.7857,\n            'f': \"0.7857\",\n        },\n{\n            'v': 0.6467,\n            'f': \"0.6467\",\n        },\n{\n            'v': 0.7601,\n            'f': \"0.7601\",\n        },\n{\n            'v': 0.6958,\n            'f': \"0.6958\",\n        },\n{\n            'v': 0.7596,\n            'f': \"0.7596\",\n        }],\n [\"25-NN\",\n{\n            'v': 0.8003,\n            'f': \"0.8003\",\n        },\n{\n            'v': 0.6552,\n            'f': \"0.6552\",\n        },\n{\n            'v': 0.7913,\n            'f': \"0.7913\",\n        },\n{\n            'v': 0.7145,\n            'f': \"0.7145\",\n        },\n{\n            'v': 0.773,\n            'f': \"0.773\",\n        }],\n [\"Bagging\",\n{\n            'v': 0.8093,\n            'f': \"0.8093\",\n        },\n{\n            'v': 0.7048,\n            'f': \"0.7048\",\n        },\n{\n            'v': 0.7785,\n            'f': \"0.7785\",\n        },\n{\n            'v': 0.7368,\n            'f': \"0.7368\",\n        },\n{\n            'v': 0.7896,\n            'f': \"0.7896\",\n        }],\n [\"Random Forest (prof = 3, mf = 3)\",\n{\n            'v': 0.8014,\n            'f': \"0.8014\",\n        },\n{\n            'v': 0.579,\n            'f': \"0.579\",\n        },\n{\n            'v': 0.8559,\n            'f': \"0.8559\",\n        },\n{\n            'v': 0.6892,\n            'f': \"0.6892\",\n        },\n{\n            'v': 0.7595,\n            'f': \"0.7595\",\n        }],\n [\"Random Forest (prof = 3, mf = 4)\",\n{\n            'v': 0.8193,\n            'f': \"0.8193\",\n        },\n{\n            'v': 0.6286,\n            'f': \"0.6286\",\n        },\n{\n            'v': 0.8608,\n            'f': \"0.8608\",\n        },\n{\n            'v': 0.7245,\n            'f': \"0.7245\",\n        },\n{\n            'v': 0.7833,\n            'f': \"0.7833\",\n        }],\n [\"Random Forest (prof = 6, mf = 3)\",\n{\n            'v': 0.825,\n            'f': \"0.825\",\n        },\n{\n            'v': 0.6608,\n            'f': \"0.6608\",\n        },\n{\n            'v': 0.8458,\n            'f': \"0.8458\",\n        },\n{\n            'v': 0.7398,\n            'f': \"0.7398\",\n        },\n{\n            'v': 0.794,\n            'f': \"0.794\",\n        }],\n [\"Random Forest (prof = 6, mf = 4)\",\n{\n            'v': 0.825,\n            'f': \"0.825\",\n        },\n{\n            'v': 0.6577,\n            'f': \"0.6577\",\n        },\n{\n            'v': 0.8502,\n            'f': \"0.8502\",\n        },\n{\n            'v': 0.7387,\n            'f': \"0.7387\",\n        },\n{\n            'v': 0.7933,\n            'f': \"0.7933\",\n        }]],\n        columns: [[\"string\", \"index\"], [\"number\", \"acur\\u00e1cia\"], [\"number\", \"sensibilidade\"], [\"number\", \"vpp\"], [\"number\", \"efici\\u00eancia\"], [\"number\", \"f1-score\"]],\n        columnOptions: [{\"width\": \"1px\", \"className\": \"index_column\"}],\n        rowsPerPage: 25,\n        helpUrl: \"https://colab.research.google.com/notebooks/data_table.ipynb\",\n        suppressOutputScrolling: true,\n        minimumWidth: undefined,\n      });\n    ",
            "text/plain": [
              "<google.colab.data_table.DataTable object>"
            ],
            "text/html": [
              "<div>\n",
              "<style scoped>\n",
              "    .dataframe tbody tr th:only-of-type {\n",
              "        vertical-align: middle;\n",
              "    }\n",
              "\n",
              "    .dataframe tbody tr th {\n",
              "        vertical-align: top;\n",
              "    }\n",
              "\n",
              "    .dataframe thead th {\n",
              "        text-align: right;\n",
              "    }\n",
              "</style>\n",
              "<table border=\"1\" class=\"dataframe\">\n",
              "  <thead>\n",
              "    <tr style=\"text-align: right;\">\n",
              "      <th></th>\n",
              "      <th>acurácia</th>\n",
              "      <th>sensibilidade</th>\n",
              "      <th>vpp</th>\n",
              "      <th>eficiência</th>\n",
              "      <th>f1-score</th>\n",
              "    </tr>\n",
              "  </thead>\n",
              "  <tbody>\n",
              "    <tr>\n",
              "      <th>Regressão Logística</th>\n",
              "      <td>0.7991</td>\n",
              "      <td>0.6987</td>\n",
              "      <td>0.7611</td>\n",
              "      <td>0.7255</td>\n",
              "      <td>0.7802</td>\n",
              "    </tr>\n",
              "    <tr>\n",
              "      <th>Árvore (prof = 3)</th>\n",
              "      <td>0.8159</td>\n",
              "      <td>0.7044</td>\n",
              "      <td>0.7947</td>\n",
              "      <td>0.7425</td>\n",
              "      <td>0.7948</td>\n",
              "    </tr>\n",
              "    <tr>\n",
              "      <th>Árvore (prof = 5)</th>\n",
              "      <td>0.8037</td>\n",
              "      <td>0.6724</td>\n",
              "      <td>0.7878</td>\n",
              "      <td>0.7205</td>\n",
              "      <td>0.7788</td>\n",
              "    </tr>\n",
              "    <tr>\n",
              "      <th>Árvore (prof = 7)</th>\n",
              "      <td>0.8194</td>\n",
              "      <td>0.6754</td>\n",
              "      <td>0.8252</td>\n",
              "      <td>0.7389</td>\n",
              "      <td>0.7921</td>\n",
              "    </tr>\n",
              "    <tr>\n",
              "      <th>5-NN</th>\n",
              "      <td>0.8059</td>\n",
              "      <td>0.7194</td>\n",
              "      <td>0.7623</td>\n",
              "      <td>0.7380</td>\n",
              "      <td>0.7896</td>\n",
              "    </tr>\n",
              "    <tr>\n",
              "      <th>15-NN</th>\n",
              "      <td>0.7857</td>\n",
              "      <td>0.6467</td>\n",
              "      <td>0.7601</td>\n",
              "      <td>0.6958</td>\n",
              "      <td>0.7596</td>\n",
              "    </tr>\n",
              "    <tr>\n",
              "      <th>25-NN</th>\n",
              "      <td>0.8003</td>\n",
              "      <td>0.6552</td>\n",
              "      <td>0.7913</td>\n",
              "      <td>0.7145</td>\n",
              "      <td>0.7730</td>\n",
              "    </tr>\n",
              "    <tr>\n",
              "      <th>Bagging</th>\n",
              "      <td>0.8093</td>\n",
              "      <td>0.7048</td>\n",
              "      <td>0.7785</td>\n",
              "      <td>0.7368</td>\n",
              "      <td>0.7896</td>\n",
              "    </tr>\n",
              "    <tr>\n",
              "      <th>Random Forest (prof = 3, mf = 3)</th>\n",
              "      <td>0.8014</td>\n",
              "      <td>0.5790</td>\n",
              "      <td>0.8559</td>\n",
              "      <td>0.6892</td>\n",
              "      <td>0.7595</td>\n",
              "    </tr>\n",
              "    <tr>\n",
              "      <th>Random Forest (prof = 3, mf = 4)</th>\n",
              "      <td>0.8193</td>\n",
              "      <td>0.6286</td>\n",
              "      <td>0.8608</td>\n",
              "      <td>0.7245</td>\n",
              "      <td>0.7833</td>\n",
              "    </tr>\n",
              "    <tr>\n",
              "      <th>Random Forest (prof = 6, mf = 3)</th>\n",
              "      <td>0.8250</td>\n",
              "      <td>0.6608</td>\n",
              "      <td>0.8458</td>\n",
              "      <td>0.7398</td>\n",
              "      <td>0.7940</td>\n",
              "    </tr>\n",
              "    <tr>\n",
              "      <th>Random Forest (prof = 6, mf = 4)</th>\n",
              "      <td>0.8250</td>\n",
              "      <td>0.6577</td>\n",
              "      <td>0.8502</td>\n",
              "      <td>0.7387</td>\n",
              "      <td>0.7933</td>\n",
              "    </tr>\n",
              "  </tbody>\n",
              "</table>\n",
              "</div>"
            ]
          },
          "metadata": {
            "tags": []
          },
          "execution_count": 207
        }
      ]
    },
    {
      "cell_type": "code",
      "metadata": {
        "id": "WkTYHd53ozLd",
        "colab": {
          "base_uri": "https://localhost:8080/",
          "height": 545
        },
        "outputId": "c51f76fd-5da9-4ccb-f47b-b0cfbf87958a"
      },
      "source": [
        "resultados2 = MachineLearning(titanic2)\n",
        "DataTable(resultados2)"
      ],
      "execution_count": null,
      "outputs": [
        {
          "output_type": "stream",
          "text": [
            "Rodando modelo: Regressão Logística\n",
            "Rodando modelo: Árvore (prof = 3)\n",
            "Rodando modelo: Árvore (prof = 5)\n",
            "Rodando modelo: Árvore (prof = 7)\n",
            "Rodando modelo: 5-NN\n",
            "Rodando modelo: 15-NN\n",
            "Rodando modelo: 25-NN\n",
            "Rodando modelo: Bagging\n",
            "Rodando modelo: Random Forest (prof = 3, mf = 3)\n",
            "Rodando modelo: Random Forest (prof = 3, mf = 4)\n",
            "Rodando modelo: Random Forest (prof = 6, mf = 3)\n",
            "Rodando modelo: Random Forest (prof = 6, mf = 4)\n"
          ],
          "name": "stdout"
        },
        {
          "output_type": "execute_result",
          "data": {
            "application/vnd.google.colaboratory.module+javascript": "\n      import \"https://ssl.gstatic.com/colaboratory/data_table/a6224c040fa35dcf/data_table.js\";\n\n      window.createDataTable({\n        data: [[\"Regress\\u00e3o Log\\u00edstica\",\n{\n            'v': 0.8092,\n            'f': \"0.8092\",\n        },\n{\n            'v': 0.7308,\n            'f': \"0.7308\",\n        },\n{\n            'v': 0.7619,\n            'f': \"0.7619\",\n        },\n{\n            'v': 0.7442,\n            'f': \"0.7442\",\n        },\n{\n            'v': 0.7944,\n            'f': \"0.7944\",\n        }],\n [\"\\u00c1rvore (prof = 3)\",\n{\n            'v': 0.8238,\n            'f': \"0.8238\",\n        },\n{\n            'v': 0.7247,\n            'f': \"0.7247\",\n        },\n{\n            'v': 0.798,\n            'f': \"0.798\",\n        },\n{\n            'v': 0.7561,\n            'f': \"0.7561\",\n        },\n{\n            'v': 0.805,\n            'f': \"0.805\",\n        }],\n [\"\\u00c1rvore (prof = 5)\",\n{\n            'v': 0.8194,\n            'f': \"0.8194\",\n        },\n{\n            'v': 0.7167,\n            'f': \"0.7167\",\n        },\n{\n            'v': 0.7906,\n            'f': \"0.7906\",\n        },\n{\n            'v': 0.7485,\n            'f': \"0.7485\",\n        },\n{\n            'v': 0.8001,\n            'f': \"0.8001\",\n        }],\n [\"\\u00c1rvore (prof = 7)\",\n{\n            'v': 0.8205,\n            'f': \"0.8205\",\n        },\n{\n            'v': 0.7077,\n            'f': \"0.7077\",\n        },\n{\n            'v': 0.7996,\n            'f': \"0.7996\",\n        },\n{\n            'v': 0.7485,\n            'f': \"0.7485\",\n        },\n{\n            'v': 0.7992,\n            'f': \"0.7992\",\n        }],\n [\"5-NN\",\n{\n            'v': 0.8171,\n            'f': \"0.8171\",\n        },\n{\n            'v': 0.7368,\n            'f': \"0.7368\",\n        },\n{\n            'v': 0.777,\n            'f': \"0.777\",\n        },\n{\n            'v': 0.7536,\n            'f': \"0.7536\",\n        },\n{\n            'v': 0.8019,\n            'f': \"0.8019\",\n        }],\n [\"15-NN\",\n{\n            'v': 0.8048,\n            'f': \"0.8048\",\n        },\n{\n            'v': 0.6726,\n            'f': \"0.6726\",\n        },\n{\n            'v': 0.7893,\n            'f': \"0.7893\",\n        },\n{\n            'v': 0.7224,\n            'f': \"0.7224\",\n        },\n{\n            'v': 0.7798,\n            'f': \"0.7798\",\n        }],\n [\"25-NN\",\n{\n            'v': 0.8003,\n            'f': \"0.8003\",\n        },\n{\n            'v': 0.6317,\n            'f': \"0.6317\",\n        },\n{\n            'v': 0.8094,\n            'f': \"0.8094\",\n        },\n{\n            'v': 0.7064,\n            'f': \"0.7064\",\n        },\n{\n            'v': 0.7685,\n            'f': \"0.7685\",\n        }],\n [\"Bagging\",\n{\n            'v': 0.807,\n            'f': \"0.807\",\n        },\n{\n            'v': 0.7076,\n            'f': \"0.7076\",\n        },\n{\n            'v': 0.775,\n            'f': \"0.775\",\n        },\n{\n            'v': 0.736,\n            'f': \"0.736\",\n        },\n{\n            'v': 0.7883,\n            'f': \"0.7883\",\n        }],\n [\"Random Forest (prof = 3, mf = 3)\",\n{\n            'v': 0.8002,\n            'f': \"0.8002\",\n        },\n{\n            'v': 0.7161,\n            'f': \"0.7161\",\n        },\n{\n            'v': 0.7507,\n            'f': \"0.7507\",\n        },\n{\n            'v': 0.7307,\n            'f': \"0.7307\",\n        },\n{\n            'v': 0.7843,\n            'f': \"0.7843\",\n        }],\n [\"Random Forest (prof = 3, mf = 4)\",\n{\n            'v': 0.8036,\n            'f': \"0.8036\",\n        },\n{\n            'v': 0.7132,\n            'f': \"0.7132\",\n        },\n{\n            'v': 0.7601,\n            'f': \"0.7601\",\n        },\n{\n            'v': 0.733,\n            'f': \"0.733\",\n        },\n{\n            'v': 0.7864,\n            'f': \"0.7864\",\n        }],\n [\"Random Forest (prof = 6, mf = 3)\",\n{\n            'v': 0.8261,\n            'f': \"0.8261\",\n        },\n{\n            'v': 0.6783,\n            'f': \"0.6783\",\n        },\n{\n            'v': 0.8351,\n            'f': \"0.8351\",\n        },\n{\n            'v': 0.7456,\n            'f': \"0.7456\",\n        },\n{\n            'v': 0.7982,\n            'f': \"0.7982\",\n        }],\n [\"Random Forest (prof = 6, mf = 4)\",\n{\n            'v': 0.8328,\n            'f': \"0.8328\",\n        },\n{\n            'v': 0.6958,\n            'f': \"0.6958\",\n        },\n{\n            'v': 0.8388,\n            'f': \"0.8388\",\n        },\n{\n            'v': 0.7575,\n            'f': \"0.7575\",\n        },\n{\n            'v': 0.8069,\n            'f': \"0.8069\",\n        }]],\n        columns: [[\"string\", \"index\"], [\"number\", \"acur\\u00e1cia\"], [\"number\", \"sensibilidade\"], [\"number\", \"vpp\"], [\"number\", \"efici\\u00eancia\"], [\"number\", \"f1-score\"]],\n        columnOptions: [{\"width\": \"1px\", \"className\": \"index_column\"}],\n        rowsPerPage: 25,\n        helpUrl: \"https://colab.research.google.com/notebooks/data_table.ipynb\",\n        suppressOutputScrolling: true,\n        minimumWidth: undefined,\n      });\n    ",
            "text/plain": [
              "<google.colab.data_table.DataTable object>"
            ],
            "text/html": [
              "<div>\n",
              "<style scoped>\n",
              "    .dataframe tbody tr th:only-of-type {\n",
              "        vertical-align: middle;\n",
              "    }\n",
              "\n",
              "    .dataframe tbody tr th {\n",
              "        vertical-align: top;\n",
              "    }\n",
              "\n",
              "    .dataframe thead th {\n",
              "        text-align: right;\n",
              "    }\n",
              "</style>\n",
              "<table border=\"1\" class=\"dataframe\">\n",
              "  <thead>\n",
              "    <tr style=\"text-align: right;\">\n",
              "      <th></th>\n",
              "      <th>acurácia</th>\n",
              "      <th>sensibilidade</th>\n",
              "      <th>vpp</th>\n",
              "      <th>eficiência</th>\n",
              "      <th>f1-score</th>\n",
              "    </tr>\n",
              "  </thead>\n",
              "  <tbody>\n",
              "    <tr>\n",
              "      <th>Regressão Logística</th>\n",
              "      <td>0.8092</td>\n",
              "      <td>0.7308</td>\n",
              "      <td>0.7619</td>\n",
              "      <td>0.7442</td>\n",
              "      <td>0.7944</td>\n",
              "    </tr>\n",
              "    <tr>\n",
              "      <th>Árvore (prof = 3)</th>\n",
              "      <td>0.8238</td>\n",
              "      <td>0.7247</td>\n",
              "      <td>0.7980</td>\n",
              "      <td>0.7561</td>\n",
              "      <td>0.8050</td>\n",
              "    </tr>\n",
              "    <tr>\n",
              "      <th>Árvore (prof = 5)</th>\n",
              "      <td>0.8194</td>\n",
              "      <td>0.7167</td>\n",
              "      <td>0.7906</td>\n",
              "      <td>0.7485</td>\n",
              "      <td>0.8001</td>\n",
              "    </tr>\n",
              "    <tr>\n",
              "      <th>Árvore (prof = 7)</th>\n",
              "      <td>0.8205</td>\n",
              "      <td>0.7077</td>\n",
              "      <td>0.7996</td>\n",
              "      <td>0.7485</td>\n",
              "      <td>0.7992</td>\n",
              "    </tr>\n",
              "    <tr>\n",
              "      <th>5-NN</th>\n",
              "      <td>0.8171</td>\n",
              "      <td>0.7368</td>\n",
              "      <td>0.7770</td>\n",
              "      <td>0.7536</td>\n",
              "      <td>0.8019</td>\n",
              "    </tr>\n",
              "    <tr>\n",
              "      <th>15-NN</th>\n",
              "      <td>0.8048</td>\n",
              "      <td>0.6726</td>\n",
              "      <td>0.7893</td>\n",
              "      <td>0.7224</td>\n",
              "      <td>0.7798</td>\n",
              "    </tr>\n",
              "    <tr>\n",
              "      <th>25-NN</th>\n",
              "      <td>0.8003</td>\n",
              "      <td>0.6317</td>\n",
              "      <td>0.8094</td>\n",
              "      <td>0.7064</td>\n",
              "      <td>0.7685</td>\n",
              "    </tr>\n",
              "    <tr>\n",
              "      <th>Bagging</th>\n",
              "      <td>0.8070</td>\n",
              "      <td>0.7076</td>\n",
              "      <td>0.7750</td>\n",
              "      <td>0.7360</td>\n",
              "      <td>0.7883</td>\n",
              "    </tr>\n",
              "    <tr>\n",
              "      <th>Random Forest (prof = 3, mf = 3)</th>\n",
              "      <td>0.8002</td>\n",
              "      <td>0.7161</td>\n",
              "      <td>0.7507</td>\n",
              "      <td>0.7307</td>\n",
              "      <td>0.7843</td>\n",
              "    </tr>\n",
              "    <tr>\n",
              "      <th>Random Forest (prof = 3, mf = 4)</th>\n",
              "      <td>0.8036</td>\n",
              "      <td>0.7132</td>\n",
              "      <td>0.7601</td>\n",
              "      <td>0.7330</td>\n",
              "      <td>0.7864</td>\n",
              "    </tr>\n",
              "    <tr>\n",
              "      <th>Random Forest (prof = 6, mf = 3)</th>\n",
              "      <td>0.8261</td>\n",
              "      <td>0.6783</td>\n",
              "      <td>0.8351</td>\n",
              "      <td>0.7456</td>\n",
              "      <td>0.7982</td>\n",
              "    </tr>\n",
              "    <tr>\n",
              "      <th>Random Forest (prof = 6, mf = 4)</th>\n",
              "      <td>0.8328</td>\n",
              "      <td>0.6958</td>\n",
              "      <td>0.8388</td>\n",
              "      <td>0.7575</td>\n",
              "      <td>0.8069</td>\n",
              "    </tr>\n",
              "  </tbody>\n",
              "</table>\n",
              "</div>"
            ]
          },
          "metadata": {
            "tags": []
          },
          "execution_count": 208
        }
      ]
    },
    {
      "cell_type": "markdown",
      "metadata": {
        "id": "QmOWug8_u99C"
      },
      "source": [
        "#Considerações Finais"
      ]
    },
    {
      "cell_type": "markdown",
      "metadata": {
        "id": "XA3zsVVrvJSi"
      },
      "source": [
        "Neste projeto, observamos alguns procedimentos de pré-processamento realizados com o intuito de se obter uma melhor performance em nossos modelos de previsão. Apesar de os procedimentos realizados não esgotarem as possibilidades de pré-processamento, foram apresentados conceitos indispensáveis, como dummificação, descarte e escalonamento de variáveis, bem como verificação de dados faltantes. Problemas e conjuntos de dados diferentes exigem pré-processamentos distintos, e que só poderão ser avaliados após o ajuste e avaliação do modelo. Nesta etapa, deve-se buscar o modelo e seu respectivo conjunto de parâmetros que, alimentados com os dados tratados, melhor se adequam ao problema que se deseja resolver"
      ]
    },
    {
      "cell_type": "code",
      "metadata": {
        "id": "L8LBNrV72hnO"
      },
      "source": [
        ""
      ],
      "execution_count": null,
      "outputs": []
    }
  ]
}