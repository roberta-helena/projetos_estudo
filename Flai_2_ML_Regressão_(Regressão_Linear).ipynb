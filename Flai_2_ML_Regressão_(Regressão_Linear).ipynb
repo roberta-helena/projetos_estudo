{
  "nbformat": 4,
  "nbformat_minor": 0,
  "metadata": {
    "colab": {
      "name": "Flai 2 - ML Regressão (Regressão Linear)",
      "provenance": [],
      "collapsed_sections": [],
      "authorship_tag": "ABX9TyOOEsNTj2AsvS4/omNShIGt"
    },
    "kernelspec": {
      "name": "python3",
      "display_name": "Python 3"
    },
    "language_info": {
      "name": "python"
    },
    "widgets": {
      "application/vnd.jupyter.widget-state+json": {
        "692403d7c6114a219b01e346d0e290cc": {
          "model_module": "@jupyter-widgets/controls",
          "model_name": "HBoxModel",
          "state": {
            "_view_name": "HBoxView",
            "_dom_classes": [],
            "_model_name": "HBoxModel",
            "_view_module": "@jupyter-widgets/controls",
            "_model_module_version": "1.5.0",
            "_view_count": null,
            "_view_module_version": "1.5.0",
            "box_style": "",
            "layout": "IPY_MODEL_b5f1decafbd345ac8b20ee4d8e02fc23",
            "_model_module": "@jupyter-widgets/controls",
            "children": [
              "IPY_MODEL_dff20327faf34fdf9cc19536de2d5f5d",
              "IPY_MODEL_f4aff71961634e178cddb025dd4131a4",
              "IPY_MODEL_f41dccdb2b5047dfa8916f904dd6b1a8"
            ]
          }
        },
        "b5f1decafbd345ac8b20ee4d8e02fc23": {
          "model_module": "@jupyter-widgets/base",
          "model_name": "LayoutModel",
          "state": {
            "_view_name": "LayoutView",
            "grid_template_rows": null,
            "right": null,
            "justify_content": null,
            "_view_module": "@jupyter-widgets/base",
            "overflow": null,
            "_model_module_version": "1.2.0",
            "_view_count": null,
            "flex_flow": "row wrap",
            "width": "100%",
            "min_width": null,
            "border": null,
            "align_items": null,
            "bottom": null,
            "_model_module": "@jupyter-widgets/base",
            "top": null,
            "grid_column": null,
            "overflow_y": null,
            "overflow_x": null,
            "grid_auto_flow": null,
            "grid_area": null,
            "grid_template_columns": null,
            "flex": null,
            "_model_name": "LayoutModel",
            "justify_items": null,
            "grid_row": null,
            "max_height": null,
            "align_content": null,
            "visibility": null,
            "align_self": null,
            "height": null,
            "min_height": null,
            "padding": null,
            "grid_auto_rows": null,
            "grid_gap": null,
            "max_width": null,
            "order": null,
            "_view_module_version": "1.2.0",
            "grid_template_areas": null,
            "object_position": null,
            "object_fit": null,
            "grid_auto_columns": null,
            "margin": null,
            "display": "inline-flex",
            "left": null
          }
        },
        "dff20327faf34fdf9cc19536de2d5f5d": {
          "model_module": "@jupyter-widgets/controls",
          "model_name": "HTMLModel",
          "state": {
            "_view_name": "HTMLView",
            "style": "IPY_MODEL_3995c1559e49423aa1aeb2a6701335da",
            "_dom_classes": [],
            "description": "",
            "_model_name": "HTMLModel",
            "placeholder": "​",
            "_view_module": "@jupyter-widgets/controls",
            "_model_module_version": "1.5.0",
            "value": "Done! Use &#x27;show&#x27; commands to display/save.   ",
            "_view_count": null,
            "_view_module_version": "1.5.0",
            "description_tooltip": null,
            "_model_module": "@jupyter-widgets/controls",
            "layout": "IPY_MODEL_1e08090fd5184fef892b00b013b39daa"
          }
        },
        "f4aff71961634e178cddb025dd4131a4": {
          "model_module": "@jupyter-widgets/controls",
          "model_name": "FloatProgressModel",
          "state": {
            "_view_name": "ProgressView",
            "style": "IPY_MODEL_136fd8130e4445dbbf77fbc9d83c3963",
            "_dom_classes": [],
            "description": "",
            "_model_name": "FloatProgressModel",
            "bar_style": "success",
            "max": 1,
            "_view_module": "@jupyter-widgets/controls",
            "_model_module_version": "1.5.0",
            "value": 1,
            "_view_count": null,
            "_view_module_version": "1.5.0",
            "orientation": "horizontal",
            "min": 0,
            "description_tooltip": null,
            "_model_module": "@jupyter-widgets/controls",
            "layout": "IPY_MODEL_adf09979cec74d7093f3aa290bed2223"
          }
        },
        "f41dccdb2b5047dfa8916f904dd6b1a8": {
          "model_module": "@jupyter-widgets/controls",
          "model_name": "HTMLModel",
          "state": {
            "_view_name": "HTMLView",
            "style": "IPY_MODEL_7f8ad4cc38e249c4adf055193aaa00fb",
            "_dom_classes": [],
            "description": "",
            "_model_name": "HTMLModel",
            "placeholder": "​",
            "_view_module": "@jupyter-widgets/controls",
            "_model_module_version": "1.5.0",
            "value": " [100%]   00:00 -&gt; (00:00 left)",
            "_view_count": null,
            "_view_module_version": "1.5.0",
            "description_tooltip": null,
            "_model_module": "@jupyter-widgets/controls",
            "layout": "IPY_MODEL_254be65926b54df5a093bdfa66a509a8"
          }
        },
        "3995c1559e49423aa1aeb2a6701335da": {
          "model_module": "@jupyter-widgets/controls",
          "model_name": "DescriptionStyleModel",
          "state": {
            "_view_name": "StyleView",
            "_model_name": "DescriptionStyleModel",
            "description_width": "",
            "_view_module": "@jupyter-widgets/base",
            "_model_module_version": "1.5.0",
            "_view_count": null,
            "_view_module_version": "1.2.0",
            "_model_module": "@jupyter-widgets/controls"
          }
        },
        "1e08090fd5184fef892b00b013b39daa": {
          "model_module": "@jupyter-widgets/base",
          "model_name": "LayoutModel",
          "state": {
            "_view_name": "LayoutView",
            "grid_template_rows": null,
            "right": null,
            "justify_content": null,
            "_view_module": "@jupyter-widgets/base",
            "overflow": null,
            "_model_module_version": "1.2.0",
            "_view_count": null,
            "flex_flow": null,
            "width": null,
            "min_width": null,
            "border": null,
            "align_items": null,
            "bottom": null,
            "_model_module": "@jupyter-widgets/base",
            "top": null,
            "grid_column": null,
            "overflow_y": null,
            "overflow_x": null,
            "grid_auto_flow": null,
            "grid_area": null,
            "grid_template_columns": null,
            "flex": null,
            "_model_name": "LayoutModel",
            "justify_items": null,
            "grid_row": null,
            "max_height": null,
            "align_content": null,
            "visibility": null,
            "align_self": null,
            "height": null,
            "min_height": null,
            "padding": null,
            "grid_auto_rows": null,
            "grid_gap": null,
            "max_width": null,
            "order": null,
            "_view_module_version": "1.2.0",
            "grid_template_areas": null,
            "object_position": null,
            "object_fit": null,
            "grid_auto_columns": null,
            "margin": null,
            "display": null,
            "left": null
          }
        },
        "136fd8130e4445dbbf77fbc9d83c3963": {
          "model_module": "@jupyter-widgets/controls",
          "model_name": "ProgressStyleModel",
          "state": {
            "_view_name": "StyleView",
            "_model_name": "ProgressStyleModel",
            "description_width": "",
            "_view_module": "@jupyter-widgets/base",
            "_model_module_version": "1.5.0",
            "_view_count": null,
            "_view_module_version": "1.2.0",
            "bar_color": null,
            "_model_module": "@jupyter-widgets/controls"
          }
        },
        "adf09979cec74d7093f3aa290bed2223": {
          "model_module": "@jupyter-widgets/base",
          "model_name": "LayoutModel",
          "state": {
            "_view_name": "LayoutView",
            "grid_template_rows": null,
            "right": null,
            "justify_content": null,
            "_view_module": "@jupyter-widgets/base",
            "overflow": null,
            "_model_module_version": "1.2.0",
            "_view_count": null,
            "flex_flow": null,
            "width": null,
            "min_width": null,
            "border": null,
            "align_items": null,
            "bottom": null,
            "_model_module": "@jupyter-widgets/base",
            "top": null,
            "grid_column": null,
            "overflow_y": null,
            "overflow_x": null,
            "grid_auto_flow": null,
            "grid_area": null,
            "grid_template_columns": null,
            "flex": "2",
            "_model_name": "LayoutModel",
            "justify_items": null,
            "grid_row": null,
            "max_height": null,
            "align_content": null,
            "visibility": null,
            "align_self": null,
            "height": null,
            "min_height": null,
            "padding": null,
            "grid_auto_rows": null,
            "grid_gap": null,
            "max_width": null,
            "order": null,
            "_view_module_version": "1.2.0",
            "grid_template_areas": null,
            "object_position": null,
            "object_fit": null,
            "grid_auto_columns": null,
            "margin": null,
            "display": null,
            "left": null
          }
        },
        "7f8ad4cc38e249c4adf055193aaa00fb": {
          "model_module": "@jupyter-widgets/controls",
          "model_name": "DescriptionStyleModel",
          "state": {
            "_view_name": "StyleView",
            "_model_name": "DescriptionStyleModel",
            "description_width": "",
            "_view_module": "@jupyter-widgets/base",
            "_model_module_version": "1.5.0",
            "_view_count": null,
            "_view_module_version": "1.2.0",
            "_model_module": "@jupyter-widgets/controls"
          }
        },
        "254be65926b54df5a093bdfa66a509a8": {
          "model_module": "@jupyter-widgets/base",
          "model_name": "LayoutModel",
          "state": {
            "_view_name": "LayoutView",
            "grid_template_rows": null,
            "right": null,
            "justify_content": null,
            "_view_module": "@jupyter-widgets/base",
            "overflow": null,
            "_model_module_version": "1.2.0",
            "_view_count": null,
            "flex_flow": null,
            "width": null,
            "min_width": null,
            "border": null,
            "align_items": null,
            "bottom": null,
            "_model_module": "@jupyter-widgets/base",
            "top": null,
            "grid_column": null,
            "overflow_y": null,
            "overflow_x": null,
            "grid_auto_flow": null,
            "grid_area": null,
            "grid_template_columns": null,
            "flex": null,
            "_model_name": "LayoutModel",
            "justify_items": null,
            "grid_row": null,
            "max_height": null,
            "align_content": null,
            "visibility": null,
            "align_self": null,
            "height": null,
            "min_height": null,
            "padding": null,
            "grid_auto_rows": null,
            "grid_gap": null,
            "max_width": null,
            "order": null,
            "_view_module_version": "1.2.0",
            "grid_template_areas": null,
            "object_position": null,
            "object_fit": null,
            "grid_auto_columns": null,
            "margin": null,
            "display": null,
            "left": null
          }
        },
        "84f35d5ae1104a34b452b549b42d6bed": {
          "model_module": "@jupyter-widgets/controls",
          "model_name": "HBoxModel",
          "state": {
            "_view_name": "HBoxView",
            "_dom_classes": [],
            "_model_name": "HBoxModel",
            "_view_module": "@jupyter-widgets/controls",
            "_model_module_version": "1.5.0",
            "_view_count": null,
            "_view_module_version": "1.5.0",
            "box_style": "",
            "layout": "IPY_MODEL_244ea4e1dbe44f69b10c9b243ea3c5b7",
            "_model_module": "@jupyter-widgets/controls",
            "children": [
              "IPY_MODEL_ee3028b2f751466db592a25474c4bead",
              "IPY_MODEL_647e38bd1dcc4dd8a13f3179d76786f4",
              "IPY_MODEL_acb9c203af574e9b8b204f3b5cd3bd6c"
            ]
          }
        },
        "244ea4e1dbe44f69b10c9b243ea3c5b7": {
          "model_module": "@jupyter-widgets/base",
          "model_name": "LayoutModel",
          "state": {
            "_view_name": "LayoutView",
            "grid_template_rows": null,
            "right": null,
            "justify_content": null,
            "_view_module": "@jupyter-widgets/base",
            "overflow": null,
            "_model_module_version": "1.2.0",
            "_view_count": null,
            "flex_flow": "row wrap",
            "width": "100%",
            "min_width": null,
            "border": null,
            "align_items": null,
            "bottom": null,
            "_model_module": "@jupyter-widgets/base",
            "top": null,
            "grid_column": null,
            "overflow_y": null,
            "overflow_x": null,
            "grid_auto_flow": null,
            "grid_area": null,
            "grid_template_columns": null,
            "flex": null,
            "_model_name": "LayoutModel",
            "justify_items": null,
            "grid_row": null,
            "max_height": null,
            "align_content": null,
            "visibility": null,
            "align_self": null,
            "height": null,
            "min_height": null,
            "padding": null,
            "grid_auto_rows": null,
            "grid_gap": null,
            "max_width": null,
            "order": null,
            "_view_module_version": "1.2.0",
            "grid_template_areas": null,
            "object_position": null,
            "object_fit": null,
            "grid_auto_columns": null,
            "margin": null,
            "display": "inline-flex",
            "left": null
          }
        },
        "ee3028b2f751466db592a25474c4bead": {
          "model_module": "@jupyter-widgets/controls",
          "model_name": "HTMLModel",
          "state": {
            "_view_name": "HTMLView",
            "style": "IPY_MODEL_a7ee5ccc7ae2419a97aae70abab65cb6",
            "_dom_classes": [],
            "description": "",
            "_model_name": "HTMLModel",
            "placeholder": "​",
            "_view_module": "@jupyter-widgets/controls",
            "_model_module_version": "1.5.0",
            "value": "Done! Use &#x27;show&#x27; commands to display/save.   ",
            "_view_count": null,
            "_view_module_version": "1.5.0",
            "description_tooltip": null,
            "_model_module": "@jupyter-widgets/controls",
            "layout": "IPY_MODEL_59a3554c929c443581532475f4cdaaf3"
          }
        },
        "647e38bd1dcc4dd8a13f3179d76786f4": {
          "model_module": "@jupyter-widgets/controls",
          "model_name": "FloatProgressModel",
          "state": {
            "_view_name": "ProgressView",
            "style": "IPY_MODEL_b65721ac907b47cfa96c540e45141936",
            "_dom_classes": [],
            "description": "",
            "_model_name": "FloatProgressModel",
            "bar_style": "success",
            "max": 1,
            "_view_module": "@jupyter-widgets/controls",
            "_model_module_version": "1.5.0",
            "value": 1,
            "_view_count": null,
            "_view_module_version": "1.5.0",
            "orientation": "horizontal",
            "min": 0,
            "description_tooltip": null,
            "_model_module": "@jupyter-widgets/controls",
            "layout": "IPY_MODEL_227a170b789240b094b106ad15766caa"
          }
        },
        "acb9c203af574e9b8b204f3b5cd3bd6c": {
          "model_module": "@jupyter-widgets/controls",
          "model_name": "HTMLModel",
          "state": {
            "_view_name": "HTMLView",
            "style": "IPY_MODEL_c2573bf943cc4a3087f89e447f1f3001",
            "_dom_classes": [],
            "description": "",
            "_model_name": "HTMLModel",
            "placeholder": "​",
            "_view_module": "@jupyter-widgets/controls",
            "_model_module_version": "1.5.0",
            "value": " [100%]   00:00 -&gt; (00:00 left)",
            "_view_count": null,
            "_view_module_version": "1.5.0",
            "description_tooltip": null,
            "_model_module": "@jupyter-widgets/controls",
            "layout": "IPY_MODEL_7e91735959f2491194e403e6a0b1ae50"
          }
        },
        "a7ee5ccc7ae2419a97aae70abab65cb6": {
          "model_module": "@jupyter-widgets/controls",
          "model_name": "DescriptionStyleModel",
          "state": {
            "_view_name": "StyleView",
            "_model_name": "DescriptionStyleModel",
            "description_width": "",
            "_view_module": "@jupyter-widgets/base",
            "_model_module_version": "1.5.0",
            "_view_count": null,
            "_view_module_version": "1.2.0",
            "_model_module": "@jupyter-widgets/controls"
          }
        },
        "59a3554c929c443581532475f4cdaaf3": {
          "model_module": "@jupyter-widgets/base",
          "model_name": "LayoutModel",
          "state": {
            "_view_name": "LayoutView",
            "grid_template_rows": null,
            "right": null,
            "justify_content": null,
            "_view_module": "@jupyter-widgets/base",
            "overflow": null,
            "_model_module_version": "1.2.0",
            "_view_count": null,
            "flex_flow": null,
            "width": null,
            "min_width": null,
            "border": null,
            "align_items": null,
            "bottom": null,
            "_model_module": "@jupyter-widgets/base",
            "top": null,
            "grid_column": null,
            "overflow_y": null,
            "overflow_x": null,
            "grid_auto_flow": null,
            "grid_area": null,
            "grid_template_columns": null,
            "flex": null,
            "_model_name": "LayoutModel",
            "justify_items": null,
            "grid_row": null,
            "max_height": null,
            "align_content": null,
            "visibility": null,
            "align_self": null,
            "height": null,
            "min_height": null,
            "padding": null,
            "grid_auto_rows": null,
            "grid_gap": null,
            "max_width": null,
            "order": null,
            "_view_module_version": "1.2.0",
            "grid_template_areas": null,
            "object_position": null,
            "object_fit": null,
            "grid_auto_columns": null,
            "margin": null,
            "display": null,
            "left": null
          }
        },
        "b65721ac907b47cfa96c540e45141936": {
          "model_module": "@jupyter-widgets/controls",
          "model_name": "ProgressStyleModel",
          "state": {
            "_view_name": "StyleView",
            "_model_name": "ProgressStyleModel",
            "description_width": "",
            "_view_module": "@jupyter-widgets/base",
            "_model_module_version": "1.5.0",
            "_view_count": null,
            "_view_module_version": "1.2.0",
            "bar_color": null,
            "_model_module": "@jupyter-widgets/controls"
          }
        },
        "227a170b789240b094b106ad15766caa": {
          "model_module": "@jupyter-widgets/base",
          "model_name": "LayoutModel",
          "state": {
            "_view_name": "LayoutView",
            "grid_template_rows": null,
            "right": null,
            "justify_content": null,
            "_view_module": "@jupyter-widgets/base",
            "overflow": null,
            "_model_module_version": "1.2.0",
            "_view_count": null,
            "flex_flow": null,
            "width": null,
            "min_width": null,
            "border": null,
            "align_items": null,
            "bottom": null,
            "_model_module": "@jupyter-widgets/base",
            "top": null,
            "grid_column": null,
            "overflow_y": null,
            "overflow_x": null,
            "grid_auto_flow": null,
            "grid_area": null,
            "grid_template_columns": null,
            "flex": "2",
            "_model_name": "LayoutModel",
            "justify_items": null,
            "grid_row": null,
            "max_height": null,
            "align_content": null,
            "visibility": null,
            "align_self": null,
            "height": null,
            "min_height": null,
            "padding": null,
            "grid_auto_rows": null,
            "grid_gap": null,
            "max_width": null,
            "order": null,
            "_view_module_version": "1.2.0",
            "grid_template_areas": null,
            "object_position": null,
            "object_fit": null,
            "grid_auto_columns": null,
            "margin": null,
            "display": null,
            "left": null
          }
        },
        "c2573bf943cc4a3087f89e447f1f3001": {
          "model_module": "@jupyter-widgets/controls",
          "model_name": "DescriptionStyleModel",
          "state": {
            "_view_name": "StyleView",
            "_model_name": "DescriptionStyleModel",
            "description_width": "",
            "_view_module": "@jupyter-widgets/base",
            "_model_module_version": "1.5.0",
            "_view_count": null,
            "_view_module_version": "1.2.0",
            "_model_module": "@jupyter-widgets/controls"
          }
        },
        "7e91735959f2491194e403e6a0b1ae50": {
          "model_module": "@jupyter-widgets/base",
          "model_name": "LayoutModel",
          "state": {
            "_view_name": "LayoutView",
            "grid_template_rows": null,
            "right": null,
            "justify_content": null,
            "_view_module": "@jupyter-widgets/base",
            "overflow": null,
            "_model_module_version": "1.2.0",
            "_view_count": null,
            "flex_flow": null,
            "width": null,
            "min_width": null,
            "border": null,
            "align_items": null,
            "bottom": null,
            "_model_module": "@jupyter-widgets/base",
            "top": null,
            "grid_column": null,
            "overflow_y": null,
            "overflow_x": null,
            "grid_auto_flow": null,
            "grid_area": null,
            "grid_template_columns": null,
            "flex": null,
            "_model_name": "LayoutModel",
            "justify_items": null,
            "grid_row": null,
            "max_height": null,
            "align_content": null,
            "visibility": null,
            "align_self": null,
            "height": null,
            "min_height": null,
            "padding": null,
            "grid_auto_rows": null,
            "grid_gap": null,
            "max_width": null,
            "order": null,
            "_view_module_version": "1.2.0",
            "grid_template_areas": null,
            "object_position": null,
            "object_fit": null,
            "grid_auto_columns": null,
            "margin": null,
            "display": null,
            "left": null
          }
        },
        "0dedd01426324a1c80d7a228bbacc1f4": {
          "model_module": "@jupyter-widgets/controls",
          "model_name": "HBoxModel",
          "state": {
            "_view_name": "HBoxView",
            "_dom_classes": [],
            "_model_name": "HBoxModel",
            "_view_module": "@jupyter-widgets/controls",
            "_model_module_version": "1.5.0",
            "_view_count": null,
            "_view_module_version": "1.5.0",
            "box_style": "",
            "layout": "IPY_MODEL_8334b71602db42f8bf7525a8d9849f28",
            "_model_module": "@jupyter-widgets/controls",
            "children": [
              "IPY_MODEL_d710c6f0dbf04497a7e0b00dde4d4503",
              "IPY_MODEL_49fef95be41645c8adfa7cb1abed71fd",
              "IPY_MODEL_43ed896edd21410abd7443c6e9e8616c"
            ]
          }
        },
        "8334b71602db42f8bf7525a8d9849f28": {
          "model_module": "@jupyter-widgets/base",
          "model_name": "LayoutModel",
          "state": {
            "_view_name": "LayoutView",
            "grid_template_rows": null,
            "right": null,
            "justify_content": null,
            "_view_module": "@jupyter-widgets/base",
            "overflow": null,
            "_model_module_version": "1.2.0",
            "_view_count": null,
            "flex_flow": "row wrap",
            "width": "100%",
            "min_width": null,
            "border": null,
            "align_items": null,
            "bottom": null,
            "_model_module": "@jupyter-widgets/base",
            "top": null,
            "grid_column": null,
            "overflow_y": null,
            "overflow_x": null,
            "grid_auto_flow": null,
            "grid_area": null,
            "grid_template_columns": null,
            "flex": null,
            "_model_name": "LayoutModel",
            "justify_items": null,
            "grid_row": null,
            "max_height": null,
            "align_content": null,
            "visibility": null,
            "align_self": null,
            "height": null,
            "min_height": null,
            "padding": null,
            "grid_auto_rows": null,
            "grid_gap": null,
            "max_width": null,
            "order": null,
            "_view_module_version": "1.2.0",
            "grid_template_areas": null,
            "object_position": null,
            "object_fit": null,
            "grid_auto_columns": null,
            "margin": null,
            "display": "inline-flex",
            "left": null
          }
        },
        "d710c6f0dbf04497a7e0b00dde4d4503": {
          "model_module": "@jupyter-widgets/controls",
          "model_name": "HTMLModel",
          "state": {
            "_view_name": "HTMLView",
            "style": "IPY_MODEL_5aef84724b5c4c6696a378a72424b4eb",
            "_dom_classes": [],
            "description": "",
            "_model_name": "HTMLModel",
            "placeholder": "​",
            "_view_module": "@jupyter-widgets/controls",
            "_model_module_version": "1.5.0",
            "value": "Done! Use &#x27;show&#x27; commands to display/save.   ",
            "_view_count": null,
            "_view_module_version": "1.5.0",
            "description_tooltip": null,
            "_model_module": "@jupyter-widgets/controls",
            "layout": "IPY_MODEL_f7631f1f58cd4107b70e7a7790093461"
          }
        },
        "49fef95be41645c8adfa7cb1abed71fd": {
          "model_module": "@jupyter-widgets/controls",
          "model_name": "FloatProgressModel",
          "state": {
            "_view_name": "ProgressView",
            "style": "IPY_MODEL_3160c7f9bf3b4453844e3f258cae97a6",
            "_dom_classes": [],
            "description": "",
            "_model_name": "FloatProgressModel",
            "bar_style": "success",
            "max": 1,
            "_view_module": "@jupyter-widgets/controls",
            "_model_module_version": "1.5.0",
            "value": 1,
            "_view_count": null,
            "_view_module_version": "1.5.0",
            "orientation": "horizontal",
            "min": 0,
            "description_tooltip": null,
            "_model_module": "@jupyter-widgets/controls",
            "layout": "IPY_MODEL_a13d3d878c534c87988687abe98b829d"
          }
        },
        "43ed896edd21410abd7443c6e9e8616c": {
          "model_module": "@jupyter-widgets/controls",
          "model_name": "HTMLModel",
          "state": {
            "_view_name": "HTMLView",
            "style": "IPY_MODEL_7282c60e005f441d918b168e30428a73",
            "_dom_classes": [],
            "description": "",
            "_model_name": "HTMLModel",
            "placeholder": "​",
            "_view_module": "@jupyter-widgets/controls",
            "_model_module_version": "1.5.0",
            "value": " [100%]   00:01 -&gt; (00:00 left)",
            "_view_count": null,
            "_view_module_version": "1.5.0",
            "description_tooltip": null,
            "_model_module": "@jupyter-widgets/controls",
            "layout": "IPY_MODEL_bfd9d4a13e994d76b5cf154b947b75e5"
          }
        },
        "5aef84724b5c4c6696a378a72424b4eb": {
          "model_module": "@jupyter-widgets/controls",
          "model_name": "DescriptionStyleModel",
          "state": {
            "_view_name": "StyleView",
            "_model_name": "DescriptionStyleModel",
            "description_width": "",
            "_view_module": "@jupyter-widgets/base",
            "_model_module_version": "1.5.0",
            "_view_count": null,
            "_view_module_version": "1.2.0",
            "_model_module": "@jupyter-widgets/controls"
          }
        },
        "f7631f1f58cd4107b70e7a7790093461": {
          "model_module": "@jupyter-widgets/base",
          "model_name": "LayoutModel",
          "state": {
            "_view_name": "LayoutView",
            "grid_template_rows": null,
            "right": null,
            "justify_content": null,
            "_view_module": "@jupyter-widgets/base",
            "overflow": null,
            "_model_module_version": "1.2.0",
            "_view_count": null,
            "flex_flow": null,
            "width": null,
            "min_width": null,
            "border": null,
            "align_items": null,
            "bottom": null,
            "_model_module": "@jupyter-widgets/base",
            "top": null,
            "grid_column": null,
            "overflow_y": null,
            "overflow_x": null,
            "grid_auto_flow": null,
            "grid_area": null,
            "grid_template_columns": null,
            "flex": null,
            "_model_name": "LayoutModel",
            "justify_items": null,
            "grid_row": null,
            "max_height": null,
            "align_content": null,
            "visibility": null,
            "align_self": null,
            "height": null,
            "min_height": null,
            "padding": null,
            "grid_auto_rows": null,
            "grid_gap": null,
            "max_width": null,
            "order": null,
            "_view_module_version": "1.2.0",
            "grid_template_areas": null,
            "object_position": null,
            "object_fit": null,
            "grid_auto_columns": null,
            "margin": null,
            "display": null,
            "left": null
          }
        },
        "3160c7f9bf3b4453844e3f258cae97a6": {
          "model_module": "@jupyter-widgets/controls",
          "model_name": "ProgressStyleModel",
          "state": {
            "_view_name": "StyleView",
            "_model_name": "ProgressStyleModel",
            "description_width": "",
            "_view_module": "@jupyter-widgets/base",
            "_model_module_version": "1.5.0",
            "_view_count": null,
            "_view_module_version": "1.2.0",
            "bar_color": null,
            "_model_module": "@jupyter-widgets/controls"
          }
        },
        "a13d3d878c534c87988687abe98b829d": {
          "model_module": "@jupyter-widgets/base",
          "model_name": "LayoutModel",
          "state": {
            "_view_name": "LayoutView",
            "grid_template_rows": null,
            "right": null,
            "justify_content": null,
            "_view_module": "@jupyter-widgets/base",
            "overflow": null,
            "_model_module_version": "1.2.0",
            "_view_count": null,
            "flex_flow": null,
            "width": null,
            "min_width": null,
            "border": null,
            "align_items": null,
            "bottom": null,
            "_model_module": "@jupyter-widgets/base",
            "top": null,
            "grid_column": null,
            "overflow_y": null,
            "overflow_x": null,
            "grid_auto_flow": null,
            "grid_area": null,
            "grid_template_columns": null,
            "flex": "2",
            "_model_name": "LayoutModel",
            "justify_items": null,
            "grid_row": null,
            "max_height": null,
            "align_content": null,
            "visibility": null,
            "align_self": null,
            "height": null,
            "min_height": null,
            "padding": null,
            "grid_auto_rows": null,
            "grid_gap": null,
            "max_width": null,
            "order": null,
            "_view_module_version": "1.2.0",
            "grid_template_areas": null,
            "object_position": null,
            "object_fit": null,
            "grid_auto_columns": null,
            "margin": null,
            "display": null,
            "left": null
          }
        },
        "7282c60e005f441d918b168e30428a73": {
          "model_module": "@jupyter-widgets/controls",
          "model_name": "DescriptionStyleModel",
          "state": {
            "_view_name": "StyleView",
            "_model_name": "DescriptionStyleModel",
            "description_width": "",
            "_view_module": "@jupyter-widgets/base",
            "_model_module_version": "1.5.0",
            "_view_count": null,
            "_view_module_version": "1.2.0",
            "_model_module": "@jupyter-widgets/controls"
          }
        },
        "bfd9d4a13e994d76b5cf154b947b75e5": {
          "model_module": "@jupyter-widgets/base",
          "model_name": "LayoutModel",
          "state": {
            "_view_name": "LayoutView",
            "grid_template_rows": null,
            "right": null,
            "justify_content": null,
            "_view_module": "@jupyter-widgets/base",
            "overflow": null,
            "_model_module_version": "1.2.0",
            "_view_count": null,
            "flex_flow": null,
            "width": null,
            "min_width": null,
            "border": null,
            "align_items": null,
            "bottom": null,
            "_model_module": "@jupyter-widgets/base",
            "top": null,
            "grid_column": null,
            "overflow_y": null,
            "overflow_x": null,
            "grid_auto_flow": null,
            "grid_area": null,
            "grid_template_columns": null,
            "flex": null,
            "_model_name": "LayoutModel",
            "justify_items": null,
            "grid_row": null,
            "max_height": null,
            "align_content": null,
            "visibility": null,
            "align_self": null,
            "height": null,
            "min_height": null,
            "padding": null,
            "grid_auto_rows": null,
            "grid_gap": null,
            "max_width": null,
            "order": null,
            "_view_module_version": "1.2.0",
            "grid_template_areas": null,
            "object_position": null,
            "object_fit": null,
            "grid_auto_columns": null,
            "margin": null,
            "display": null,
            "left": null
          }
        }
      }
    }
  },
  "cells": [
    {
      "cell_type": "markdown",
      "metadata": {
        "id": "FsRmTkUiGCxy"
      },
      "source": [
        "#Machine Learning - Regressão Linear"
      ]
    },
    {
      "cell_type": "markdown",
      "metadata": {
        "id": "pZSxYA0GjUf0"
      },
      "source": [
        "O objetivo deste projeto é prever, utilizando um algoritmo de Regressão Linear, os custos de plano de saúde de novos clientes (variável **charges**, ou custos) com base em informações obtidas de clientes anteriores (variáveis **ibm**, ou IMC, e **smoker**, ou fumante)"
      ]
    },
    {
      "cell_type": "markdown",
      "metadata": {
        "id": "A1XFW4a9kAqF"
      },
      "source": [
        "Para fazer uma previsão ou classificação utilizando Machine Learning, são necessários os seguintes elementos:\n",
        "\n",
        "\n",
        "*   Modelo: responsável por fazer a previsão da variável resposta com base nos dados das variáveis de entrada. Neste projeto: Regressão Linear\n",
        "*   Método de Validação: procedimento realizado a fim de estimar o desempenho do modelo, limitando seu acesso a todos os dados para evitar o Overfitting. Assim, garante que o modelo tenha capacidade de acertar previsões feitas com base em dados novos. Neste projeto: Holdout\n",
        "*   Métrica: valor que mensura o erro de previsão do modelo. Neste projeto: Erro Quadrático Médio\n",
        "\n"
      ]
    },
    {
      "cell_type": "code",
      "metadata": {
        "id": "yt-9V1ptIoh-"
      },
      "source": [
        "import pandas as pd\n",
        "import seaborn as sns\n",
        "from sklearn.model_selection import train_test_split\n",
        "from sklearn.linear_model import LinearRegression\n",
        "from sklearn.metrics import mean_squared_error\n",
        "import numpy as np\n",
        "import matplotlib.pyplot as plt"
      ],
      "execution_count": 1,
      "outputs": []
    },
    {
      "cell_type": "markdown",
      "metadata": {
        "id": "mv7juj5yF-Tq"
      },
      "source": [
        "##Overview: Conhecendo o Conjunto de Dados"
      ]
    },
    {
      "cell_type": "markdown",
      "metadata": {
        "id": "3OIpMODjOP93"
      },
      "source": [
        "Antes da análise exploratória dos dados, é preciso conhecer o conjunto de dados a ser manipulado. Isto é feito pela análise das variáveis e pela verificação de suas principais medidas descritivas"
      ]
    },
    {
      "cell_type": "code",
      "metadata": {
        "id": "Gv4kg1qtFdIA"
      },
      "source": [
        "url = 'https://raw.githubusercontent.com/roberta-helena/projetos_estudo/main/datasets/medicalcosts.csv'\n",
        "\n",
        "dados = pd.read_csv(url)"
      ],
      "execution_count": 2,
      "outputs": []
    },
    {
      "cell_type": "markdown",
      "metadata": {
        "id": "VYxlBCxaOztZ"
      },
      "source": [
        "A análise das variáveis acontece quando identificamos seu nome e seu tipo, o que nos indica qual a informação que ela contém"
      ]
    },
    {
      "cell_type": "code",
      "metadata": {
        "colab": {
          "base_uri": "https://localhost:8080/",
          "height": 204
        },
        "id": "VYHSpCY1F5En",
        "outputId": "a3c3377b-5e47-4cd3-b28c-64004c725156"
      },
      "source": [
        "dados.head()"
      ],
      "execution_count": 3,
      "outputs": [
        {
          "output_type": "execute_result",
          "data": {
            "text/html": [
              "<div>\n",
              "<style scoped>\n",
              "    .dataframe tbody tr th:only-of-type {\n",
              "        vertical-align: middle;\n",
              "    }\n",
              "\n",
              "    .dataframe tbody tr th {\n",
              "        vertical-align: top;\n",
              "    }\n",
              "\n",
              "    .dataframe thead th {\n",
              "        text-align: right;\n",
              "    }\n",
              "</style>\n",
              "<table border=\"1\" class=\"dataframe\">\n",
              "  <thead>\n",
              "    <tr style=\"text-align: right;\">\n",
              "      <th></th>\n",
              "      <th>age</th>\n",
              "      <th>sex</th>\n",
              "      <th>bmi</th>\n",
              "      <th>children</th>\n",
              "      <th>smoker</th>\n",
              "      <th>region</th>\n",
              "      <th>charges</th>\n",
              "    </tr>\n",
              "  </thead>\n",
              "  <tbody>\n",
              "    <tr>\n",
              "      <th>0</th>\n",
              "      <td>19</td>\n",
              "      <td>female</td>\n",
              "      <td>27.900</td>\n",
              "      <td>0</td>\n",
              "      <td>yes</td>\n",
              "      <td>southwest</td>\n",
              "      <td>16884.92400</td>\n",
              "    </tr>\n",
              "    <tr>\n",
              "      <th>1</th>\n",
              "      <td>18</td>\n",
              "      <td>male</td>\n",
              "      <td>33.770</td>\n",
              "      <td>1</td>\n",
              "      <td>no</td>\n",
              "      <td>southeast</td>\n",
              "      <td>1725.55230</td>\n",
              "    </tr>\n",
              "    <tr>\n",
              "      <th>2</th>\n",
              "      <td>28</td>\n",
              "      <td>male</td>\n",
              "      <td>33.000</td>\n",
              "      <td>3</td>\n",
              "      <td>no</td>\n",
              "      <td>southeast</td>\n",
              "      <td>4449.46200</td>\n",
              "    </tr>\n",
              "    <tr>\n",
              "      <th>3</th>\n",
              "      <td>33</td>\n",
              "      <td>male</td>\n",
              "      <td>22.705</td>\n",
              "      <td>0</td>\n",
              "      <td>no</td>\n",
              "      <td>northwest</td>\n",
              "      <td>21984.47061</td>\n",
              "    </tr>\n",
              "    <tr>\n",
              "      <th>4</th>\n",
              "      <td>32</td>\n",
              "      <td>male</td>\n",
              "      <td>28.880</td>\n",
              "      <td>0</td>\n",
              "      <td>no</td>\n",
              "      <td>northwest</td>\n",
              "      <td>3866.85520</td>\n",
              "    </tr>\n",
              "  </tbody>\n",
              "</table>\n",
              "</div>"
            ],
            "text/plain": [
              "   age     sex     bmi  children smoker     region      charges\n",
              "0   19  female  27.900         0    yes  southwest  16884.92400\n",
              "1   18    male  33.770         1     no  southeast   1725.55230\n",
              "2   28    male  33.000         3     no  southeast   4449.46200\n",
              "3   33    male  22.705         0     no  northwest  21984.47061\n",
              "4   32    male  28.880         0     no  northwest   3866.85520"
            ]
          },
          "metadata": {
            "tags": []
          },
          "execution_count": 3
        }
      ]
    },
    {
      "cell_type": "code",
      "metadata": {
        "colab": {
          "base_uri": "https://localhost:8080/"
        },
        "id": "loSR9i_TF6zL",
        "outputId": "75130971-2030-4610-ae4a-3a522843634f"
      },
      "source": [
        "dados.info()"
      ],
      "execution_count": 4,
      "outputs": [
        {
          "output_type": "stream",
          "text": [
            "<class 'pandas.core.frame.DataFrame'>\n",
            "RangeIndex: 1338 entries, 0 to 1337\n",
            "Data columns (total 7 columns):\n",
            " #   Column    Non-Null Count  Dtype  \n",
            "---  ------    --------------  -----  \n",
            " 0   age       1338 non-null   int64  \n",
            " 1   sex       1338 non-null   object \n",
            " 2   bmi       1338 non-null   float64\n",
            " 3   children  1338 non-null   int64  \n",
            " 4   smoker    1338 non-null   object \n",
            " 5   region    1338 non-null   object \n",
            " 6   charges   1338 non-null   float64\n",
            "dtypes: float64(2), int64(2), object(3)\n",
            "memory usage: 73.3+ KB\n"
          ],
          "name": "stdout"
        }
      ]
    },
    {
      "cell_type": "markdown",
      "metadata": {
        "id": "MfQiz9zcP_6k"
      },
      "source": [
        "Já as medidas descritivas nos mostram de forma resumida as principais características dos dados, nos indicando também como eles estão distribuídos. Podemos verificar dados faltantes comparando a contagem das variáveis com o número de linhas totais entregue pelo shape, a amplitude pelos valores mínimo e máximo, e ter uma ideia sobre a assimetria da distribuição pela diferença entre a média e a mediana"
      ]
    },
    {
      "cell_type": "code",
      "metadata": {
        "colab": {
          "base_uri": "https://localhost:8080/"
        },
        "id": "M3InRYpDGVJ0",
        "outputId": "7b106fff-95db-49b5-e64e-24d7f6bdc3ae"
      },
      "source": [
        "dados.shape"
      ],
      "execution_count": 5,
      "outputs": [
        {
          "output_type": "execute_result",
          "data": {
            "text/plain": [
              "(1338, 7)"
            ]
          },
          "metadata": {
            "tags": []
          },
          "execution_count": 5
        }
      ]
    },
    {
      "cell_type": "code",
      "metadata": {
        "colab": {
          "base_uri": "https://localhost:8080/",
          "height": 297
        },
        "id": "aLN8hwzHGV9C",
        "outputId": "fdbd63fd-db1a-46b7-89f7-12235799b285"
      },
      "source": [
        "dados.describe()"
      ],
      "execution_count": 6,
      "outputs": [
        {
          "output_type": "execute_result",
          "data": {
            "text/html": [
              "<div>\n",
              "<style scoped>\n",
              "    .dataframe tbody tr th:only-of-type {\n",
              "        vertical-align: middle;\n",
              "    }\n",
              "\n",
              "    .dataframe tbody tr th {\n",
              "        vertical-align: top;\n",
              "    }\n",
              "\n",
              "    .dataframe thead th {\n",
              "        text-align: right;\n",
              "    }\n",
              "</style>\n",
              "<table border=\"1\" class=\"dataframe\">\n",
              "  <thead>\n",
              "    <tr style=\"text-align: right;\">\n",
              "      <th></th>\n",
              "      <th>age</th>\n",
              "      <th>bmi</th>\n",
              "      <th>children</th>\n",
              "      <th>charges</th>\n",
              "    </tr>\n",
              "  </thead>\n",
              "  <tbody>\n",
              "    <tr>\n",
              "      <th>count</th>\n",
              "      <td>1338.000000</td>\n",
              "      <td>1338.000000</td>\n",
              "      <td>1338.000000</td>\n",
              "      <td>1338.000000</td>\n",
              "    </tr>\n",
              "    <tr>\n",
              "      <th>mean</th>\n",
              "      <td>39.207025</td>\n",
              "      <td>30.663397</td>\n",
              "      <td>1.094918</td>\n",
              "      <td>13270.422265</td>\n",
              "    </tr>\n",
              "    <tr>\n",
              "      <th>std</th>\n",
              "      <td>14.049960</td>\n",
              "      <td>6.098187</td>\n",
              "      <td>1.205493</td>\n",
              "      <td>12110.011237</td>\n",
              "    </tr>\n",
              "    <tr>\n",
              "      <th>min</th>\n",
              "      <td>18.000000</td>\n",
              "      <td>15.960000</td>\n",
              "      <td>0.000000</td>\n",
              "      <td>1121.873900</td>\n",
              "    </tr>\n",
              "    <tr>\n",
              "      <th>25%</th>\n",
              "      <td>27.000000</td>\n",
              "      <td>26.296250</td>\n",
              "      <td>0.000000</td>\n",
              "      <td>4740.287150</td>\n",
              "    </tr>\n",
              "    <tr>\n",
              "      <th>50%</th>\n",
              "      <td>39.000000</td>\n",
              "      <td>30.400000</td>\n",
              "      <td>1.000000</td>\n",
              "      <td>9382.033000</td>\n",
              "    </tr>\n",
              "    <tr>\n",
              "      <th>75%</th>\n",
              "      <td>51.000000</td>\n",
              "      <td>34.693750</td>\n",
              "      <td>2.000000</td>\n",
              "      <td>16639.912515</td>\n",
              "    </tr>\n",
              "    <tr>\n",
              "      <th>max</th>\n",
              "      <td>64.000000</td>\n",
              "      <td>53.130000</td>\n",
              "      <td>5.000000</td>\n",
              "      <td>63770.428010</td>\n",
              "    </tr>\n",
              "  </tbody>\n",
              "</table>\n",
              "</div>"
            ],
            "text/plain": [
              "               age          bmi     children       charges\n",
              "count  1338.000000  1338.000000  1338.000000   1338.000000\n",
              "mean     39.207025    30.663397     1.094918  13270.422265\n",
              "std      14.049960     6.098187     1.205493  12110.011237\n",
              "min      18.000000    15.960000     0.000000   1121.873900\n",
              "25%      27.000000    26.296250     0.000000   4740.287150\n",
              "50%      39.000000    30.400000     1.000000   9382.033000\n",
              "75%      51.000000    34.693750     2.000000  16639.912515\n",
              "max      64.000000    53.130000     5.000000  63770.428010"
            ]
          },
          "metadata": {
            "tags": []
          },
          "execution_count": 6
        }
      ]
    },
    {
      "cell_type": "markdown",
      "metadata": {
        "id": "avwEDf5tGY4G"
      },
      "source": [
        "##Análise Exploratória de Dados com SweetViz"
      ]
    },
    {
      "cell_type": "markdown",
      "metadata": {
        "id": "3ng7db5vTqRL"
      },
      "source": [
        "Sweetviz é uma biblioteca que constrói de forma automática gráficos referentes a cada variável do conjunto, permitindo uma análise preliminar rápida dos dados"
      ]
    },
    {
      "cell_type": "code",
      "metadata": {
        "id": "3h9tv-Zxk3TH",
        "colab": {
          "base_uri": "https://localhost:8080/"
        },
        "outputId": "dc303668-4a70-48f6-e46b-628c9ca99e60"
      },
      "source": [
        "!pip install Sweetviz"
      ],
      "execution_count": 7,
      "outputs": [
        {
          "output_type": "stream",
          "text": [
            "Collecting Sweetviz\n",
            "\u001b[?25l  Downloading https://files.pythonhosted.org/packages/e6/06/f7341e6dc3fae77962855001cd1c1a6a73e3f094ffba2039b4dafe66c751/sweetviz-2.1.2-py3-none-any.whl (15.1MB)\n",
            "\u001b[K     |████████████████████████████████| 15.1MB 1.9MB/s \n",
            "\u001b[?25hRequirement already satisfied: scipy>=1.3.2 in /usr/local/lib/python3.7/dist-packages (from Sweetviz) (1.4.1)\n",
            "Requirement already satisfied: importlib-resources>=1.2.0 in /usr/local/lib/python3.7/dist-packages (from Sweetviz) (5.1.3)\n",
            "Requirement already satisfied: jinja2>=2.11.1 in /usr/local/lib/python3.7/dist-packages (from Sweetviz) (2.11.3)\n",
            "Collecting tqdm>=4.43.0\n",
            "\u001b[?25l  Downloading https://files.pythonhosted.org/packages/42/d7/f357d98e9b50346bcb6095fe3ad205d8db3174eb5edb03edfe7c4099576d/tqdm-4.61.0-py2.py3-none-any.whl (75kB)\n",
            "\u001b[K     |████████████████████████████████| 81kB 8.4MB/s \n",
            "\u001b[?25hRequirement already satisfied: numpy>=1.16.0 in /usr/local/lib/python3.7/dist-packages (from Sweetviz) (1.19.5)\n",
            "Requirement already satisfied: matplotlib>=3.1.3 in /usr/local/lib/python3.7/dist-packages (from Sweetviz) (3.2.2)\n",
            "Requirement already satisfied: pandas!=1.0.0,!=1.0.1,!=1.0.2,>=0.25.3 in /usr/local/lib/python3.7/dist-packages (from Sweetviz) (1.1.5)\n",
            "Requirement already satisfied: zipp>=0.4; python_version < \"3.8\" in /usr/local/lib/python3.7/dist-packages (from importlib-resources>=1.2.0->Sweetviz) (3.4.1)\n",
            "Requirement already satisfied: MarkupSafe>=0.23 in /usr/local/lib/python3.7/dist-packages (from jinja2>=2.11.1->Sweetviz) (2.0.1)\n",
            "Requirement already satisfied: kiwisolver>=1.0.1 in /usr/local/lib/python3.7/dist-packages (from matplotlib>=3.1.3->Sweetviz) (1.3.1)\n",
            "Requirement already satisfied: pyparsing!=2.0.4,!=2.1.2,!=2.1.6,>=2.0.1 in /usr/local/lib/python3.7/dist-packages (from matplotlib>=3.1.3->Sweetviz) (2.4.7)\n",
            "Requirement already satisfied: python-dateutil>=2.1 in /usr/local/lib/python3.7/dist-packages (from matplotlib>=3.1.3->Sweetviz) (2.8.1)\n",
            "Requirement already satisfied: cycler>=0.10 in /usr/local/lib/python3.7/dist-packages (from matplotlib>=3.1.3->Sweetviz) (0.10.0)\n",
            "Requirement already satisfied: pytz>=2017.2 in /usr/local/lib/python3.7/dist-packages (from pandas!=1.0.0,!=1.0.1,!=1.0.2,>=0.25.3->Sweetviz) (2018.9)\n",
            "Requirement already satisfied: six>=1.5 in /usr/local/lib/python3.7/dist-packages (from python-dateutil>=2.1->matplotlib>=3.1.3->Sweetviz) (1.15.0)\n",
            "Installing collected packages: tqdm, Sweetviz\n",
            "  Found existing installation: tqdm 4.41.1\n",
            "    Uninstalling tqdm-4.41.1:\n",
            "      Successfully uninstalled tqdm-4.41.1\n",
            "Successfully installed Sweetviz-2.1.2 tqdm-4.61.0\n"
          ],
          "name": "stdout"
        }
      ]
    },
    {
      "cell_type": "code",
      "metadata": {
        "id": "pwKmKFu1Gl4t"
      },
      "source": [
        "import sweetviz"
      ],
      "execution_count": 8,
      "outputs": []
    },
    {
      "cell_type": "markdown",
      "metadata": {
        "id": "8LGW2MEjGqvX"
      },
      "source": [
        "###Análise Univariada"
      ]
    },
    {
      "cell_type": "code",
      "metadata": {
        "id": "rrWhiJZwG309",
        "colab": {
          "base_uri": "https://localhost:8080/",
          "height": 86,
          "referenced_widgets": [
            "692403d7c6114a219b01e346d0e290cc",
            "b5f1decafbd345ac8b20ee4d8e02fc23",
            "dff20327faf34fdf9cc19536de2d5f5d",
            "f4aff71961634e178cddb025dd4131a4",
            "f41dccdb2b5047dfa8916f904dd6b1a8",
            "3995c1559e49423aa1aeb2a6701335da",
            "1e08090fd5184fef892b00b013b39daa",
            "136fd8130e4445dbbf77fbc9d83c3963",
            "adf09979cec74d7093f3aa290bed2223",
            "7f8ad4cc38e249c4adf055193aaa00fb",
            "254be65926b54df5a093bdfa66a509a8"
          ]
        },
        "outputId": "704b9003-8865-44fc-9323-193382849643"
      },
      "source": [
        "eda = sweetviz.analyze(dados)\n",
        "eda.show_html(filepath = 'Relatorio_Univariado.html')"
      ],
      "execution_count": 9,
      "outputs": [
        {
          "output_type": "display_data",
          "data": {
            "application/vnd.jupyter.widget-view+json": {
              "model_id": "692403d7c6114a219b01e346d0e290cc",
              "version_minor": 0,
              "version_major": 2
            },
            "text/plain": [
              "                                             |          | [  0%]   00:00 -> (? left)"
            ]
          },
          "metadata": {
            "tags": []
          }
        },
        {
          "output_type": "stream",
          "text": [
            "Report Relatorio_Univariado.html was generated! NOTEBOOK/COLAB USERS: the web browser MAY not pop up, regardless, the report IS saved in your notebook/colab files.\n"
          ],
          "name": "stdout"
        }
      ]
    },
    {
      "cell_type": "markdown",
      "metadata": {
        "id": "lCv5f2mAG5Lp"
      },
      "source": [
        "###Análise Bivariada"
      ]
    },
    {
      "cell_type": "markdown",
      "metadata": {
        "id": "OcZUbCe3U9FS"
      },
      "source": [
        "Colocando a variável charges como o alvo da análise, observamos como as demais variáveis impactam em seu valor "
      ]
    },
    {
      "cell_type": "code",
      "metadata": {
        "id": "3h9sLqepG7md",
        "colab": {
          "base_uri": "https://localhost:8080/",
          "height": 86,
          "referenced_widgets": [
            "84f35d5ae1104a34b452b549b42d6bed",
            "244ea4e1dbe44f69b10c9b243ea3c5b7",
            "ee3028b2f751466db592a25474c4bead",
            "647e38bd1dcc4dd8a13f3179d76786f4",
            "acb9c203af574e9b8b204f3b5cd3bd6c",
            "a7ee5ccc7ae2419a97aae70abab65cb6",
            "59a3554c929c443581532475f4cdaaf3",
            "b65721ac907b47cfa96c540e45141936",
            "227a170b789240b094b106ad15766caa",
            "c2573bf943cc4a3087f89e447f1f3001",
            "7e91735959f2491194e403e6a0b1ae50"
          ]
        },
        "outputId": "cd8312ef-b61c-4155-ab16-2c2f0091cccc"
      },
      "source": [
        "eda2 = sweetviz.analyze(dados, target_feat = 'charges')\n",
        "eda2.show_html(filepath = 'Relatorio_Bivariado.html')"
      ],
      "execution_count": 10,
      "outputs": [
        {
          "output_type": "display_data",
          "data": {
            "application/vnd.jupyter.widget-view+json": {
              "model_id": "84f35d5ae1104a34b452b549b42d6bed",
              "version_minor": 0,
              "version_major": 2
            },
            "text/plain": [
              "                                             |          | [  0%]   00:00 -> (? left)"
            ]
          },
          "metadata": {
            "tags": []
          }
        },
        {
          "output_type": "stream",
          "text": [
            "Report Relatorio_Bivariado.html was generated! NOTEBOOK/COLAB USERS: the web browser MAY not pop up, regardless, the report IS saved in your notebook/colab files.\n"
          ],
          "name": "stdout"
        }
      ]
    },
    {
      "cell_type": "markdown",
      "metadata": {
        "id": "fvWzxKhDVbIY"
      },
      "source": [
        "Como a análise bivariada mostrou a importância da variável **smoker** no valor de **charges**, comparamos o perfil de fumantes e não fumantes"
      ]
    },
    {
      "cell_type": "code",
      "metadata": {
        "id": "coo1KEv1HC5W",
        "colab": {
          "base_uri": "https://localhost:8080/",
          "height": 86,
          "referenced_widgets": [
            "0dedd01426324a1c80d7a228bbacc1f4",
            "8334b71602db42f8bf7525a8d9849f28",
            "d710c6f0dbf04497a7e0b00dde4d4503",
            "49fef95be41645c8adfa7cb1abed71fd",
            "43ed896edd21410abd7443c6e9e8616c",
            "5aef84724b5c4c6696a378a72424b4eb",
            "f7631f1f58cd4107b70e7a7790093461",
            "3160c7f9bf3b4453844e3f258cae97a6",
            "a13d3d878c534c87988687abe98b829d",
            "7282c60e005f441d918b168e30428a73",
            "bfd9d4a13e994d76b5cf154b947b75e5"
          ]
        },
        "outputId": "badeb170-56fb-4c61-cee8-4a30bfb97ee4"
      },
      "source": [
        "eda3 = sweetviz.compare_intra(dados, dados['smoker'] == 'yes', ['Fumante','Não Fumante'])\n",
        "eda3.show_html(filepath = 'Relatorio_Bivariado1.html')"
      ],
      "execution_count": 11,
      "outputs": [
        {
          "output_type": "display_data",
          "data": {
            "application/vnd.jupyter.widget-view+json": {
              "model_id": "0dedd01426324a1c80d7a228bbacc1f4",
              "version_minor": 0,
              "version_major": 2
            },
            "text/plain": [
              "                                             |          | [  0%]   00:00 -> (? left)"
            ]
          },
          "metadata": {
            "tags": []
          }
        },
        {
          "output_type": "stream",
          "text": [
            "Report Relatorio_Bivariado1.html was generated! NOTEBOOK/COLAB USERS: the web browser MAY not pop up, regardless, the report IS saved in your notebook/colab files.\n"
          ],
          "name": "stdout"
        }
      ]
    },
    {
      "cell_type": "markdown",
      "metadata": {
        "id": "h9mz5yCaHEYp"
      },
      "source": [
        "##Pré-Processamento dos Dados"
      ]
    },
    {
      "cell_type": "markdown",
      "metadata": {
        "id": "sFU7EfDFgtnh"
      },
      "source": [
        "Para fazermos uma boa previsão é preciso alimentar o modelo com dados de boa qualidade, ou seja, processados de modo a viabilizar ou otimizar sua utilização pelo algoritmo"
      ]
    },
    {
      "cell_type": "markdown",
      "metadata": {
        "id": "3kGa7-tRWEPj"
      },
      "source": [
        "Como o algoritmo de machine learning cria uma função matemática para fazer sua previsão, todas as variáveis a serem utilizadas precisam ser números. Neste caso, transformamos a variável **smoker** em binária, alocando 0 para no e 1 para yes"
      ]
    },
    {
      "cell_type": "code",
      "metadata": {
        "id": "hnPqRkNKHHom"
      },
      "source": [
        "dados['smoker'] = dados['smoker'].map({'yes':1, 'no':0})"
      ],
      "execution_count": 12,
      "outputs": []
    },
    {
      "cell_type": "markdown",
      "metadata": {
        "id": "757nLOUWWcds"
      },
      "source": [
        "Ao analisar os dados com describe, verificou-se que o desvio padrão de **charges** está muito alto, logo os dados estão muito dispersos. Diminuir seu intervalo ajuda a diminuir o erro quadrático médio e a interpretar melhor os dados. Por isso, a escala da variável foi alterada para cada mil dólares"
      ]
    },
    {
      "cell_type": "code",
      "metadata": {
        "id": "LyEL5zMPHJJh"
      },
      "source": [
        "dados['charges'] = dados['charges']/1000"
      ],
      "execution_count": 13,
      "outputs": []
    },
    {
      "cell_type": "markdown",
      "metadata": {
        "id": "8nM9Iid3V6Cc"
      },
      "source": [
        "Selecionamos, por fim, quais as variáveis que vão compor nosso novo conjunto de dados"
      ]
    },
    {
      "cell_type": "code",
      "metadata": {
        "id": "tP4y8fxRHKjR"
      },
      "source": [
        "dados = dados[['bmi', 'smoker', 'charges']]"
      ],
      "execution_count": 14,
      "outputs": []
    },
    {
      "cell_type": "markdown",
      "metadata": {
        "id": "6UCzf9upHMlR"
      },
      "source": [
        "##Gráficos Pertinentes"
      ]
    },
    {
      "cell_type": "markdown",
      "metadata": {
        "id": "pfQhpdGaWx4q"
      },
      "source": [
        "Ainda no contexto da análise dos dados, buscamos entender as relações entre as variáveis com o uso de gráficos"
      ]
    },
    {
      "cell_type": "markdown",
      "metadata": {
        "id": "VXCJhUCsXKkD"
      },
      "source": [
        "Gráfico de dispersão verificando a relação entre a variável **bmi** e a variável resposta **charges**"
      ]
    },
    {
      "cell_type": "code",
      "metadata": {
        "id": "7oNdEJVpHXmw",
        "colab": {
          "base_uri": "https://localhost:8080/",
          "height": 378
        },
        "outputId": "847f4edd-284c-44a7-8c53-b7f578760556"
      },
      "source": [
        "sns.scatterplot(x = 'bmi', y = 'charges', data = dados);"
      ],
      "execution_count": 15,
      "outputs": [
        {
          "output_type": "display_data",
          "data": {
            "image/png": "[encoded data removed]",
            "text/plain": [
              "<Figure size 600x400 with 1 Axes>"
            ]
          },
          "metadata": {
            "tags": []
          }
        }
      ]
    },
    {
      "cell_type": "markdown",
      "metadata": {
        "id": "K9-Or46ZXVq8"
      },
      "source": [
        "Como a variável **smoker** foi identificada como importante para a alteração da variável resposta, refazemos o gráfico de dispersão acima a adicionando à análise"
      ]
    },
    {
      "cell_type": "code",
      "metadata": {
        "id": "UY5B47NHHYuG",
        "colab": {
          "base_uri": "https://localhost:8080/",
          "height": 378
        },
        "outputId": "aded4cad-404c-4391-9fa5-7eebb2fb7315"
      },
      "source": [
        "sns.scatterplot(x = 'bmi', y = 'charges', hue = 'smoker', data = dados);"
      ],
      "execution_count": 16,
      "outputs": [
        {
          "output_type": "display_data",
          "data": {
            "image/png": "[encoded data removed]",
            "text/plain": [
              "<Figure size 600x400 with 1 Axes>"
            ]
          },
          "metadata": {
            "tags": []
          }
        }
      ]
    },
    {
      "cell_type": "markdown",
      "metadata": {
        "id": "69czTTTJcHiu"
      },
      "source": [
        "#Fazendo a Previsão"
      ]
    },
    {
      "cell_type": "markdown",
      "metadata": {
        "id": "OKi_izsycM-D"
      },
      "source": [
        "Para fazer a previsão desejada, o valor da variável **charges**, vamos considerar dois cenários distintos. No primeiro deles, utilizaremos apenas a variável **bmi**. Já no segundo, utilizaremos além de **bmi** a variável **smoker**, identificada durante a análise como pertinente para o valor de **charges**"
      ]
    },
    {
      "cell_type": "markdown",
      "metadata": {
        "id": "IC5rQxjbHa_s"
      },
      "source": [
        "##Cenário 1: Considerando Apenas a Variável **bmi**"
      ]
    },
    {
      "cell_type": "markdown",
      "metadata": {
        "id": "3KpBPdDnYDL5"
      },
      "source": [
        "O primeiro cenário a ser considerado é a previsão do custo a partir apenas da variável **bmi**"
      ]
    },
    {
      "cell_type": "markdown",
      "metadata": {
        "id": "CbepM8NWd9uX"
      },
      "source": [
        "DEFINIÇÃO DE VARIÁVEIS"
      ]
    },
    {
      "cell_type": "markdown",
      "metadata": {
        "id": "UK-j4px9alCK"
      },
      "source": [
        "Definimos quais as variáveis explicativas X (neste cenário apenas **bmi**) serão usadas para encontrar a variável resposta y (neste projeto, **charges**)"
      ]
    },
    {
      "cell_type": "code",
      "metadata": {
        "id": "SJzVVBJGHnuO"
      },
      "source": [
        "X = dados['bmi'].values.reshape(-1,1)\n",
        "y = dados['charges']"
      ],
      "execution_count": 17,
      "outputs": []
    },
    {
      "cell_type": "markdown",
      "metadata": {
        "id": "mc8j96xNeDtW"
      },
      "source": [
        "AVALIAÇÂO DO MODELO"
      ]
    },
    {
      "cell_type": "markdown",
      "metadata": {
        "id": "KZGbvSWYiXg8"
      },
      "source": [
        "Uma vez definidas as variáveis, usamos o método de validação para avaliar o desempenho do modelo. Neste projeto, será utilizado o método de validação Holdout, que separa o conjunto de dados em dados de treino e dados de teste"
      ]
    },
    {
      "cell_type": "code",
      "metadata": {
        "id": "vzjsV1-7Hrep"
      },
      "source": [
        "Xtreino, Xteste, ytreino, yteste = train_test_split(X, y, test_size = 0.25)"
      ],
      "execution_count": 18,
      "outputs": []
    },
    {
      "cell_type": "markdown",
      "metadata": {
        "id": "FlQxD-iIbbUP"
      },
      "source": [
        "Os dados de treino são usados para ajustar o modelo de machine learning, que neste projeto é a Regressão Linear"
      ]
    },
    {
      "cell_type": "code",
      "metadata": {
        "id": "ACNedP8lHtjy",
        "colab": {
          "base_uri": "https://localhost:8080/"
        },
        "outputId": "7ee3bc10-4d16-42cb-b560-921948572a51"
      },
      "source": [
        "reg = LinearRegression()\n",
        "reg.fit(Xtreino, ytreino)"
      ],
      "execution_count": 19,
      "outputs": [
        {
          "output_type": "execute_result",
          "data": {
            "text/plain": [
              "LinearRegression(copy_X=True, fit_intercept=True, n_jobs=None, normalize=False)"
            ]
          },
          "metadata": {
            "tags": []
          },
          "execution_count": 19
        }
      ]
    },
    {
      "cell_type": "markdown",
      "metadata": {
        "id": "I0nI3NHNbmYJ"
      },
      "source": [
        "Já os dados de teste são usados para avaliar os erros do modelo. Usando o X alocado para teste, usa-se o modelo ajustado para prever quais serão as variáveis resposta y correspondentes"
      ]
    },
    {
      "cell_type": "code",
      "metadata": {
        "id": "uGOOSKflHvph"
      },
      "source": [
        "preditos = reg.predict(Xteste)"
      ],
      "execution_count": 20,
      "outputs": []
    },
    {
      "cell_type": "markdown",
      "metadata": {
        "id": "6AAlk5LXikMp"
      },
      "source": [
        "Depois, por meio da métrica, comparamos a previsão feita pelo do modelo aos valores reais que y assume. Neste projeto, usamos a métrica do Erro Quadrático Médio"
      ]
    },
    {
      "cell_type": "code",
      "metadata": {
        "id": "J_jLlFcGHxUp",
        "colab": {
          "base_uri": "https://localhost:8080/"
        },
        "outputId": "f5da368b-1708-4307-d03d-03d98a363125"
      },
      "source": [
        "eqm = mean_squared_error(yteste, preditos)\n",
        "print(f'EQM: {eqm:.2f}')"
      ],
      "execution_count": 21,
      "outputs": [
        {
          "output_type": "stream",
          "text": [
            "EQM: 154.98\n"
          ],
          "name": "stdout"
        }
      ]
    },
    {
      "cell_type": "markdown",
      "metadata": {
        "id": "ylQLcniJeK75"
      },
      "source": [
        "REPRESENTAÇÃO GRÁFICA DO MODELO"
      ]
    },
    {
      "cell_type": "markdown",
      "metadata": {
        "id": "GSCC9rN1cX8n"
      },
      "source": [
        "Para traçar o gráfico do modelo, é preciso encontrar os coeficientes da função que modela a Regressão Linear: $$charges = B0 + B1*bmi$$"
      ]
    },
    {
      "cell_type": "code",
      "metadata": {
        "id": "bFcdY9KRH0qx",
        "colab": {
          "base_uri": "https://localhost:8080/"
        },
        "outputId": "b0486db4-d1a9-4170-a546-c62c5c162d3f"
      },
      "source": [
        "b0 = reg.intercept_\n",
        "b1 = reg.coef_\n",
        "\n",
        "print('Intercepto:\\n', b0)\n",
        "print('Coeficientes:\\n', b1)"
      ],
      "execution_count": 22,
      "outputs": [
        {
          "output_type": "stream",
          "text": [
            "Intercepto:\n",
            " 2.0425976233516696\n",
            "Coeficientes:\n",
            " [0.35916317]\n"
          ],
          "name": "stdout"
        }
      ]
    },
    {
      "cell_type": "code",
      "metadata": {
        "id": "sZ7jlFjTH1-x",
        "colab": {
          "base_uri": "https://localhost:8080/",
          "height": 398
        },
        "outputId": "7d6506c6-d6ff-4e6d-bf9d-d11ca204f8de"
      },
      "source": [
        "x = np.arange(15, 55, 0.01)\n",
        "y0 = b0+b1*X\n",
        "\n",
        "sns.scatterplot(x = 'bmi', y = 'charges', data = dados);\n",
        "plt.plot(X, y0, color = 'blue')\n",
        "plt.title('Reta de Regressão')\n",
        "plt.xlabel('IMC')\n",
        "plt.ylabel('Custos')\n",
        "plt.show()"
      ],
      "execution_count": 23,
      "outputs": [
        {
          "output_type": "display_data",
          "data": {
            "image/png": "[encoded data removed]",
            "text/plain": [
              "<Figure size 600x400 with 1 Axes>"
            ]
          },
          "metadata": {
            "tags": []
          }
        }
      ]
    },
    {
      "cell_type": "markdown",
      "metadata": {
        "id": "1UpPsM7HH4BS"
      },
      "source": [
        "## Cenário 2: Considerando as Variáveis **bmi** e **smoker**"
      ]
    },
    {
      "cell_type": "markdown",
      "metadata": {
        "id": "qj3Rukf0diIj"
      },
      "source": [
        "Para o segundo cenário, que utiliza as variáveis **bmi** e **smoker** como variáveis explicativas para prever a variável resposta **charges**, são feitos os mesmos procedimentos do Cenário 1"
      ]
    },
    {
      "cell_type": "markdown",
      "metadata": {
        "id": "5j9cFMuedyQZ"
      },
      "source": [
        "DEFINIÇÃO DE VARIÁVEIS"
      ]
    },
    {
      "cell_type": "code",
      "metadata": {
        "id": "JCZr97T_H8eC"
      },
      "source": [
        "X = dados[['bmi', 'smoker']]\n",
        "y = dados ['charges']"
      ],
      "execution_count": 24,
      "outputs": []
    },
    {
      "cell_type": "markdown",
      "metadata": {
        "id": "L1RTkV5cdTgD"
      },
      "source": [
        "AVALIAÇÂO DO MODELO"
      ]
    },
    {
      "cell_type": "code",
      "metadata": {
        "id": "58TUFRq7H9uc"
      },
      "source": [
        "Xtreino, Xteste, ytreino, yteste = train_test_split(X, y, test_size = 0.25)"
      ],
      "execution_count": 25,
      "outputs": []
    },
    {
      "cell_type": "code",
      "metadata": {
        "id": "wSFKVs9tH_Sj",
        "colab": {
          "base_uri": "https://localhost:8080/"
        },
        "outputId": "76f92389-bb51-4bee-9d98-92f6050369ef"
      },
      "source": [
        "reg = LinearRegression()\n",
        "reg.fit(Xtreino, ytreino)"
      ],
      "execution_count": 26,
      "outputs": [
        {
          "output_type": "execute_result",
          "data": {
            "text/plain": [
              "LinearRegression(copy_X=True, fit_intercept=True, n_jobs=None, normalize=False)"
            ]
          },
          "metadata": {
            "tags": []
          },
          "execution_count": 26
        }
      ]
    },
    {
      "cell_type": "code",
      "metadata": {
        "id": "Nt3LeHgXIAwt"
      },
      "source": [
        "preditos = reg.predict(Xteste)"
      ],
      "execution_count": 27,
      "outputs": []
    },
    {
      "cell_type": "code",
      "metadata": {
        "id": "g6f-JOh_IBvL",
        "colab": {
          "base_uri": "https://localhost:8080/"
        },
        "outputId": "09a7bc80-642d-41dd-bb1c-0dd75b633fa5"
      },
      "source": [
        "eqm = mean_squared_error(yteste, preditos)\n",
        "print(f'EQM: {round(eqm,2)}')"
      ],
      "execution_count": 28,
      "outputs": [
        {
          "output_type": "stream",
          "text": [
            "EQM: 48.31\n"
          ],
          "name": "stdout"
        }
      ]
    },
    {
      "cell_type": "markdown",
      "metadata": {
        "id": "A0GXNy4cdWI2"
      },
      "source": [
        "REPRESENTAÇÃO GRÁFICA DO MODELO"
      ]
    },
    {
      "cell_type": "markdown",
      "metadata": {
        "id": "-xGIcBk7nJgL"
      },
      "source": [
        "Função da Regressão Linear com duas variáveis explicativas: $$charges = B0 + B1*bmi + B2*smoker$$"
      ]
    },
    {
      "cell_type": "code",
      "metadata": {
        "id": "QDX3L5qnIC4N",
        "colab": {
          "base_uri": "https://localhost:8080/"
        },
        "outputId": "29d7aabb-c439-421a-f6b8-fcba2172aa74"
      },
      "source": [
        "b0 = reg.intercept_\n",
        "b1, b2 = reg.coef_\n",
        "\n",
        "print(f'Intercepto:\\n{reg.intercept_}')\n",
        "print(f'Coeficientes:\\n{reg.coef_}')"
      ],
      "execution_count": 29,
      "outputs": [
        {
          "output_type": "stream",
          "text": [
            "Intercepto:\n",
            "-2.7023838328555865\n",
            "Coeficientes:\n",
            "[ 0.36362096 23.82114564]\n"
          ],
          "name": "stdout"
        }
      ]
    },
    {
      "cell_type": "code",
      "metadata": {
        "id": "WL3M1IAbIPLS",
        "colab": {
          "base_uri": "https://localhost:8080/",
          "height": 398
        },
        "outputId": "e1b5d7eb-555b-4ff3-8cda-8903929020e0"
      },
      "source": [
        "x = np.arange(15, 55, 0.01)\n",
        "y0 = b0 + b1*x + b2*0\n",
        "y1 = b0 + b1*x + b2*1\n",
        "\n",
        "sns.scatterplot(x = 'bmi', y = 'charges', hue = 'smoker', data = dados)\n",
        "plt.plot(x, y0, color = 'blue')\n",
        "plt.plot(x, y1, color = 'orange')\n",
        "plt.title('Reta de Regressão')\n",
        "plt.xlabel('IMC')\n",
        "plt.ylabel('Custo')\n",
        "plt.show()"
      ],
      "execution_count": 30,
      "outputs": [
        {
          "output_type": "display_data",
          "data": {
            "image/png": "[encoded data removed]",
            "text/plain": [
              "<Figure size 600x400 with 1 Axes>"
            ]
          },
          "metadata": {
            "tags": []
          }
        }
      ]
    },
    {
      "cell_type": "markdown",
      "metadata": {
        "id": "tMIU2t9znULr"
      },
      "source": [
        "#Considerações Finais"
      ]
    },
    {
      "cell_type": "markdown",
      "metadata": {
        "id": "ser-UfZJnY8D"
      },
      "source": [
        "Concretizamos o objetivo de prever os custos de futuros clientes de seguro de duas formas: utilizando apenas uma variável (IMC) e duas variáveis distintas (IMC e fumantes). De acordo com a métrica escolhida, o Erro Quadrático Médio, foi possível observar que o Cenário 2 obteve um erro menor do que o Cenário 1, possuindo portanto melhor performance. Assim, verificamos que é possível melhorar a previsão feita pelo modelo adicionando a ele mais informações, desde que elas sejam relevantes"
      ]
    },
    {
      "cell_type": "code",
      "metadata": {
        "id": "trsMDbY7x-aS"
      },
      "source": [
        ""
      ],
      "execution_count": 30,
      "outputs": []
    }
  ]
}